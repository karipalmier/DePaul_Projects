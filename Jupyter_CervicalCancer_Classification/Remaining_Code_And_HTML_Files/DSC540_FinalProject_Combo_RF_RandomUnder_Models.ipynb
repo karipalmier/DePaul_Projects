{
 "cells": [
  {
   "cell_type": "code",
   "execution_count": 1,
   "metadata": {},
   "outputs": [],
   "source": [
    "%load_ext autoreload\n",
    "%autoreload 2"
   ]
  },
  {
   "cell_type": "code",
   "execution_count": 2,
   "metadata": {},
   "outputs": [],
   "source": [
    "import pandas as pd\n",
    "import numpy as np\n",
    "from sklearn.ensemble import RandomForestClassifier\n",
    "import pickle\n",
    "\n",
    "from model_creation import create_smote_data, fit_val_data, model_data, perform_base_models\n",
    "from model_creation import perform_feat_sel_models, perform_grid_search, create_under_data"
   ]
  },
  {
   "cell_type": "code",
   "execution_count": 3,
   "metadata": {},
   "outputs": [],
   "source": [
    "train_data = pd.read_csv('C:\\\\DePaulCoursework\\\\Winter 2019 CSC 529\\\\Project\\\\Data\\\\CervicalCancerRisks_Combo_target_TrainData.csv', \n",
    "                          delimiter=\",\", index_col = 0, header = 0)\n",
    "train_target = pd.read_csv('C:\\\\DePaulCoursework\\\\Winter 2019 CSC 529\\\\Project\\\\Data\\\\CervicalCancerRisks_Combo_target_TrainTarget.csv', \n",
    "                          delimiter=\",\", index_col = 0, header = 0)"
   ]
  },
  {
   "cell_type": "code",
   "execution_count": 4,
   "metadata": {},
   "outputs": [],
   "source": [
    "val_data = pd.read_csv('C:\\\\DePaulCoursework\\\\Winter 2019 CSC 529\\\\Project\\\\Data\\\\CervicalCancerRisks_Combo_target_ValData.csv', \n",
    "                          delimiter=\",\", index_col = 0, header = 0)\n",
    "val_target = pd.read_csv('C:\\\\DePaulCoursework\\\\Winter 2019 CSC 529\\\\Project\\\\Data\\\\CervicalCancerRisks_Combo_target_ValTarget.csv', \n",
    "                          delimiter=\",\", index_col = 0, header = 0)"
   ]
  },
  {
   "cell_type": "code",
   "execution_count": 5,
   "metadata": {},
   "outputs": [],
   "source": [
    "rand_st = 1\n"
   ]
  },
  {
   "cell_type": "code",
   "execution_count": 6,
   "metadata": {},
   "outputs": [
    {
     "name": "stdout",
     "output_type": "stream",
     "text": [
      "Number of Original Target 0 Value: 506\n",
      "Number of Original Target 1 Value: 74\n",
      "\n",
      "\n",
      "Number of Random Under Sample Target 0 Value: 74\n",
      "Number of Random Under Sample Target 1 Value: 74\n"
     ]
    }
   ],
   "source": [
    "train_data_rus1p0, train_target_rus1p0 = create_under_data(train_data, train_target, rand_st, 1.0)"
   ]
  },
  {
   "cell_type": "code",
   "execution_count": 7,
   "metadata": {},
   "outputs": [],
   "source": [
    "#train_sm_data_name = data_save_path + 'CervicalCancerRisks_' + target_name + '_TrainData_SMOTE.csv'\n",
    "#data_train_sm1p0.to_csv(train_sm_data_name, sep = ',')\n",
    "#train_sm_target_name = data_save_path + 'CervicalCancerRisks_' + target_name + '_TrainTarget_SMOTE.csv'\n",
    "#target_train_sm1p0.to_csv(train_sm_target_name, sep = ',')\n"
   ]
  },
  {
   "cell_type": "code",
   "execution_count": 8,
   "metadata": {},
   "outputs": [],
   "source": [
    "scorers = {'Accuracy': 'accuracy', 'roc_auc': 'roc_auc'}\n",
    "thresh_vals = [0.4, 0.5, 0.6]\n",
    "k_vals = [5, 6, 7, 8, 9, 10]"
   ]
  },
  {
   "cell_type": "code",
   "execution_count": 9,
   "metadata": {},
   "outputs": [],
   "source": [
    "model_type = 'Random Under 1.0 Random Forest'\n",
    "clf_base = RandomForestClassifier(n_estimators = 100, max_depth = None, \n",
    "                             min_samples_split = 3, criterion = 'entropy', \n",
    "                             random_state = rand_st)\n"
   ]
  },
  {
   "cell_type": "code",
   "execution_count": 10,
   "metadata": {},
   "outputs": [
    {
     "name": "stdout",
     "output_type": "stream",
     "text": [
      "Base Random Under 1.0 Random Forest CV Acc: 0.5009523809523809 +/- 0.12142763771816552\n",
      "Base Random Under 1.0 Random Forest CV AUC: 0.4869251700680272 +/- 0.19237849256628264\n",
      "CV Runtime: 0.5000920295715332\n",
      "\n",
      "\n",
      "Base Random Under 1.0 Random Forest Validation Acc: 0.678082191780822\n",
      "Base Random Under 1.0 Random Forest Validation AUC: 0.6359303771239121\n",
      "\n",
      "\n"
     ]
    }
   ],
   "source": [
    "model_desc = 'Base'\n",
    "base_model_rus1p0 = model_data(train_data_rus1p0, train_target_rus1p0, val_data, val_target, \n",
    "                           clf_base, scorers, model_type, model_desc, 5) \n"
   ]
  },
  {
   "cell_type": "code",
   "execution_count": 11,
   "metadata": {
    "scrolled": false
   },
   "outputs": [
    {
     "name": "stdout",
     "output_type": "stream",
     "text": [
      "-- Low Variance Filtering --\n",
      "Threshold Selected: 0.4\n",
      "Selected Model Mean Accuracy Score: 0.45999999999999996\n",
      "Selected Model Accuracy Deviation: 0.1654623152798781\n",
      "Selected Model Mean AUC Score: 0.4667482993197279\n",
      "Selected Model AUC Deviation: 0.20301766209400293\n",
      "Number of Original Features: 30\n",
      "Number of Selected Features: 9\n",
      "Features Selected:\n",
      "['age', 'num_sex_partners', 'first_sex_int', 'num_pregnancies', 'smokes_yrs', 'smokes_pk_yrs', 'hormonal_contr_yrs', 'iud_yrs', 'stds_num']\n",
      "Features Removed:\n",
      "['smokes', 'hormonal_contr', 'iud', 'stds', 'stds_condylomatosis', 'stds_cerv_condylomatosis', 'stds_vag_condylomatosis', 'stds_vp_condylomatosis', 'stds_syphillus', 'stds_pelvic_inf_disease', 'stds_gen_herpes', 'stds_molluscom_contagiosum', 'stds_aids', 'stds_hiv', 'stds_hep_b', 'stds_hpv', 'stds_num_dx', 'dx_cancer', 'dx_cin', 'dx_hpv', 'dx']\n",
      "\n",
      "\n",
      "Low Variance Filter Random Under 1.0 Random Forest Validation Acc: 0.6438356164383562\n",
      "Low Variance Filter Random Under 1.0 Random Forest Validation AUC: 0.6610029009531703\n",
      "\n",
      "\n",
      "-- Model Wrapper Feature Selection --\n",
      "Model Mean Accuracy Score: 0.4671428571428571\n",
      "Selected Model Accuracy Deviation: 0.16408614517548017\n",
      "Model Mean AUC Score: 0.4790770975056689\n",
      "Selected Model AUC Deviation: 0.19498370926995964\n",
      "Number of Original Features: 30\n",
      "Number of Selected Features: 7\n",
      "Features Selected:\n",
      "['age', 'num_sex_partners', 'first_sex_int', 'num_pregnancies', 'smokes_yrs', 'hormonal_contr_yrs', 'iud_yrs']\n",
      "Features Removed:\n",
      "['smokes', 'smokes_pk_yrs', 'hormonal_contr', 'iud', 'stds', 'stds_num', 'stds_condylomatosis', 'stds_cerv_condylomatosis', 'stds_vag_condylomatosis', 'stds_vp_condylomatosis', 'stds_syphillus', 'stds_pelvic_inf_disease', 'stds_gen_herpes', 'stds_molluscom_contagiosum', 'stds_aids', 'stds_hiv', 'stds_hep_b', 'stds_hpv', 'stds_num_dx', 'dx_cancer', 'dx_cin', 'dx_hpv', 'dx']\n",
      "\n",
      "\n",
      "Model Wrapper Random Under 1.0 Random Forest Validation Acc: 0.636986301369863\n",
      "Model Wrapper Random Under 1.0 Random Forest Validation AUC: 0.6570658930791546\n",
      "\n",
      "\n",
      "-- Stepwise Recursive Feature Selection --\n",
      "K Selected: 7\n",
      "Selected Model Mean Accuracy Score: 0.4671428571428571\n",
      "Selected Model Accuracy Deviation: 0.16408614517548017\n",
      "Selected Model Mean AUC Score: 0.4790770975056689\n",
      "Selected Model AUC Deviation: 0.19498370926995964\n",
      "Number of Original Features: 30\n",
      "Number of Selected Features: 7\n",
      "Features Selected:\n",
      "['age', 'num_sex_partners', 'first_sex_int', 'num_pregnancies', 'smokes_yrs', 'hormonal_contr_yrs', 'iud_yrs']\n",
      "Features Removed:\n",
      "['smokes', 'smokes_pk_yrs', 'hormonal_contr', 'iud', 'stds', 'stds_num', 'stds_condylomatosis', 'stds_cerv_condylomatosis', 'stds_vag_condylomatosis', 'stds_vp_condylomatosis', 'stds_syphillus', 'stds_pelvic_inf_disease', 'stds_gen_herpes', 'stds_molluscom_contagiosum', 'stds_aids', 'stds_hiv', 'stds_hep_b', 'stds_hpv', 'stds_num_dx', 'dx_cancer', 'dx_cin', 'dx_hpv', 'dx']\n",
      "\n",
      "\n",
      "Stepwise Recursive Random Under 1.0 Random Forest Validation Acc: 0.636986301369863\n",
      "Stepwise Recursive Random Under 1.0 Random Forest Validation AUC: 0.6570658930791546\n",
      "\n",
      "\n",
      "-- Univariate Chi-Sq Feature Selection --\n",
      "K Selected: 8\n",
      "Selected Model Mean Accuracy Score: 0.5209523809523808\n",
      "Selected Model Accuracy Deviation: 0.13861642208503044\n",
      "Selected Model Mean AUC Score: 0.5331156462585034\n",
      "Selected Model AUC Deviation: 0.2457816082796611\n",
      "Number of Original Features: 30\n",
      "Number of Selected Features: 8\n",
      "Features Selected:\n",
      "['smokes_pk_yrs', 'hormonal_contr_yrs', 'stds_num', 'stds_vp_condylomatosis', 'stds_num_dx', 'dx_cancer', 'dx_hpv', 'dx']\n",
      "Features Removed:\n",
      "['age', 'num_sex_partners', 'first_sex_int', 'num_pregnancies', 'smokes', 'smokes_yrs', 'hormonal_contr', 'iud', 'iud_yrs', 'stds', 'stds_condylomatosis', 'stds_cerv_condylomatosis', 'stds_vag_condylomatosis', 'stds_syphillus', 'stds_pelvic_inf_disease', 'stds_gen_herpes', 'stds_molluscom_contagiosum', 'stds_aids', 'stds_hiv', 'stds_hep_b', 'stds_hpv', 'dx_cin']\n",
      "\n",
      "\n",
      "Univariate Chi-Squared Random Under 1.0 Random Forest Validation Acc: 0.6643835616438356\n",
      "Univariate Chi-Squared Random Under 1.0 Random Forest Validation AUC: 0.5832987981765437\n",
      "\n",
      "\n",
      "-- Mutual Information Feature Selection --\n",
      "K Selected: 7\n",
      "Selected Model Mean Accuracy Score: 0.5566666666666666\n",
      "Selected Model Accuracy Deviation: 0.2124983660067897\n",
      "Selected Model Mean AUC Score: 0.5660136054421768\n",
      "Selected Model AUC Deviation: 0.2773437169889797\n",
      "Number of Original Features: 30\n",
      "Number of Selected Features: 7\n",
      "Features Selected:\n",
      "['age', 'iud_yrs', 'stds_cerv_condylomatosis', 'stds_vag_condylomatosis', 'stds_vp_condylomatosis', 'dx_cancer', 'dx']\n",
      "Features Removed:\n",
      "['num_sex_partners', 'first_sex_int', 'num_pregnancies', 'smokes', 'smokes_yrs', 'smokes_pk_yrs', 'hormonal_contr', 'hormonal_contr_yrs', 'iud', 'stds', 'stds_num', 'stds_condylomatosis', 'stds_syphillus', 'stds_pelvic_inf_disease', 'stds_gen_herpes', 'stds_molluscom_contagiosum', 'stds_aids', 'stds_hiv', 'stds_hep_b', 'stds_hpv', 'stds_num_dx', 'dx_cin', 'dx_hpv']\n",
      "\n",
      "\n",
      "Mutual Information Random Under 1.0 Random Forest Validation Acc: 0.541095890410959\n",
      "Mutual Information Random Under 1.0 Random Forest Validation AUC: 0.5571902196435972\n",
      "\n",
      "\n"
     ]
    }
   ],
   "source": [
    "results_dict_1p0 = \\\n",
    "  perform_feat_sel_models(train_data_rus1p0, train_target_rus1p0, val_data, val_target, clf_base, model_type, \n",
    "                          thresh_vals, k_vals)"
   ]
  },
  {
   "cell_type": "code",
   "execution_count": 12,
   "metadata": {},
   "outputs": [
    {
     "name": "stdout",
     "output_type": "stream",
     "text": [
      "Number of Original Target 0 Value: 506\n",
      "Number of Original Target 1 Value: 74\n",
      "\n",
      "\n",
      "Number of Random Under Sample Target 0 Value: 246\n",
      "Number of Random Under Sample Target 1 Value: 74\n"
     ]
    }
   ],
   "source": [
    "train_data_rus0p3, train_target_rus0p3 = create_under_data(train_data, train_target, rand_st, 0.3)"
   ]
  },
  {
   "cell_type": "code",
   "execution_count": 13,
   "metadata": {},
   "outputs": [
    {
     "name": "stdout",
     "output_type": "stream",
     "text": [
      "Base Random Under 0.3 Random Forest CV Acc: 0.7528525641025641 +/- 0.09513393919756102\n",
      "Base Random Under 0.3 Random Forest CV AUC: 0.5799378036929058 +/- 0.16366885828572245\n",
      "CV Runtime: 0.5624785423278809\n",
      "\n",
      "\n",
      "Base Random Under 0.3 Random Forest Validation Acc: 0.821917808219178\n",
      "Base Random Under 0.3 Random Forest Validation AUC: 0.47244094488188976\n",
      "\n",
      "\n"
     ]
    }
   ],
   "source": [
    "model_type = 'Random Under 0.3 Random Forest'\n",
    "base_model_rus0p3 = model_data(train_data_rus0p3, train_target_rus0p3, val_data, val_target, \n",
    "                           clf_base, scorers, model_type, model_desc, 5) \n"
   ]
  },
  {
   "cell_type": "code",
   "execution_count": 14,
   "metadata": {},
   "outputs": [
    {
     "name": "stdout",
     "output_type": "stream",
     "text": [
      "-- Low Variance Filtering --\n",
      "Threshold Selected: 0.4\n",
      "Selected Model Mean Accuracy Score: 0.7435241147741147\n",
      "Selected Model Accuracy Deviation: 0.10497632150752406\n",
      "Selected Model Mean AUC Score: 0.5222759961127308\n",
      "Selected Model AUC Deviation: 0.11809108486277686\n",
      "Number of Original Features: 30\n",
      "Number of Selected Features: 8\n",
      "Features Selected:\n",
      "['age', 'num_sex_partners', 'first_sex_int', 'num_pregnancies', 'smokes_yrs', 'smokes_pk_yrs', 'hormonal_contr_yrs', 'iud_yrs']\n",
      "Features Removed:\n",
      "['smokes', 'hormonal_contr', 'iud', 'stds', 'stds_num', 'stds_condylomatosis', 'stds_cerv_condylomatosis', 'stds_vag_condylomatosis', 'stds_vp_condylomatosis', 'stds_syphillus', 'stds_pelvic_inf_disease', 'stds_gen_herpes', 'stds_molluscom_contagiosum', 'stds_aids', 'stds_hiv', 'stds_hep_b', 'stds_hpv', 'stds_num_dx', 'dx_cancer', 'dx_cin', 'dx_hpv', 'dx']\n",
      "\n",
      "\n",
      "Low Variance Filter Random Under 0.3 Random Forest Validation Acc: 0.821917808219178\n",
      "Low Variance Filter Random Under 0.3 Random Forest Validation AUC: 0.47244094488188976\n",
      "\n",
      "\n",
      "-- Model Wrapper Feature Selection --\n",
      "Model Mean Accuracy Score: 0.7313171550671551\n",
      "Selected Model Accuracy Deviation: 0.07606736697178938\n",
      "Model Mean AUC Score: 0.5181706511175899\n",
      "Selected Model AUC Deviation: 0.11685101489629494\n",
      "Number of Original Features: 30\n",
      "Number of Selected Features: 6\n",
      "Features Selected:\n",
      "['age', 'num_sex_partners', 'first_sex_int', 'num_pregnancies', 'hormonal_contr_yrs', 'iud_yrs']\n",
      "Features Removed:\n",
      "['smokes', 'smokes_yrs', 'smokes_pk_yrs', 'hormonal_contr', 'iud', 'stds', 'stds_num', 'stds_condylomatosis', 'stds_cerv_condylomatosis', 'stds_vag_condylomatosis', 'stds_vp_condylomatosis', 'stds_syphillus', 'stds_pelvic_inf_disease', 'stds_gen_herpes', 'stds_molluscom_contagiosum', 'stds_aids', 'stds_hiv', 'stds_hep_b', 'stds_hpv', 'stds_num_dx', 'dx_cancer', 'dx_cin', 'dx_hpv', 'dx']\n",
      "\n",
      "\n",
      "Model Wrapper Random Under 0.3 Random Forest Validation Acc: 0.8287671232876712\n",
      "Model Wrapper Random Under 0.3 Random Forest Validation AUC: 0.4763779527559055\n",
      "\n",
      "\n",
      "-- Stepwise Recursive Feature Selection --\n",
      "K Selected: 10\n",
      "Selected Model Mean Accuracy Score: 0.7560752442002443\n",
      "Selected Model Accuracy Deviation: 0.08550162310065634\n",
      "Selected Model Mean AUC Score: 0.5740808551992226\n",
      "Selected Model AUC Deviation: 0.152992364976337\n",
      "Number of Original Features: 30\n",
      "Number of Selected Features: 10\n",
      "Features Selected:\n",
      "['age', 'num_sex_partners', 'first_sex_int', 'num_pregnancies', 'smokes_yrs', 'smokes_pk_yrs', 'hormonal_contr_yrs', 'iud_yrs', 'stds_num', 'dx']\n",
      "Features Removed:\n",
      "['smokes', 'hormonal_contr', 'iud', 'stds', 'stds_condylomatosis', 'stds_cerv_condylomatosis', 'stds_vag_condylomatosis', 'stds_vp_condylomatosis', 'stds_syphillus', 'stds_pelvic_inf_disease', 'stds_gen_herpes', 'stds_molluscom_contagiosum', 'stds_aids', 'stds_hiv', 'stds_hep_b', 'stds_hpv', 'stds_num_dx', 'dx_cancer', 'dx_cin', 'dx_hpv']\n",
      "\n",
      "\n",
      "Stepwise Recursive Random Under 0.3 Random Forest Validation Acc: 0.8424657534246576\n",
      "Stepwise Recursive Random Under 0.3 Random Forest Validation AUC: 0.48425196850393704\n",
      "\n",
      "\n",
      "-- Univariate Chi-Sq Feature Selection --\n",
      "K Selected: 6\n",
      "Selected Model Mean Accuracy Score: 0.7190636446886447\n",
      "Selected Model Accuracy Deviation: 0.08152952774664751\n",
      "Selected Model Mean AUC Score: 0.6600586977648201\n",
      "Selected Model AUC Deviation: 0.08756266236220248\n",
      "Number of Original Features: 30\n",
      "Number of Selected Features: 6\n",
      "Features Selected:\n",
      "['hormonal_contr_yrs', 'stds_num', 'stds_num_dx', 'dx_cancer', 'dx_hpv', 'dx']\n",
      "Features Removed:\n",
      "['age', 'num_sex_partners', 'first_sex_int', 'num_pregnancies', 'smokes', 'smokes_yrs', 'smokes_pk_yrs', 'hormonal_contr', 'iud', 'iud_yrs', 'stds', 'stds_condylomatosis', 'stds_cerv_condylomatosis', 'stds_vag_condylomatosis', 'stds_vp_condylomatosis', 'stds_syphillus', 'stds_pelvic_inf_disease', 'stds_gen_herpes', 'stds_molluscom_contagiosum', 'stds_aids', 'stds_hiv', 'stds_hep_b', 'stds_hpv', 'dx_cin']\n",
      "\n",
      "\n",
      "Univariate Chi-Squared Random Under 0.3 Random Forest Validation Acc: 0.8424657534246576\n",
      "Univariate Chi-Squared Random Under 0.3 Random Forest Validation AUC: 0.5066307501036055\n",
      "\n",
      "\n",
      "-- Mutual Information Feature Selection --\n",
      "K Selected: 8\n",
      "Selected Model Mean Accuracy Score: 0.7501198107448108\n",
      "Selected Model Accuracy Deviation: 0.056588915662953404\n",
      "Selected Model Mean AUC Score: 0.6000380952380953\n",
      "Selected Model AUC Deviation: 0.12837976243273735\n",
      "Number of Original Features: 30\n",
      "Number of Selected Features: 8\n",
      "Features Selected:\n",
      "['age', 'first_sex_int', 'num_pregnancies', 'stds_vp_condylomatosis', 'stds_gen_herpes', 'stds_hpv', 'stds_num_dx', 'dx_hpv']\n",
      "Features Removed:\n",
      "['num_sex_partners', 'smokes', 'smokes_yrs', 'smokes_pk_yrs', 'hormonal_contr', 'hormonal_contr_yrs', 'iud', 'iud_yrs', 'stds', 'stds_num', 'stds_condylomatosis', 'stds_cerv_condylomatosis', 'stds_vag_condylomatosis', 'stds_syphillus', 'stds_pelvic_inf_disease', 'stds_molluscom_contagiosum', 'stds_aids', 'stds_hiv', 'stds_hep_b', 'dx_cancer', 'dx_cin', 'dx']\n",
      "\n",
      "\n",
      "Mutual Information Random Under 0.3 Random Forest Validation Acc: 0.8561643835616438\n",
      "Mutual Information Random Under 0.3 Random Forest Validation AUC: 0.559262329050974\n",
      "\n",
      "\n"
     ]
    }
   ],
   "source": [
    "results_dict_0p3 = \\\n",
    "  perform_feat_sel_models(train_data_rus0p3, train_target_rus0p3, val_data, val_target, clf_base, model_type, \n",
    "                          thresh_vals, k_vals)"
   ]
  },
  {
   "cell_type": "code",
   "execution_count": 15,
   "metadata": {},
   "outputs": [
    {
     "name": "stdout",
     "output_type": "stream",
     "text": [
      "Number of Original Target 0 Value: 506\n",
      "Number of Original Target 1 Value: 74\n",
      "\n",
      "\n",
      "Number of Random Under Sample Target 0 Value: 370\n",
      "Number of Random Under Sample Target 1 Value: 74\n"
     ]
    }
   ],
   "source": [
    "train_data_rus0p1, train_target_rus0p1 = create_under_data(train_data, train_target, rand_st, 0.2)"
   ]
  },
  {
   "cell_type": "code",
   "execution_count": 16,
   "metadata": {},
   "outputs": [
    {
     "name": "stdout",
     "output_type": "stream",
     "text": [
      "Base Random Under 0.2 Random Forest CV Acc: 0.8221144024514813 +/- 0.05706937964251868\n",
      "Base Random Under 0.2 Random Forest CV AUC: 0.6292792792792793 +/- 0.14524243744824084\n",
      "CV Runtime: 0.6406862735748291\n",
      "\n",
      "\n",
      "Base Random Under 0.2 Random Forest Validation Acc: 0.8356164383561644\n",
      "Base Random Under 0.2 Random Forest Validation AUC: 0.48031496062992124\n",
      "\n",
      "\n"
     ]
    }
   ],
   "source": [
    "model_type = 'Random Under 0.2 Random Forest'\n",
    "base_model_rus0p1 = model_data(train_data_rus0p1, train_target_rus0p1, val_data, val_target, \n",
    "                           clf_base, scorers, model_type, model_desc, 5) \n"
   ]
  },
  {
   "cell_type": "code",
   "execution_count": 17,
   "metadata": {},
   "outputs": [
    {
     "name": "stdout",
     "output_type": "stream",
     "text": [
      "-- Low Variance Filtering --\n",
      "Threshold Selected: 0.4\n",
      "Selected Model Mean Accuracy Score: 0.8265577119509704\n",
      "Selected Model Accuracy Deviation: 0.03949514516394548\n",
      "Selected Model Mean AUC Score: 0.5313706563706564\n",
      "Selected Model AUC Deviation: 0.07393817353345661\n",
      "Number of Original Features: 30\n",
      "Number of Selected Features: 8\n",
      "Features Selected:\n",
      "['age', 'num_sex_partners', 'first_sex_int', 'num_pregnancies', 'smokes_yrs', 'smokes_pk_yrs', 'hormonal_contr_yrs', 'iud_yrs']\n",
      "Features Removed:\n",
      "['smokes', 'hormonal_contr', 'iud', 'stds', 'stds_num', 'stds_condylomatosis', 'stds_cerv_condylomatosis', 'stds_vag_condylomatosis', 'stds_vp_condylomatosis', 'stds_syphillus', 'stds_pelvic_inf_disease', 'stds_gen_herpes', 'stds_molluscom_contagiosum', 'stds_aids', 'stds_hiv', 'stds_hep_b', 'stds_hpv', 'stds_num_dx', 'dx_cancer', 'dx_cin', 'dx_hpv', 'dx']\n",
      "\n",
      "\n",
      "Low Variance Filter Random Under 0.2 Random Forest Validation Acc: 0.8493150684931506\n",
      "Low Variance Filter Random Under 0.2 Random Forest Validation AUC: 0.4881889763779528\n",
      "\n",
      "\n",
      "-- Model Wrapper Feature Selection --\n",
      "Model Mean Accuracy Score: 0.8243105209397343\n",
      "Selected Model Accuracy Deviation: 0.030765843672345947\n",
      "Model Mean AUC Score: 0.5356306306306307\n",
      "Selected Model AUC Deviation: 0.08291049285525431\n",
      "Number of Original Features: 30\n",
      "Number of Selected Features: 7\n",
      "Features Selected:\n",
      "['age', 'num_sex_partners', 'first_sex_int', 'num_pregnancies', 'smokes_pk_yrs', 'hormonal_contr_yrs', 'iud_yrs']\n",
      "Features Removed:\n",
      "['smokes', 'smokes_yrs', 'hormonal_contr', 'iud', 'stds', 'stds_num', 'stds_condylomatosis', 'stds_cerv_condylomatosis', 'stds_vag_condylomatosis', 'stds_vp_condylomatosis', 'stds_syphillus', 'stds_pelvic_inf_disease', 'stds_gen_herpes', 'stds_molluscom_contagiosum', 'stds_aids', 'stds_hiv', 'stds_hep_b', 'stds_hpv', 'stds_num_dx', 'dx_cancer', 'dx_cin', 'dx_hpv', 'dx']\n",
      "\n",
      "\n",
      "Model Wrapper Random Under 0.2 Random Forest Validation Acc: 0.8561643835616438\n",
      "Model Wrapper Random Under 0.2 Random Forest Validation AUC: 0.514504765851637\n",
      "\n",
      "\n",
      "-- Stepwise Recursive Feature Selection --\n",
      "K Selected: 10\n",
      "Selected Model Mean Accuracy Score: 0.8265832482124618\n",
      "Selected Model Accuracy Deviation: 0.04154190169325801\n",
      "Selected Model Mean AUC Score: 0.6125482625482624\n",
      "Selected Model AUC Deviation: 0.11637990499048803\n",
      "Number of Original Features: 30\n",
      "Number of Selected Features: 10\n",
      "Features Selected:\n",
      "['age', 'num_sex_partners', 'first_sex_int', 'num_pregnancies', 'smokes_yrs', 'smokes_pk_yrs', 'hormonal_contr_yrs', 'iud_yrs', 'stds_num', 'dx']\n",
      "Features Removed:\n",
      "['smokes', 'hormonal_contr', 'iud', 'stds', 'stds_condylomatosis', 'stds_cerv_condylomatosis', 'stds_vag_condylomatosis', 'stds_vp_condylomatosis', 'stds_syphillus', 'stds_pelvic_inf_disease', 'stds_gen_herpes', 'stds_molluscom_contagiosum', 'stds_aids', 'stds_hiv', 'stds_hep_b', 'stds_hpv', 'stds_num_dx', 'dx_cancer', 'dx_cin', 'dx_hpv']\n",
      "\n",
      "\n",
      "Stepwise Recursive Random Under 0.2 Random Forest Validation Acc: 0.8424657534246576\n",
      "Stepwise Recursive Random Under 0.2 Random Forest Validation AUC: 0.48425196850393704\n",
      "\n",
      "\n",
      "-- Univariate Chi-Sq Feature Selection --\n",
      "K Selected: 7\n",
      "Selected Model Mean Accuracy Score: 0.8153983656792645\n",
      "Selected Model Accuracy Deviation: 0.06372909558317587\n",
      "Selected Model Mean AUC Score: 0.6364028314028315\n",
      "Selected Model AUC Deviation: 0.07232305535868794\n",
      "Number of Original Features: 30\n",
      "Number of Selected Features: 7\n",
      "Features Selected:\n",
      "['hormonal_contr_yrs', 'iud_yrs', 'stds_num', 'stds_num_dx', 'dx_cancer', 'dx_hpv', 'dx']\n",
      "Features Removed:\n",
      "['age', 'num_sex_partners', 'first_sex_int', 'num_pregnancies', 'smokes', 'smokes_yrs', 'smokes_pk_yrs', 'hormonal_contr', 'iud', 'stds', 'stds_condylomatosis', 'stds_cerv_condylomatosis', 'stds_vag_condylomatosis', 'stds_vp_condylomatosis', 'stds_syphillus', 'stds_pelvic_inf_disease', 'stds_gen_herpes', 'stds_molluscom_contagiosum', 'stds_aids', 'stds_hiv', 'stds_hep_b', 'stds_hpv', 'dx_cin']\n",
      "\n",
      "\n",
      "Univariate Chi-Squared Random Under 0.2 Random Forest Validation Acc: 0.8424657534246576\n",
      "Univariate Chi-Squared Random Under 0.2 Random Forest Validation AUC: 0.48425196850393704\n",
      "\n",
      "\n",
      "-- Mutual Information Feature Selection --\n",
      "K Selected: 9\n",
      "Selected Model Mean Accuracy Score: 0.7928243105209397\n",
      "Selected Model Accuracy Deviation: 0.04105532034916765\n",
      "Selected Model Mean AUC Score: 0.6374581724581725\n",
      "Selected Model AUC Deviation: 0.09695605553007826\n",
      "Number of Original Features: 30\n",
      "Number of Selected Features: 9\n",
      "Features Selected:\n",
      "['age', 'first_sex_int', 'iud', 'stds_condylomatosis', 'stds_vag_condylomatosis', 'stds_vp_condylomatosis', 'stds_molluscom_contagiosum', 'stds_num_dx', 'dx_cancer']\n",
      "Features Removed:\n",
      "['num_sex_partners', 'num_pregnancies', 'smokes', 'smokes_yrs', 'smokes_pk_yrs', 'hormonal_contr', 'hormonal_contr_yrs', 'iud_yrs', 'stds', 'stds_num', 'stds_cerv_condylomatosis', 'stds_syphillus', 'stds_pelvic_inf_disease', 'stds_gen_herpes', 'stds_aids', 'stds_hiv', 'stds_hep_b', 'stds_hpv', 'dx_cin', 'dx_hpv', 'dx']\n",
      "\n",
      "\n",
      "Mutual Information Random Under 0.2 Random Forest Validation Acc: 0.8356164383561644\n",
      "Mutual Information Random Under 0.2 Random Forest Validation AUC: 0.5698300870285951\n",
      "\n",
      "\n"
     ]
    }
   ],
   "source": [
    "results_dict_0p1 = \\\n",
    "  perform_feat_sel_models(train_data_rus0p1, train_target_rus0p1, val_data, val_target, clf_base, model_type, \n",
    "                          thresh_vals, k_vals)"
   ]
  }
 ],
 "metadata": {
  "kernelspec": {
   "display_name": "Python 3",
   "language": "python",
   "name": "python3"
  },
  "language_info": {
   "codemirror_mode": {
    "name": "ipython",
    "version": 3
   },
   "file_extension": ".py",
   "mimetype": "text/x-python",
   "name": "python",
   "nbconvert_exporter": "python",
   "pygments_lexer": "ipython3",
   "version": "3.6.8"
  }
 },
 "nbformat": 4,
 "nbformat_minor": 2
}
