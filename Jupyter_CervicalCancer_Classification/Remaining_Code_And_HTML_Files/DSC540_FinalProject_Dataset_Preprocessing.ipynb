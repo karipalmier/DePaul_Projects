{
 "cells": [
  {
   "cell_type": "markdown",
   "metadata": {},
   "source": [
    "# Import libraries required"
   ]
  },
  {
   "cell_type": "code",
   "execution_count": 1,
   "metadata": {},
   "outputs": [],
   "source": [
    "import numpy as np\n",
    "import pandas as pd\n",
    "import math\n",
    "import matplotlib.pyplot as plt\n",
    "import pylab as pl\n",
    "import os\n",
    "from sklearn.model_selection import train_test_split\n",
    "from imblearn.over_sampling import SMOTE"
   ]
  },
  {
   "cell_type": "code",
   "execution_count": 2,
   "metadata": {},
   "outputs": [],
   "source": [
    "import warnings, sklearn.exceptions\n",
    "warnings.filterwarnings(\"ignore\", category=sklearn.exceptions.ConvergenceWarning)\n",
    "warnings.filterwarnings(\"ignore\", category=sklearn.exceptions.DataConversionWarning)\n",
    "\n",
    "pd.options.mode.chained_assignment = None\n"
   ]
  },
  {
   "cell_type": "markdown",
   "metadata": {},
   "source": [
    "# Import dataset"
   ]
  },
  {
   "cell_type": "code",
   "execution_count": 3,
   "metadata": {},
   "outputs": [],
   "source": [
    "orig_data = pd.read_csv(\"C:\\\\DePaulCoursework\\\\Winter 2019 CSC 529\\\\Project\\\\risk_factors_cervical_cancer.csv\", \n",
    "                          delimiter=\",\", index_col=None, header=0)"
   ]
  },
  {
   "cell_type": "code",
   "execution_count": 4,
   "metadata": {},
   "outputs": [
    {
     "data": {
      "text/plain": [
       "(858, 36)"
      ]
     },
     "execution_count": 4,
     "metadata": {},
     "output_type": "execute_result"
    }
   ],
   "source": [
    "orig_data.shape"
   ]
  },
  {
   "cell_type": "markdown",
   "metadata": {},
   "source": [
    "# Set Pandas output print variables so all rows and columns will print"
   ]
  },
  {
   "cell_type": "code",
   "execution_count": 5,
   "metadata": {},
   "outputs": [],
   "source": [
    "num_rows = orig_data.shape[0] + 1\n",
    "num_cols = orig_data.shape[1] + 1\n",
    "pd.set_option('max_rows', num_rows)\n",
    "pd.set_option('max_columns', num_cols)\n",
    "np.set_printoptions(threshold = np.inf)"
   ]
  },
  {
   "cell_type": "markdown",
   "metadata": {},
   "source": [
    "# Examine the format and column names of the dataset"
   ]
  },
  {
   "cell_type": "code",
   "execution_count": 6,
   "metadata": {},
   "outputs": [
    {
     "name": "stdout",
     "output_type": "stream",
     "text": [
      "   Age Number of sexual partners First sexual intercourse Num of pregnancies  \\\n",
      "0   18                       4.0                     15.0                1.0   \n",
      "\n",
      "  Smokes Smokes (years) Smokes (packs/year) Hormonal Contraceptives  \\\n",
      "0    0.0            0.0                 0.0                     0.0   \n",
      "\n",
      "  Hormonal Contraceptives (years)  IUD IUD (years) STDs STDs (number)  \\\n",
      "0                             0.0  0.0         0.0  0.0           0.0   \n",
      "\n",
      "  STDs:condylomatosis STDs:cervical condylomatosis  \\\n",
      "0                 0.0                          0.0   \n",
      "\n",
      "  STDs:vaginal condylomatosis STDs:vulvo-perineal condylomatosis  \\\n",
      "0                         0.0                                0.0   \n",
      "\n",
      "  STDs:syphilis STDs:pelvic inflammatory disease STDs:genital herpes  \\\n",
      "0           0.0                              0.0                 0.0   \n",
      "\n",
      "  STDs:molluscum contagiosum STDs:AIDS STDs:HIV STDs:Hepatitis B STDs:HPV  \\\n",
      "0                        0.0       0.0      0.0              0.0      0.0   \n",
      "\n",
      "   STDs: Number of diagnosis STDs: Time since first diagnosis  \\\n",
      "0                          0                                ?   \n",
      "\n",
      "  STDs: Time since last diagnosis  Dx:Cancer  Dx:CIN  Dx:HPV  Dx  Hinselmann  \\\n",
      "0                               ?          0       0       0   0           0   \n",
      "\n",
      "   Schiller  Citology  Biopsy  \n",
      "0         0         0       0  \n"
     ]
    }
   ],
   "source": [
    "print(orig_data.head(1))"
   ]
  },
  {
   "cell_type": "markdown",
   "metadata": {},
   "source": [
    "# Print out dataset information"
   ]
  },
  {
   "cell_type": "code",
   "execution_count": 7,
   "metadata": {},
   "outputs": [
    {
     "data": {
      "text/html": [
       "<div>\n",
       "<style scoped>\n",
       "    .dataframe tbody tr th:only-of-type {\n",
       "        vertical-align: middle;\n",
       "    }\n",
       "\n",
       "    .dataframe tbody tr th {\n",
       "        vertical-align: top;\n",
       "    }\n",
       "\n",
       "    .dataframe thead th {\n",
       "        text-align: right;\n",
       "    }\n",
       "</style>\n",
       "<table border=\"1\" class=\"dataframe\">\n",
       "  <thead>\n",
       "    <tr style=\"text-align: right;\">\n",
       "      <th></th>\n",
       "      <th>count</th>\n",
       "      <th>unique</th>\n",
       "      <th>top</th>\n",
       "      <th>freq</th>\n",
       "      <th>mean</th>\n",
       "      <th>std</th>\n",
       "      <th>min</th>\n",
       "      <th>25%</th>\n",
       "      <th>50%</th>\n",
       "      <th>75%</th>\n",
       "      <th>max</th>\n",
       "    </tr>\n",
       "  </thead>\n",
       "  <tbody>\n",
       "    <tr>\n",
       "      <th>Age</th>\n",
       "      <td>858</td>\n",
       "      <td>NaN</td>\n",
       "      <td>NaN</td>\n",
       "      <td>NaN</td>\n",
       "      <td>26.8205</td>\n",
       "      <td>8.49795</td>\n",
       "      <td>13</td>\n",
       "      <td>20</td>\n",
       "      <td>25</td>\n",
       "      <td>32</td>\n",
       "      <td>84</td>\n",
       "    </tr>\n",
       "    <tr>\n",
       "      <th>Number of sexual partners</th>\n",
       "      <td>858</td>\n",
       "      <td>13</td>\n",
       "      <td>2.0</td>\n",
       "      <td>272</td>\n",
       "      <td>NaN</td>\n",
       "      <td>NaN</td>\n",
       "      <td>NaN</td>\n",
       "      <td>NaN</td>\n",
       "      <td>NaN</td>\n",
       "      <td>NaN</td>\n",
       "      <td>NaN</td>\n",
       "    </tr>\n",
       "    <tr>\n",
       "      <th>First sexual intercourse</th>\n",
       "      <td>858</td>\n",
       "      <td>22</td>\n",
       "      <td>15.0</td>\n",
       "      <td>163</td>\n",
       "      <td>NaN</td>\n",
       "      <td>NaN</td>\n",
       "      <td>NaN</td>\n",
       "      <td>NaN</td>\n",
       "      <td>NaN</td>\n",
       "      <td>NaN</td>\n",
       "      <td>NaN</td>\n",
       "    </tr>\n",
       "    <tr>\n",
       "      <th>Num of pregnancies</th>\n",
       "      <td>858</td>\n",
       "      <td>12</td>\n",
       "      <td>1.0</td>\n",
       "      <td>270</td>\n",
       "      <td>NaN</td>\n",
       "      <td>NaN</td>\n",
       "      <td>NaN</td>\n",
       "      <td>NaN</td>\n",
       "      <td>NaN</td>\n",
       "      <td>NaN</td>\n",
       "      <td>NaN</td>\n",
       "    </tr>\n",
       "    <tr>\n",
       "      <th>Smokes</th>\n",
       "      <td>858</td>\n",
       "      <td>3</td>\n",
       "      <td>0.0</td>\n",
       "      <td>722</td>\n",
       "      <td>NaN</td>\n",
       "      <td>NaN</td>\n",
       "      <td>NaN</td>\n",
       "      <td>NaN</td>\n",
       "      <td>NaN</td>\n",
       "      <td>NaN</td>\n",
       "      <td>NaN</td>\n",
       "    </tr>\n",
       "    <tr>\n",
       "      <th>Smokes (years)</th>\n",
       "      <td>858</td>\n",
       "      <td>31</td>\n",
       "      <td>0.0</td>\n",
       "      <td>722</td>\n",
       "      <td>NaN</td>\n",
       "      <td>NaN</td>\n",
       "      <td>NaN</td>\n",
       "      <td>NaN</td>\n",
       "      <td>NaN</td>\n",
       "      <td>NaN</td>\n",
       "      <td>NaN</td>\n",
       "    </tr>\n",
       "    <tr>\n",
       "      <th>Smokes (packs/year)</th>\n",
       "      <td>858</td>\n",
       "      <td>63</td>\n",
       "      <td>0.0</td>\n",
       "      <td>722</td>\n",
       "      <td>NaN</td>\n",
       "      <td>NaN</td>\n",
       "      <td>NaN</td>\n",
       "      <td>NaN</td>\n",
       "      <td>NaN</td>\n",
       "      <td>NaN</td>\n",
       "      <td>NaN</td>\n",
       "    </tr>\n",
       "    <tr>\n",
       "      <th>Hormonal Contraceptives</th>\n",
       "      <td>858</td>\n",
       "      <td>3</td>\n",
       "      <td>1.0</td>\n",
       "      <td>481</td>\n",
       "      <td>NaN</td>\n",
       "      <td>NaN</td>\n",
       "      <td>NaN</td>\n",
       "      <td>NaN</td>\n",
       "      <td>NaN</td>\n",
       "      <td>NaN</td>\n",
       "      <td>NaN</td>\n",
       "    </tr>\n",
       "    <tr>\n",
       "      <th>Hormonal Contraceptives (years)</th>\n",
       "      <td>858</td>\n",
       "      <td>41</td>\n",
       "      <td>0.0</td>\n",
       "      <td>269</td>\n",
       "      <td>NaN</td>\n",
       "      <td>NaN</td>\n",
       "      <td>NaN</td>\n",
       "      <td>NaN</td>\n",
       "      <td>NaN</td>\n",
       "      <td>NaN</td>\n",
       "      <td>NaN</td>\n",
       "    </tr>\n",
       "    <tr>\n",
       "      <th>IUD</th>\n",
       "      <td>858</td>\n",
       "      <td>3</td>\n",
       "      <td>0.0</td>\n",
       "      <td>658</td>\n",
       "      <td>NaN</td>\n",
       "      <td>NaN</td>\n",
       "      <td>NaN</td>\n",
       "      <td>NaN</td>\n",
       "      <td>NaN</td>\n",
       "      <td>NaN</td>\n",
       "      <td>NaN</td>\n",
       "    </tr>\n",
       "    <tr>\n",
       "      <th>IUD (years)</th>\n",
       "      <td>858</td>\n",
       "      <td>27</td>\n",
       "      <td>0.0</td>\n",
       "      <td>658</td>\n",
       "      <td>NaN</td>\n",
       "      <td>NaN</td>\n",
       "      <td>NaN</td>\n",
       "      <td>NaN</td>\n",
       "      <td>NaN</td>\n",
       "      <td>NaN</td>\n",
       "      <td>NaN</td>\n",
       "    </tr>\n",
       "    <tr>\n",
       "      <th>STDs</th>\n",
       "      <td>858</td>\n",
       "      <td>3</td>\n",
       "      <td>0.0</td>\n",
       "      <td>674</td>\n",
       "      <td>NaN</td>\n",
       "      <td>NaN</td>\n",
       "      <td>NaN</td>\n",
       "      <td>NaN</td>\n",
       "      <td>NaN</td>\n",
       "      <td>NaN</td>\n",
       "      <td>NaN</td>\n",
       "    </tr>\n",
       "    <tr>\n",
       "      <th>STDs (number)</th>\n",
       "      <td>858</td>\n",
       "      <td>6</td>\n",
       "      <td>0.0</td>\n",
       "      <td>674</td>\n",
       "      <td>NaN</td>\n",
       "      <td>NaN</td>\n",
       "      <td>NaN</td>\n",
       "      <td>NaN</td>\n",
       "      <td>NaN</td>\n",
       "      <td>NaN</td>\n",
       "      <td>NaN</td>\n",
       "    </tr>\n",
       "    <tr>\n",
       "      <th>STDs:condylomatosis</th>\n",
       "      <td>858</td>\n",
       "      <td>3</td>\n",
       "      <td>0.0</td>\n",
       "      <td>709</td>\n",
       "      <td>NaN</td>\n",
       "      <td>NaN</td>\n",
       "      <td>NaN</td>\n",
       "      <td>NaN</td>\n",
       "      <td>NaN</td>\n",
       "      <td>NaN</td>\n",
       "      <td>NaN</td>\n",
       "    </tr>\n",
       "    <tr>\n",
       "      <th>STDs:cervical condylomatosis</th>\n",
       "      <td>858</td>\n",
       "      <td>2</td>\n",
       "      <td>0.0</td>\n",
       "      <td>753</td>\n",
       "      <td>NaN</td>\n",
       "      <td>NaN</td>\n",
       "      <td>NaN</td>\n",
       "      <td>NaN</td>\n",
       "      <td>NaN</td>\n",
       "      <td>NaN</td>\n",
       "      <td>NaN</td>\n",
       "    </tr>\n",
       "    <tr>\n",
       "      <th>STDs:vaginal condylomatosis</th>\n",
       "      <td>858</td>\n",
       "      <td>3</td>\n",
       "      <td>0.0</td>\n",
       "      <td>749</td>\n",
       "      <td>NaN</td>\n",
       "      <td>NaN</td>\n",
       "      <td>NaN</td>\n",
       "      <td>NaN</td>\n",
       "      <td>NaN</td>\n",
       "      <td>NaN</td>\n",
       "      <td>NaN</td>\n",
       "    </tr>\n",
       "    <tr>\n",
       "      <th>STDs:vulvo-perineal condylomatosis</th>\n",
       "      <td>858</td>\n",
       "      <td>3</td>\n",
       "      <td>0.0</td>\n",
       "      <td>710</td>\n",
       "      <td>NaN</td>\n",
       "      <td>NaN</td>\n",
       "      <td>NaN</td>\n",
       "      <td>NaN</td>\n",
       "      <td>NaN</td>\n",
       "      <td>NaN</td>\n",
       "      <td>NaN</td>\n",
       "    </tr>\n",
       "    <tr>\n",
       "      <th>STDs:syphilis</th>\n",
       "      <td>858</td>\n",
       "      <td>3</td>\n",
       "      <td>0.0</td>\n",
       "      <td>735</td>\n",
       "      <td>NaN</td>\n",
       "      <td>NaN</td>\n",
       "      <td>NaN</td>\n",
       "      <td>NaN</td>\n",
       "      <td>NaN</td>\n",
       "      <td>NaN</td>\n",
       "      <td>NaN</td>\n",
       "    </tr>\n",
       "    <tr>\n",
       "      <th>STDs:pelvic inflammatory disease</th>\n",
       "      <td>858</td>\n",
       "      <td>3</td>\n",
       "      <td>0.0</td>\n",
       "      <td>752</td>\n",
       "      <td>NaN</td>\n",
       "      <td>NaN</td>\n",
       "      <td>NaN</td>\n",
       "      <td>NaN</td>\n",
       "      <td>NaN</td>\n",
       "      <td>NaN</td>\n",
       "      <td>NaN</td>\n",
       "    </tr>\n",
       "    <tr>\n",
       "      <th>STDs:genital herpes</th>\n",
       "      <td>858</td>\n",
       "      <td>3</td>\n",
       "      <td>0.0</td>\n",
       "      <td>752</td>\n",
       "      <td>NaN</td>\n",
       "      <td>NaN</td>\n",
       "      <td>NaN</td>\n",
       "      <td>NaN</td>\n",
       "      <td>NaN</td>\n",
       "      <td>NaN</td>\n",
       "      <td>NaN</td>\n",
       "    </tr>\n",
       "    <tr>\n",
       "      <th>STDs:molluscum contagiosum</th>\n",
       "      <td>858</td>\n",
       "      <td>3</td>\n",
       "      <td>0.0</td>\n",
       "      <td>752</td>\n",
       "      <td>NaN</td>\n",
       "      <td>NaN</td>\n",
       "      <td>NaN</td>\n",
       "      <td>NaN</td>\n",
       "      <td>NaN</td>\n",
       "      <td>NaN</td>\n",
       "      <td>NaN</td>\n",
       "    </tr>\n",
       "    <tr>\n",
       "      <th>STDs:AIDS</th>\n",
       "      <td>858</td>\n",
       "      <td>2</td>\n",
       "      <td>0.0</td>\n",
       "      <td>753</td>\n",
       "      <td>NaN</td>\n",
       "      <td>NaN</td>\n",
       "      <td>NaN</td>\n",
       "      <td>NaN</td>\n",
       "      <td>NaN</td>\n",
       "      <td>NaN</td>\n",
       "      <td>NaN</td>\n",
       "    </tr>\n",
       "    <tr>\n",
       "      <th>STDs:HIV</th>\n",
       "      <td>858</td>\n",
       "      <td>3</td>\n",
       "      <td>0.0</td>\n",
       "      <td>735</td>\n",
       "      <td>NaN</td>\n",
       "      <td>NaN</td>\n",
       "      <td>NaN</td>\n",
       "      <td>NaN</td>\n",
       "      <td>NaN</td>\n",
       "      <td>NaN</td>\n",
       "      <td>NaN</td>\n",
       "    </tr>\n",
       "    <tr>\n",
       "      <th>STDs:Hepatitis B</th>\n",
       "      <td>858</td>\n",
       "      <td>3</td>\n",
       "      <td>0.0</td>\n",
       "      <td>752</td>\n",
       "      <td>NaN</td>\n",
       "      <td>NaN</td>\n",
       "      <td>NaN</td>\n",
       "      <td>NaN</td>\n",
       "      <td>NaN</td>\n",
       "      <td>NaN</td>\n",
       "      <td>NaN</td>\n",
       "    </tr>\n",
       "    <tr>\n",
       "      <th>STDs:HPV</th>\n",
       "      <td>858</td>\n",
       "      <td>3</td>\n",
       "      <td>0.0</td>\n",
       "      <td>751</td>\n",
       "      <td>NaN</td>\n",
       "      <td>NaN</td>\n",
       "      <td>NaN</td>\n",
       "      <td>NaN</td>\n",
       "      <td>NaN</td>\n",
       "      <td>NaN</td>\n",
       "      <td>NaN</td>\n",
       "    </tr>\n",
       "    <tr>\n",
       "      <th>STDs: Number of diagnosis</th>\n",
       "      <td>858</td>\n",
       "      <td>NaN</td>\n",
       "      <td>NaN</td>\n",
       "      <td>NaN</td>\n",
       "      <td>0.0874126</td>\n",
       "      <td>0.302545</td>\n",
       "      <td>0</td>\n",
       "      <td>0</td>\n",
       "      <td>0</td>\n",
       "      <td>0</td>\n",
       "      <td>3</td>\n",
       "    </tr>\n",
       "    <tr>\n",
       "      <th>STDs: Time since first diagnosis</th>\n",
       "      <td>858</td>\n",
       "      <td>19</td>\n",
       "      <td>?</td>\n",
       "      <td>787</td>\n",
       "      <td>NaN</td>\n",
       "      <td>NaN</td>\n",
       "      <td>NaN</td>\n",
       "      <td>NaN</td>\n",
       "      <td>NaN</td>\n",
       "      <td>NaN</td>\n",
       "      <td>NaN</td>\n",
       "    </tr>\n",
       "    <tr>\n",
       "      <th>STDs: Time since last diagnosis</th>\n",
       "      <td>858</td>\n",
       "      <td>19</td>\n",
       "      <td>?</td>\n",
       "      <td>787</td>\n",
       "      <td>NaN</td>\n",
       "      <td>NaN</td>\n",
       "      <td>NaN</td>\n",
       "      <td>NaN</td>\n",
       "      <td>NaN</td>\n",
       "      <td>NaN</td>\n",
       "      <td>NaN</td>\n",
       "    </tr>\n",
       "    <tr>\n",
       "      <th>Dx:Cancer</th>\n",
       "      <td>858</td>\n",
       "      <td>NaN</td>\n",
       "      <td>NaN</td>\n",
       "      <td>NaN</td>\n",
       "      <td>0.020979</td>\n",
       "      <td>0.143398</td>\n",
       "      <td>0</td>\n",
       "      <td>0</td>\n",
       "      <td>0</td>\n",
       "      <td>0</td>\n",
       "      <td>1</td>\n",
       "    </tr>\n",
       "    <tr>\n",
       "      <th>Dx:CIN</th>\n",
       "      <td>858</td>\n",
       "      <td>NaN</td>\n",
       "      <td>NaN</td>\n",
       "      <td>NaN</td>\n",
       "      <td>0.0104895</td>\n",
       "      <td>0.101939</td>\n",
       "      <td>0</td>\n",
       "      <td>0</td>\n",
       "      <td>0</td>\n",
       "      <td>0</td>\n",
       "      <td>1</td>\n",
       "    </tr>\n",
       "    <tr>\n",
       "      <th>Dx:HPV</th>\n",
       "      <td>858</td>\n",
       "      <td>NaN</td>\n",
       "      <td>NaN</td>\n",
       "      <td>NaN</td>\n",
       "      <td>0.020979</td>\n",
       "      <td>0.143398</td>\n",
       "      <td>0</td>\n",
       "      <td>0</td>\n",
       "      <td>0</td>\n",
       "      <td>0</td>\n",
       "      <td>1</td>\n",
       "    </tr>\n",
       "    <tr>\n",
       "      <th>Dx</th>\n",
       "      <td>858</td>\n",
       "      <td>NaN</td>\n",
       "      <td>NaN</td>\n",
       "      <td>NaN</td>\n",
       "      <td>0.027972</td>\n",
       "      <td>0.164989</td>\n",
       "      <td>0</td>\n",
       "      <td>0</td>\n",
       "      <td>0</td>\n",
       "      <td>0</td>\n",
       "      <td>1</td>\n",
       "    </tr>\n",
       "    <tr>\n",
       "      <th>Hinselmann</th>\n",
       "      <td>858</td>\n",
       "      <td>NaN</td>\n",
       "      <td>NaN</td>\n",
       "      <td>NaN</td>\n",
       "      <td>0.0407925</td>\n",
       "      <td>0.197925</td>\n",
       "      <td>0</td>\n",
       "      <td>0</td>\n",
       "      <td>0</td>\n",
       "      <td>0</td>\n",
       "      <td>1</td>\n",
       "    </tr>\n",
       "    <tr>\n",
       "      <th>Schiller</th>\n",
       "      <td>858</td>\n",
       "      <td>NaN</td>\n",
       "      <td>NaN</td>\n",
       "      <td>NaN</td>\n",
       "      <td>0.0862471</td>\n",
       "      <td>0.280892</td>\n",
       "      <td>0</td>\n",
       "      <td>0</td>\n",
       "      <td>0</td>\n",
       "      <td>0</td>\n",
       "      <td>1</td>\n",
       "    </tr>\n",
       "    <tr>\n",
       "      <th>Citology</th>\n",
       "      <td>858</td>\n",
       "      <td>NaN</td>\n",
       "      <td>NaN</td>\n",
       "      <td>NaN</td>\n",
       "      <td>0.0512821</td>\n",
       "      <td>0.220701</td>\n",
       "      <td>0</td>\n",
       "      <td>0</td>\n",
       "      <td>0</td>\n",
       "      <td>0</td>\n",
       "      <td>1</td>\n",
       "    </tr>\n",
       "    <tr>\n",
       "      <th>Biopsy</th>\n",
       "      <td>858</td>\n",
       "      <td>NaN</td>\n",
       "      <td>NaN</td>\n",
       "      <td>NaN</td>\n",
       "      <td>0.0641026</td>\n",
       "      <td>0.245078</td>\n",
       "      <td>0</td>\n",
       "      <td>0</td>\n",
       "      <td>0</td>\n",
       "      <td>0</td>\n",
       "      <td>1</td>\n",
       "    </tr>\n",
       "  </tbody>\n",
       "</table>\n",
       "</div>"
      ],
      "text/plain": [
       "                                   count unique   top freq       mean  \\\n",
       "Age                                  858    NaN   NaN  NaN    26.8205   \n",
       "Number of sexual partners            858     13   2.0  272        NaN   \n",
       "First sexual intercourse             858     22  15.0  163        NaN   \n",
       "Num of pregnancies                   858     12   1.0  270        NaN   \n",
       "Smokes                               858      3   0.0  722        NaN   \n",
       "Smokes (years)                       858     31   0.0  722        NaN   \n",
       "Smokes (packs/year)                  858     63   0.0  722        NaN   \n",
       "Hormonal Contraceptives              858      3   1.0  481        NaN   \n",
       "Hormonal Contraceptives (years)      858     41   0.0  269        NaN   \n",
       "IUD                                  858      3   0.0  658        NaN   \n",
       "IUD (years)                          858     27   0.0  658        NaN   \n",
       "STDs                                 858      3   0.0  674        NaN   \n",
       "STDs (number)                        858      6   0.0  674        NaN   \n",
       "STDs:condylomatosis                  858      3   0.0  709        NaN   \n",
       "STDs:cervical condylomatosis         858      2   0.0  753        NaN   \n",
       "STDs:vaginal condylomatosis          858      3   0.0  749        NaN   \n",
       "STDs:vulvo-perineal condylomatosis   858      3   0.0  710        NaN   \n",
       "STDs:syphilis                        858      3   0.0  735        NaN   \n",
       "STDs:pelvic inflammatory disease     858      3   0.0  752        NaN   \n",
       "STDs:genital herpes                  858      3   0.0  752        NaN   \n",
       "STDs:molluscum contagiosum           858      3   0.0  752        NaN   \n",
       "STDs:AIDS                            858      2   0.0  753        NaN   \n",
       "STDs:HIV                             858      3   0.0  735        NaN   \n",
       "STDs:Hepatitis B                     858      3   0.0  752        NaN   \n",
       "STDs:HPV                             858      3   0.0  751        NaN   \n",
       "STDs: Number of diagnosis            858    NaN   NaN  NaN  0.0874126   \n",
       "STDs: Time since first diagnosis     858     19     ?  787        NaN   \n",
       "STDs: Time since last diagnosis      858     19     ?  787        NaN   \n",
       "Dx:Cancer                            858    NaN   NaN  NaN   0.020979   \n",
       "Dx:CIN                               858    NaN   NaN  NaN  0.0104895   \n",
       "Dx:HPV                               858    NaN   NaN  NaN   0.020979   \n",
       "Dx                                   858    NaN   NaN  NaN   0.027972   \n",
       "Hinselmann                           858    NaN   NaN  NaN  0.0407925   \n",
       "Schiller                             858    NaN   NaN  NaN  0.0862471   \n",
       "Citology                             858    NaN   NaN  NaN  0.0512821   \n",
       "Biopsy                               858    NaN   NaN  NaN  0.0641026   \n",
       "\n",
       "                                         std  min  25%  50%  75%  max  \n",
       "Age                                  8.49795   13   20   25   32   84  \n",
       "Number of sexual partners                NaN  NaN  NaN  NaN  NaN  NaN  \n",
       "First sexual intercourse                 NaN  NaN  NaN  NaN  NaN  NaN  \n",
       "Num of pregnancies                       NaN  NaN  NaN  NaN  NaN  NaN  \n",
       "Smokes                                   NaN  NaN  NaN  NaN  NaN  NaN  \n",
       "Smokes (years)                           NaN  NaN  NaN  NaN  NaN  NaN  \n",
       "Smokes (packs/year)                      NaN  NaN  NaN  NaN  NaN  NaN  \n",
       "Hormonal Contraceptives                  NaN  NaN  NaN  NaN  NaN  NaN  \n",
       "Hormonal Contraceptives (years)          NaN  NaN  NaN  NaN  NaN  NaN  \n",
       "IUD                                      NaN  NaN  NaN  NaN  NaN  NaN  \n",
       "IUD (years)                              NaN  NaN  NaN  NaN  NaN  NaN  \n",
       "STDs                                     NaN  NaN  NaN  NaN  NaN  NaN  \n",
       "STDs (number)                            NaN  NaN  NaN  NaN  NaN  NaN  \n",
       "STDs:condylomatosis                      NaN  NaN  NaN  NaN  NaN  NaN  \n",
       "STDs:cervical condylomatosis             NaN  NaN  NaN  NaN  NaN  NaN  \n",
       "STDs:vaginal condylomatosis              NaN  NaN  NaN  NaN  NaN  NaN  \n",
       "STDs:vulvo-perineal condylomatosis       NaN  NaN  NaN  NaN  NaN  NaN  \n",
       "STDs:syphilis                            NaN  NaN  NaN  NaN  NaN  NaN  \n",
       "STDs:pelvic inflammatory disease         NaN  NaN  NaN  NaN  NaN  NaN  \n",
       "STDs:genital herpes                      NaN  NaN  NaN  NaN  NaN  NaN  \n",
       "STDs:molluscum contagiosum               NaN  NaN  NaN  NaN  NaN  NaN  \n",
       "STDs:AIDS                                NaN  NaN  NaN  NaN  NaN  NaN  \n",
       "STDs:HIV                                 NaN  NaN  NaN  NaN  NaN  NaN  \n",
       "STDs:Hepatitis B                         NaN  NaN  NaN  NaN  NaN  NaN  \n",
       "STDs:HPV                                 NaN  NaN  NaN  NaN  NaN  NaN  \n",
       "STDs: Number of diagnosis           0.302545    0    0    0    0    3  \n",
       "STDs: Time since first diagnosis         NaN  NaN  NaN  NaN  NaN  NaN  \n",
       "STDs: Time since last diagnosis          NaN  NaN  NaN  NaN  NaN  NaN  \n",
       "Dx:Cancer                           0.143398    0    0    0    0    1  \n",
       "Dx:CIN                              0.101939    0    0    0    0    1  \n",
       "Dx:HPV                              0.143398    0    0    0    0    1  \n",
       "Dx                                  0.164989    0    0    0    0    1  \n",
       "Hinselmann                          0.197925    0    0    0    0    1  \n",
       "Schiller                            0.280892    0    0    0    0    1  \n",
       "Citology                            0.220701    0    0    0    0    1  \n",
       "Biopsy                              0.245078    0    0    0    0    1  "
      ]
     },
     "execution_count": 7,
     "metadata": {},
     "output_type": "execute_result"
    }
   ],
   "source": [
    "orig_data.describe(include = \"all\").T"
   ]
  },
  {
   "cell_type": "markdown",
   "metadata": {},
   "source": [
    "# Rename columns to more suitable names (remove spaces, etc)"
   ]
  },
  {
   "cell_type": "code",
   "execution_count": 8,
   "metadata": {},
   "outputs": [
    {
     "name": "stdout",
     "output_type": "stream",
     "text": [
      "['Age', 'Number of sexual partners', 'First sexual intercourse', 'Num of pregnancies', 'Smokes', 'Smokes (years)', 'Smokes (packs/year)', 'Hormonal Contraceptives', 'Hormonal Contraceptives (years)', 'IUD', 'IUD (years)', 'STDs', 'STDs (number)', 'STDs:condylomatosis', 'STDs:cervical condylomatosis', 'STDs:vaginal condylomatosis', 'STDs:vulvo-perineal condylomatosis', 'STDs:syphilis', 'STDs:pelvic inflammatory disease', 'STDs:genital herpes', 'STDs:molluscum contagiosum', 'STDs:AIDS', 'STDs:HIV', 'STDs:Hepatitis B', 'STDs:HPV', 'STDs: Number of diagnosis', 'STDs: Time since first diagnosis', 'STDs: Time since last diagnosis', 'Dx:Cancer', 'Dx:CIN', 'Dx:HPV', 'Dx', 'Hinselmann', 'Schiller', 'Citology', 'Biopsy']\n"
     ]
    }
   ],
   "source": [
    "col_names = list(orig_data.columns.values)\n",
    "print(col_names)"
   ]
  },
  {
   "cell_type": "code",
   "execution_count": 9,
   "metadata": {},
   "outputs": [],
   "source": [
    "new_col_names = ['age', 'num_sex_partners', 'first_sex_int', 'num_pregnancies', 'smokes', 'smokes_yrs',  \n",
    "                'smokes_pk_yrs','hormonal_contr', 'hormonal_contr_yrs', 'iud', 'iud_yrs', 'stds', 'stds_num',  \n",
    "                'stds_condylomatosis', 'stds_cerv_condylomatosis', 'stds_vag_condylomatosis', 'stds_vp_condylomatosis',\n",
    "                'stds_syphillus', 'stds_pelvic_inf_disease', 'stds_gen_herpes', 'stds_molluscom_contagiosum',  \n",
    "                'stds_aids', 'stds_hiv', 'stds_hep_b', 'stds_hpv', 'stds_num_dx', 'stds_time_first_dx',  \n",
    "                'stds_time_last_dx','dx_cancer', 'dx_cin', 'dx_hpv', 'dx', 'hinselmann', 'schiller', 'citology', \n",
    "                 'biopsy']"
   ]
  },
  {
   "cell_type": "code",
   "execution_count": 10,
   "metadata": {},
   "outputs": [
    {
     "name": "stdout",
     "output_type": "stream",
     "text": [
      "36\n",
      "36\n"
     ]
    }
   ],
   "source": [
    "print(len(col_names))\n",
    "print(len(new_col_names))"
   ]
  },
  {
   "cell_type": "code",
   "execution_count": 11,
   "metadata": {},
   "outputs": [],
   "source": [
    "for i in range(len(new_col_names)):\n",
    "    orig_data.rename(index=str, columns={col_names[i]: new_col_names[i]}, inplace = True)"
   ]
  },
  {
   "cell_type": "code",
   "execution_count": 12,
   "metadata": {},
   "outputs": [
    {
     "name": "stdout",
     "output_type": "stream",
     "text": [
      "['age', 'num_sex_partners', 'first_sex_int', 'num_pregnancies', 'smokes', 'smokes_yrs', 'smokes_pk_yrs', 'hormonal_contr', 'hormonal_contr_yrs', 'iud', 'iud_yrs', 'stds', 'stds_num', 'stds_condylomatosis', 'stds_cerv_condylomatosis', 'stds_vag_condylomatosis', 'stds_vp_condylomatosis', 'stds_syphillus', 'stds_pelvic_inf_disease', 'stds_gen_herpes', 'stds_molluscom_contagiosum', 'stds_aids', 'stds_hiv', 'stds_hep_b', 'stds_hpv', 'stds_num_dx', 'stds_time_first_dx', 'stds_time_last_dx', 'dx_cancer', 'dx_cin', 'dx_hpv', 'dx', 'hinselmann', 'schiller', 'citology', 'biopsy']\n"
     ]
    }
   ],
   "source": [
    "print(list(orig_data.columns.values))"
   ]
  },
  {
   "cell_type": "markdown",
   "metadata": {},
   "source": [
    "# Declare path to use to save preprocessing analysis outputs"
   ]
  },
  {
   "cell_type": "code",
   "execution_count": 13,
   "metadata": {},
   "outputs": [],
   "source": [
    "data_save_path = 'C:\\\\DePaulCoursework\\\\Winter 2019 CSC 529\\\\Project\\\\Data\\\\'\n",
    "\n",
    "if not os.path.exists(data_save_path):\n",
    "    os.mkdir(data_save_path)\n"
   ]
  },
  {
   "cell_type": "markdown",
   "metadata": {},
   "source": [
    "# Save column data types and unique variable values to a text file"
   ]
  },
  {
   "cell_type": "code",
   "execution_count": 14,
   "metadata": {},
   "outputs": [],
   "source": [
    "var_info_file = data_save_path + 'Orig_Variable_Info.txt'\n",
    "fp = open(var_info_file, 'w')\n",
    "for name in new_col_names:\n",
    "    fp.write('{}:\\n'.format(name))\n",
    "    fp.write('Unique Values:\\n')\n",
    "    fp.write('{}\\n'.format(orig_data[name].unique()))\n",
    "    fp.write('Variable Data Type:\\n')\n",
    "    fp.write('{}\\n'.format(orig_data[name].dtype))\n",
    "    fp.write('\\n')\n",
    "    \n",
    "fp.close()"
   ]
  },
  {
   "cell_type": "markdown",
   "metadata": {},
   "source": [
    "# Replace all missing (?) values with NaN"
   ]
  },
  {
   "cell_type": "code",
   "execution_count": 15,
   "metadata": {
    "scrolled": true
   },
   "outputs": [],
   "source": [
    "orig_data.replace('?', np.NaN, inplace = True)"
   ]
  },
  {
   "cell_type": "markdown",
   "metadata": {},
   "source": [
    "# Find the number of missing values per column"
   ]
  },
  {
   "cell_type": "code",
   "execution_count": 16,
   "metadata": {},
   "outputs": [
    {
     "data": {
      "text/plain": [
       "age                             0\n",
       "num_sex_partners               26\n",
       "first_sex_int                   7\n",
       "num_pregnancies                56\n",
       "smokes                         13\n",
       "smokes_yrs                     13\n",
       "smokes_pk_yrs                  13\n",
       "hormonal_contr                108\n",
       "hormonal_contr_yrs            108\n",
       "iud                           117\n",
       "iud_yrs                       117\n",
       "stds                          105\n",
       "stds_num                      105\n",
       "stds_condylomatosis           105\n",
       "stds_cerv_condylomatosis      105\n",
       "stds_vag_condylomatosis       105\n",
       "stds_vp_condylomatosis        105\n",
       "stds_syphillus                105\n",
       "stds_pelvic_inf_disease       105\n",
       "stds_gen_herpes               105\n",
       "stds_molluscom_contagiosum    105\n",
       "stds_aids                     105\n",
       "stds_hiv                      105\n",
       "stds_hep_b                    105\n",
       "stds_hpv                      105\n",
       "stds_num_dx                     0\n",
       "stds_time_first_dx            787\n",
       "stds_time_last_dx             787\n",
       "dx_cancer                       0\n",
       "dx_cin                          0\n",
       "dx_hpv                          0\n",
       "dx                              0\n",
       "hinselmann                      0\n",
       "schiller                        0\n",
       "citology                        0\n",
       "biopsy                          0\n",
       "dtype: int64"
      ]
     },
     "execution_count": 16,
     "metadata": {},
     "output_type": "execute_result"
    }
   ],
   "source": [
    "orig_data.isna().sum()"
   ]
  },
  {
   "cell_type": "markdown",
   "metadata": {},
   "source": [
    "# Remove columns with mostly missing values"
   ]
  },
  {
   "cell_type": "code",
   "execution_count": 17,
   "metadata": {},
   "outputs": [],
   "source": [
    "orig_data.drop(['stds_time_first_dx', 'stds_time_last_dx'], axis = 1, inplace = True)\n"
   ]
  },
  {
   "cell_type": "markdown",
   "metadata": {},
   "source": [
    "# Remove rows of stds column (will remove all std related columns as well)"
   ]
  },
  {
   "cell_type": "code",
   "execution_count": 18,
   "metadata": {},
   "outputs": [],
   "source": [
    "orig_data.drop(orig_data[orig_data['stds'].isna()].index, axis = 0, inplace = True)"
   ]
  },
  {
   "cell_type": "code",
   "execution_count": 19,
   "metadata": {},
   "outputs": [
    {
     "data": {
      "text/plain": [
       "age                            0\n",
       "num_sex_partners              14\n",
       "first_sex_int                  6\n",
       "num_pregnancies               47\n",
       "smokes                        10\n",
       "smokes_yrs                    10\n",
       "smokes_pk_yrs                 10\n",
       "hormonal_contr                13\n",
       "hormonal_contr_yrs            13\n",
       "iud                           16\n",
       "iud_yrs                       16\n",
       "stds                           0\n",
       "stds_num                       0\n",
       "stds_condylomatosis            0\n",
       "stds_cerv_condylomatosis       0\n",
       "stds_vag_condylomatosis        0\n",
       "stds_vp_condylomatosis         0\n",
       "stds_syphillus                 0\n",
       "stds_pelvic_inf_disease        0\n",
       "stds_gen_herpes                0\n",
       "stds_molluscom_contagiosum     0\n",
       "stds_aids                      0\n",
       "stds_hiv                       0\n",
       "stds_hep_b                     0\n",
       "stds_hpv                       0\n",
       "stds_num_dx                    0\n",
       "dx_cancer                      0\n",
       "dx_cin                         0\n",
       "dx_hpv                         0\n",
       "dx                             0\n",
       "hinselmann                     0\n",
       "schiller                       0\n",
       "citology                       0\n",
       "biopsy                         0\n",
       "dtype: int64"
      ]
     },
     "execution_count": 19,
     "metadata": {},
     "output_type": "execute_result"
    }
   ],
   "source": [
    "orig_data.isna().sum()"
   ]
  },
  {
   "cell_type": "markdown",
   "metadata": {},
   "source": [
    "# Remove missing values from remaining categorical columns"
   ]
  },
  {
   "cell_type": "code",
   "execution_count": 20,
   "metadata": {},
   "outputs": [],
   "source": [
    "orig_data.drop(orig_data[orig_data['smokes'].isna()].index, axis = 0, inplace = True)\n",
    "orig_data.drop(orig_data[orig_data['hormonal_contr'].isna()].index, axis = 0, inplace = True)\n",
    "orig_data.drop(orig_data[orig_data['iud'].isna()].index, axis = 0, inplace = True)"
   ]
  },
  {
   "cell_type": "code",
   "execution_count": 21,
   "metadata": {},
   "outputs": [
    {
     "data": {
      "text/plain": [
       "age                            0\n",
       "num_sex_partners              14\n",
       "first_sex_int                  6\n",
       "num_pregnancies               41\n",
       "smokes                         0\n",
       "smokes_yrs                     0\n",
       "smokes_pk_yrs                  0\n",
       "hormonal_contr                 0\n",
       "hormonal_contr_yrs             0\n",
       "iud                            0\n",
       "iud_yrs                        0\n",
       "stds                           0\n",
       "stds_num                       0\n",
       "stds_condylomatosis            0\n",
       "stds_cerv_condylomatosis       0\n",
       "stds_vag_condylomatosis        0\n",
       "stds_vp_condylomatosis         0\n",
       "stds_syphillus                 0\n",
       "stds_pelvic_inf_disease        0\n",
       "stds_gen_herpes                0\n",
       "stds_molluscom_contagiosum     0\n",
       "stds_aids                      0\n",
       "stds_hiv                       0\n",
       "stds_hep_b                     0\n",
       "stds_hpv                       0\n",
       "stds_num_dx                    0\n",
       "dx_cancer                      0\n",
       "dx_cin                         0\n",
       "dx_hpv                         0\n",
       "dx                             0\n",
       "hinselmann                     0\n",
       "schiller                       0\n",
       "citology                       0\n",
       "biopsy                         0\n",
       "dtype: int64"
      ]
     },
     "execution_count": 21,
     "metadata": {},
     "output_type": "execute_result"
    }
   ],
   "source": [
    "orig_data.isna().sum()"
   ]
  },
  {
   "cell_type": "code",
   "execution_count": 22,
   "metadata": {},
   "outputs": [
    {
     "data": {
      "text/plain": [
       "age                            int64\n",
       "num_sex_partners              object\n",
       "first_sex_int                 object\n",
       "num_pregnancies               object\n",
       "smokes                        object\n",
       "smokes_yrs                    object\n",
       "smokes_pk_yrs                 object\n",
       "hormonal_contr                object\n",
       "hormonal_contr_yrs            object\n",
       "iud                           object\n",
       "iud_yrs                       object\n",
       "stds                          object\n",
       "stds_num                      object\n",
       "stds_condylomatosis           object\n",
       "stds_cerv_condylomatosis      object\n",
       "stds_vag_condylomatosis       object\n",
       "stds_vp_condylomatosis        object\n",
       "stds_syphillus                object\n",
       "stds_pelvic_inf_disease       object\n",
       "stds_gen_herpes               object\n",
       "stds_molluscom_contagiosum    object\n",
       "stds_aids                     object\n",
       "stds_hiv                      object\n",
       "stds_hep_b                    object\n",
       "stds_hpv                      object\n",
       "stds_num_dx                    int64\n",
       "dx_cancer                      int64\n",
       "dx_cin                         int64\n",
       "dx_hpv                         int64\n",
       "dx                             int64\n",
       "hinselmann                     int64\n",
       "schiller                       int64\n",
       "citology                       int64\n",
       "biopsy                         int64\n",
       "dtype: object"
      ]
     },
     "execution_count": 22,
     "metadata": {},
     "output_type": "execute_result"
    }
   ],
   "source": [
    "orig_data.dtypes"
   ]
  },
  {
   "cell_type": "markdown",
   "metadata": {},
   "source": [
    "# Assign float64 data types to appropriate columns"
   ]
  },
  {
   "cell_type": "code",
   "execution_count": 23,
   "metadata": {},
   "outputs": [],
   "source": [
    "orig_data['age'] = orig_data['age'].astype('float64')\n",
    "orig_data['num_sex_partners'] = orig_data['num_sex_partners'].astype('float64')\n",
    "orig_data['first_sex_int'] = orig_data['first_sex_int'].astype('float64')\n",
    "orig_data['num_pregnancies'] = orig_data['num_pregnancies'].astype('float64')\n",
    "orig_data['smokes_yrs'] = orig_data['smokes_yrs'].astype('float64')\n",
    "orig_data['smokes_pk_yrs'] = orig_data['smokes_pk_yrs'].astype('float64')\n",
    "orig_data['hormonal_contr_yrs'] = orig_data['hormonal_contr_yrs'].astype('float64')\n",
    "orig_data['iud_yrs'] = orig_data['iud_yrs'].astype('float64')\n",
    "orig_data['stds_num'] = orig_data['stds_num'].astype('float64')\n",
    "orig_data['stds_num_dx'] = orig_data['stds_num_dx'].astype('float64')"
   ]
  },
  {
   "cell_type": "markdown",
   "metadata": {},
   "source": [
    "# Replace missing values in continuous columns with column mean values"
   ]
  },
  {
   "cell_type": "code",
   "execution_count": 24,
   "metadata": {},
   "outputs": [],
   "source": [
    "orig_data['num_sex_partners'].fillna(orig_data['num_sex_partners'].mean(), inplace = True)\n",
    "orig_data['first_sex_int'].fillna(orig_data['first_sex_int'].mean(), inplace = True)\n",
    "orig_data['num_pregnancies'].fillna(orig_data['num_pregnancies'].mean(), inplace = True)"
   ]
  },
  {
   "cell_type": "code",
   "execution_count": 25,
   "metadata": {},
   "outputs": [
    {
     "data": {
      "text/plain": [
       "age                           0\n",
       "num_sex_partners              0\n",
       "first_sex_int                 0\n",
       "num_pregnancies               0\n",
       "smokes                        0\n",
       "smokes_yrs                    0\n",
       "smokes_pk_yrs                 0\n",
       "hormonal_contr                0\n",
       "hormonal_contr_yrs            0\n",
       "iud                           0\n",
       "iud_yrs                       0\n",
       "stds                          0\n",
       "stds_num                      0\n",
       "stds_condylomatosis           0\n",
       "stds_cerv_condylomatosis      0\n",
       "stds_vag_condylomatosis       0\n",
       "stds_vp_condylomatosis        0\n",
       "stds_syphillus                0\n",
       "stds_pelvic_inf_disease       0\n",
       "stds_gen_herpes               0\n",
       "stds_molluscom_contagiosum    0\n",
       "stds_aids                     0\n",
       "stds_hiv                      0\n",
       "stds_hep_b                    0\n",
       "stds_hpv                      0\n",
       "stds_num_dx                   0\n",
       "dx_cancer                     0\n",
       "dx_cin                        0\n",
       "dx_hpv                        0\n",
       "dx                            0\n",
       "hinselmann                    0\n",
       "schiller                      0\n",
       "citology                      0\n",
       "biopsy                        0\n",
       "dtype: int64"
      ]
     },
     "execution_count": 25,
     "metadata": {},
     "output_type": "execute_result"
    }
   ],
   "source": [
    "orig_data.isna().sum()"
   ]
  },
  {
   "cell_type": "markdown",
   "metadata": {},
   "source": [
    "# Assign the int64 data type to the appropriate columns"
   ]
  },
  {
   "cell_type": "code",
   "execution_count": 26,
   "metadata": {},
   "outputs": [],
   "source": [
    "col_names = list(orig_data.columns.values)\n",
    "for name in col_names:\n",
    "    if orig_data[name].dtype == 'object':\n",
    "        orig_data[name] = orig_data[name].astype('float').astype('int64')"
   ]
  },
  {
   "cell_type": "code",
   "execution_count": 27,
   "metadata": {},
   "outputs": [
    {
     "data": {
      "text/plain": [
       "age                           float64\n",
       "num_sex_partners              float64\n",
       "first_sex_int                 float64\n",
       "num_pregnancies               float64\n",
       "smokes                          int64\n",
       "smokes_yrs                    float64\n",
       "smokes_pk_yrs                 float64\n",
       "hormonal_contr                  int64\n",
       "hormonal_contr_yrs            float64\n",
       "iud                             int64\n",
       "iud_yrs                       float64\n",
       "stds                            int64\n",
       "stds_num                      float64\n",
       "stds_condylomatosis             int64\n",
       "stds_cerv_condylomatosis        int64\n",
       "stds_vag_condylomatosis         int64\n",
       "stds_vp_condylomatosis          int64\n",
       "stds_syphillus                  int64\n",
       "stds_pelvic_inf_disease         int64\n",
       "stds_gen_herpes                 int64\n",
       "stds_molluscom_contagiosum      int64\n",
       "stds_aids                       int64\n",
       "stds_hiv                        int64\n",
       "stds_hep_b                      int64\n",
       "stds_hpv                        int64\n",
       "stds_num_dx                   float64\n",
       "dx_cancer                       int64\n",
       "dx_cin                          int64\n",
       "dx_hpv                          int64\n",
       "dx                              int64\n",
       "hinselmann                      int64\n",
       "schiller                        int64\n",
       "citology                        int64\n",
       "biopsy                          int64\n",
       "dtype: object"
      ]
     },
     "execution_count": 27,
     "metadata": {},
     "output_type": "execute_result"
    }
   ],
   "source": [
    "orig_data.dtypes"
   ]
  },
  {
   "cell_type": "markdown",
   "metadata": {},
   "source": [
    "# Print out dataset information now that missing values are removed"
   ]
  },
  {
   "cell_type": "code",
   "execution_count": 28,
   "metadata": {
    "scrolled": false
   },
   "outputs": [
    {
     "data": {
      "text/html": [
       "<div>\n",
       "<style scoped>\n",
       "    .dataframe tbody tr th:only-of-type {\n",
       "        vertical-align: middle;\n",
       "    }\n",
       "\n",
       "    .dataframe tbody tr th {\n",
       "        vertical-align: top;\n",
       "    }\n",
       "\n",
       "    .dataframe thead th {\n",
       "        text-align: right;\n",
       "    }\n",
       "</style>\n",
       "<table border=\"1\" class=\"dataframe\">\n",
       "  <thead>\n",
       "    <tr style=\"text-align: right;\">\n",
       "      <th></th>\n",
       "      <th>count</th>\n",
       "      <th>mean</th>\n",
       "      <th>std</th>\n",
       "      <th>min</th>\n",
       "      <th>25%</th>\n",
       "      <th>50%</th>\n",
       "      <th>75%</th>\n",
       "      <th>max</th>\n",
       "    </tr>\n",
       "  </thead>\n",
       "  <tbody>\n",
       "    <tr>\n",
       "      <th>age</th>\n",
       "      <td>726.0</td>\n",
       "      <td>27.258953</td>\n",
       "      <td>8.731498</td>\n",
       "      <td>13.0</td>\n",
       "      <td>21.0</td>\n",
       "      <td>26.0</td>\n",
       "      <td>33.0</td>\n",
       "      <td>84.0</td>\n",
       "    </tr>\n",
       "    <tr>\n",
       "      <th>num_sex_partners</th>\n",
       "      <td>726.0</td>\n",
       "      <td>2.514045</td>\n",
       "      <td>1.621349</td>\n",
       "      <td>1.0</td>\n",
       "      <td>2.0</td>\n",
       "      <td>2.0</td>\n",
       "      <td>3.0</td>\n",
       "      <td>28.0</td>\n",
       "    </tr>\n",
       "    <tr>\n",
       "      <th>first_sex_int</th>\n",
       "      <td>726.0</td>\n",
       "      <td>17.094444</td>\n",
       "      <td>2.830762</td>\n",
       "      <td>10.0</td>\n",
       "      <td>15.0</td>\n",
       "      <td>17.0</td>\n",
       "      <td>18.0</td>\n",
       "      <td>32.0</td>\n",
       "    </tr>\n",
       "    <tr>\n",
       "      <th>num_pregnancies</th>\n",
       "      <td>726.0</td>\n",
       "      <td>2.318248</td>\n",
       "      <td>1.426170</td>\n",
       "      <td>0.0</td>\n",
       "      <td>1.0</td>\n",
       "      <td>2.0</td>\n",
       "      <td>3.0</td>\n",
       "      <td>11.0</td>\n",
       "    </tr>\n",
       "    <tr>\n",
       "      <th>smokes</th>\n",
       "      <td>726.0</td>\n",
       "      <td>0.143251</td>\n",
       "      <td>0.350570</td>\n",
       "      <td>0.0</td>\n",
       "      <td>0.0</td>\n",
       "      <td>0.0</td>\n",
       "      <td>0.0</td>\n",
       "      <td>1.0</td>\n",
       "    </tr>\n",
       "    <tr>\n",
       "      <th>smokes_yrs</th>\n",
       "      <td>726.0</td>\n",
       "      <td>1.243246</td>\n",
       "      <td>4.182275</td>\n",
       "      <td>0.0</td>\n",
       "      <td>0.0</td>\n",
       "      <td>0.0</td>\n",
       "      <td>0.0</td>\n",
       "      <td>37.0</td>\n",
       "    </tr>\n",
       "    <tr>\n",
       "      <th>smokes_pk_yrs</th>\n",
       "      <td>726.0</td>\n",
       "      <td>0.463816</td>\n",
       "      <td>2.319839</td>\n",
       "      <td>0.0</td>\n",
       "      <td>0.0</td>\n",
       "      <td>0.0</td>\n",
       "      <td>0.0</td>\n",
       "      <td>37.0</td>\n",
       "    </tr>\n",
       "    <tr>\n",
       "      <th>hormonal_contr</th>\n",
       "      <td>726.0</td>\n",
       "      <td>0.641873</td>\n",
       "      <td>0.479780</td>\n",
       "      <td>0.0</td>\n",
       "      <td>0.0</td>\n",
       "      <td>1.0</td>\n",
       "      <td>1.0</td>\n",
       "      <td>1.0</td>\n",
       "    </tr>\n",
       "    <tr>\n",
       "      <th>hormonal_contr_yrs</th>\n",
       "      <td>726.0</td>\n",
       "      <td>2.234937</td>\n",
       "      <td>3.659374</td>\n",
       "      <td>0.0</td>\n",
       "      <td>0.0</td>\n",
       "      <td>0.5</td>\n",
       "      <td>3.0</td>\n",
       "      <td>22.0</td>\n",
       "    </tr>\n",
       "    <tr>\n",
       "      <th>iud</th>\n",
       "      <td>726.0</td>\n",
       "      <td>0.111570</td>\n",
       "      <td>0.315054</td>\n",
       "      <td>0.0</td>\n",
       "      <td>0.0</td>\n",
       "      <td>0.0</td>\n",
       "      <td>0.0</td>\n",
       "      <td>1.0</td>\n",
       "    </tr>\n",
       "    <tr>\n",
       "      <th>iud_yrs</th>\n",
       "      <td>726.0</td>\n",
       "      <td>0.514421</td>\n",
       "      <td>1.950491</td>\n",
       "      <td>0.0</td>\n",
       "      <td>0.0</td>\n",
       "      <td>0.0</td>\n",
       "      <td>0.0</td>\n",
       "      <td>19.0</td>\n",
       "    </tr>\n",
       "    <tr>\n",
       "      <th>stds</th>\n",
       "      <td>726.0</td>\n",
       "      <td>0.093664</td>\n",
       "      <td>0.291561</td>\n",
       "      <td>0.0</td>\n",
       "      <td>0.0</td>\n",
       "      <td>0.0</td>\n",
       "      <td>0.0</td>\n",
       "      <td>1.0</td>\n",
       "    </tr>\n",
       "    <tr>\n",
       "      <th>stds_num</th>\n",
       "      <td>726.0</td>\n",
       "      <td>0.159780</td>\n",
       "      <td>0.540071</td>\n",
       "      <td>0.0</td>\n",
       "      <td>0.0</td>\n",
       "      <td>0.0</td>\n",
       "      <td>0.0</td>\n",
       "      <td>4.0</td>\n",
       "    </tr>\n",
       "    <tr>\n",
       "      <th>stds_condylomatosis</th>\n",
       "      <td>726.0</td>\n",
       "      <td>0.053719</td>\n",
       "      <td>0.225618</td>\n",
       "      <td>0.0</td>\n",
       "      <td>0.0</td>\n",
       "      <td>0.0</td>\n",
       "      <td>0.0</td>\n",
       "      <td>1.0</td>\n",
       "    </tr>\n",
       "    <tr>\n",
       "      <th>stds_cerv_condylomatosis</th>\n",
       "      <td>726.0</td>\n",
       "      <td>0.000000</td>\n",
       "      <td>0.000000</td>\n",
       "      <td>0.0</td>\n",
       "      <td>0.0</td>\n",
       "      <td>0.0</td>\n",
       "      <td>0.0</td>\n",
       "      <td>0.0</td>\n",
       "    </tr>\n",
       "    <tr>\n",
       "      <th>stds_vag_condylomatosis</th>\n",
       "      <td>726.0</td>\n",
       "      <td>0.005510</td>\n",
       "      <td>0.074073</td>\n",
       "      <td>0.0</td>\n",
       "      <td>0.0</td>\n",
       "      <td>0.0</td>\n",
       "      <td>0.0</td>\n",
       "      <td>1.0</td>\n",
       "    </tr>\n",
       "    <tr>\n",
       "      <th>stds_vp_condylomatosis</th>\n",
       "      <td>726.0</td>\n",
       "      <td>0.052342</td>\n",
       "      <td>0.222869</td>\n",
       "      <td>0.0</td>\n",
       "      <td>0.0</td>\n",
       "      <td>0.0</td>\n",
       "      <td>0.0</td>\n",
       "      <td>1.0</td>\n",
       "    </tr>\n",
       "    <tr>\n",
       "      <th>stds_syphillus</th>\n",
       "      <td>726.0</td>\n",
       "      <td>0.020661</td>\n",
       "      <td>0.142345</td>\n",
       "      <td>0.0</td>\n",
       "      <td>0.0</td>\n",
       "      <td>0.0</td>\n",
       "      <td>0.0</td>\n",
       "      <td>1.0</td>\n",
       "    </tr>\n",
       "    <tr>\n",
       "      <th>stds_pelvic_inf_disease</th>\n",
       "      <td>726.0</td>\n",
       "      <td>0.001377</td>\n",
       "      <td>0.037113</td>\n",
       "      <td>0.0</td>\n",
       "      <td>0.0</td>\n",
       "      <td>0.0</td>\n",
       "      <td>0.0</td>\n",
       "      <td>1.0</td>\n",
       "    </tr>\n",
       "    <tr>\n",
       "      <th>stds_gen_herpes</th>\n",
       "      <td>726.0</td>\n",
       "      <td>0.001377</td>\n",
       "      <td>0.037113</td>\n",
       "      <td>0.0</td>\n",
       "      <td>0.0</td>\n",
       "      <td>0.0</td>\n",
       "      <td>0.0</td>\n",
       "      <td>1.0</td>\n",
       "    </tr>\n",
       "    <tr>\n",
       "      <th>stds_molluscom_contagiosum</th>\n",
       "      <td>726.0</td>\n",
       "      <td>0.001377</td>\n",
       "      <td>0.037113</td>\n",
       "      <td>0.0</td>\n",
       "      <td>0.0</td>\n",
       "      <td>0.0</td>\n",
       "      <td>0.0</td>\n",
       "      <td>1.0</td>\n",
       "    </tr>\n",
       "    <tr>\n",
       "      <th>stds_aids</th>\n",
       "      <td>726.0</td>\n",
       "      <td>0.000000</td>\n",
       "      <td>0.000000</td>\n",
       "      <td>0.0</td>\n",
       "      <td>0.0</td>\n",
       "      <td>0.0</td>\n",
       "      <td>0.0</td>\n",
       "      <td>0.0</td>\n",
       "    </tr>\n",
       "    <tr>\n",
       "      <th>stds_hiv</th>\n",
       "      <td>726.0</td>\n",
       "      <td>0.019284</td>\n",
       "      <td>0.137615</td>\n",
       "      <td>0.0</td>\n",
       "      <td>0.0</td>\n",
       "      <td>0.0</td>\n",
       "      <td>0.0</td>\n",
       "      <td>1.0</td>\n",
       "    </tr>\n",
       "    <tr>\n",
       "      <th>stds_hep_b</th>\n",
       "      <td>726.0</td>\n",
       "      <td>0.001377</td>\n",
       "      <td>0.037113</td>\n",
       "      <td>0.0</td>\n",
       "      <td>0.0</td>\n",
       "      <td>0.0</td>\n",
       "      <td>0.0</td>\n",
       "      <td>1.0</td>\n",
       "    </tr>\n",
       "    <tr>\n",
       "      <th>stds_hpv</th>\n",
       "      <td>726.0</td>\n",
       "      <td>0.002755</td>\n",
       "      <td>0.052450</td>\n",
       "      <td>0.0</td>\n",
       "      <td>0.0</td>\n",
       "      <td>0.0</td>\n",
       "      <td>0.0</td>\n",
       "      <td>1.0</td>\n",
       "    </tr>\n",
       "    <tr>\n",
       "      <th>stds_num_dx</th>\n",
       "      <td>726.0</td>\n",
       "      <td>0.088154</td>\n",
       "      <td>0.302537</td>\n",
       "      <td>0.0</td>\n",
       "      <td>0.0</td>\n",
       "      <td>0.0</td>\n",
       "      <td>0.0</td>\n",
       "      <td>3.0</td>\n",
       "    </tr>\n",
       "    <tr>\n",
       "      <th>dx_cancer</th>\n",
       "      <td>726.0</td>\n",
       "      <td>0.023416</td>\n",
       "      <td>0.151325</td>\n",
       "      <td>0.0</td>\n",
       "      <td>0.0</td>\n",
       "      <td>0.0</td>\n",
       "      <td>0.0</td>\n",
       "      <td>1.0</td>\n",
       "    </tr>\n",
       "    <tr>\n",
       "      <th>dx_cin</th>\n",
       "      <td>726.0</td>\n",
       "      <td>0.008264</td>\n",
       "      <td>0.090595</td>\n",
       "      <td>0.0</td>\n",
       "      <td>0.0</td>\n",
       "      <td>0.0</td>\n",
       "      <td>0.0</td>\n",
       "      <td>1.0</td>\n",
       "    </tr>\n",
       "    <tr>\n",
       "      <th>dx_hpv</th>\n",
       "      <td>726.0</td>\n",
       "      <td>0.022039</td>\n",
       "      <td>0.146910</td>\n",
       "      <td>0.0</td>\n",
       "      <td>0.0</td>\n",
       "      <td>0.0</td>\n",
       "      <td>0.0</td>\n",
       "      <td>1.0</td>\n",
       "    </tr>\n",
       "    <tr>\n",
       "      <th>dx</th>\n",
       "      <td>726.0</td>\n",
       "      <td>0.026171</td>\n",
       "      <td>0.159753</td>\n",
       "      <td>0.0</td>\n",
       "      <td>0.0</td>\n",
       "      <td>0.0</td>\n",
       "      <td>0.0</td>\n",
       "      <td>1.0</td>\n",
       "    </tr>\n",
       "    <tr>\n",
       "      <th>hinselmann</th>\n",
       "      <td>726.0</td>\n",
       "      <td>0.045455</td>\n",
       "      <td>0.208443</td>\n",
       "      <td>0.0</td>\n",
       "      <td>0.0</td>\n",
       "      <td>0.0</td>\n",
       "      <td>0.0</td>\n",
       "      <td>1.0</td>\n",
       "    </tr>\n",
       "    <tr>\n",
       "      <th>schiller</th>\n",
       "      <td>726.0</td>\n",
       "      <td>0.095041</td>\n",
       "      <td>0.293474</td>\n",
       "      <td>0.0</td>\n",
       "      <td>0.0</td>\n",
       "      <td>0.0</td>\n",
       "      <td>0.0</td>\n",
       "      <td>1.0</td>\n",
       "    </tr>\n",
       "    <tr>\n",
       "      <th>citology</th>\n",
       "      <td>726.0</td>\n",
       "      <td>0.055096</td>\n",
       "      <td>0.228326</td>\n",
       "      <td>0.0</td>\n",
       "      <td>0.0</td>\n",
       "      <td>0.0</td>\n",
       "      <td>0.0</td>\n",
       "      <td>1.0</td>\n",
       "    </tr>\n",
       "    <tr>\n",
       "      <th>biopsy</th>\n",
       "      <td>726.0</td>\n",
       "      <td>0.068871</td>\n",
       "      <td>0.253408</td>\n",
       "      <td>0.0</td>\n",
       "      <td>0.0</td>\n",
       "      <td>0.0</td>\n",
       "      <td>0.0</td>\n",
       "      <td>1.0</td>\n",
       "    </tr>\n",
       "  </tbody>\n",
       "</table>\n",
       "</div>"
      ],
      "text/plain": [
       "                            count       mean       std   min   25%   50%  \\\n",
       "age                         726.0  27.258953  8.731498  13.0  21.0  26.0   \n",
       "num_sex_partners            726.0   2.514045  1.621349   1.0   2.0   2.0   \n",
       "first_sex_int               726.0  17.094444  2.830762  10.0  15.0  17.0   \n",
       "num_pregnancies             726.0   2.318248  1.426170   0.0   1.0   2.0   \n",
       "smokes                      726.0   0.143251  0.350570   0.0   0.0   0.0   \n",
       "smokes_yrs                  726.0   1.243246  4.182275   0.0   0.0   0.0   \n",
       "smokes_pk_yrs               726.0   0.463816  2.319839   0.0   0.0   0.0   \n",
       "hormonal_contr              726.0   0.641873  0.479780   0.0   0.0   1.0   \n",
       "hormonal_contr_yrs          726.0   2.234937  3.659374   0.0   0.0   0.5   \n",
       "iud                         726.0   0.111570  0.315054   0.0   0.0   0.0   \n",
       "iud_yrs                     726.0   0.514421  1.950491   0.0   0.0   0.0   \n",
       "stds                        726.0   0.093664  0.291561   0.0   0.0   0.0   \n",
       "stds_num                    726.0   0.159780  0.540071   0.0   0.0   0.0   \n",
       "stds_condylomatosis         726.0   0.053719  0.225618   0.0   0.0   0.0   \n",
       "stds_cerv_condylomatosis    726.0   0.000000  0.000000   0.0   0.0   0.0   \n",
       "stds_vag_condylomatosis     726.0   0.005510  0.074073   0.0   0.0   0.0   \n",
       "stds_vp_condylomatosis      726.0   0.052342  0.222869   0.0   0.0   0.0   \n",
       "stds_syphillus              726.0   0.020661  0.142345   0.0   0.0   0.0   \n",
       "stds_pelvic_inf_disease     726.0   0.001377  0.037113   0.0   0.0   0.0   \n",
       "stds_gen_herpes             726.0   0.001377  0.037113   0.0   0.0   0.0   \n",
       "stds_molluscom_contagiosum  726.0   0.001377  0.037113   0.0   0.0   0.0   \n",
       "stds_aids                   726.0   0.000000  0.000000   0.0   0.0   0.0   \n",
       "stds_hiv                    726.0   0.019284  0.137615   0.0   0.0   0.0   \n",
       "stds_hep_b                  726.0   0.001377  0.037113   0.0   0.0   0.0   \n",
       "stds_hpv                    726.0   0.002755  0.052450   0.0   0.0   0.0   \n",
       "stds_num_dx                 726.0   0.088154  0.302537   0.0   0.0   0.0   \n",
       "dx_cancer                   726.0   0.023416  0.151325   0.0   0.0   0.0   \n",
       "dx_cin                      726.0   0.008264  0.090595   0.0   0.0   0.0   \n",
       "dx_hpv                      726.0   0.022039  0.146910   0.0   0.0   0.0   \n",
       "dx                          726.0   0.026171  0.159753   0.0   0.0   0.0   \n",
       "hinselmann                  726.0   0.045455  0.208443   0.0   0.0   0.0   \n",
       "schiller                    726.0   0.095041  0.293474   0.0   0.0   0.0   \n",
       "citology                    726.0   0.055096  0.228326   0.0   0.0   0.0   \n",
       "biopsy                      726.0   0.068871  0.253408   0.0   0.0   0.0   \n",
       "\n",
       "                             75%   max  \n",
       "age                         33.0  84.0  \n",
       "num_sex_partners             3.0  28.0  \n",
       "first_sex_int               18.0  32.0  \n",
       "num_pregnancies              3.0  11.0  \n",
       "smokes                       0.0   1.0  \n",
       "smokes_yrs                   0.0  37.0  \n",
       "smokes_pk_yrs                0.0  37.0  \n",
       "hormonal_contr               1.0   1.0  \n",
       "hormonal_contr_yrs           3.0  22.0  \n",
       "iud                          0.0   1.0  \n",
       "iud_yrs                      0.0  19.0  \n",
       "stds                         0.0   1.0  \n",
       "stds_num                     0.0   4.0  \n",
       "stds_condylomatosis          0.0   1.0  \n",
       "stds_cerv_condylomatosis     0.0   0.0  \n",
       "stds_vag_condylomatosis      0.0   1.0  \n",
       "stds_vp_condylomatosis       0.0   1.0  \n",
       "stds_syphillus               0.0   1.0  \n",
       "stds_pelvic_inf_disease      0.0   1.0  \n",
       "stds_gen_herpes              0.0   1.0  \n",
       "stds_molluscom_contagiosum   0.0   1.0  \n",
       "stds_aids                    0.0   0.0  \n",
       "stds_hiv                     0.0   1.0  \n",
       "stds_hep_b                   0.0   1.0  \n",
       "stds_hpv                     0.0   1.0  \n",
       "stds_num_dx                  0.0   3.0  \n",
       "dx_cancer                    0.0   1.0  \n",
       "dx_cin                       0.0   1.0  \n",
       "dx_hpv                       0.0   1.0  \n",
       "dx                           0.0   1.0  \n",
       "hinselmann                   0.0   1.0  \n",
       "schiller                     0.0   1.0  \n",
       "citology                     0.0   1.0  \n",
       "biopsy                       0.0   1.0  "
      ]
     },
     "execution_count": 28,
     "metadata": {},
     "output_type": "execute_result"
    }
   ],
   "source": [
    "orig_data.describe(include = \"all\").T"
   ]
  },
  {
   "cell_type": "markdown",
   "metadata": {},
   "source": [
    "# Print out first row of cleaned data and data size"
   ]
  },
  {
   "cell_type": "code",
   "execution_count": 29,
   "metadata": {},
   "outputs": [
    {
     "name": "stdout",
     "output_type": "stream",
     "text": [
      "    age  num_sex_partners  first_sex_int  num_pregnancies  smokes  smokes_yrs  \\\n",
      "0  18.0               4.0           15.0              1.0       0         0.0   \n",
      "\n",
      "   smokes_pk_yrs  hormonal_contr  hormonal_contr_yrs  iud  iud_yrs  stds  \\\n",
      "0            0.0               0                 0.0    0      0.0     0   \n",
      "\n",
      "   stds_num  stds_condylomatosis  stds_cerv_condylomatosis  \\\n",
      "0       0.0                    0                         0   \n",
      "\n",
      "   stds_vag_condylomatosis  stds_vp_condylomatosis  stds_syphillus  \\\n",
      "0                        0                       0               0   \n",
      "\n",
      "   stds_pelvic_inf_disease  stds_gen_herpes  stds_molluscom_contagiosum  \\\n",
      "0                        0                0                           0   \n",
      "\n",
      "   stds_aids  stds_hiv  stds_hep_b  stds_hpv  stds_num_dx  dx_cancer  dx_cin  \\\n",
      "0          0         0           0         0          0.0          0       0   \n",
      "\n",
      "   dx_hpv  dx  hinselmann  schiller  citology  biopsy  \n",
      "0       0   0           0         0         0       0  \n"
     ]
    }
   ],
   "source": [
    "print(orig_data.head(1))"
   ]
  },
  {
   "cell_type": "code",
   "execution_count": 30,
   "metadata": {},
   "outputs": [
    {
     "data": {
      "text/plain": [
       "(726, 34)"
      ]
     },
     "execution_count": 30,
     "metadata": {},
     "output_type": "execute_result"
    }
   ],
   "source": [
    "orig_data.shape"
   ]
  },
  {
   "cell_type": "markdown",
   "metadata": {},
   "source": [
    "# Create combination target"
   ]
  },
  {
   "cell_type": "code",
   "execution_count": 31,
   "metadata": {},
   "outputs": [],
   "source": [
    "orig_data['combo_target'] = 0\n",
    "\n",
    "ndx = (orig_data.citology == 1) | (orig_data.biopsy == 1) | (orig_data.hinselmann == 1) | (orig_data.schiller == 1)\n",
    "orig_data.loc[ndx, 'combo_target'] = 1\n"
   ]
  },
  {
   "cell_type": "markdown",
   "metadata": {},
   "source": [
    "# Print out the number of class 0 and 1 values for all targets"
   ]
  },
  {
   "cell_type": "code",
   "execution_count": 32,
   "metadata": {},
   "outputs": [
    {
     "name": "stdout",
     "output_type": "stream",
     "text": [
      "Number of Hinselmann 0: 693\n",
      "Number of Hinselmann 1: 33\n"
     ]
    }
   ],
   "source": [
    "print('Number of Hinselmann 0: {}'.format(sum(orig_data.hinselmann == 0)))\n",
    "print('Number of Hinselmann 1: {}'.format(sum(orig_data.hinselmann == 1)))\n",
    "      "
   ]
  },
  {
   "cell_type": "code",
   "execution_count": 33,
   "metadata": {
    "scrolled": false
   },
   "outputs": [
    {
     "name": "stdout",
     "output_type": "stream",
     "text": [
      "Number of Schiller 0: \n",
      "Number of Schiller 1: \n"
     ]
    }
   ],
   "source": [
    "print('Number of Schiller 0: '.format(sum(orig_data.schiller == 0)))\n",
    "print('Number of Schiller 1: '.format(sum(orig_data.schiller == 1)))\n"
   ]
  },
  {
   "cell_type": "code",
   "execution_count": 34,
   "metadata": {},
   "outputs": [
    {
     "name": "stdout",
     "output_type": "stream",
     "text": [
      "Number of Citology 0: 686\n",
      "Number of Citology 1: 40\n"
     ]
    }
   ],
   "source": [
    "print('Number of Citology 0: {}'.format(sum(orig_data.citology == 0)))\n",
    "print('Number of Citology 1: {}'.format(sum(orig_data.citology == 1)))\n"
   ]
  },
  {
   "cell_type": "code",
   "execution_count": 35,
   "metadata": {},
   "outputs": [
    {
     "name": "stdout",
     "output_type": "stream",
     "text": [
      "Number of Biopsy 0: 676\n",
      "Number of Biopsy 1: 50\n"
     ]
    }
   ],
   "source": [
    "print('Number of Biopsy 0: {}'.format(sum(orig_data.biopsy == 0)))\n",
    "print('Number of Biopsy 1: {}'.format(sum(orig_data.biopsy == 1)))\n"
   ]
  },
  {
   "cell_type": "code",
   "execution_count": 36,
   "metadata": {},
   "outputs": [
    {
     "name": "stdout",
     "output_type": "stream",
     "text": [
      "Number of Combo Target 0: 633\n",
      "Number of Combo Target 1: 93\n"
     ]
    }
   ],
   "source": [
    "print('Number of Combo Target 0: {}'.format(sum(orig_data.combo_target == 0)))\n",
    "print('Number of Combo Target 1: {}'.format(sum(orig_data.combo_target == 1)))\n"
   ]
  },
  {
   "cell_type": "markdown",
   "metadata": {},
   "source": [
    "# Create folders to save exploratory plots"
   ]
  },
  {
   "cell_type": "code",
   "execution_count": 37,
   "metadata": {},
   "outputs": [],
   "source": [
    "dist_save_path = 'C:\\\\DePaulCoursework\\\\Winter 2019 CSC 529\\\\Project\\\\Distributions\\\\'\n",
    "citology_save_path = 'C:\\\\DePaulCoursework\\\\Winter 2019 CSC 529\\\\Project\\\\Citology_Crosstabs\\\\'\n",
    "biopsy_save_path = 'C:\\\\DePaulCoursework\\\\Winter 2019 CSC 529\\\\Project\\\\Biopsy_Crosstabs\\\\'\n",
    "    \n",
    "if not os.path.exists(dist_save_path):\n",
    "    os.mkdir(dist_save_path)\n",
    "\n",
    "if not os.path.exists(citology_save_path):\n",
    "    os.mkdir(citology_save_path)\n",
    "\n",
    "if not os.path.exists(biopsy_save_path):\n",
    "    os.mkdir(biopsy_save_path)    \n",
    "    "
   ]
  },
  {
   "cell_type": "markdown",
   "metadata": {},
   "source": [
    "# Create plots for variable distributions"
   ]
  },
  {
   "cell_type": "code",
   "execution_count": 38,
   "metadata": {
    "scrolled": true
   },
   "outputs": [],
   "source": [
    "for name in col_names:\n",
    "    if orig_data[name].dtype == 'float64':\n",
    "        title_str = 'Histogram of ' + name.capitalize()\n",
    "        xlab_str = name.capitalize()\n",
    "        plt.hist(orig_data[name], bins = 20, alpha = 0.5, edgecolor = 'black', linewidth = 1.2)\n",
    "        plt.xlabel(xlab_str)\n",
    "        plt.ylabel('Count')\n",
    "        plt.title(title_str)\n",
    "        plt.grid(True)\n",
    "        \n",
    "    else:\n",
    "        title_str = name.capitalize() + ' Counts'\n",
    "        xlab_str = name.capitalize()\n",
    "        orig_data[name].value_counts().plot(kind = 'bar')\n",
    "        plt.xlabel(xlab_str)\n",
    "        plt.ylabel('Count')\n",
    "        plt.title(title_str)   \n",
    "        \n",
    "    save_path = dist_save_path + name.capitalize() + '.png'\n",
    "    plt.savefig(save_path)\n",
    "    plt.close()        \n",
    "        "
   ]
  },
  {
   "cell_type": "markdown",
   "metadata": {},
   "source": [
    "# Create cross tab plots for the citology target"
   ]
  },
  {
   "cell_type": "code",
   "execution_count": 39,
   "metadata": {
    "scrolled": true
   },
   "outputs": [],
   "source": [
    "for name in col_names:\n",
    "    if orig_data[name].dtype == 'float64':\n",
    "        title_str = 'Citology Versus ' + name.capitalize()\n",
    "        xlab_str = name.capitalize()\n",
    "        orig_data.plot(x = name, y = 'citology', kind = 'scatter')\n",
    "        plt.xlabel(xlab_str)\n",
    "        plt.ylabel('Citology')\n",
    "        plt.title(title_str)        \n",
    "    else:\n",
    "        title_str = 'Crosstab of Citology and ' + name.capitalize()\n",
    "        xlab_str = name.capitalize() + ' by Citology'\n",
    "        obs_inc_cross = pd.crosstab(orig_data['citology'], orig_data[name])\n",
    "        obs_inc_cross.plot(kind = \"bar\")\n",
    "        plt.xlabel(xlab_str)\n",
    "        plt.ylabel('Count')\n",
    "        plt.title(title_str)\n",
    "        plt.legend(bbox_to_anchor = (1.05, 1), loc = 2, borderaxespad = 0.)    \n",
    "    \n",
    "    save_path = citology_save_path + 'Citology_' + name.capitalize() + '_Crosstab.png'\n",
    "    plt.savefig(save_path)\n",
    "    plt.close()        \n",
    "    "
   ]
  },
  {
   "cell_type": "markdown",
   "metadata": {},
   "source": [
    "# Create cross tab plots for the biopsy target"
   ]
  },
  {
   "cell_type": "code",
   "execution_count": 40,
   "metadata": {},
   "outputs": [],
   "source": [
    "for name in col_names:\n",
    "    if orig_data[name].dtype == 'float64':\n",
    "        title_str = 'Biopsy Versus ' + name.capitalize()\n",
    "        xlab_str = name.capitalize()\n",
    "        orig_data.plot(x = name, y = 'biopsy', kind = 'scatter')\n",
    "        plt.xlabel(xlab_str)\n",
    "        plt.ylabel('Biopsy')\n",
    "        plt.title(title_str)        \n",
    "    else:\n",
    "        title_str = 'Crosstab of Biopsy and ' + name.capitalize()\n",
    "        xlab_str = name.capitalize() + ' by Biopsy'\n",
    "        obs_inc_cross = pd.crosstab(orig_data['biopsy'], orig_data[name])\n",
    "        obs_inc_cross.plot(kind = \"bar\")\n",
    "        plt.xlabel(xlab_str)\n",
    "        plt.ylabel('Count')\n",
    "        plt.title(title_str)\n",
    "        plt.legend(bbox_to_anchor = (1.05, 1), loc = 2, borderaxespad = 0.)    \n",
    "    \n",
    "    save_path = biopsy_save_path + 'Biopsy_' + name.capitalize() + '_Crosstab.png'\n",
    "    plt.savefig(save_path)\n",
    "    plt.close()        \n",
    "    "
   ]
  },
  {
   "cell_type": "markdown",
   "metadata": {},
   "source": [
    "# Create correlation matrix of all dataset variables"
   ]
  },
  {
   "cell_type": "code",
   "execution_count": 41,
   "metadata": {
    "scrolled": true
   },
   "outputs": [],
   "source": [
    "orig_corr = orig_data.corr(method = 'pearson')\n",
    "corr_path = data_save_path + 'CervicalCancerRisks_CorrelationOutput.csv'\n",
    "orig_corr.to_csv(corr_path, sep = ',')\n"
   ]
  },
  {
   "cell_type": "code",
   "execution_count": 42,
   "metadata": {},
   "outputs": [],
   "source": [
    "orig_data_path = data_save_path + 'CervicalCancerRisks_CleanedData.csv'\n",
    "orig_data.to_csv(orig_data_path, sep = ',')"
   ]
  },
  {
   "cell_type": "markdown",
   "metadata": {},
   "source": [
    "# Save individual targets into their own dataframes"
   ]
  },
  {
   "cell_type": "code",
   "execution_count": 43,
   "metadata": {},
   "outputs": [],
   "source": [
    "indices = orig_data.index.values"
   ]
  },
  {
   "cell_type": "code",
   "execution_count": 44,
   "metadata": {},
   "outputs": [],
   "source": [
    "cit_target = pd.DataFrame(orig_data['citology'], index = indices, columns = ['citology'])\n",
    "biop_target = pd.DataFrame(orig_data['biopsy'], index = indices, columns = ['biopsy'])\n",
    "hins_target = pd.DataFrame(orig_data['hinselmann'], index = indices, columns = ['hinselmann'])\n",
    "sch_target = pd.DataFrame(orig_data['schiller'], index = indices, columns = ['schiller'])\n",
    "combo_target = pd.DataFrame(orig_data['combo_target'], index = indices, columns = ['combo_target'])\n"
   ]
  },
  {
   "cell_type": "code",
   "execution_count": 45,
   "metadata": {},
   "outputs": [
    {
     "data": {
      "text/html": [
       "<div>\n",
       "<style scoped>\n",
       "    .dataframe tbody tr th:only-of-type {\n",
       "        vertical-align: middle;\n",
       "    }\n",
       "\n",
       "    .dataframe tbody tr th {\n",
       "        vertical-align: top;\n",
       "    }\n",
       "\n",
       "    .dataframe thead th {\n",
       "        text-align: right;\n",
       "    }\n",
       "</style>\n",
       "<table border=\"1\" class=\"dataframe\">\n",
       "  <thead>\n",
       "    <tr style=\"text-align: right;\">\n",
       "      <th></th>\n",
       "      <th>citology</th>\n",
       "    </tr>\n",
       "  </thead>\n",
       "  <tbody>\n",
       "    <tr>\n",
       "      <th>0</th>\n",
       "      <td>0</td>\n",
       "    </tr>\n",
       "  </tbody>\n",
       "</table>\n",
       "</div>"
      ],
      "text/plain": [
       "   citology\n",
       "0         0"
      ]
     },
     "execution_count": 45,
     "metadata": {},
     "output_type": "execute_result"
    }
   ],
   "source": [
    "cit_target.head(1)"
   ]
  },
  {
   "cell_type": "markdown",
   "metadata": {},
   "source": [
    "# Remove target columns from original feature dataframe"
   ]
  },
  {
   "cell_type": "code",
   "execution_count": 46,
   "metadata": {},
   "outputs": [],
   "source": [
    "feat_data = orig_data[:]\n",
    "feat_data.drop(columns=['biopsy', 'citology', 'hinselmann', 'schiller', 'combo_target'], axis = 1, inplace = True)\n",
    "feat_col_names = list(feat_data.columns.values)\n"
   ]
  },
  {
   "cell_type": "code",
   "execution_count": 47,
   "metadata": {},
   "outputs": [
    {
     "name": "stdout",
     "output_type": "stream",
     "text": [
      "    age  num_sex_partners  first_sex_int  num_pregnancies  smokes  smokes_yrs  \\\n",
      "0  18.0               4.0           15.0              1.0       0         0.0   \n",
      "\n",
      "   smokes_pk_yrs  hormonal_contr  hormonal_contr_yrs  iud  iud_yrs  stds  \\\n",
      "0            0.0               0                 0.0    0      0.0     0   \n",
      "\n",
      "   stds_num  stds_condylomatosis  stds_cerv_condylomatosis  \\\n",
      "0       0.0                    0                         0   \n",
      "\n",
      "   stds_vag_condylomatosis  stds_vp_condylomatosis  stds_syphillus  \\\n",
      "0                        0                       0               0   \n",
      "\n",
      "   stds_pelvic_inf_disease  stds_gen_herpes  stds_molluscom_contagiosum  \\\n",
      "0                        0                0                           0   \n",
      "\n",
      "   stds_aids  stds_hiv  stds_hep_b  stds_hpv  stds_num_dx  dx_cancer  dx_cin  \\\n",
      "0          0         0           0         0          0.0          0       0   \n",
      "\n",
      "   dx_hpv  dx  \n",
      "0       0   0  \n"
     ]
    }
   ],
   "source": [
    "print(feat_data.head(1))"
   ]
  },
  {
   "cell_type": "markdown",
   "metadata": {},
   "source": [
    "# Function to split data into training and validation sets, then save them"
   ]
  },
  {
   "cell_type": "code",
   "execution_count": 48,
   "metadata": {},
   "outputs": [],
   "source": [
    "def create_train_val_data(x_data, y_data, test_sz = 0.2, rand_st = 1):\n",
    "    x_col_names = list(x_data.columns.values)\n",
    "    y_col_names = list(y_data.columns.values)\n",
    "    \n",
    "    data_train, data_val, target_train, target_val = train_test_split(x_data, y_data, \n",
    "                                                                      test_size = test_sz, \n",
    "                                                                      stratify = y_data,\n",
    "                                                                      random_state = rand_st)\n",
    "                          \n",
    "    data_train_df = pd.DataFrame(data_train, columns = x_col_names)\n",
    "    train_indices = data_train_df.index.values\n",
    "    target_train_df = pd.DataFrame(target_train, index = train_indices, columns = y_col_names)\n",
    "    \n",
    "    target_name = y_col_names[0].capitalize()\n",
    "    \n",
    "    train_data_name = data_save_path + 'CervicalCancerRisks_' + target_name + '_TrainData.csv'\n",
    "    data_train_df.to_csv(train_data_name, sep = ',')\n",
    "    train_target_name = data_save_path + 'CervicalCancerRisks_' + target_name + '_TrainTarget.csv'\n",
    "    target_train_df.to_csv(train_target_name, sep = ',')\n",
    "    \n",
    "    print('Target Variable Name: {}'.format(target_name))\n",
    "    print('Number of Initial Target 0 Value: {}'.format(sum(target_train_df[y_col_names[0]] == 0)))\n",
    "    print('Number of Initial Target 1 Value: {}'.format(sum(target_train_df[y_col_names[0]] == 1)))\n",
    "    \n",
    "    data_val_df = pd.DataFrame(data_val, columns = x_col_names)\n",
    "    val_indices = data_val_df.index.values\n",
    "    target_val_df = pd.DataFrame(target_val, index = val_indices, columns = y_col_names)\n",
    "\n",
    "    val_data_name = data_save_path + 'CervicalCancerRisks_' + target_name + '_ValData.csv'\n",
    "    data_val_df.to_csv(val_data_name, sep = ',')\n",
    "    val_target_name = data_save_path + 'CervicalCancerRisks_' + target_name + '_ValTarget.csv'\n",
    "    target_val_df.to_csv(val_target_name, sep = ',')\n",
    "    \n",
    "#    sm = SMOTE(random_state = rand_st)\n",
    "#    data_train_sm, target_train_sm = sm.fit_resample(data_train, target_train)\n",
    "    \n",
    "#    data_train_sm_df = pd.DataFrame(data_train_sm, columns = x_col_names)\n",
    "#    train_sm_indices = data_train_sm_df.index.values\n",
    "#    target_train_sm_df = pd.DataFrame(target_train_sm, index = train_sm_indices, columns = y_col_names)\n",
    "#    train_sm_df = pd.concat([data_train_sm_df, target_train_sm_df], axis = 1)\n",
    "    \n",
    "#    train_sm_data_name = data_save_path + 'CervicalCancerRisks_' + target_name + '_TrainData_SMOTE.csv'\n",
    "#    data_train_sm_df.to_csv(train_sm_data_name, sep = ',')\n",
    "#    train_sm_target_name = data_save_path + 'CervicalCancerRisks_' + target_name + '_TrainTarget_SMOTE.csv'\n",
    "#    target_train_sm_df.to_csv(train_sm_target_name, sep = ',')\n",
    "\n",
    "#    print('Number of SMOTE Target 0 Value: {}'.format(sum(target_train_sm_df[y_col_names[0]] == 0)))\n",
    "#    print('Number of SMOTE Target 1 Value: {}'.format(sum(target_train_sm_df[y_col_names[0]] == 1)))\n",
    "    \n",
    "    return \n"
   ]
  },
  {
   "cell_type": "markdown",
   "metadata": {},
   "source": [
    "# Split feature and citology target, then save training and validation data sets"
   ]
  },
  {
   "cell_type": "code",
   "execution_count": 49,
   "metadata": {},
   "outputs": [
    {
     "name": "stdout",
     "output_type": "stream",
     "text": [
      "Target Variable Name: Citology\n",
      "Number of Initial Target 0 Value: 548\n",
      "Number of Initial Target 1 Value: 32\n"
     ]
    }
   ],
   "source": [
    "create_train_val_data(feat_data, cit_target, test_sz = 0.2, rand_st = 1)"
   ]
  },
  {
   "cell_type": "markdown",
   "metadata": {},
   "source": [
    "# Split feature and biopsy target, then save training and validation data sets"
   ]
  },
  {
   "cell_type": "code",
   "execution_count": 50,
   "metadata": {},
   "outputs": [
    {
     "name": "stdout",
     "output_type": "stream",
     "text": [
      "Target Variable Name: Biopsy\n",
      "Number of Initial Target 0 Value: 540\n",
      "Number of Initial Target 1 Value: 40\n"
     ]
    }
   ],
   "source": [
    "create_train_val_data(feat_data, biop_target, test_sz = 0.2, rand_st = 1)"
   ]
  },
  {
   "cell_type": "markdown",
   "metadata": {},
   "source": [
    "# Split feature and Hinselmann target, then save training and validation data sets"
   ]
  },
  {
   "cell_type": "code",
   "execution_count": 51,
   "metadata": {
    "scrolled": true
   },
   "outputs": [
    {
     "name": "stdout",
     "output_type": "stream",
     "text": [
      "Target Variable Name: Hinselmann\n",
      "Number of Initial Target 0 Value: 554\n",
      "Number of Initial Target 1 Value: 26\n"
     ]
    }
   ],
   "source": [
    "create_train_val_data(feat_data, hins_target, test_sz = 0.2, rand_st = 1)"
   ]
  },
  {
   "cell_type": "markdown",
   "metadata": {},
   "source": [
    "# Split feature and Schiller target, then save training and validation data sets"
   ]
  },
  {
   "cell_type": "code",
   "execution_count": 52,
   "metadata": {},
   "outputs": [
    {
     "name": "stdout",
     "output_type": "stream",
     "text": [
      "Target Variable Name: Schiller\n",
      "Number of Initial Target 0 Value: 525\n",
      "Number of Initial Target 1 Value: 55\n"
     ]
    }
   ],
   "source": [
    "create_train_val_data(feat_data, sch_target, test_sz = 0.2, rand_st = 1)"
   ]
  },
  {
   "cell_type": "markdown",
   "metadata": {},
   "source": [
    "# Split feature and combination target, then save training and validation data sets"
   ]
  },
  {
   "cell_type": "code",
   "execution_count": 53,
   "metadata": {},
   "outputs": [
    {
     "name": "stdout",
     "output_type": "stream",
     "text": [
      "Target Variable Name: Combo_target\n",
      "Number of Initial Target 0 Value: 506\n",
      "Number of Initial Target 1 Value: 74\n"
     ]
    }
   ],
   "source": [
    "create_train_val_data(feat_data, combo_target, test_sz = 0.2, rand_st = 1)"
   ]
  },
  {
   "cell_type": "code",
   "execution_count": null,
   "metadata": {},
   "outputs": [],
   "source": []
  }
 ],
 "metadata": {
  "kernelspec": {
   "display_name": "Python 3",
   "language": "python",
   "name": "python3"
  },
  "language_info": {
   "codemirror_mode": {
    "name": "ipython",
    "version": 3
   },
   "file_extension": ".py",
   "mimetype": "text/x-python",
   "name": "python",
   "nbconvert_exporter": "python",
   "pygments_lexer": "ipython3",
   "version": "3.6.8"
  }
 },
 "nbformat": 4,
 "nbformat_minor": 2
}
