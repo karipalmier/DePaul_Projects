{
 "cells": [
  {
   "cell_type": "code",
   "execution_count": 1,
   "metadata": {},
   "outputs": [],
   "source": [
    "%load_ext autoreload\n",
    "%autoreload 2"
   ]
  },
  {
   "cell_type": "code",
   "execution_count": 2,
   "metadata": {},
   "outputs": [],
   "source": [
    "import pandas as pd\n",
    "import numpy as np\n",
    "from sklearn.ensemble import GradientBoostingClassifier\n",
    "import pickle\n",
    "\n",
    "from model_creation import create_smote_data, fit_val_data, model_data, perform_base_models\n",
    "from model_creation import perform_feat_sel_models, perform_grid_search, create_under_data"
   ]
  },
  {
   "cell_type": "code",
   "execution_count": 3,
   "metadata": {},
   "outputs": [],
   "source": [
    "train_data = pd.read_csv('C:\\\\DePaulCoursework\\\\Winter 2019 CSC 529\\\\Project\\\\Data\\\\CervicalCancerRisks_Biopsy_TrainData.csv', \n",
    "                          delimiter=\",\", index_col = 0, header = 0)\n",
    "train_target = pd.read_csv('C:\\\\DePaulCoursework\\\\Winter 2019 CSC 529\\\\Project\\\\Data\\\\CervicalCancerRisks_Biopsy_TrainTarget.csv', \n",
    "                          delimiter=\",\", index_col = 0, header = 0)"
   ]
  },
  {
   "cell_type": "code",
   "execution_count": 4,
   "metadata": {},
   "outputs": [],
   "source": [
    "val_data = pd.read_csv('C:\\\\DePaulCoursework\\\\Winter 2019 CSC 529\\\\Project\\\\Data\\\\CervicalCancerRisks_Biopsy_ValData.csv', \n",
    "                          delimiter=\",\", index_col = 0, header = 0)\n",
    "val_target = pd.read_csv('C:\\\\DePaulCoursework\\\\Winter 2019 CSC 529\\\\Project\\\\Data\\\\CervicalCancerRisks_Biopsy_ValTarget.csv', \n",
    "                          delimiter=\",\", index_col = 0, header = 0)"
   ]
  },
  {
   "cell_type": "code",
   "execution_count": 5,
   "metadata": {},
   "outputs": [],
   "source": [
    "rand_st = 1\n"
   ]
  },
  {
   "cell_type": "code",
   "execution_count": 6,
   "metadata": {},
   "outputs": [
    {
     "name": "stdout",
     "output_type": "stream",
     "text": [
      "Number of Original Target 0 Value: 540\n",
      "Number of Original Target 1 Value: 40\n",
      "\n",
      "\n",
      "Number of Random Under Sample Target 0 Value: 40\n",
      "Number of Random Under Sample Target 1 Value: 40\n"
     ]
    }
   ],
   "source": [
    "train_data_rus1p0, train_target_rus1p0 = create_under_data(train_data, train_target, rand_st, 1.0)"
   ]
  },
  {
   "cell_type": "code",
   "execution_count": 7,
   "metadata": {},
   "outputs": [],
   "source": [
    "#train_sm_data_name = data_save_path + 'CervicalCancerRisks_' + target_name + '_TrainData_SMOTE.csv'\n",
    "#data_train_sm1p0.to_csv(train_sm_data_name, sep = ',')\n",
    "#train_sm_target_name = data_save_path + 'CervicalCancerRisks_' + target_name + '_TrainTarget_SMOTE.csv'\n",
    "#target_train_sm1p0.to_csv(train_sm_target_name, sep = ',')\n"
   ]
  },
  {
   "cell_type": "code",
   "execution_count": 8,
   "metadata": {},
   "outputs": [],
   "source": [
    "scorers = {'Accuracy': 'accuracy', 'roc_auc': 'roc_auc'}\n",
    "thresh_vals = [0.4, 0.5, 0.6]\n",
    "k_vals = [5, 6, 7, 8, 9, 10]"
   ]
  },
  {
   "cell_type": "code",
   "execution_count": 9,
   "metadata": {},
   "outputs": [],
   "source": [
    "model_type = 'Random Under 1.0 Gradient Boost'\n",
    "clf_base = GradientBoostingClassifier(n_estimators = 100, loss = 'deviance', \n",
    "                                 learning_rate = 0.1, max_depth = 3,  \n",
    "                                 min_samples_split = 3, random_state = rand_st)\n"
   ]
  },
  {
   "cell_type": "code",
   "execution_count": 10,
   "metadata": {},
   "outputs": [
    {
     "name": "stdout",
     "output_type": "stream",
     "text": [
      "Base Random Under 1.0 Gradient Boost CV Acc: 0.575 +/- 0.27838821814150105\n",
      "Base Random Under 1.0 Gradient Boost CV AUC: 0.603125 +/- 0.1774383695822299\n",
      "CV Runtime: 0.203216552734375\n",
      "\n",
      "\n",
      "Base Random Under 1.0 Gradient Boost Validation Acc: 0.6301369863013698\n",
      "Base Random Under 1.0 Gradient Boost Validation AUC: 0.6625\n",
      "\n",
      "\n"
     ]
    }
   ],
   "source": [
    "model_desc = 'Base'\n",
    "base_model_rus1p0 = model_data(train_data_rus1p0, train_target_rus1p0, val_data, val_target, \n",
    "                           clf_base, scorers, model_type, model_desc, 5) \n"
   ]
  },
  {
   "cell_type": "code",
   "execution_count": 11,
   "metadata": {
    "scrolled": false
   },
   "outputs": [
    {
     "name": "stdout",
     "output_type": "stream",
     "text": [
      "-- Low Variance Filtering --\n",
      "Threshold Selected: 0.4\n",
      "Selected Model Mean Accuracy Score: 0.525\n",
      "Selected Model Accuracy Deviation: 0.2318404623873926\n",
      "Selected Model Mean AUC Score: 0.5484375\n",
      "Selected Model AUC Deviation: 0.23971011138456383\n",
      "Number of Original Features: 30\n",
      "Number of Selected Features: 9\n",
      "Features Selected:\n",
      "['age', 'num_sex_partners', 'first_sex_int', 'num_pregnancies', 'smokes_yrs', 'smokes_pk_yrs', 'hormonal_contr_yrs', 'iud_yrs', 'stds_num']\n",
      "Features Removed:\n",
      "['smokes', 'hormonal_contr', 'iud', 'stds', 'stds_condylomatosis', 'stds_cerv_condylomatosis', 'stds_vag_condylomatosis', 'stds_vp_condylomatosis', 'stds_syphillus', 'stds_pelvic_inf_disease', 'stds_gen_herpes', 'stds_molluscom_contagiosum', 'stds_aids', 'stds_hiv', 'stds_hep_b', 'stds_hpv', 'stds_num_dx', 'dx_cancer', 'dx_cin', 'dx_hpv', 'dx']\n",
      "\n",
      "\n",
      "Low Variance Filter Random Under 1.0 Gradient Boost Validation Acc: 0.541095890410959\n",
      "Low Variance Filter Random Under 1.0 Gradient Boost Validation AUC: 0.5220588235294118\n",
      "\n",
      "\n",
      "-- Model Wrapper Feature Selection --\n",
      "Model Mean Accuracy Score: 0.5875\n",
      "Selected Model Accuracy Deviation: 0.257390753524675\n",
      "Model Mean AUC Score: 0.615625\n",
      "Selected Model AUC Deviation: 0.2626487673681337\n",
      "Number of Original Features: 30\n",
      "Number of Selected Features: 9\n",
      "Features Selected:\n",
      "['age', 'num_sex_partners', 'first_sex_int', 'num_pregnancies', 'smokes_pk_yrs', 'hormonal_contr_yrs', 'stds_num', 'stds_num_dx', 'dx']\n",
      "Features Removed:\n",
      "['smokes', 'smokes_yrs', 'hormonal_contr', 'iud', 'iud_yrs', 'stds', 'stds_condylomatosis', 'stds_cerv_condylomatosis', 'stds_vag_condylomatosis', 'stds_vp_condylomatosis', 'stds_syphillus', 'stds_pelvic_inf_disease', 'stds_gen_herpes', 'stds_molluscom_contagiosum', 'stds_aids', 'stds_hiv', 'stds_hep_b', 'stds_hpv', 'dx_cancer', 'dx_cin', 'dx_hpv']\n",
      "\n",
      "\n",
      "Model Wrapper Random Under 1.0 Gradient Boost Validation Acc: 0.5547945205479452\n",
      "Model Wrapper Random Under 1.0 Gradient Boost Validation AUC: 0.6220588235294118\n",
      "\n",
      "\n",
      "-- Stepwise Recursive Feature Selection --\n",
      "K Selected: 8\n",
      "Selected Model Mean Accuracy Score: 0.5625\n",
      "Selected Model Accuracy Deviation: 0.2622022120425379\n",
      "Selected Model Mean AUC Score: 0.640625\n",
      "Selected Model AUC Deviation: 0.17566836653193996\n",
      "Number of Original Features: 30\n",
      "Number of Selected Features: 8\n",
      "Features Selected:\n",
      "['age', 'num_sex_partners', 'first_sex_int', 'num_pregnancies', 'hormonal_contr_yrs', 'stds_num', 'stds_num_dx', 'dx']\n",
      "Features Removed:\n",
      "['smokes', 'smokes_yrs', 'smokes_pk_yrs', 'hormonal_contr', 'iud', 'iud_yrs', 'stds', 'stds_condylomatosis', 'stds_cerv_condylomatosis', 'stds_vag_condylomatosis', 'stds_vp_condylomatosis', 'stds_syphillus', 'stds_pelvic_inf_disease', 'stds_gen_herpes', 'stds_molluscom_contagiosum', 'stds_aids', 'stds_hiv', 'stds_hep_b', 'stds_hpv', 'dx_cancer', 'dx_cin', 'dx_hpv']\n",
      "\n",
      "\n",
      "Stepwise Recursive Random Under 1.0 Gradient Boost Validation Acc: 0.5958904109589042\n",
      "Stepwise Recursive Random Under 1.0 Gradient Boost Validation AUC: 0.5977941176470588\n",
      "\n",
      "\n",
      "-- Univariate Chi-Sq Feature Selection --\n",
      "K Selected: 9\n",
      "Selected Model Mean Accuracy Score: 0.675\n",
      "Selected Model Accuracy Deviation: 0.2549509756796392\n",
      "Selected Model Mean AUC Score: 0.70625\n",
      "Selected Model AUC Deviation: 0.29705586595790356\n",
      "Number of Original Features: 30\n",
      "Number of Selected Features: 9\n",
      "Features Selected:\n",
      "['smokes_yrs', 'smokes_pk_yrs', 'hormonal_contr_yrs', 'iud_yrs', 'stds', 'stds_num', 'dx_cancer', 'dx_hpv', 'dx']\n",
      "Features Removed:\n",
      "['age', 'num_sex_partners', 'first_sex_int', 'num_pregnancies', 'smokes', 'hormonal_contr', 'iud', 'stds_condylomatosis', 'stds_cerv_condylomatosis', 'stds_vag_condylomatosis', 'stds_vp_condylomatosis', 'stds_syphillus', 'stds_pelvic_inf_disease', 'stds_gen_herpes', 'stds_molluscom_contagiosum', 'stds_aids', 'stds_hiv', 'stds_hep_b', 'stds_hpv', 'stds_num_dx', 'dx_cin']\n",
      "\n",
      "\n",
      "Univariate Chi-Squared Random Under 1.0 Gradient Boost Validation Acc: 0.6575342465753424\n",
      "Univariate Chi-Squared Random Under 1.0 Gradient Boost Validation AUC: 0.538235294117647\n",
      "\n",
      "\n",
      "-- Mutual Information Feature Selection --\n",
      "K Selected: 8\n",
      "Selected Model Mean Accuracy Score: 0.65\n",
      "Selected Model Accuracy Deviation: 0.21794494717703367\n",
      "Selected Model Mean AUC Score: 0.696875\n",
      "Selected Model AUC Deviation: 0.29947871376777346\n",
      "Number of Original Features: 30\n",
      "Number of Selected Features: 8\n",
      "Features Selected:\n",
      "['age', 'num_pregnancies', 'smokes_yrs', 'iud', 'stds', 'stds_pelvic_inf_disease', 'dx_hpv', 'dx']\n",
      "Features Removed:\n",
      "['num_sex_partners', 'first_sex_int', 'smokes', 'smokes_pk_yrs', 'hormonal_contr', 'hormonal_contr_yrs', 'iud_yrs', 'stds_num', 'stds_condylomatosis', 'stds_cerv_condylomatosis', 'stds_vag_condylomatosis', 'stds_vp_condylomatosis', 'stds_syphillus', 'stds_gen_herpes', 'stds_molluscom_contagiosum', 'stds_aids', 'stds_hiv', 'stds_hep_b', 'stds_hpv', 'stds_num_dx', 'dx_cancer', 'dx_cin']\n",
      "\n",
      "\n",
      "Mutual Information Random Under 1.0 Gradient Boost Validation Acc: 0.5616438356164384\n",
      "Mutual Information Random Under 1.0 Gradient Boost Validation AUC: 0.4867647058823529\n",
      "\n",
      "\n"
     ]
    }
   ],
   "source": [
    "results_dict_1p0 = \\\n",
    "  perform_feat_sel_models(train_data_rus1p0, train_target_rus1p0, val_data, val_target, clf_base, model_type, \n",
    "                          thresh_vals, k_vals)"
   ]
  },
  {
   "cell_type": "code",
   "execution_count": 12,
   "metadata": {},
   "outputs": [
    {
     "name": "stdout",
     "output_type": "stream",
     "text": [
      "Number of Original Target 0 Value: 540\n",
      "Number of Original Target 1 Value: 40\n",
      "\n",
      "\n",
      "Number of Random Under Sample Target 0 Value: 133\n",
      "Number of Random Under Sample Target 1 Value: 40\n"
     ]
    }
   ],
   "source": [
    "train_data_rus0p3, train_target_rus0p3 = create_under_data(train_data, train_target, rand_st, 0.3)"
   ]
  },
  {
   "cell_type": "code",
   "execution_count": 13,
   "metadata": {},
   "outputs": [
    {
     "name": "stdout",
     "output_type": "stream",
     "text": [
      "Base Random Under 0.3 Gradient Boost CV Acc: 0.7517647058823529 +/- 0.10398242044227389\n",
      "Base Random Under 0.3 Gradient Boost CV AUC: 0.652599715099715 +/- 0.18891595892193272\n",
      "CV Runtime: 0.2344956398010254\n",
      "\n",
      "\n",
      "Base Random Under 0.3 Gradient Boost Validation Acc: 0.815068493150685\n",
      "Base Random Under 0.3 Gradient Boost Validation AUC: 0.5301470588235294\n",
      "\n",
      "\n"
     ]
    }
   ],
   "source": [
    "model_type = 'Random Under 0.3 Gradient Boost'\n",
    "base_model_rus0p3 = model_data(train_data_rus0p3, train_target_rus0p3, val_data, val_target, \n",
    "                           clf_base, scorers, model_type, model_desc, 5) \n"
   ]
  },
  {
   "cell_type": "code",
   "execution_count": 14,
   "metadata": {
    "scrolled": false
   },
   "outputs": [
    {
     "name": "stdout",
     "output_type": "stream",
     "text": [
      "-- Low Variance Filtering --\n",
      "Threshold Selected: 0.4\n",
      "Selected Model Mean Accuracy Score: 0.7174789915966386\n",
      "Selected Model Accuracy Deviation: 0.12741402486968767\n",
      "Selected Model Mean AUC Score: 0.6075854700854701\n",
      "Selected Model AUC Deviation: 0.1818495330888624\n",
      "Number of Original Features: 30\n",
      "Number of Selected Features: 9\n",
      "Features Selected:\n",
      "['age', 'num_sex_partners', 'first_sex_int', 'num_pregnancies', 'smokes_yrs', 'smokes_pk_yrs', 'hormonal_contr_yrs', 'iud_yrs', 'stds_num']\n",
      "Features Removed:\n",
      "['smokes', 'hormonal_contr', 'iud', 'stds', 'stds_condylomatosis', 'stds_cerv_condylomatosis', 'stds_vag_condylomatosis', 'stds_vp_condylomatosis', 'stds_syphillus', 'stds_pelvic_inf_disease', 'stds_gen_herpes', 'stds_molluscom_contagiosum', 'stds_aids', 'stds_hiv', 'stds_hep_b', 'stds_hpv', 'stds_num_dx', 'dx_cancer', 'dx_cin', 'dx_hpv', 'dx']\n",
      "\n",
      "\n",
      "Low Variance Filter Random Under 0.3 Gradient Boost Validation Acc: 0.8287671232876712\n",
      "Low Variance Filter Random Under 0.3 Gradient Boost Validation AUC: 0.5375\n",
      "\n",
      "\n",
      "-- Model Wrapper Feature Selection --\n",
      "Model Mean Accuracy Score: 0.76890756302521\n",
      "Selected Model Accuracy Deviation: 0.07176293466021177\n",
      "Model Mean AUC Score: 0.6811253561253561\n",
      "Selected Model AUC Deviation: 0.13391116542561907\n",
      "Number of Original Features: 30\n",
      "Number of Selected Features: 10\n",
      "Features Selected:\n",
      "['age', 'num_sex_partners', 'first_sex_int', 'num_pregnancies', 'smokes_pk_yrs', 'hormonal_contr_yrs', 'iud_yrs', 'stds', 'stds_num', 'dx']\n",
      "Features Removed:\n",
      "['smokes', 'smokes_yrs', 'hormonal_contr', 'iud', 'stds_condylomatosis', 'stds_cerv_condylomatosis', 'stds_vag_condylomatosis', 'stds_vp_condylomatosis', 'stds_syphillus', 'stds_pelvic_inf_disease', 'stds_gen_herpes', 'stds_molluscom_contagiosum', 'stds_aids', 'stds_hiv', 'stds_hep_b', 'stds_hpv', 'stds_num_dx', 'dx_cancer', 'dx_cin', 'dx_hpv']\n",
      "\n",
      "\n",
      "Model Wrapper Random Under 0.3 Gradient Boost Validation Acc: 0.821917808219178\n",
      "Model Wrapper Random Under 0.3 Gradient Boost Validation AUC: 0.48750000000000004\n",
      "\n",
      "\n",
      "-- Stepwise Recursive Feature Selection --\n",
      "K Selected: 10\n",
      "Selected Model Mean Accuracy Score: 0.76890756302521\n",
      "Selected Model Accuracy Deviation: 0.07176293466021177\n",
      "Selected Model Mean AUC Score: 0.6811253561253561\n",
      "Selected Model AUC Deviation: 0.13391116542561907\n",
      "Number of Original Features: 30\n",
      "Number of Selected Features: 10\n",
      "Features Selected:\n",
      "['age', 'num_sex_partners', 'first_sex_int', 'num_pregnancies', 'smokes_pk_yrs', 'hormonal_contr_yrs', 'iud_yrs', 'stds', 'stds_num', 'dx']\n",
      "Features Removed:\n",
      "['smokes', 'smokes_yrs', 'hormonal_contr', 'iud', 'stds_condylomatosis', 'stds_cerv_condylomatosis', 'stds_vag_condylomatosis', 'stds_vp_condylomatosis', 'stds_syphillus', 'stds_pelvic_inf_disease', 'stds_gen_herpes', 'stds_molluscom_contagiosum', 'stds_aids', 'stds_hiv', 'stds_hep_b', 'stds_hpv', 'stds_num_dx', 'dx_cancer', 'dx_cin', 'dx_hpv']\n",
      "\n",
      "\n",
      "Stepwise Recursive Random Under 0.3 Gradient Boost Validation Acc: 0.821917808219178\n",
      "Stepwise Recursive Random Under 0.3 Gradient Boost Validation AUC: 0.48750000000000004\n",
      "\n",
      "\n",
      "-- Univariate Chi-Sq Feature Selection --\n",
      "K Selected: 10\n",
      "Selected Model Mean Accuracy Score: 0.7685714285714286\n",
      "Selected Model Accuracy Deviation: 0.05483835565588737\n",
      "Selected Model Mean AUC Score: 0.6543981481481482\n",
      "Selected Model AUC Deviation: 0.20978710875878845\n",
      "Number of Original Features: 30\n",
      "Number of Selected Features: 10\n",
      "Features Selected:\n",
      "['smokes_yrs', 'smokes_pk_yrs', 'hormonal_contr_yrs', 'iud_yrs', 'stds_num', 'stds_hiv', 'dx_cancer', 'dx_cin', 'dx_hpv', 'dx']\n",
      "Features Removed:\n",
      "['age', 'num_sex_partners', 'first_sex_int', 'num_pregnancies', 'smokes', 'hormonal_contr', 'iud', 'stds', 'stds_condylomatosis', 'stds_cerv_condylomatosis', 'stds_vag_condylomatosis', 'stds_vp_condylomatosis', 'stds_syphillus', 'stds_pelvic_inf_disease', 'stds_gen_herpes', 'stds_molluscom_contagiosum', 'stds_aids', 'stds_hep_b', 'stds_hpv', 'stds_num_dx']\n",
      "\n",
      "\n",
      "Univariate Chi-Squared Random Under 0.3 Gradient Boost Validation Acc: 0.8082191780821918\n",
      "Univariate Chi-Squared Random Under 0.3 Gradient Boost Validation AUC: 0.4801470588235294\n",
      "\n",
      "\n",
      "-- Mutual Information Feature Selection --\n",
      "K Selected: 5\n",
      "Selected Model Mean Accuracy Score: 0.774453781512605\n",
      "Selected Model Accuracy Deviation: 0.045528540089865545\n",
      "Selected Model Mean AUC Score: 0.6654558404558404\n",
      "Selected Model AUC Deviation: 0.07272683171988563\n",
      "Number of Original Features: 30\n",
      "Number of Selected Features: 5\n",
      "Features Selected:\n",
      "['stds', 'stds_condylomatosis', 'stds_hpv', 'dx_cin', 'dx_hpv']\n",
      "Features Removed:\n",
      "['age', 'num_sex_partners', 'first_sex_int', 'num_pregnancies', 'smokes', 'smokes_yrs', 'smokes_pk_yrs', 'hormonal_contr', 'hormonal_contr_yrs', 'iud', 'iud_yrs', 'stds_num', 'stds_cerv_condylomatosis', 'stds_vag_condylomatosis', 'stds_vp_condylomatosis', 'stds_syphillus', 'stds_pelvic_inf_disease', 'stds_gen_herpes', 'stds_molluscom_contagiosum', 'stds_aids', 'stds_hiv', 'stds_hep_b', 'stds_num_dx', 'dx_cancer', 'dx']\n",
      "\n",
      "\n",
      "Mutual Information Random Under 0.3 Gradient Boost Validation Acc: 0.8904109589041096\n",
      "Mutual Information Random Under 0.3 Gradient Boost Validation AUC: 0.524264705882353\n",
      "\n",
      "\n"
     ]
    }
   ],
   "source": [
    "results_dict_0p3 = \\\n",
    "  perform_feat_sel_models(train_data_rus0p3, train_target_rus0p3, val_data, val_target, clf_base, model_type, \n",
    "                          thresh_vals, k_vals)"
   ]
  },
  {
   "cell_type": "code",
   "execution_count": 15,
   "metadata": {},
   "outputs": [
    {
     "name": "stdout",
     "output_type": "stream",
     "text": [
      "Number of Original Target 0 Value: 540\n",
      "Number of Original Target 1 Value: 40\n",
      "\n",
      "\n",
      "Number of Random Under Sample Target 0 Value: 400\n",
      "Number of Random Under Sample Target 1 Value: 40\n"
     ]
    }
   ],
   "source": [
    "train_data_rus0p1, train_target_rus0p1 = create_under_data(train_data, train_target, rand_st, 0.1)"
   ]
  },
  {
   "cell_type": "code",
   "execution_count": 16,
   "metadata": {},
   "outputs": [
    {
     "name": "stdout",
     "output_type": "stream",
     "text": [
      "Base Random Under 0.1 Gradient Boost CV Acc: 0.9045454545454545 +/- 0.03401506715249034\n",
      "Base Random Under 0.1 Gradient Boost CV AUC: 0.6485937500000001 +/- 0.22362077273813363\n",
      "CV Runtime: 0.31247806549072266\n",
      "\n",
      "\n",
      "Base Random Under 0.1 Gradient Boost Validation Acc: 0.9041095890410958\n",
      "Base Random Under 0.1 Gradient Boost Validation AUC: 0.4852941176470588\n",
      "\n",
      "\n"
     ]
    }
   ],
   "source": [
    "model_type = 'Random Under 0.1 Gradient Boost'\n",
    "base_model_rus0p1 = model_data(train_data_rus0p1, train_target_rus0p1, val_data, val_target, \n",
    "                           clf_base, scorers, model_type, model_desc, 5) \n"
   ]
  },
  {
   "cell_type": "code",
   "execution_count": 17,
   "metadata": {
    "scrolled": false
   },
   "outputs": [
    {
     "name": "stdout",
     "output_type": "stream",
     "text": [
      "-- Low Variance Filtering --\n",
      "Threshold Selected: 0.4\n",
      "Selected Model Mean Accuracy Score: 0.8886363636363637\n",
      "Selected Model Accuracy Deviation: 0.039101478486557366\n",
      "Selected Model Mean AUC Score: 0.56375\n",
      "Selected Model AUC Deviation: 0.0881094844497458\n",
      "Number of Original Features: 30\n",
      "Number of Selected Features: 8\n",
      "Features Selected:\n",
      "['age', 'num_sex_partners', 'first_sex_int', 'num_pregnancies', 'smokes_yrs', 'smokes_pk_yrs', 'hormonal_contr_yrs', 'iud_yrs']\n",
      "Features Removed:\n",
      "['smokes', 'hormonal_contr', 'iud', 'stds', 'stds_num', 'stds_condylomatosis', 'stds_cerv_condylomatosis', 'stds_vag_condylomatosis', 'stds_vp_condylomatosis', 'stds_syphillus', 'stds_pelvic_inf_disease', 'stds_gen_herpes', 'stds_molluscom_contagiosum', 'stds_aids', 'stds_hiv', 'stds_hep_b', 'stds_hpv', 'stds_num_dx', 'dx_cancer', 'dx_cin', 'dx_hpv', 'dx']\n",
      "\n",
      "\n",
      "Low Variance Filter Random Under 0.1 Gradient Boost Validation Acc: 0.9041095890410958\n",
      "Low Variance Filter Random Under 0.1 Gradient Boost Validation AUC: 0.4852941176470588\n",
      "\n",
      "\n",
      "-- Model Wrapper Feature Selection --\n",
      "Model Mean Accuracy Score: 0.8977272727272728\n",
      "Selected Model Accuracy Deviation: 0.032141217326661226\n",
      "Model Mean AUC Score: 0.63890625\n",
      "Selected Model AUC Deviation: 0.246784793646205\n",
      "Number of Original Features: 30\n",
      "Number of Selected Features: 11\n",
      "Features Selected:\n",
      "['age', 'num_sex_partners', 'first_sex_int', 'num_pregnancies', 'smokes_pk_yrs', 'hormonal_contr_yrs', 'iud_yrs', 'stds_vp_condylomatosis', 'stds_hiv', 'dx_hpv', 'dx']\n",
      "Features Removed:\n",
      "['smokes', 'smokes_yrs', 'hormonal_contr', 'iud', 'stds', 'stds_num', 'stds_condylomatosis', 'stds_cerv_condylomatosis', 'stds_vag_condylomatosis', 'stds_syphillus', 'stds_pelvic_inf_disease', 'stds_gen_herpes', 'stds_molluscom_contagiosum', 'stds_aids', 'stds_hep_b', 'stds_hpv', 'stds_num_dx', 'dx_cancer', 'dx_cin']\n",
      "\n",
      "\n",
      "Model Wrapper Random Under 0.1 Gradient Boost Validation Acc: 0.8972602739726028\n",
      "Model Wrapper Random Under 0.1 Gradient Boost Validation AUC: 0.48161764705882354\n",
      "\n",
      "\n",
      "-- Stepwise Recursive Feature Selection --\n",
      "K Selected: 10\n",
      "Selected Model Mean Accuracy Score: 0.8977272727272727\n",
      "Selected Model Accuracy Deviation: 0.04767312946227957\n",
      "Selected Model Mean AUC Score: 0.6507812500000001\n",
      "Selected Model AUC Deviation: 0.2668720725834758\n",
      "Number of Original Features: 30\n",
      "Number of Selected Features: 10\n",
      "Features Selected:\n",
      "['age', 'num_sex_partners', 'first_sex_int', 'num_pregnancies', 'smokes_pk_yrs', 'hormonal_contr_yrs', 'iud_yrs', 'stds_vp_condylomatosis', 'stds_hiv', 'dx']\n",
      "Features Removed:\n",
      "['smokes', 'smokes_yrs', 'hormonal_contr', 'iud', 'stds', 'stds_num', 'stds_condylomatosis', 'stds_cerv_condylomatosis', 'stds_vag_condylomatosis', 'stds_syphillus', 'stds_pelvic_inf_disease', 'stds_gen_herpes', 'stds_molluscom_contagiosum', 'stds_aids', 'stds_hep_b', 'stds_hpv', 'stds_num_dx', 'dx_cancer', 'dx_cin', 'dx_hpv']\n",
      "\n",
      "\n",
      "Stepwise Recursive Random Under 0.1 Gradient Boost Validation Acc: 0.9041095890410958\n",
      "Stepwise Recursive Random Under 0.1 Gradient Boost Validation AUC: 0.4852941176470588\n",
      "\n",
      "\n",
      "-- Univariate Chi-Sq Feature Selection --\n",
      "K Selected: 10\n",
      "Selected Model Mean Accuracy Score: 0.9068181818181819\n",
      "Selected Model Accuracy Deviation: 0.026504326794751343\n",
      "Selected Model Mean AUC Score: 0.6071875\n",
      "Selected Model AUC Deviation: 0.3223606772700418\n",
      "Number of Original Features: 30\n",
      "Number of Selected Features: 10\n",
      "Features Selected:\n",
      "['smokes_yrs', 'smokes_pk_yrs', 'hormonal_contr_yrs', 'stds', 'stds_num', 'stds_hiv', 'dx_cancer', 'dx_cin', 'dx_hpv', 'dx']\n",
      "Features Removed:\n",
      "['age', 'num_sex_partners', 'first_sex_int', 'num_pregnancies', 'smokes', 'hormonal_contr', 'iud', 'iud_yrs', 'stds_condylomatosis', 'stds_cerv_condylomatosis', 'stds_vag_condylomatosis', 'stds_vp_condylomatosis', 'stds_syphillus', 'stds_pelvic_inf_disease', 'stds_gen_herpes', 'stds_molluscom_contagiosum', 'stds_aids', 'stds_hep_b', 'stds_hpv', 'stds_num_dx']\n",
      "\n",
      "\n",
      "Univariate Chi-Squared Random Under 0.1 Gradient Boost Validation Acc: 0.8972602739726028\n",
      "Univariate Chi-Squared Random Under 0.1 Gradient Boost Validation AUC: 0.5279411764705882\n",
      "\n",
      "\n",
      "-- Mutual Information Feature Selection --\n",
      "K Selected: 7\n",
      "Selected Model Mean Accuracy Score: 0.8818181818181818\n",
      "Selected Model Accuracy Deviation: 0.03962635403218791\n",
      "Selected Model Mean AUC Score: 0.6523437499999999\n",
      "Selected Model AUC Deviation: 0.1985149947107271\n",
      "Number of Original Features: 30\n",
      "Number of Selected Features: 7\n",
      "Features Selected:\n",
      "['first_sex_int', 'stds_condylomatosis', 'stds_aids', 'stds_hiv', 'stds_num_dx', 'dx_cancer', 'dx_hpv']\n",
      "Features Removed:\n",
      "['age', 'num_sex_partners', 'num_pregnancies', 'smokes', 'smokes_yrs', 'smokes_pk_yrs', 'hormonal_contr', 'hormonal_contr_yrs', 'iud', 'iud_yrs', 'stds', 'stds_num', 'stds_cerv_condylomatosis', 'stds_vag_condylomatosis', 'stds_vp_condylomatosis', 'stds_syphillus', 'stds_pelvic_inf_disease', 'stds_gen_herpes', 'stds_molluscom_contagiosum', 'stds_hep_b', 'stds_hpv', 'dx_cin', 'dx']\n",
      "\n",
      "\n",
      "Mutual Information Random Under 0.1 Gradient Boost Validation Acc: 0.8972602739726028\n",
      "Mutual Information Random Under 0.1 Gradient Boost Validation AUC: 0.48161764705882354\n",
      "\n",
      "\n"
     ]
    }
   ],
   "source": [
    "results_dict_0p1 = \\\n",
    "  perform_feat_sel_models(train_data_rus0p1, train_target_rus0p1, val_data, val_target, clf_base, model_type, \n",
    "                          thresh_vals, k_vals)"
   ]
  }
 ],
 "metadata": {
  "kernelspec": {
   "display_name": "Python 3",
   "language": "python",
   "name": "python3"
  },
  "language_info": {
   "codemirror_mode": {
    "name": "ipython",
    "version": 3
   },
   "file_extension": ".py",
   "mimetype": "text/x-python",
   "name": "python",
   "nbconvert_exporter": "python",
   "pygments_lexer": "ipython3",
   "version": "3.6.8"
  }
 },
 "nbformat": 4,
 "nbformat_minor": 2
}
