{
 "cells": [
  {
   "cell_type": "code",
   "execution_count": 1,
   "metadata": {},
   "outputs": [],
   "source": [
    "%load_ext autoreload\n",
    "%autoreload 2"
   ]
  },
  {
   "cell_type": "code",
   "execution_count": 2,
   "metadata": {},
   "outputs": [],
   "source": [
    "import pandas as pd\n",
    "import numpy as np\n",
    "from sklearn.svm import SVC\n",
    "import pickle\n",
    "\n",
    "from model_creation import create_smote_data, fit_val_data, model_data, perform_base_models\n",
    "from model_creation import perform_feat_sel_models, perform_grid_search, create_under_data"
   ]
  },
  {
   "cell_type": "code",
   "execution_count": 3,
   "metadata": {},
   "outputs": [],
   "source": [
    "train_data = pd.read_csv('C:\\\\DePaulCoursework\\\\Winter 2019 CSC 529\\\\Project\\\\Data\\\\CervicalCancerRisks_Combo_target_TrainData.csv', \n",
    "                          delimiter=\",\", index_col = 0, header = 0)\n",
    "train_target = pd.read_csv('C:\\\\DePaulCoursework\\\\Winter 2019 CSC 529\\\\Project\\\\Data\\\\CervicalCancerRisks_Combo_target_TrainTarget.csv', \n",
    "                          delimiter=\",\", index_col = 0, header = 0)"
   ]
  },
  {
   "cell_type": "code",
   "execution_count": 4,
   "metadata": {},
   "outputs": [],
   "source": [
    "val_data = pd.read_csv('C:\\\\DePaulCoursework\\\\Winter 2019 CSC 529\\\\Project\\\\Data\\\\CervicalCancerRisks_Combo_target_ValData.csv', \n",
    "                          delimiter=\",\", index_col = 0, header = 0)\n",
    "val_target = pd.read_csv('C:\\\\DePaulCoursework\\\\Winter 2019 CSC 529\\\\Project\\\\Data\\\\CervicalCancerRisks_Combo_target_ValTarget.csv', \n",
    "                          delimiter=\",\", index_col = 0, header = 0)"
   ]
  },
  {
   "cell_type": "code",
   "execution_count": 5,
   "metadata": {},
   "outputs": [],
   "source": [
    "rand_st = 1\n"
   ]
  },
  {
   "cell_type": "code",
   "execution_count": 6,
   "metadata": {},
   "outputs": [
    {
     "name": "stdout",
     "output_type": "stream",
     "text": [
      "Number of Original Target 0 Value: 506\n",
      "Number of Original Target 1 Value: 74\n",
      "\n",
      "\n",
      "Number of Random Under Sample Target 0 Value: 74\n",
      "Number of Random Under Sample Target 1 Value: 74\n"
     ]
    }
   ],
   "source": [
    "train_data_rus1p0, train_target_rus1p0 = create_under_data(train_data, train_target, rand_st, 1.0)"
   ]
  },
  {
   "cell_type": "code",
   "execution_count": 7,
   "metadata": {},
   "outputs": [],
   "source": [
    "#train_sm_data_name = data_save_path + 'CervicalCancerRisks_' + target_name + '_TrainData_SMOTE.csv'\n",
    "#data_train_sm1p0.to_csv(train_sm_data_name, sep = ',')\n",
    "#train_sm_target_name = data_save_path + 'CervicalCancerRisks_' + target_name + '_TrainTarget_SMOTE.csv'\n",
    "#target_train_sm1p0.to_csv(train_sm_target_name, sep = ',')\n"
   ]
  },
  {
   "cell_type": "code",
   "execution_count": 8,
   "metadata": {},
   "outputs": [],
   "source": [
    "scorers = {'Accuracy': 'accuracy', 'roc_auc': 'roc_auc'}\n",
    "thresh_vals = [0.4, 0.5, 0.6]\n",
    "k_vals = [5, 6, 7, 8, 9, 10]"
   ]
  },
  {
   "cell_type": "code",
   "execution_count": 9,
   "metadata": {},
   "outputs": [],
   "source": [
    "model_type = 'Random Under 1.0 SVM'\n",
    "clf_base = SVC(C = 1.0, kernel = 'rbf', gamma = 'scale', probability = True, random_state = rand_st)\n"
   ]
  },
  {
   "cell_type": "code",
   "execution_count": 10,
   "metadata": {},
   "outputs": [
    {
     "name": "stdout",
     "output_type": "stream",
     "text": [
      "Base Random Under 1.0 SVM CV Acc: 0.5142857142857142 +/- 0.1450623448735982\n",
      "Base Random Under 1.0 SVM CV AUC: 0.48722448979591837 +/- 0.1743283842918261\n",
      "CV Runtime: 0.04687142372131348\n",
      "\n",
      "\n",
      "Base Random Under 1.0 SVM Validation Acc: 0.4589041095890411\n",
      "Base Random Under 1.0 SVM Validation AUC: 0.6218400331537505\n",
      "\n",
      "\n"
     ]
    }
   ],
   "source": [
    "model_desc = 'Base'\n",
    "base_model_rus1p0 = model_data(train_data_rus1p0, train_target_rus1p0, val_data, val_target, \n",
    "                           clf_base, scorers, model_type, model_desc, 5) \n"
   ]
  },
  {
   "cell_type": "code",
   "execution_count": 11,
   "metadata": {
    "scrolled": false
   },
   "outputs": [
    {
     "name": "stdout",
     "output_type": "stream",
     "text": [
      "-- Low Variance Filtering --\n",
      "Threshold Selected: 0.4\n",
      "Selected Model Mean Accuracy Score: 0.4866666666666667\n",
      "Selected Model Accuracy Deviation: 0.09043106644167022\n",
      "Selected Model Mean AUC Score: 0.49015419501133783\n",
      "Selected Model AUC Deviation: 0.19616760916047457\n",
      "Number of Original Features: 30\n",
      "Number of Selected Features: 9\n",
      "Features Selected:\n",
      "['age', 'num_sex_partners', 'first_sex_int', 'num_pregnancies', 'smokes_yrs', 'smokes_pk_yrs', 'hormonal_contr_yrs', 'iud_yrs', 'stds_num']\n",
      "Features Removed:\n",
      "['smokes', 'hormonal_contr', 'iud', 'stds', 'stds_condylomatosis', 'stds_cerv_condylomatosis', 'stds_vag_condylomatosis', 'stds_vp_condylomatosis', 'stds_syphillus', 'stds_pelvic_inf_disease', 'stds_gen_herpes', 'stds_molluscom_contagiosum', 'stds_aids', 'stds_hiv', 'stds_hep_b', 'stds_hpv', 'stds_num_dx', 'dx_cancer', 'dx_cin', 'dx_hpv', 'dx']\n",
      "\n",
      "\n",
      "Low Variance Filter Random Under 1.0 SVM Validation Acc: 0.4383561643835616\n",
      "Low Variance Filter Random Under 1.0 SVM Validation AUC: 0.6100290095317032\n",
      "\n",
      "\n",
      "-- Univariate Chi-Sq Feature Selection --\n",
      "K Selected: 5\n",
      "Selected Model Mean Accuracy Score: 0.5014285714285714\n",
      "Selected Model Accuracy Deviation: 0.11670456138697435\n",
      "Selected Model Mean AUC Score: 0.5534104308390023\n",
      "Selected Model AUC Deviation: 0.14977619775957604\n",
      "Number of Original Features: 30\n",
      "Number of Selected Features: 5\n",
      "Features Selected:\n",
      "['smokes_pk_yrs', 'hormonal_contr_yrs', 'stds_num', 'dx_hpv', 'dx']\n",
      "Features Removed:\n",
      "['age', 'num_sex_partners', 'first_sex_int', 'num_pregnancies', 'smokes', 'smokes_yrs', 'hormonal_contr', 'iud', 'iud_yrs', 'stds', 'stds_condylomatosis', 'stds_cerv_condylomatosis', 'stds_vag_condylomatosis', 'stds_vp_condylomatosis', 'stds_syphillus', 'stds_pelvic_inf_disease', 'stds_gen_herpes', 'stds_molluscom_contagiosum', 'stds_aids', 'stds_hiv', 'stds_hep_b', 'stds_hpv', 'stds_num_dx', 'dx_cancer', 'dx_cin']\n",
      "\n",
      "\n",
      "Univariate Chi-Squared Random Under 1.0 SVM Validation Acc: 0.8287671232876712\n",
      "Univariate Chi-Squared Random Under 1.0 SVM Validation AUC: 0.6330294239535847\n",
      "\n",
      "\n",
      "-- Mutual Information Feature Selection --\n",
      "K Selected: 9\n",
      "Selected Model Mean Accuracy Score: 0.5476190476190477\n",
      "Selected Model Accuracy Deviation: 0.0913491718726232\n",
      "Selected Model Mean AUC Score: 0.5608027210884353\n",
      "Selected Model AUC Deviation: 0.16023813809303425\n",
      "Number of Original Features: 30\n",
      "Number of Selected Features: 9\n",
      "Features Selected:\n",
      "['age', 'iud_yrs', 'stds_condylomatosis', 'stds_vp_condylomatosis', 'stds_syphillus', 'stds_hiv', 'stds_hep_b', 'stds_hpv', 'dx_cancer']\n",
      "Features Removed:\n",
      "['num_sex_partners', 'first_sex_int', 'num_pregnancies', 'smokes', 'smokes_yrs', 'smokes_pk_yrs', 'hormonal_contr', 'hormonal_contr_yrs', 'iud', 'stds', 'stds_num', 'stds_cerv_condylomatosis', 'stds_vag_condylomatosis', 'stds_pelvic_inf_disease', 'stds_gen_herpes', 'stds_molluscom_contagiosum', 'stds_aids', 'stds_num_dx', 'dx_cin', 'dx_hpv', 'dx']\n",
      "\n",
      "\n",
      "Mutual Information Random Under 1.0 SVM Validation Acc: 0.3767123287671233\n",
      "Mutual Information Random Under 1.0 SVM Validation AUC: 0.5522171570658931\n",
      "\n",
      "\n"
     ]
    }
   ],
   "source": [
    "results_dict_1p0 = \\\n",
    "  perform_feat_sel_models(train_data_rus1p0, train_target_rus1p0, val_data, val_target, clf_base, model_type, \n",
    "                          thresh_vals, k_vals)"
   ]
  },
  {
   "cell_type": "code",
   "execution_count": 12,
   "metadata": {},
   "outputs": [
    {
     "name": "stdout",
     "output_type": "stream",
     "text": [
      "Number of Original Target 0 Value: 506\n",
      "Number of Original Target 1 Value: 74\n",
      "\n",
      "\n",
      "Number of Random Under Sample Target 0 Value: 246\n",
      "Number of Random Under Sample Target 1 Value: 74\n"
     ]
    }
   ],
   "source": [
    "train_data_rus0p3, train_target_rus0p3 = create_under_data(train_data, train_target, rand_st, 0.3)"
   ]
  },
  {
   "cell_type": "code",
   "execution_count": 13,
   "metadata": {},
   "outputs": [
    {
     "name": "stdout",
     "output_type": "stream",
     "text": [
      "Base Random Under 0.3 SVM CV Acc: 0.7687767094017094 +/- 0.009424445604808575\n",
      "Base Random Under 0.3 SVM CV AUC: 0.5542553935860057 +/- 0.06795417425247777\n",
      "CV Runtime: 0.14061617851257324\n",
      "\n",
      "\n",
      "Base Random Under 0.3 SVM Validation Acc: 0.8698630136986302\n",
      "Base Random Under 0.3 SVM Validation AUC: 0.5\n",
      "\n",
      "\n"
     ]
    }
   ],
   "source": [
    "model_type = 'Random Under 0.3 SVM'\n",
    "base_model_rus0p3 = model_data(train_data_rus0p3, train_target_rus0p3, val_data, val_target, \n",
    "                           clf_base, scorers, model_type, model_desc, 5) \n"
   ]
  },
  {
   "cell_type": "code",
   "execution_count": 14,
   "metadata": {},
   "outputs": [
    {
     "name": "stdout",
     "output_type": "stream",
     "text": [
      "-- Low Variance Filtering --\n",
      "Threshold Selected: 0.4\n",
      "Selected Model Mean Accuracy Score: 0.7625747863247863\n",
      "Selected Model Accuracy Deviation: 0.019678472138044127\n",
      "Selected Model Mean AUC Score: 0.5078592808551992\n",
      "Selected Model AUC Deviation: 0.19370872985147483\n",
      "Number of Original Features: 30\n",
      "Number of Selected Features: 8\n",
      "Features Selected:\n",
      "['age', 'num_sex_partners', 'first_sex_int', 'num_pregnancies', 'smokes_yrs', 'smokes_pk_yrs', 'hormonal_contr_yrs', 'iud_yrs']\n",
      "Features Removed:\n",
      "['smokes', 'hormonal_contr', 'iud', 'stds', 'stds_num', 'stds_condylomatosis', 'stds_cerv_condylomatosis', 'stds_vag_condylomatosis', 'stds_vp_condylomatosis', 'stds_syphillus', 'stds_pelvic_inf_disease', 'stds_gen_herpes', 'stds_molluscom_contagiosum', 'stds_aids', 'stds_hiv', 'stds_hep_b', 'stds_hpv', 'stds_num_dx', 'dx_cancer', 'dx_cin', 'dx_hpv', 'dx']\n",
      "\n",
      "\n",
      "Low Variance Filter Random Under 0.3 SVM Validation Acc: 0.863013698630137\n",
      "Low Variance Filter Random Under 0.3 SVM Validation AUC: 0.49606299212598426\n",
      "\n",
      "\n",
      "-- Univariate Chi-Sq Feature Selection --\n",
      "K Selected: 6\n",
      "Selected Model Mean Accuracy Score: 0.7439690170940171\n",
      "Selected Model Accuracy Deviation: 0.05366850188043396\n",
      "Selected Model Mean AUC Score: 0.6166169096209912\n",
      "Selected Model AUC Deviation: 0.30426881088543195\n",
      "Number of Original Features: 30\n",
      "Number of Selected Features: 6\n",
      "Features Selected:\n",
      "['hormonal_contr_yrs', 'stds_num', 'stds_num_dx', 'dx_cancer', 'dx_hpv', 'dx']\n",
      "Features Removed:\n",
      "['age', 'num_sex_partners', 'first_sex_int', 'num_pregnancies', 'smokes', 'smokes_yrs', 'smokes_pk_yrs', 'hormonal_contr', 'iud', 'iud_yrs', 'stds', 'stds_condylomatosis', 'stds_cerv_condylomatosis', 'stds_vag_condylomatosis', 'stds_vp_condylomatosis', 'stds_syphillus', 'stds_pelvic_inf_disease', 'stds_gen_herpes', 'stds_molluscom_contagiosum', 'stds_aids', 'stds_hiv', 'stds_hep_b', 'stds_hpv', 'dx_cin']\n",
      "\n",
      "\n",
      "Univariate Chi-Squared Random Under 0.3 SVM Validation Acc: 0.863013698630137\n",
      "Univariate Chi-Squared Random Under 0.3 SVM Validation AUC: 0.49606299212598426\n",
      "\n",
      "\n",
      "-- Mutual Information Feature Selection --\n",
      "K Selected: 5\n",
      "Selected Model Mean Accuracy Score: 0.7656997863247863\n",
      "Selected Model Accuracy Deviation: 0.02489473051808597\n",
      "Selected Model Mean AUC Score: 0.6126044703595724\n",
      "Selected Model AUC Deviation: 0.03932158693418069\n",
      "Number of Original Features: 30\n",
      "Number of Selected Features: 5\n",
      "Features Selected:\n",
      "['first_sex_int', 'hormonal_contr_yrs', 'stds_condylomatosis', 'stds_hiv', 'stds_num_dx']\n",
      "Features Removed:\n",
      "['age', 'num_sex_partners', 'num_pregnancies', 'smokes', 'smokes_yrs', 'smokes_pk_yrs', 'hormonal_contr', 'iud', 'iud_yrs', 'stds', 'stds_num', 'stds_cerv_condylomatosis', 'stds_vag_condylomatosis', 'stds_vp_condylomatosis', 'stds_syphillus', 'stds_pelvic_inf_disease', 'stds_gen_herpes', 'stds_molluscom_contagiosum', 'stds_aids', 'stds_hep_b', 'stds_hpv', 'dx_cancer', 'dx_cin', 'dx_hpv', 'dx']\n",
      "\n",
      "\n",
      "Mutual Information Random Under 0.3 SVM Validation Acc: 0.8561643835616438\n",
      "Mutual Information Random Under 0.3 SVM Validation AUC: 0.4921259842519685\n",
      "\n",
      "\n"
     ]
    }
   ],
   "source": [
    "results_dict_0p3 = \\\n",
    "  perform_feat_sel_models(train_data_rus0p3, train_target_rus0p3, val_data, val_target, clf_base, model_type, \n",
    "                          thresh_vals, k_vals)"
   ]
  },
  {
   "cell_type": "code",
   "execution_count": 15,
   "metadata": {},
   "outputs": [
    {
     "name": "stdout",
     "output_type": "stream",
     "text": [
      "Number of Original Target 0 Value: 506\n",
      "Number of Original Target 1 Value: 74\n",
      "\n",
      "\n",
      "Number of Random Under Sample Target 0 Value: 370\n",
      "Number of Random Under Sample Target 1 Value: 74\n"
     ]
    }
   ],
   "source": [
    "train_data_rus0p1, train_target_rus0p1 = create_under_data(train_data, train_target, rand_st, 0.2)"
   ]
  },
  {
   "cell_type": "code",
   "execution_count": 16,
   "metadata": {},
   "outputs": [
    {
     "name": "stdout",
     "output_type": "stream",
     "text": [
      "Base Random Under 0.2 SVM CV Acc: 0.8333503575076608 +/- 0.007558733401430029\n",
      "Base Random Under 0.2 SVM CV AUC: 0.5612870012870012 +/- 0.13732455952230843\n",
      "CV Runtime: 0.18748879432678223\n",
      "\n",
      "\n",
      "Base Random Under 0.2 SVM Validation Acc: 0.8698630136986302\n",
      "Base Random Under 0.2 SVM Validation AUC: 0.5\n",
      "\n",
      "\n"
     ]
    }
   ],
   "source": [
    "model_type = 'Random Under 0.2 SVM'\n",
    "base_model_rus0p1 = model_data(train_data_rus0p1, train_target_rus0p1, val_data, val_target, \n",
    "                           clf_base, scorers, model_type, model_desc, 5) \n"
   ]
  },
  {
   "cell_type": "code",
   "execution_count": 17,
   "metadata": {},
   "outputs": [
    {
     "name": "stdout",
     "output_type": "stream",
     "text": [
      "-- Low Variance Filtering --\n",
      "Threshold Selected: 0.4\n",
      "Selected Model Mean Accuracy Score: 0.8310776302349335\n",
      "Selected Model Accuracy Deviation: 0.001532175689479054\n",
      "Selected Model Mean AUC Score: 0.4722522522522522\n",
      "Selected Model AUC Deviation: 0.19999642882941057\n",
      "Number of Original Features: 30\n",
      "Number of Selected Features: 8\n",
      "Features Selected:\n",
      "['age', 'num_sex_partners', 'first_sex_int', 'num_pregnancies', 'smokes_yrs', 'smokes_pk_yrs', 'hormonal_contr_yrs', 'iud_yrs']\n",
      "Features Removed:\n",
      "['smokes', 'hormonal_contr', 'iud', 'stds', 'stds_num', 'stds_condylomatosis', 'stds_cerv_condylomatosis', 'stds_vag_condylomatosis', 'stds_vp_condylomatosis', 'stds_syphillus', 'stds_pelvic_inf_disease', 'stds_gen_herpes', 'stds_molluscom_contagiosum', 'stds_aids', 'stds_hiv', 'stds_hep_b', 'stds_hpv', 'stds_num_dx', 'dx_cancer', 'dx_cin', 'dx_hpv', 'dx']\n",
      "\n",
      "\n",
      "Low Variance Filter Random Under 0.2 SVM Validation Acc: 0.8698630136986302\n",
      "Low Variance Filter Random Under 0.2 SVM Validation AUC: 0.5\n",
      "\n",
      "\n",
      "-- Univariate Chi-Sq Feature Selection --\n",
      "K Selected: 6\n",
      "Selected Model Mean Accuracy Score: 0.8288304392236977\n",
      "Selected Model Accuracy Deviation: 0.02191457628619399\n",
      "Selected Model Mean AUC Score: 0.6180952380952381\n",
      "Selected Model AUC Deviation: 0.15628222338000142\n",
      "Number of Original Features: 30\n",
      "Number of Selected Features: 6\n",
      "Features Selected:\n",
      "['hormonal_contr_yrs', 'iud_yrs', 'stds_num', 'dx_cancer', 'dx_hpv', 'dx']\n",
      "Features Removed:\n",
      "['age', 'num_sex_partners', 'first_sex_int', 'num_pregnancies', 'smokes', 'smokes_yrs', 'smokes_pk_yrs', 'hormonal_contr', 'iud', 'stds', 'stds_condylomatosis', 'stds_cerv_condylomatosis', 'stds_vag_condylomatosis', 'stds_vp_condylomatosis', 'stds_syphillus', 'stds_pelvic_inf_disease', 'stds_gen_herpes', 'stds_molluscom_contagiosum', 'stds_aids', 'stds_hiv', 'stds_hep_b', 'stds_hpv', 'stds_num_dx', 'dx_cin']\n",
      "\n",
      "\n",
      "Univariate Chi-Squared Random Under 0.2 SVM Validation Acc: 0.863013698630137\n",
      "Univariate Chi-Squared Random Under 0.2 SVM Validation AUC: 0.49606299212598426\n",
      "\n",
      "\n",
      "-- Mutual Information Feature Selection --\n",
      "K Selected: 10\n",
      "Selected Model Mean Accuracy Score: 0.8333503575076608\n",
      "Selected Model Accuracy Deviation: 0.007558733401430029\n",
      "Selected Model Mean AUC Score: 0.5693178893178893\n",
      "Selected Model AUC Deviation: 0.12720879576625846\n",
      "Number of Original Features: 30\n",
      "Number of Selected Features: 10\n",
      "Features Selected:\n",
      "['age', 'num_pregnancies', 'hormonal_contr_yrs', 'iud_yrs', 'stds_condylomatosis', 'stds_cerv_condylomatosis', 'stds_gen_herpes', 'stds_hiv', 'dx_hpv', 'dx']\n",
      "Features Removed:\n",
      "['num_sex_partners', 'first_sex_int', 'smokes', 'smokes_yrs', 'smokes_pk_yrs', 'hormonal_contr', 'iud', 'stds', 'stds_num', 'stds_vag_condylomatosis', 'stds_vp_condylomatosis', 'stds_syphillus', 'stds_pelvic_inf_disease', 'stds_molluscom_contagiosum', 'stds_aids', 'stds_hep_b', 'stds_hpv', 'stds_num_dx', 'dx_cancer', 'dx_cin']\n",
      "\n",
      "\n",
      "Mutual Information Random Under 0.2 SVM Validation Acc: 0.8698630136986302\n",
      "Mutual Information Random Under 0.2 SVM Validation AUC: 0.5\n",
      "\n",
      "\n"
     ]
    }
   ],
   "source": [
    "results_dict_0p1 = \\\n",
    "  perform_feat_sel_models(train_data_rus0p1, train_target_rus0p1, val_data, val_target, clf_base, model_type, \n",
    "                          thresh_vals, k_vals)"
   ]
  }
 ],
 "metadata": {
  "kernelspec": {
   "display_name": "Python 3",
   "language": "python",
   "name": "python3"
  },
  "language_info": {
   "codemirror_mode": {
    "name": "ipython",
    "version": 3
   },
   "file_extension": ".py",
   "mimetype": "text/x-python",
   "name": "python",
   "nbconvert_exporter": "python",
   "pygments_lexer": "ipython3",
   "version": "3.6.8"
  }
 },
 "nbformat": 4,
 "nbformat_minor": 2
}
