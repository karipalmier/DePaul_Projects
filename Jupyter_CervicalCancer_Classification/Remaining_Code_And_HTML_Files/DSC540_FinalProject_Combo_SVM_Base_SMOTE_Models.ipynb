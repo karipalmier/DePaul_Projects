{
 "cells": [
  {
   "cell_type": "code",
   "execution_count": 1,
   "metadata": {},
   "outputs": [],
   "source": [
    "%load_ext autoreload\n",
    "%autoreload 2"
   ]
  },
  {
   "cell_type": "code",
   "execution_count": 2,
   "metadata": {},
   "outputs": [],
   "source": [
    "import pandas as pd\n",
    "import numpy as np\n",
    "from sklearn.svm import SVC\n",
    "import pickle\n",
    "\n",
    "from model_creation import create_smote_data, fit_val_data, model_data, perform_base_models\n",
    "from model_creation import perform_feat_sel_models, perform_grid_search"
   ]
  },
  {
   "cell_type": "code",
   "execution_count": 3,
   "metadata": {},
   "outputs": [],
   "source": [
    "train_data = pd.read_csv('C:\\\\DePaulCoursework\\\\Winter 2019 CSC 529\\\\Project\\\\Data\\\\CervicalCancerRisks_Combo_target_TrainData.csv', \n",
    "                          delimiter=\",\", index_col = 0, header = 0)\n",
    "train_target = pd.read_csv('C:\\\\DePaulCoursework\\\\Winter 2019 CSC 529\\\\Project\\\\Data\\\\CervicalCancerRisks_Combo_target_TrainTarget.csv', \n",
    "                          delimiter=\",\", index_col = 0, header = 0)"
   ]
  },
  {
   "cell_type": "code",
   "execution_count": 4,
   "metadata": {},
   "outputs": [],
   "source": [
    "val_data = pd.read_csv('C:\\\\DePaulCoursework\\\\Winter 2019 CSC 529\\\\Project\\\\Data\\\\CervicalCancerRisks_Combo_target_ValData.csv', \n",
    "                          delimiter=\",\", index_col = 0, header = 0)\n",
    "val_target = pd.read_csv('C:\\\\DePaulCoursework\\\\Winter 2019 CSC 529\\\\Project\\\\Data\\\\CervicalCancerRisks_Combo_target_ValTarget.csv', \n",
    "                          delimiter=\",\", index_col = 0, header = 0)"
   ]
  },
  {
   "cell_type": "code",
   "execution_count": 5,
   "metadata": {},
   "outputs": [],
   "source": [
    "rand_st = 1\n"
   ]
  },
  {
   "cell_type": "code",
   "execution_count": 6,
   "metadata": {},
   "outputs": [
    {
     "name": "stdout",
     "output_type": "stream",
     "text": [
      "Number of Original Target 0 Value: 506\n",
      "Number of Original Target 1 Value: 74\n",
      "\n",
      "\n",
      "Number of SMOTE Target 0 Value: 506\n",
      "Number of SMOTE Target 1 Value: 506\n"
     ]
    }
   ],
   "source": [
    "train_data_sm1p0, train_target_sm1p0 = create_smote_data(train_data, train_target, rand_st, 1.0)"
   ]
  },
  {
   "cell_type": "code",
   "execution_count": 7,
   "metadata": {},
   "outputs": [],
   "source": [
    "#train_sm_data_name = data_save_path + 'CervicalCancerRisks_' + target_name + '_TrainData_SMOTE.csv'\n",
    "#data_train_sm1p0.to_csv(train_sm_data_name, sep = ',')\n",
    "#train_sm_target_name = data_save_path + 'CervicalCancerRisks_' + target_name + '_TrainTarget_SMOTE.csv'\n",
    "#target_train_sm1p0.to_csv(train_sm_target_name, sep = ',')\n"
   ]
  },
  {
   "cell_type": "code",
   "execution_count": 8,
   "metadata": {},
   "outputs": [],
   "source": [
    "scorers = {'Accuracy': 'accuracy', 'roc_auc': 'roc_auc'}\n",
    "thresh_vals = [0.4, 0.5, 0.6]\n",
    "k_vals = [5, 6, 7, 8, 9, 10]"
   ]
  },
  {
   "cell_type": "code",
   "execution_count": 9,
   "metadata": {},
   "outputs": [],
   "source": [
    "model_type = 'SVM'\n",
    "clf_base = SVC(C = 1.0, kernel = 'rbf', gamma = 'scale', probability = True, random_state = rand_st)\n"
   ]
  },
  {
   "cell_type": "code",
   "execution_count": 10,
   "metadata": {},
   "outputs": [
    {
     "name": "stdout",
     "output_type": "stream",
     "text": [
      "Base SVM CV Acc: 0.8724249413754661 +/- 0.005898386228916201\n",
      "Base SVM CV AUC: 0.5888249161050559 +/- 0.17055451128701266\n",
      "CV Runtime: 0.971466064453125\n",
      "\n",
      "\n",
      "Base SVM Validation Acc: 0.8698630136986302\n",
      "Base SVM Validation AUC: 0.5\n",
      "\n",
      "\n",
      "SMOTE Base SVM CV Acc: 0.625431954960202 +/- 0.03628076274336154\n",
      "SMOTE Base SVM CV AUC: 0.6837894649720548 +/- 0.06411111575120161\n",
      "CV Runtime: 4.9531495571136475\n",
      "\n",
      "\n",
      "SMOTE Base SVM Validation Acc: 0.5136986301369864\n",
      "SMOTE Base SVM Validation AUC: 0.5190634065478656\n",
      "\n",
      "\n"
     ]
    },
    {
     "data": {
      "text/plain": [
       "(SVC(C=1.0, cache_size=200, class_weight=None, coef0=0.0,\n",
       "   decision_function_shape='ovr', degree=3, gamma='scale', kernel='rbf',\n",
       "   max_iter=-1, probability=True, random_state=1, shrinking=True, tol=0.001,\n",
       "   verbose=False), SVC(C=1.0, cache_size=200, class_weight=None, coef0=0.0,\n",
       "   decision_function_shape='ovr', degree=3, gamma='scale', kernel='rbf',\n",
       "   max_iter=-1, probability=True, random_state=1, shrinking=True, tol=0.001,\n",
       "   verbose=False))"
      ]
     },
     "execution_count": 10,
     "metadata": {},
     "output_type": "execute_result"
    }
   ],
   "source": [
    "perform_base_models(train_data, train_target, val_data, val_target, train_data_sm1p0, train_target_sm1p0, clf_base, \n",
    "                    scorers, model_type)"
   ]
  },
  {
   "cell_type": "code",
   "execution_count": 11,
   "metadata": {
    "scrolled": false
   },
   "outputs": [
    {
     "name": "stdout",
     "output_type": "stream",
     "text": [
      "-- Low Variance Filtering --\n",
      "Threshold Selected: 0.4\n",
      "Selected Model Mean Accuracy Score: 0.8724249413754661\n",
      "Selected Model Accuracy Deviation: 0.005898386228916201\n",
      "Selected Model Mean AUC Score: 0.5274559724880051\n",
      "Selected Model AUC Deviation: 0.19429209764788388\n",
      "Number of Original Features: 30\n",
      "Number of Selected Features: 8\n",
      "Features Selected:\n",
      "['age', 'num_sex_partners', 'first_sex_int', 'num_pregnancies', 'smokes_yrs', 'smokes_pk_yrs', 'hormonal_contr_yrs', 'iud_yrs']\n",
      "Features Removed:\n",
      "['smokes', 'hormonal_contr', 'iud', 'stds', 'stds_num', 'stds_condylomatosis', 'stds_cerv_condylomatosis', 'stds_vag_condylomatosis', 'stds_vp_condylomatosis', 'stds_syphillus', 'stds_pelvic_inf_disease', 'stds_gen_herpes', 'stds_molluscom_contagiosum', 'stds_aids', 'stds_hiv', 'stds_hep_b', 'stds_hpv', 'stds_num_dx', 'dx_cancer', 'dx_cin', 'dx_hpv', 'dx']\n",
      "\n",
      "\n",
      "Low Variance Filter SVM Validation Acc: 0.8698630136986302\n",
      "Low Variance Filter SVM Validation AUC: 0.5\n",
      "\n",
      "\n",
      "-- Univariate Chi-Sq Feature Selection --\n",
      "K Selected: 7\n",
      "Selected Model Mean Accuracy Score: 0.8724249413754661\n",
      "Selected Model Accuracy Deviation: 0.005898386228916201\n",
      "Selected Model Mean AUC Score: 0.5740350925848887\n",
      "Selected Model AUC Deviation: 0.20197828464598264\n",
      "Number of Original Features: 30\n",
      "Number of Selected Features: 7\n",
      "Features Selected:\n",
      "['hormonal_contr_yrs', 'iud_yrs', 'stds_num', 'stds_num_dx', 'dx_cancer', 'dx_hpv', 'dx']\n",
      "Features Removed:\n",
      "['age', 'num_sex_partners', 'first_sex_int', 'num_pregnancies', 'smokes', 'smokes_yrs', 'smokes_pk_yrs', 'hormonal_contr', 'iud', 'stds', 'stds_condylomatosis', 'stds_cerv_condylomatosis', 'stds_vag_condylomatosis', 'stds_vp_condylomatosis', 'stds_syphillus', 'stds_pelvic_inf_disease', 'stds_gen_herpes', 'stds_molluscom_contagiosum', 'stds_aids', 'stds_hiv', 'stds_hep_b', 'stds_hpv', 'dx_cin']\n",
      "\n",
      "\n",
      "Univariate Chi-Squared SVM Validation Acc: 0.863013698630137\n",
      "Univariate Chi-Squared SVM Validation AUC: 0.49606299212598426\n",
      "\n",
      "\n",
      "-- Mutual Information Feature Selection --\n",
      "K Selected: 7\n",
      "Selected Model Mean Accuracy Score: 0.8724249413754661\n",
      "Selected Model Accuracy Deviation: 0.005898386228916201\n",
      "Selected Model Mean AUC Score: 0.6322952547355576\n",
      "Selected Model AUC Deviation: 0.22138391774493368\n",
      "Number of Original Features: 30\n",
      "Number of Selected Features: 7\n",
      "Features Selected:\n",
      "['age', 'hormonal_contr_yrs', 'iud_yrs', 'stds_vp_condylomatosis', 'stds_aids', 'stds_hpv', 'dx']\n",
      "Features Removed:\n",
      "['num_sex_partners', 'first_sex_int', 'num_pregnancies', 'smokes', 'smokes_yrs', 'smokes_pk_yrs', 'hormonal_contr', 'iud', 'stds', 'stds_num', 'stds_condylomatosis', 'stds_cerv_condylomatosis', 'stds_vag_condylomatosis', 'stds_syphillus', 'stds_pelvic_inf_disease', 'stds_gen_herpes', 'stds_molluscom_contagiosum', 'stds_hiv', 'stds_hep_b', 'stds_num_dx', 'dx_cancer', 'dx_cin', 'dx_hpv']\n",
      "\n",
      "\n",
      "Mutual Information SVM Validation Acc: 0.8698630136986302\n",
      "Mutual Information SVM Validation AUC: 0.5\n",
      "\n",
      "\n"
     ]
    }
   ],
   "source": [
    "results_dict_base = \\\n",
    "  perform_feat_sel_models(train_data, train_target, val_data, val_target, clf_base, model_type, thresh_vals, k_vals)"
   ]
  },
  {
   "cell_type": "code",
   "execution_count": 12,
   "metadata": {},
   "outputs": [
    {
     "name": "stdout",
     "output_type": "stream",
     "text": [
      "-- Low Variance Filtering --\n",
      "Threshold Selected: 0.4\n",
      "Selected Model Mean Accuracy Score: 0.6283925451368667\n",
      "Selected Model Accuracy Deviation: 0.05117084666743558\n",
      "Selected Model Mean AUC Score: 0.7106026178691047\n",
      "Selected Model AUC Deviation: 0.04722935704204237\n",
      "Number of Original Features: 30\n",
      "Number of Selected Features: 8\n",
      "Features Selected:\n",
      "['age', 'num_sex_partners', 'first_sex_int', 'num_pregnancies', 'smokes_yrs', 'smokes_pk_yrs', 'hormonal_contr_yrs', 'iud_yrs']\n",
      "Features Removed:\n",
      "['smokes', 'hormonal_contr', 'iud', 'stds', 'stds_num', 'stds_condylomatosis', 'stds_cerv_condylomatosis', 'stds_vag_condylomatosis', 'stds_vp_condylomatosis', 'stds_syphillus', 'stds_pelvic_inf_disease', 'stds_gen_herpes', 'stds_molluscom_contagiosum', 'stds_aids', 'stds_hiv', 'stds_hep_b', 'stds_hpv', 'stds_num_dx', 'dx_cancer', 'dx_cin', 'dx_hpv', 'dx']\n",
      "\n",
      "\n",
      "Low Variance Filter SMOTE SVM Validation Acc: 0.4931506849315068\n",
      "Low Variance Filter SMOTE SVM Validation AUC: 0.529631164525487\n",
      "\n",
      "\n",
      "-- Univariate Chi-Sq Feature Selection --\n",
      "K Selected: 9\n",
      "Selected Model Mean Accuracy Score: 0.6333818675985247\n",
      "Selected Model Accuracy Deviation: 0.047879741138419224\n",
      "Selected Model Mean AUC Score: 0.7143874142801584\n",
      "Selected Model AUC Deviation: 0.0689176571719594\n",
      "Number of Original Features: 30\n",
      "Number of Selected Features: 9\n",
      "Features Selected:\n",
      "['hormonal_contr_yrs', 'stds', 'stds_num', 'stds_condylomatosis', 'stds_vp_condylomatosis', 'stds_num_dx', 'dx_cancer', 'dx_hpv', 'dx']\n",
      "Features Removed:\n",
      "['age', 'num_sex_partners', 'first_sex_int', 'num_pregnancies', 'smokes', 'smokes_yrs', 'smokes_pk_yrs', 'hormonal_contr', 'iud', 'iud_yrs', 'stds_cerv_condylomatosis', 'stds_vag_condylomatosis', 'stds_syphillus', 'stds_pelvic_inf_disease', 'stds_gen_herpes', 'stds_molluscom_contagiosum', 'stds_aids', 'stds_hiv', 'stds_hep_b', 'stds_hpv', 'dx_cin']\n",
      "\n",
      "\n",
      "Univariate Chi-Squared SMOTE SVM Validation Acc: 0.815068493150685\n",
      "Univariate Chi-Squared SMOTE SVM Validation AUC: 0.5580190634065478\n",
      "\n",
      "\n",
      "-- Mutual Information Feature Selection --\n",
      "K Selected: 7\n",
      "Selected Model Mean Accuracy Score: 0.617549990293147\n",
      "Selected Model Accuracy Deviation: 0.026028270753248893\n",
      "Selected Model Mean AUC Score: 0.6868421524738378\n",
      "Selected Model AUC Deviation: 0.03223893709868603\n",
      "Number of Original Features: 30\n",
      "Number of Selected Features: 7\n",
      "Features Selected:\n",
      "['age', 'num_sex_partners', 'first_sex_int', 'num_pregnancies', 'hormonal_contr', 'hormonal_contr_yrs', 'stds_num']\n",
      "Features Removed:\n",
      "['smokes', 'smokes_yrs', 'smokes_pk_yrs', 'iud', 'iud_yrs', 'stds', 'stds_condylomatosis', 'stds_cerv_condylomatosis', 'stds_vag_condylomatosis', 'stds_vp_condylomatosis', 'stds_syphillus', 'stds_pelvic_inf_disease', 'stds_gen_herpes', 'stds_molluscom_contagiosum', 'stds_aids', 'stds_hiv', 'stds_hep_b', 'stds_hpv', 'stds_num_dx', 'dx_cancer', 'dx_cin', 'dx_hpv', 'dx']\n",
      "\n",
      "\n",
      "Mutual Information SMOTE SVM Validation Acc: 0.4931506849315068\n",
      "Mutual Information SMOTE SVM Validation AUC: 0.5072523829258184\n",
      "\n",
      "\n"
     ]
    }
   ],
   "source": [
    "model_type = 'SMOTE SVM'\n",
    "results_dict_1p0 = \\\n",
    "  perform_feat_sel_models(train_data_sm1p0, train_target_sm1p0, val_data, val_target, clf_base, model_type, \n",
    "                          thresh_vals, k_vals)"
   ]
  },
  {
   "cell_type": "code",
   "execution_count": 13,
   "metadata": {},
   "outputs": [
    {
     "name": "stdout",
     "output_type": "stream",
     "text": [
      "Number of Original Target 0 Value: 506\n",
      "Number of Original Target 1 Value: 74\n",
      "\n",
      "\n",
      "Number of SMOTE Target 0 Value: 506\n",
      "Number of SMOTE Target 1 Value: 151\n"
     ]
    }
   ],
   "source": [
    "train_data_sm0p3, train_target_sm0p3 = create_smote_data(train_data, train_target, rand_st, 0.3)"
   ]
  },
  {
   "cell_type": "code",
   "execution_count": 14,
   "metadata": {},
   "outputs": [
    {
     "name": "stdout",
     "output_type": "stream",
     "text": [
      "Base SMOTE SVM CV Acc: 0.8724249413754661 +/- 0.005898386228916201\n",
      "Base SMOTE SVM CV AUC: 0.5888249161050559 +/- 0.17055451128701266\n",
      "CV Runtime: 1.054419994354248\n",
      "\n",
      "\n",
      "Base SMOTE SVM Validation Acc: 0.8698630136986302\n",
      "Base SMOTE SVM Validation AUC: 0.5\n",
      "\n",
      "\n",
      "SMOTE Base SMOTE SVM CV Acc: 0.7655971991046318 +/- 0.017787906733419623\n",
      "SMOTE Base SMOTE SVM CV AUC: 0.7230312936416983 +/- 0.16437270977035986\n",
      "CV Runtime: 1.604102611541748\n",
      "\n",
      "\n",
      "SMOTE Base SMOTE SVM Validation Acc: 0.8561643835616438\n",
      "SMOTE Base SMOTE SVM Validation AUC: 0.4921259842519685\n",
      "\n",
      "\n"
     ]
    },
    {
     "data": {
      "text/plain": [
       "(SVC(C=1.0, cache_size=200, class_weight=None, coef0=0.0,\n",
       "   decision_function_shape='ovr', degree=3, gamma='scale', kernel='rbf',\n",
       "   max_iter=-1, probability=True, random_state=1, shrinking=True, tol=0.001,\n",
       "   verbose=False), SVC(C=1.0, cache_size=200, class_weight=None, coef0=0.0,\n",
       "   decision_function_shape='ovr', degree=3, gamma='scale', kernel='rbf',\n",
       "   max_iter=-1, probability=True, random_state=1, shrinking=True, tol=0.001,\n",
       "   verbose=False))"
      ]
     },
     "execution_count": 14,
     "metadata": {},
     "output_type": "execute_result"
    }
   ],
   "source": [
    "perform_base_models(train_data, train_target, val_data, val_target, train_data_sm0p3, train_target_sm0p3, clf_base, \n",
    "                    scorers, model_type)"
   ]
  },
  {
   "cell_type": "code",
   "execution_count": 15,
   "metadata": {},
   "outputs": [
    {
     "name": "stdout",
     "output_type": "stream",
     "text": [
      "-- Low Variance Filtering --\n",
      "Threshold Selected: 0.4\n",
      "Selected Model Mean Accuracy Score: 0.7778109395626471\n",
      "Selected Model Accuracy Deviation: 0.03150787945437765\n",
      "Selected Model Mean AUC Score: 0.6412191807416037\n",
      "Selected Model AUC Deviation: 0.15946282203801987\n",
      "Number of Original Features: 30\n",
      "Number of Selected Features: 8\n",
      "Features Selected:\n",
      "['age', 'num_sex_partners', 'first_sex_int', 'num_pregnancies', 'smokes_yrs', 'smokes_pk_yrs', 'hormonal_contr_yrs', 'iud_yrs']\n",
      "Features Removed:\n",
      "['smokes', 'hormonal_contr', 'iud', 'stds', 'stds_num', 'stds_condylomatosis', 'stds_cerv_condylomatosis', 'stds_vag_condylomatosis', 'stds_vp_condylomatosis', 'stds_syphillus', 'stds_pelvic_inf_disease', 'stds_gen_herpes', 'stds_molluscom_contagiosum', 'stds_aids', 'stds_hiv', 'stds_hep_b', 'stds_hpv', 'stds_num_dx', 'dx_cancer', 'dx_cin', 'dx_hpv', 'dx']\n",
      "\n",
      "\n",
      "Low Variance Filter SMOTE SVM Validation Acc: 0.8493150684931506\n",
      "Low Variance Filter SMOTE SVM Validation AUC: 0.4881889763779528\n",
      "\n",
      "\n",
      "-- Univariate Chi-Sq Feature Selection --\n",
      "K Selected: 9\n",
      "Selected Model Mean Accuracy Score: 0.7946277908511737\n",
      "Selected Model Accuracy Deviation: 0.05080700184069817\n",
      "Selected Model Mean AUC Score: 0.6472544009619178\n",
      "Selected Model AUC Deviation: 0.2260109147002862\n",
      "Number of Original Features: 30\n",
      "Number of Selected Features: 9\n",
      "Features Selected:\n",
      "['hormonal_contr_yrs', 'iud_yrs', 'stds_num', 'stds_vp_condylomatosis', 'stds_gen_herpes', 'stds_num_dx', 'dx_cancer', 'dx_hpv', 'dx']\n",
      "Features Removed:\n",
      "['age', 'num_sex_partners', 'first_sex_int', 'num_pregnancies', 'smokes', 'smokes_yrs', 'smokes_pk_yrs', 'hormonal_contr', 'iud', 'stds', 'stds_condylomatosis', 'stds_cerv_condylomatosis', 'stds_vag_condylomatosis', 'stds_syphillus', 'stds_pelvic_inf_disease', 'stds_molluscom_contagiosum', 'stds_aids', 'stds_hiv', 'stds_hep_b', 'stds_hpv', 'dx_cin']\n",
      "\n",
      "\n",
      "Univariate Chi-Squared SMOTE SVM Validation Acc: 0.8561643835616438\n",
      "Univariate Chi-Squared SMOTE SVM Validation AUC: 0.514504765851637\n",
      "\n",
      "\n",
      "-- Mutual Information Feature Selection --\n",
      "K Selected: 10\n",
      "Selected Model Mean Accuracy Score: 0.7701773517763876\n",
      "Selected Model Accuracy Deviation: 0.025754040490760254\n",
      "Selected Model Mean AUC Score: 0.7353546132601874\n",
      "Selected Model AUC Deviation: 0.1383735095257483\n",
      "Number of Original Features: 30\n",
      "Number of Selected Features: 10\n",
      "Features Selected:\n",
      "['age', 'num_sex_partners', 'first_sex_int', 'num_pregnancies', 'hormonal_contr', 'hormonal_contr_yrs', 'iud_yrs', 'stds', 'stds_num', 'dx']\n",
      "Features Removed:\n",
      "['smokes', 'smokes_yrs', 'smokes_pk_yrs', 'iud', 'stds_condylomatosis', 'stds_cerv_condylomatosis', 'stds_vag_condylomatosis', 'stds_vp_condylomatosis', 'stds_syphillus', 'stds_pelvic_inf_disease', 'stds_gen_herpes', 'stds_molluscom_contagiosum', 'stds_aids', 'stds_hiv', 'stds_hep_b', 'stds_hpv', 'stds_num_dx', 'dx_cancer', 'dx_cin', 'dx_hpv']\n",
      "\n",
      "\n",
      "Mutual Information SMOTE SVM Validation Acc: 0.8561643835616438\n",
      "Mutual Information SMOTE SVM Validation AUC: 0.4921259842519685\n",
      "\n",
      "\n"
     ]
    }
   ],
   "source": [
    "results_dict_0p3 = \\\n",
    "  perform_feat_sel_models(train_data_sm0p3, train_target_sm0p3, val_data, val_target, clf_base, model_type, \n",
    "                          thresh_vals, k_vals)"
   ]
  },
  {
   "cell_type": "code",
   "execution_count": 16,
   "metadata": {},
   "outputs": [],
   "source": [
    "cv = 5\n",
    "clf_grid = SVC(random_state = rand_st)\n",
    "\n",
    "C = [1.0, 0.5, 1.5]\n",
    "kernel = ['rbf', 'linear', 'sigmoid']\n",
    "gamma = ['scale', 'auto']\n",
    "probability = [True, False]\n",
    "class_weight  = [None, 'balanced']\n",
    "\n",
    "#C = [1.0]\n",
    "#kernel = ['rbf']\n",
    "#gamma = ['scale']\n",
    "#class_weight = [None]\n",
    "#probability = [True]\n",
    "\n",
    "model_params = {\n",
    "    'C': C,\n",
    "    'kernel': kernel,\n",
    "    'gamma': gamma,\n",
    "    'probability': probability,\n",
    "    'class_weight': class_weight\n",
    "}\n",
    "\n",
    "score = 'roc_auc'"
   ]
  },
  {
   "cell_type": "code",
   "execution_count": 17,
   "metadata": {},
   "outputs": [
    {
     "name": "stdout",
     "output_type": "stream",
     "text": [
      "Low Variance Filter FS SMOTE 1.0 SVM Grid Search\n",
      "Fitting 5 folds for each of 72 candidates, totalling 360 fits\n"
     ]
    },
    {
     "name": "stderr",
     "output_type": "stream",
     "text": [
      "[Parallel(n_jobs=1)]: Using backend SequentialBackend with 1 concurrent workers.\n",
      "[Parallel(n_jobs=1)]: Done 360 out of 360 | elapsed:  3.1min finished\n"
     ]
    },
    {
     "name": "stdout",
     "output_type": "stream",
     "text": [
      "Grid Search Runtime: 188.45361471176147\n",
      "\n",
      "\n",
      "Grid Search Optimal Parameters: {'C': 1.5, 'class_weight': None, 'gamma': 'auto', 'kernel': 'rbf', 'probability': True}\n",
      "Grid Search Optimal Parameter Score: 0.8677358784471796\n",
      "\n",
      "\n",
      "Final Model Parameter Settings:\n",
      "SVC(C=1.5, cache_size=200, class_weight=None, coef0=0.0,\n",
      "  decision_function_shape='ovr', degree=3, gamma='auto', kernel='rbf',\n",
      "  max_iter=-1, probability=True, random_state=1, shrinking=True, tol=0.001,\n",
      "  verbose=False)\n",
      "\n",
      "\n",
      "Low Variance Filter FS SMOTE 1.0 SVM CV Acc: 0.7885167928557563 +/- 0.047354546034348244\n",
      "Low Variance Filter FS SMOTE 1.0 SVM CV AUC: 0.8676974172459214 +/- 0.0363741540249742\n",
      "CV Runtime: 2.6054773330688477\n",
      "\n",
      "\n",
      "Low Variance Filter FS SMOTE 1.0 SVM Validation Acc: 0.7054794520547946\n",
      "Low Variance Filter FS SMOTE 1.0 SVM Validation AUC: 0.5397845006216329\n",
      "\n",
      "\n"
     ]
    }
   ],
   "source": [
    "lvf_train_data_1p0 = results_dict_1p0['lvf']['data']\n",
    "lvf_del_cols_1p0 = results_dict_1p0['lvf']['del_cols']\n",
    "lvf_val_data_1p0 = val_data.drop(lvf_del_cols_1p0, axis = 1)\n",
    "\n",
    "model_type = 'SMOTE 1.0 SVM'\n",
    "model_desc = 'Low Variance Filter FS'\n",
    "\n",
    "opt_model = perform_grid_search(clf_grid, lvf_train_data_1p0, train_target_sm1p0, model_params, score, cv, \n",
    "                              model_type, model_desc)\n",
    "lvf_model_sm_1p0 = model_data(lvf_train_data_1p0, train_target_sm1p0, lvf_val_data_1p0, val_target, \n",
    "                                opt_model, scorers, model_type, model_desc, cv)\n"
   ]
  },
  {
   "cell_type": "code",
   "execution_count": 18,
   "metadata": {},
   "outputs": [],
   "source": [
    "filename = 'Combo_LVF_FS_SMOTE_1p0_SVM_Model.sav'\n",
    "pickle.dump(lvf_model_sm_1p0, open(filename, 'wb'))"
   ]
  },
  {
   "cell_type": "code",
   "execution_count": 19,
   "metadata": {},
   "outputs": [
    {
     "name": "stdout",
     "output_type": "stream",
     "text": [
      "Chi-Squared FS SMOTE 1.0 SVM Grid Search\n",
      "Fitting 5 folds for each of 72 candidates, totalling 360 fits\n"
     ]
    },
    {
     "name": "stderr",
     "output_type": "stream",
     "text": [
      "[Parallel(n_jobs=1)]: Using backend SequentialBackend with 1 concurrent workers.\n",
      "[Parallel(n_jobs=1)]: Done 360 out of 360 | elapsed:  1.6min finished\n"
     ]
    },
    {
     "name": "stdout",
     "output_type": "stream",
     "text": [
      "Grid Search Runtime: 97.01520609855652\n",
      "\n",
      "\n",
      "Grid Search Optimal Parameters: {'C': 1.5, 'class_weight': None, 'gamma': 'scale', 'kernel': 'rbf', 'probability': True}\n",
      "Grid Search Optimal Parameter Score: 0.7197096308096282\n",
      "\n",
      "\n",
      "Final Model Parameter Settings:\n",
      "SVC(C=1.5, cache_size=200, class_weight=None, coef0=0.0,\n",
      "  decision_function_shape='ovr', degree=3, gamma='scale', kernel='rbf',\n",
      "  max_iter=-1, probability=True, random_state=1, shrinking=True, tol=0.001,\n",
      "  verbose=False)\n",
      "\n",
      "\n",
      "Chi-Squared FS SMOTE 1.0 SVM CV Acc: 0.6442729567074356 +/- 0.050286580524830544\n",
      "Chi-Squared FS SMOTE 1.0 SVM CV AUC: 0.7197657514560939 +/- 0.06183330334723471\n",
      "CV Runtime: 2.3976242542266846\n",
      "\n",
      "\n",
      "Chi-Squared FS SMOTE 1.0 SVM Validation Acc: 0.821917808219178\n",
      "Chi-Squared FS SMOTE 1.0 SVM Validation AUC: 0.5619560712805636\n",
      "\n",
      "\n"
     ]
    }
   ],
   "source": [
    "chisq_train_data_1p0 = results_dict_1p0['chisq']['data']\n",
    "chisq_del_cols_1p0 = results_dict_1p0['chisq']['del_cols']\n",
    "chisq_val_data_1p0 = val_data.drop(chisq_del_cols_1p0, axis = 1)\n",
    "\n",
    "model_type = 'SMOTE 1.0 SVM'\n",
    "model_desc = 'Chi-Squared FS'\n",
    "\n",
    "opt_model = perform_grid_search(clf_grid, chisq_train_data_1p0, train_target_sm1p0, model_params, score, cv, \n",
    "                              model_type, model_desc)\n",
    "chisq_model_sm_1p0 = model_data(chisq_train_data_1p0, train_target_sm1p0, chisq_val_data_1p0, val_target, \n",
    "                                opt_model, scorers, model_type, model_desc, cv)\n"
   ]
  },
  {
   "cell_type": "code",
   "execution_count": 20,
   "metadata": {},
   "outputs": [],
   "source": [
    "filename = 'Combo_ChiSq_FS_SMOTE_1p0_SVM_Model.sav'\n",
    "pickle.dump(chisq_model_sm_1p0, open(filename, 'wb'))"
   ]
  }
 ],
 "metadata": {
  "kernelspec": {
   "display_name": "Python 3",
   "language": "python",
   "name": "python3"
  },
  "language_info": {
   "codemirror_mode": {
    "name": "ipython",
    "version": 3
   },
   "file_extension": ".py",
   "mimetype": "text/x-python",
   "name": "python",
   "nbconvert_exporter": "python",
   "pygments_lexer": "ipython3",
   "version": "3.6.8"
  }
 },
 "nbformat": 4,
 "nbformat_minor": 2
}
