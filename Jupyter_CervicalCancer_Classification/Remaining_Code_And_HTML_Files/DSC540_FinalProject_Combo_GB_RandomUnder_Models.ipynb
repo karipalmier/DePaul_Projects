{
 "cells": [
  {
   "cell_type": "code",
   "execution_count": 1,
   "metadata": {},
   "outputs": [],
   "source": [
    "%load_ext autoreload\n",
    "%autoreload 2"
   ]
  },
  {
   "cell_type": "code",
   "execution_count": 2,
   "metadata": {},
   "outputs": [],
   "source": [
    "import pandas as pd\n",
    "import numpy as np\n",
    "from sklearn.ensemble import GradientBoostingClassifier\n",
    "import pickle\n",
    "\n",
    "from model_creation import create_smote_data, fit_val_data, model_data, perform_base_models\n",
    "from model_creation import perform_feat_sel_models, perform_grid_search, create_under_data"
   ]
  },
  {
   "cell_type": "code",
   "execution_count": 3,
   "metadata": {},
   "outputs": [],
   "source": [
    "train_data = pd.read_csv('C:\\\\DePaulCoursework\\\\Winter 2019 CSC 529\\\\Project\\\\Data\\\\CervicalCancerRisks_Combo_target_TrainData.csv', \n",
    "                          delimiter=\",\", index_col = 0, header = 0)\n",
    "train_target = pd.read_csv('C:\\\\DePaulCoursework\\\\Winter 2019 CSC 529\\\\Project\\\\Data\\\\CervicalCancerRisks_Combo_target_TrainTarget.csv', \n",
    "                          delimiter=\",\", index_col = 0, header = 0)"
   ]
  },
  {
   "cell_type": "code",
   "execution_count": 4,
   "metadata": {},
   "outputs": [],
   "source": [
    "val_data = pd.read_csv('C:\\\\DePaulCoursework\\\\Winter 2019 CSC 529\\\\Project\\\\Data\\\\CervicalCancerRisks_Combo_target_ValData.csv', \n",
    "                          delimiter=\",\", index_col = 0, header = 0)\n",
    "val_target = pd.read_csv('C:\\\\DePaulCoursework\\\\Winter 2019 CSC 529\\\\Project\\\\Data\\\\CervicalCancerRisks_Combo_target_ValTarget.csv', \n",
    "                          delimiter=\",\", index_col = 0, header = 0)"
   ]
  },
  {
   "cell_type": "code",
   "execution_count": 5,
   "metadata": {},
   "outputs": [],
   "source": [
    "rand_st = 1\n"
   ]
  },
  {
   "cell_type": "code",
   "execution_count": 6,
   "metadata": {},
   "outputs": [
    {
     "name": "stdout",
     "output_type": "stream",
     "text": [
      "Number of Original Target 0 Value: 506\n",
      "Number of Original Target 1 Value: 74\n",
      "\n",
      "\n",
      "Number of Random Under Sample Target 0 Value: 74\n",
      "Number of Random Under Sample Target 1 Value: 74\n"
     ]
    }
   ],
   "source": [
    "train_data_rus1p0, train_target_rus1p0 = create_under_data(train_data, train_target, rand_st, 1.0)"
   ]
  },
  {
   "cell_type": "code",
   "execution_count": 7,
   "metadata": {},
   "outputs": [],
   "source": [
    "#train_sm_data_name = data_save_path + 'CervicalCancerRisks_' + target_name + '_TrainData_SMOTE.csv'\n",
    "#data_train_sm1p0.to_csv(train_sm_data_name, sep = ',')\n",
    "#train_sm_target_name = data_save_path + 'CervicalCancerRisks_' + target_name + '_TrainTarget_SMOTE.csv'\n",
    "#target_train_sm1p0.to_csv(train_sm_target_name, sep = ',')\n"
   ]
  },
  {
   "cell_type": "code",
   "execution_count": 8,
   "metadata": {},
   "outputs": [],
   "source": [
    "scorers = {'Accuracy': 'accuracy', 'roc_auc': 'roc_auc'}\n",
    "thresh_vals = [0.4, 0.5, 0.6]\n",
    "k_vals = [5, 6, 7, 8, 9, 10]"
   ]
  },
  {
   "cell_type": "code",
   "execution_count": 9,
   "metadata": {},
   "outputs": [],
   "source": [
    "model_type = 'Random Under 1.0 Gradient Boost'\n",
    "clf_base = GradientBoostingClassifier(n_estimators = 100, loss = 'deviance', \n",
    "                                 learning_rate = 0.1, max_depth = 3,  \n",
    "                                 min_samples_split = 3, random_state = rand_st)\n"
   ]
  },
  {
   "cell_type": "code",
   "execution_count": 10,
   "metadata": {},
   "outputs": [
    {
     "name": "stdout",
     "output_type": "stream",
     "text": [
      "Base Random Under 1.0 Gradient Boost CV Acc: 0.4666666666666667 +/- 0.17384539747207065\n",
      "Base Random Under 1.0 Gradient Boost CV AUC: 0.4655464852607709 +/- 0.22729236769925543\n",
      "CV Runtime: 0.2343761920928955\n",
      "\n",
      "\n",
      "Base Random Under 1.0 Gradient Boost Validation Acc: 0.6164383561643836\n",
      "Base Random Under 1.0 Gradient Boost Validation AUC: 0.6228760878574389\n",
      "\n",
      "\n"
     ]
    }
   ],
   "source": [
    "model_desc = 'Base'\n",
    "base_model_rus1p0 = model_data(train_data_rus1p0, train_target_rus1p0, val_data, val_target, \n",
    "                           clf_base, scorers, model_type, model_desc, 5) \n"
   ]
  },
  {
   "cell_type": "code",
   "execution_count": 11,
   "metadata": {},
   "outputs": [
    {
     "name": "stdout",
     "output_type": "stream",
     "text": [
      "-- Low Variance Filtering --\n",
      "Threshold Selected: 0.5\n",
      "Selected Model Mean Accuracy Score: 0.4666666666666666\n",
      "Selected Model Accuracy Deviation: 0.15776212754932312\n",
      "Selected Model Mean AUC Score: 0.5186984126984127\n",
      "Selected Model AUC Deviation: 0.2922017892031201\n",
      "Number of Original Features: 30\n",
      "Number of Selected Features: 8\n",
      "Features Selected:\n",
      "['age', 'num_sex_partners', 'first_sex_int', 'num_pregnancies', 'smokes_yrs', 'smokes_pk_yrs', 'hormonal_contr_yrs', 'iud_yrs']\n",
      "Features Removed:\n",
      "['smokes', 'hormonal_contr', 'iud', 'stds', 'stds_num', 'stds_condylomatosis', 'stds_cerv_condylomatosis', 'stds_vag_condylomatosis', 'stds_vp_condylomatosis', 'stds_syphillus', 'stds_pelvic_inf_disease', 'stds_gen_herpes', 'stds_molluscom_contagiosum', 'stds_aids', 'stds_hiv', 'stds_hep_b', 'stds_hpv', 'stds_num_dx', 'dx_cancer', 'dx_cin', 'dx_hpv', 'dx']\n",
      "\n",
      "\n",
      "Low Variance Filter Random Under 1.0 Gradient Boost Validation Acc: 0.5273972602739726\n",
      "Low Variance Filter Random Under 1.0 Gradient Boost Validation AUC: 0.5269374222958971\n",
      "\n",
      "\n",
      "-- Model Wrapper Feature Selection --\n",
      "Model Mean Accuracy Score: 0.4671428571428572\n",
      "Selected Model Accuracy Deviation: 0.12033211788256828\n",
      "Model Mean AUC Score: 0.47326530612244894\n",
      "Selected Model AUC Deviation: 0.2187024505439081\n",
      "Number of Original Features: 30\n",
      "Number of Selected Features: 10\n",
      "Features Selected:\n",
      "['age', 'num_sex_partners', 'first_sex_int', 'num_pregnancies', 'smokes_yrs', 'smokes_pk_yrs', 'hormonal_contr_yrs', 'iud_yrs', 'stds_num_dx', 'dx']\n",
      "Features Removed:\n",
      "['smokes', 'hormonal_contr', 'iud', 'stds', 'stds_num', 'stds_condylomatosis', 'stds_cerv_condylomatosis', 'stds_vag_condylomatosis', 'stds_vp_condylomatosis', 'stds_syphillus', 'stds_pelvic_inf_disease', 'stds_gen_herpes', 'stds_molluscom_contagiosum', 'stds_aids', 'stds_hiv', 'stds_hep_b', 'stds_hpv', 'dx_cancer', 'dx_cin', 'dx_hpv']\n",
      "\n",
      "\n",
      "Model Wrapper Random Under 1.0 Gradient Boost Validation Acc: 0.589041095890411\n",
      "Model Wrapper Random Under 1.0 Gradient Boost Validation AUC: 0.6295068379610443\n",
      "\n",
      "\n",
      "-- Stepwise Recursive Feature Selection --\n",
      "K Selected: 7\n",
      "Selected Model Mean Accuracy Score: 0.48047619047619045\n",
      "Selected Model Accuracy Deviation: 0.17747025556407284\n",
      "Selected Model Mean AUC Score: 0.5155374149659864\n",
      "Selected Model AUC Deviation: 0.32033744683267235\n",
      "Number of Original Features: 30\n",
      "Number of Selected Features: 7\n",
      "Features Selected:\n",
      "['age', 'num_sex_partners', 'first_sex_int', 'num_pregnancies', 'smokes_pk_yrs', 'hormonal_contr_yrs', 'iud_yrs']\n",
      "Features Removed:\n",
      "['smokes', 'smokes_yrs', 'hormonal_contr', 'iud', 'stds', 'stds_num', 'stds_condylomatosis', 'stds_cerv_condylomatosis', 'stds_vag_condylomatosis', 'stds_vp_condylomatosis', 'stds_syphillus', 'stds_pelvic_inf_disease', 'stds_gen_herpes', 'stds_molluscom_contagiosum', 'stds_aids', 'stds_hiv', 'stds_hep_b', 'stds_hpv', 'stds_num_dx', 'dx_cancer', 'dx_cin', 'dx_hpv', 'dx']\n",
      "\n",
      "\n",
      "Stepwise Recursive Random Under 1.0 Gradient Boost Validation Acc: 0.6027397260273972\n",
      "Stepwise Recursive Random Under 1.0 Gradient Boost Validation AUC: 0.6150020721094074\n",
      "\n",
      "\n",
      "-- Univariate Chi-Sq Feature Selection --\n",
      "K Selected: 5\n",
      "Selected Model Mean Accuracy Score: 0.4871428571428571\n",
      "Selected Model Accuracy Deviation: 0.10068247837259053\n",
      "Selected Model Mean AUC Score: 0.5193197278911564\n",
      "Selected Model AUC Deviation: 0.26049020002133666\n",
      "Number of Original Features: 30\n",
      "Number of Selected Features: 5\n",
      "Features Selected:\n",
      "['smokes_pk_yrs', 'hormonal_contr_yrs', 'stds_num', 'dx_hpv', 'dx']\n",
      "Features Removed:\n",
      "['age', 'num_sex_partners', 'first_sex_int', 'num_pregnancies', 'smokes', 'smokes_yrs', 'hormonal_contr', 'iud', 'iud_yrs', 'stds', 'stds_condylomatosis', 'stds_cerv_condylomatosis', 'stds_vag_condylomatosis', 'stds_vp_condylomatosis', 'stds_syphillus', 'stds_pelvic_inf_disease', 'stds_gen_herpes', 'stds_molluscom_contagiosum', 'stds_aids', 'stds_hiv', 'stds_hep_b', 'stds_hpv', 'stds_num_dx', 'dx_cancer', 'dx_cin']\n",
      "\n",
      "\n",
      "Univariate Chi-Squared Random Under 1.0 Gradient Boost Validation Acc: 0.7328767123287672\n",
      "Univariate Chi-Squared Random Under 1.0 Gradient Boost Validation AUC: 0.6226688769167011\n",
      "\n",
      "\n",
      "-- Mutual Information Feature Selection --\n",
      "K Selected: 7\n",
      "Selected Model Mean Accuracy Score: 0.5614285714285714\n",
      "Selected Model Accuracy Deviation: 0.08083464828161119\n",
      "Selected Model Mean AUC Score: 0.5672721088435374\n",
      "Selected Model AUC Deviation: 0.12025529034239163\n",
      "Number of Original Features: 30\n",
      "Number of Selected Features: 7\n",
      "Features Selected:\n",
      "['iud_yrs', 'stds_vp_condylomatosis', 'stds_syphillus', 'stds_pelvic_inf_disease', 'stds_gen_herpes', 'stds_molluscom_contagiosum', 'stds_hep_b']\n",
      "Features Removed:\n",
      "['age', 'num_sex_partners', 'first_sex_int', 'num_pregnancies', 'smokes', 'smokes_yrs', 'smokes_pk_yrs', 'hormonal_contr', 'hormonal_contr_yrs', 'iud', 'stds', 'stds_num', 'stds_condylomatosis', 'stds_cerv_condylomatosis', 'stds_vag_condylomatosis', 'stds_aids', 'stds_hiv', 'stds_hpv', 'stds_num_dx', 'dx_cancer', 'dx_cin', 'dx_hpv', 'dx']\n",
      "\n",
      "\n",
      "Mutual Information Random Under 1.0 Gradient Boost Validation Acc: 0.8356164383561644\n",
      "Mutual Information Random Under 1.0 Gradient Boost Validation AUC: 0.5698300870285951\n",
      "\n",
      "\n"
     ]
    }
   ],
   "source": [
    "results_dict_1p0 = \\\n",
    "  perform_feat_sel_models(train_data_rus1p0, train_target_rus1p0, val_data, val_target, clf_base, model_type, \n",
    "                          thresh_vals, k_vals)"
   ]
  },
  {
   "cell_type": "code",
   "execution_count": 12,
   "metadata": {},
   "outputs": [
    {
     "name": "stdout",
     "output_type": "stream",
     "text": [
      "Number of Original Target 0 Value: 506\n",
      "Number of Original Target 1 Value: 74\n",
      "\n",
      "\n",
      "Number of Random Under Sample Target 0 Value: 246\n",
      "Number of Random Under Sample Target 1 Value: 74\n"
     ]
    }
   ],
   "source": [
    "train_data_rus0p3, train_target_rus0p3 = create_under_data(train_data, train_target, rand_st, 0.3)"
   ]
  },
  {
   "cell_type": "code",
   "execution_count": 13,
   "metadata": {},
   "outputs": [
    {
     "name": "stdout",
     "output_type": "stream",
     "text": [
      "Base Random Under 0.3 Gradient Boost CV Acc: 0.7159340659340659 +/- 0.10614199512090101\n",
      "Base Random Under 0.3 Gradient Boost CV AUC: 0.5602277939747328 +/- 0.21806569237553694\n",
      "CV Runtime: 0.2812068462371826\n",
      "\n",
      "\n",
      "Base Random Under 0.3 Gradient Boost Validation Acc: 0.8287671232876712\n",
      "Base Random Under 0.3 Gradient Boost Validation AUC: 0.49875673435557394\n",
      "\n",
      "\n"
     ]
    }
   ],
   "source": [
    "model_type = 'Random Under 0.3 Gradient Boost'\n",
    "base_model_rus0p3 = model_data(train_data_rus0p3, train_target_rus0p3, val_data, val_target, \n",
    "                           clf_base, scorers, model_type, model_desc, 5) \n"
   ]
  },
  {
   "cell_type": "code",
   "execution_count": 14,
   "metadata": {
    "scrolled": false
   },
   "outputs": [
    {
     "name": "stdout",
     "output_type": "stream",
     "text": [
      "-- Low Variance Filtering --\n",
      "Threshold Selected: 0.4\n",
      "Selected Model Mean Accuracy Score: 0.7096344627594627\n",
      "Selected Model Accuracy Deviation: 0.10528578860082166\n",
      "Selected Model Mean AUC Score: 0.47240505344995143\n",
      "Selected Model AUC Deviation: 0.11820832312870504\n",
      "Number of Original Features: 30\n",
      "Number of Selected Features: 8\n",
      "Features Selected:\n",
      "['age', 'num_sex_partners', 'first_sex_int', 'num_pregnancies', 'smokes_yrs', 'smokes_pk_yrs', 'hormonal_contr_yrs', 'iud_yrs']\n",
      "Features Removed:\n",
      "['smokes', 'hormonal_contr', 'iud', 'stds', 'stds_num', 'stds_condylomatosis', 'stds_cerv_condylomatosis', 'stds_vag_condylomatosis', 'stds_vp_condylomatosis', 'stds_syphillus', 'stds_pelvic_inf_disease', 'stds_gen_herpes', 'stds_molluscom_contagiosum', 'stds_aids', 'stds_hiv', 'stds_hep_b', 'stds_hpv', 'stds_num_dx', 'dx_cancer', 'dx_cin', 'dx_hpv', 'dx']\n",
      "\n",
      "\n",
      "Low Variance Filter Random Under 0.3 Gradient Boost Validation Acc: 0.8013698630136986\n",
      "Low Variance Filter Random Under 0.3 Gradient Boost Validation AUC: 0.483008702859511\n",
      "\n",
      "\n",
      "-- Model Wrapper Feature Selection --\n",
      "Model Mean Accuracy Score: 0.7253601953601954\n",
      "Selected Model Accuracy Deviation: 0.10812619389390833\n",
      "Model Mean AUC Score: 0.5606639455782313\n",
      "Selected Model AUC Deviation: 0.22060276914796403\n",
      "Number of Original Features: 30\n",
      "Number of Selected Features: 9\n",
      "Features Selected:\n",
      "['age', 'num_sex_partners', 'first_sex_int', 'num_pregnancies', 'smokes_pk_yrs', 'hormonal_contr_yrs', 'iud_yrs', 'stds_num_dx', 'dx']\n",
      "Features Removed:\n",
      "['smokes', 'smokes_yrs', 'hormonal_contr', 'iud', 'stds', 'stds_num', 'stds_condylomatosis', 'stds_cerv_condylomatosis', 'stds_vag_condylomatosis', 'stds_vp_condylomatosis', 'stds_syphillus', 'stds_pelvic_inf_disease', 'stds_gen_herpes', 'stds_molluscom_contagiosum', 'stds_aids', 'stds_hiv', 'stds_hep_b', 'stds_hpv', 'dx_cancer', 'dx_cin', 'dx_hpv']\n",
      "\n",
      "\n",
      "Model Wrapper Random Under 0.3 Gradient Boost Validation Acc: 0.815068493150685\n",
      "Model Wrapper Random Under 0.3 Gradient Boost Validation AUC: 0.4908827186075425\n",
      "\n",
      "\n",
      "-- Stepwise Recursive Feature Selection --\n",
      "K Selected: 7\n",
      "Selected Model Mean Accuracy Score: 0.7251152319902319\n",
      "Selected Model Accuracy Deviation: 0.08061194428887866\n",
      "Selected Model Mean AUC Score: 0.5752136054421768\n",
      "Selected Model AUC Deviation: 0.16866951725543763\n",
      "Number of Original Features: 30\n",
      "Number of Selected Features: 7\n",
      "Features Selected:\n",
      "['age', 'num_sex_partners', 'first_sex_int', 'hormonal_contr_yrs', 'iud_yrs', 'stds_num_dx', 'dx']\n",
      "Features Removed:\n",
      "['num_pregnancies', 'smokes', 'smokes_yrs', 'smokes_pk_yrs', 'hormonal_contr', 'iud', 'stds', 'stds_num', 'stds_condylomatosis', 'stds_cerv_condylomatosis', 'stds_vag_condylomatosis', 'stds_vp_condylomatosis', 'stds_syphillus', 'stds_pelvic_inf_disease', 'stds_gen_herpes', 'stds_molluscom_contagiosum', 'stds_aids', 'stds_hiv', 'stds_hep_b', 'stds_hpv', 'dx_cancer', 'dx_cin', 'dx_hpv']\n",
      "\n",
      "\n",
      "Stepwise Recursive Random Under 0.3 Gradient Boost Validation Acc: 0.815068493150685\n",
      "Stepwise Recursive Random Under 0.3 Gradient Boost Validation AUC: 0.468503937007874\n",
      "\n",
      "\n",
      "-- Univariate Chi-Sq Feature Selection --\n",
      "K Selected: 6\n",
      "Selected Model Mean Accuracy Score: 0.7410874542124543\n",
      "Selected Model Accuracy Deviation: 0.10998818463865474\n",
      "Selected Model Mean AUC Score: 0.6016132167152575\n",
      "Selected Model AUC Deviation: 0.193758586492203\n",
      "Number of Original Features: 30\n",
      "Number of Selected Features: 6\n",
      "Features Selected:\n",
      "['hormonal_contr_yrs', 'stds_num', 'stds_num_dx', 'dx_cancer', 'dx_hpv', 'dx']\n",
      "Features Removed:\n",
      "['age', 'num_sex_partners', 'first_sex_int', 'num_pregnancies', 'smokes', 'smokes_yrs', 'smokes_pk_yrs', 'hormonal_contr', 'iud', 'iud_yrs', 'stds', 'stds_condylomatosis', 'stds_cerv_condylomatosis', 'stds_vag_condylomatosis', 'stds_vp_condylomatosis', 'stds_syphillus', 'stds_pelvic_inf_disease', 'stds_gen_herpes', 'stds_molluscom_contagiosum', 'stds_aids', 'stds_hiv', 'stds_hep_b', 'stds_hpv', 'dx_cin']\n",
      "\n",
      "\n",
      "Univariate Chi-Squared Random Under 0.3 Gradient Boost Validation Acc: 0.8424657534246576\n",
      "Univariate Chi-Squared Random Under 0.3 Gradient Boost Validation AUC: 0.5066307501036055\n",
      "\n",
      "\n",
      "-- Mutual Information Feature Selection --\n",
      "K Selected: 5\n",
      "Selected Model Mean Accuracy Score: 0.7500702075702076\n",
      "Selected Model Accuracy Deviation: 0.08261355056793952\n",
      "Selected Model Mean AUC Score: 0.598357628765792\n",
      "Selected Model AUC Deviation: 0.1740199390183436\n",
      "Number of Original Features: 30\n",
      "Number of Selected Features: 5\n",
      "Features Selected:\n",
      "['age', 'stds', 'stds_cerv_condylomatosis', 'stds_vag_condylomatosis', 'dx']\n",
      "Features Removed:\n",
      "['num_sex_partners', 'first_sex_int', 'num_pregnancies', 'smokes', 'smokes_yrs', 'smokes_pk_yrs', 'hormonal_contr', 'hormonal_contr_yrs', 'iud', 'iud_yrs', 'stds_num', 'stds_condylomatosis', 'stds_vp_condylomatosis', 'stds_syphillus', 'stds_pelvic_inf_disease', 'stds_gen_herpes', 'stds_molluscom_contagiosum', 'stds_aids', 'stds_hiv', 'stds_hep_b', 'stds_hpv', 'stds_num_dx', 'dx_cancer', 'dx_cin', 'dx_hpv']\n",
      "\n",
      "\n",
      "Mutual Information Random Under 0.3 Gradient Boost Validation Acc: 0.8013698630136986\n",
      "Mutual Information Random Under 0.3 Gradient Boost Validation AUC: 0.46062992125984253\n",
      "\n",
      "\n"
     ]
    }
   ],
   "source": [
    "results_dict_0p3 = \\\n",
    "  perform_feat_sel_models(train_data_rus0p3, train_target_rus0p3, val_data, val_target, clf_base, model_type, \n",
    "                          thresh_vals, k_vals)"
   ]
  },
  {
   "cell_type": "code",
   "execution_count": 15,
   "metadata": {},
   "outputs": [
    {
     "name": "stdout",
     "output_type": "stream",
     "text": [
      "Number of Original Target 0 Value: 506\n",
      "Number of Original Target 1 Value: 74\n",
      "\n",
      "\n",
      "Number of Random Under Sample Target 0 Value: 370\n",
      "Number of Random Under Sample Target 1 Value: 74\n"
     ]
    }
   ],
   "source": [
    "train_data_rus0p1, train_target_rus0p1 = create_under_data(train_data, train_target, rand_st, 0.2)"
   ]
  },
  {
   "cell_type": "code",
   "execution_count": 16,
   "metadata": {},
   "outputs": [
    {
     "name": "stdout",
     "output_type": "stream",
     "text": [
      "Base Random Under 0.2 Gradient Boost CV Acc: 0.8063840653728296 +/- 0.07092162324301426\n",
      "Base Random Under 0.2 Gradient Boost CV AUC: 0.5815572715572717 +/- 0.18117936959620073\n",
      "CV Runtime: 0.2968721389770508\n",
      "\n",
      "\n",
      "Base Random Under 0.2 Gradient Boost Validation Acc: 0.8356164383561644\n",
      "Base Random Under 0.2 Gradient Boost Validation AUC: 0.5026937422295896\n",
      "\n",
      "\n"
     ]
    }
   ],
   "source": [
    "model_type = 'Random Under 0.2 Gradient Boost'\n",
    "base_model_rus0p1 = model_data(train_data_rus0p1, train_target_rus0p1, val_data, val_target, \n",
    "                           clf_base, scorers, model_type, model_desc, 5) \n"
   ]
  },
  {
   "cell_type": "code",
   "execution_count": 17,
   "metadata": {},
   "outputs": [
    {
     "name": "stdout",
     "output_type": "stream",
     "text": [
      "-- Low Variance Filtering --\n",
      "Threshold Selected: 0.4\n",
      "Selected Model Mean Accuracy Score: 0.8154239019407559\n",
      "Selected Model Accuracy Deviation: 0.0651413163078758\n",
      "Selected Model Mean AUC Score: 0.5318404118404119\n",
      "Selected Model AUC Deviation: 0.14880478743027645\n",
      "Number of Original Features: 30\n",
      "Number of Selected Features: 8\n",
      "Features Selected:\n",
      "['age', 'num_sex_partners', 'first_sex_int', 'num_pregnancies', 'smokes_yrs', 'smokes_pk_yrs', 'hormonal_contr_yrs', 'iud_yrs']\n",
      "Features Removed:\n",
      "['smokes', 'hormonal_contr', 'iud', 'stds', 'stds_num', 'stds_condylomatosis', 'stds_cerv_condylomatosis', 'stds_vag_condylomatosis', 'stds_vp_condylomatosis', 'stds_syphillus', 'stds_pelvic_inf_disease', 'stds_gen_herpes', 'stds_molluscom_contagiosum', 'stds_aids', 'stds_hiv', 'stds_hep_b', 'stds_hpv', 'stds_num_dx', 'dx_cancer', 'dx_cin', 'dx_hpv', 'dx']\n",
      "\n",
      "\n",
      "Low Variance Filter Random Under 0.2 Gradient Boost Validation Acc: 0.815068493150685\n",
      "Low Variance Filter Random Under 0.2 Gradient Boost Validation AUC: 0.513261500207211\n",
      "\n",
      "\n",
      "-- Model Wrapper Feature Selection --\n",
      "Model Mean Accuracy Score: 0.8176710929519919\n",
      "Selected Model Accuracy Deviation: 0.09409771061399652\n",
      "Model Mean AUC Score: 0.6061003861003862\n",
      "Selected Model AUC Deviation: 0.1571662322385149\n",
      "Number of Original Features: 30\n",
      "Number of Selected Features: 9\n",
      "Features Selected:\n",
      "['age', 'num_sex_partners', 'first_sex_int', 'num_pregnancies', 'smokes_pk_yrs', 'hormonal_contr_yrs', 'iud_yrs', 'stds_num_dx', 'dx']\n",
      "Features Removed:\n",
      "['smokes', 'smokes_yrs', 'hormonal_contr', 'iud', 'stds', 'stds_num', 'stds_condylomatosis', 'stds_cerv_condylomatosis', 'stds_vag_condylomatosis', 'stds_vp_condylomatosis', 'stds_syphillus', 'stds_pelvic_inf_disease', 'stds_gen_herpes', 'stds_molluscom_contagiosum', 'stds_aids', 'stds_hiv', 'stds_hep_b', 'stds_hpv', 'dx_cancer', 'dx_cin', 'dx_hpv']\n",
      "\n",
      "\n",
      "Model Wrapper Random Under 0.2 Gradient Boost Validation Acc: 0.8287671232876712\n",
      "Model Wrapper Random Under 0.2 Gradient Boost Validation AUC: 0.5211355159552423\n",
      "\n",
      "\n",
      "-- Stepwise Recursive Feature Selection --\n",
      "K Selected: 9\n",
      "Selected Model Mean Accuracy Score: 0.8176710929519919\n",
      "Selected Model Accuracy Deviation: 0.09409771061399652\n",
      "Selected Model Mean AUC Score: 0.6061003861003862\n",
      "Selected Model AUC Deviation: 0.1571662322385149\n",
      "Number of Original Features: 30\n",
      "Number of Selected Features: 9\n",
      "Features Selected:\n",
      "['age', 'num_sex_partners', 'first_sex_int', 'num_pregnancies', 'smokes_pk_yrs', 'hormonal_contr_yrs', 'iud_yrs', 'stds_num_dx', 'dx']\n",
      "Features Removed:\n",
      "['smokes', 'smokes_yrs', 'hormonal_contr', 'iud', 'stds', 'stds_num', 'stds_condylomatosis', 'stds_cerv_condylomatosis', 'stds_vag_condylomatosis', 'stds_vp_condylomatosis', 'stds_syphillus', 'stds_pelvic_inf_disease', 'stds_gen_herpes', 'stds_molluscom_contagiosum', 'stds_aids', 'stds_hiv', 'stds_hep_b', 'stds_hpv', 'dx_cancer', 'dx_cin', 'dx_hpv']\n",
      "\n",
      "\n",
      "Stepwise Recursive Random Under 0.2 Gradient Boost Validation Acc: 0.8287671232876712\n",
      "Stepwise Recursive Random Under 0.2 Gradient Boost Validation AUC: 0.5211355159552423\n",
      "\n",
      "\n",
      "-- Univariate Chi-Sq Feature Selection --\n",
      "K Selected: 10\n",
      "Selected Model Mean Accuracy Score: 0.8062819203268642\n",
      "Selected Model Accuracy Deviation: 0.05237521471015797\n",
      "Selected Model Mean AUC Score: 0.5736229086229087\n",
      "Selected Model AUC Deviation: 0.1644939922820391\n",
      "Number of Original Features: 30\n",
      "Number of Selected Features: 10\n",
      "Features Selected:\n",
      "['hormonal_contr_yrs', 'iud_yrs', 'stds', 'stds_num', 'stds_condylomatosis', 'stds_vp_condylomatosis', 'stds_num_dx', 'dx_cancer', 'dx_hpv', 'dx']\n",
      "Features Removed:\n",
      "['age', 'num_sex_partners', 'first_sex_int', 'num_pregnancies', 'smokes', 'smokes_yrs', 'smokes_pk_yrs', 'hormonal_contr', 'iud', 'stds_cerv_condylomatosis', 'stds_vag_condylomatosis', 'stds_syphillus', 'stds_pelvic_inf_disease', 'stds_gen_herpes', 'stds_molluscom_contagiosum', 'stds_aids', 'stds_hiv', 'stds_hep_b', 'stds_hpv', 'dx_cin']\n",
      "\n",
      "\n",
      "Univariate Chi-Squared Random Under 0.2 Gradient Boost Validation Acc: 0.8424657534246576\n",
      "Univariate Chi-Squared Random Under 0.2 Gradient Boost Validation AUC: 0.48425196850393704\n",
      "\n",
      "\n",
      "-- Mutual Information Feature Selection --\n",
      "K Selected: 5\n",
      "Selected Model Mean Accuracy Score: 0.826608784473953\n",
      "Selected Model Accuracy Deviation: 0.03298826406936702\n",
      "Selected Model Mean AUC Score: 0.6027863577863578\n",
      "Selected Model AUC Deviation: 0.16389067538898763\n",
      "Number of Original Features: 30\n",
      "Number of Selected Features: 5\n",
      "Features Selected:\n",
      "['stds_num', 'stds_condylomatosis', 'stds_vag_condylomatosis', 'stds_syphillus', 'dx_hpv']\n",
      "Features Removed:\n",
      "['age', 'num_sex_partners', 'first_sex_int', 'num_pregnancies', 'smokes', 'smokes_yrs', 'smokes_pk_yrs', 'hormonal_contr', 'hormonal_contr_yrs', 'iud', 'iud_yrs', 'stds', 'stds_cerv_condylomatosis', 'stds_vp_condylomatosis', 'stds_pelvic_inf_disease', 'stds_gen_herpes', 'stds_molluscom_contagiosum', 'stds_aids', 'stds_hiv', 'stds_hep_b', 'stds_hpv', 'stds_num_dx', 'dx_cancer', 'dx_cin', 'dx']\n",
      "\n",
      "\n",
      "Mutual Information Random Under 0.2 Gradient Boost Validation Acc: 0.863013698630137\n",
      "Mutual Information Random Under 0.2 Gradient Boost Validation AUC: 0.49606299212598426\n",
      "\n",
      "\n"
     ]
    }
   ],
   "source": [
    "results_dict_0p1 = \\\n",
    "  perform_feat_sel_models(train_data_rus0p1, train_target_rus0p1, val_data, val_target, clf_base, model_type, \n",
    "                          thresh_vals, k_vals)"
   ]
  }
 ],
 "metadata": {
  "kernelspec": {
   "display_name": "Python 3",
   "language": "python",
   "name": "python3"
  },
  "language_info": {
   "codemirror_mode": {
    "name": "ipython",
    "version": 3
   },
   "file_extension": ".py",
   "mimetype": "text/x-python",
   "name": "python",
   "nbconvert_exporter": "python",
   "pygments_lexer": "ipython3",
   "version": "3.6.8"
  }
 },
 "nbformat": 4,
 "nbformat_minor": 2
}
