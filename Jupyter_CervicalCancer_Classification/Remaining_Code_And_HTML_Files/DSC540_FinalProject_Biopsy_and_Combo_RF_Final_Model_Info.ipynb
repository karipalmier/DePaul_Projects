{
 "cells": [
  {
   "cell_type": "code",
   "execution_count": 1,
   "metadata": {},
   "outputs": [],
   "source": [
    "from sklearn.ensemble import RandomForestClassifier\n",
    "import pickle"
   ]
  },
  {
   "cell_type": "code",
   "execution_count": 2,
   "metadata": {},
   "outputs": [
    {
     "data": {
      "text/plain": [
       "array([0.05990363, 0.07489757, 0.30231723, 0.0814157 , 0.12098091,\n",
       "       0.09451193, 0.0387509 , 0.04993573, 0.06455391, 0.1127325 ])"
      ]
     },
     "execution_count": 2,
     "metadata": {},
     "output_type": "execute_result"
    }
   ],
   "source": [
    "biopsy_rf_filename = 'Biopsy_ChiSq_FS_SMOTE_0p3_RF_Model.sav'\n",
    "\n",
    "biopsy_rf_loaded_model = pickle.load(open(biopsy_rf_filename, 'rb'))\n",
    "biopsy_rf_loaded_model.feature_importances_"
   ]
  },
  {
   "cell_type": "code",
   "execution_count": 3,
   "metadata": {},
   "outputs": [
    {
     "data": {
      "text/plain": [
       "array([0.17258955, 0.2055104 , 0.168808  , 0.16870726, 0.03317452,\n",
       "       0.03863196, 0.16823851, 0.04433981])"
      ]
     },
     "execution_count": 3,
     "metadata": {},
     "output_type": "execute_result"
    }
   ],
   "source": [
    "combo_rf_filename = 'Combo_LVF_FS_SMOTE_1p0_RF_Model.sav'\n",
    "\n",
    "combo_rf_loaded_model = pickle.load(open(combo_rf_filename, 'rb'))\n",
    "combo_rf_loaded_model.feature_importances_"
   ]
  }
 ],
 "metadata": {
  "kernelspec": {
   "display_name": "Python 3",
   "language": "python",
   "name": "python3"
  },
  "language_info": {
   "codemirror_mode": {
    "name": "ipython",
    "version": 3
   },
   "file_extension": ".py",
   "mimetype": "text/x-python",
   "name": "python",
   "nbconvert_exporter": "python",
   "pygments_lexer": "ipython3",
   "version": "3.6.8"
  }
 },
 "nbformat": 4,
 "nbformat_minor": 2
}
