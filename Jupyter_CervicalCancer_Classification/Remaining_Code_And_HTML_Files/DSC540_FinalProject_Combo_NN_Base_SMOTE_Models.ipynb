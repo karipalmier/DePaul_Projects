{
 "cells": [
  {
   "cell_type": "code",
   "execution_count": 1,
   "metadata": {},
   "outputs": [],
   "source": [
    "%load_ext autoreload\n",
    "%autoreload 2"
   ]
  },
  {
   "cell_type": "code",
   "execution_count": 2,
   "metadata": {},
   "outputs": [],
   "source": [
    "import pandas as pd\n",
    "import numpy as np\n",
    "from sklearn.neural_network import MLPClassifier\n",
    "import pickle\n",
    "\n",
    "from model_creation import create_smote_data, fit_val_data, model_data, perform_base_models\n",
    "from model_creation import perform_feat_sel_models, perform_grid_search"
   ]
  },
  {
   "cell_type": "code",
   "execution_count": 3,
   "metadata": {},
   "outputs": [],
   "source": [
    "train_data = pd.read_csv('C:\\\\DePaulCoursework\\\\Winter 2019 CSC 529\\\\Project\\\\Data\\\\CervicalCancerRisks_Combo_target_TrainData.csv', \n",
    "                          delimiter=\",\", index_col = 0, header = 0)\n",
    "train_target = pd.read_csv('C:\\\\DePaulCoursework\\\\Winter 2019 CSC 529\\\\Project\\\\Data\\\\CervicalCancerRisks_Combo_target_TrainTarget.csv', \n",
    "                          delimiter=\",\", index_col = 0, header = 0)"
   ]
  },
  {
   "cell_type": "code",
   "execution_count": 4,
   "metadata": {},
   "outputs": [],
   "source": [
    "val_data = pd.read_csv('C:\\\\DePaulCoursework\\\\Winter 2019 CSC 529\\\\Project\\\\Data\\\\CervicalCancerRisks_Combo_target_ValData.csv', \n",
    "                          delimiter=\",\", index_col = 0, header = 0)\n",
    "val_target = pd.read_csv('C:\\\\DePaulCoursework\\\\Winter 2019 CSC 529\\\\Project\\\\Data\\\\CervicalCancerRisks_Combo_target_ValTarget.csv', \n",
    "                          delimiter=\",\", index_col = 0, header = 0)"
   ]
  },
  {
   "cell_type": "code",
   "execution_count": 5,
   "metadata": {},
   "outputs": [],
   "source": [
    "rand_st = 1\n"
   ]
  },
  {
   "cell_type": "code",
   "execution_count": 6,
   "metadata": {},
   "outputs": [
    {
     "name": "stdout",
     "output_type": "stream",
     "text": [
      "Number of Original Target 0 Value: 506\n",
      "Number of Original Target 1 Value: 74\n",
      "\n",
      "\n",
      "Number of SMOTE Target 0 Value: 506\n",
      "Number of SMOTE Target 1 Value: 506\n"
     ]
    }
   ],
   "source": [
    "train_data_sm1p0, train_target_sm1p0 = create_smote_data(train_data, train_target, rand_st, 1.0)"
   ]
  },
  {
   "cell_type": "code",
   "execution_count": 7,
   "metadata": {},
   "outputs": [],
   "source": [
    "#train_sm_data_name = data_save_path + 'CervicalCancerRisks_' + target_name + '_TrainData_SMOTE.csv'\n",
    "#data_train_sm1p0.to_csv(train_sm_data_name, sep = ',')\n",
    "#train_sm_target_name = data_save_path + 'CervicalCancerRisks_' + target_name + '_TrainTarget_SMOTE.csv'\n",
    "#target_train_sm1p0.to_csv(train_sm_target_name, sep = ',')\n"
   ]
  },
  {
   "cell_type": "code",
   "execution_count": 8,
   "metadata": {},
   "outputs": [],
   "source": [
    "scorers = {'Accuracy': 'accuracy', 'roc_auc': 'roc_auc'}\n",
    "thresh_vals = [0.4, 0.5, 0.6]\n",
    "k_vals = [5, 6, 7, 8, 9, 10]"
   ]
  },
  {
   "cell_type": "code",
   "execution_count": 9,
   "metadata": {},
   "outputs": [],
   "source": [
    "model_type = 'Neural Network'\n",
    "clf_base = MLPClassifier(activation = 'relu', solver = 'lbfgs', alpha = 0.0001,\n",
    "                       max_iter = 1000, hidden_layer_sizes = (10,), random_state = rand_st)\n"
   ]
  },
  {
   "cell_type": "code",
   "execution_count": 10,
   "metadata": {},
   "outputs": [
    {
     "name": "stdout",
     "output_type": "stream",
     "text": [
      "Base Neural Network CV Acc: 0.8707155396660644 +/- 0.009495270586772945\n",
      "Base Neural Network CV AUC: 0.6149346867459855 +/- 0.18362406939553663\n",
      "CV Runtime: 3.83677077293396\n",
      "\n",
      "\n",
      "Base Neural Network Validation Acc: 0.8698630136986302\n",
      "Base Neural Network Validation AUC: 0.5\n",
      "\n",
      "\n",
      "SMOTE Base Neural Network CV Acc: 0.5167831489031256 +/- 0.02386325928002356\n",
      "SMOTE Base Neural Network CV AUC: 0.5284938631243644 +/- 0.02639429549141436\n",
      "CV Runtime: 1.9249005317687988\n",
      "\n",
      "\n",
      "SMOTE Base Neural Network Validation Acc: 0.3013698630136986\n",
      "SMOTE Base Neural Network Validation AUC: 0.5760464152507252\n",
      "\n",
      "\n"
     ]
    },
    {
     "data": {
      "text/plain": [
       "(MLPClassifier(activation='relu', alpha=0.0001, batch_size='auto', beta_1=0.9,\n",
       "        beta_2=0.999, early_stopping=False, epsilon=1e-08,\n",
       "        hidden_layer_sizes=(10,), learning_rate='constant',\n",
       "        learning_rate_init=0.001, max_iter=1000, momentum=0.9,\n",
       "        n_iter_no_change=10, nesterovs_momentum=True, power_t=0.5,\n",
       "        random_state=1, shuffle=True, solver='lbfgs', tol=0.0001,\n",
       "        validation_fraction=0.1, verbose=False, warm_start=False),\n",
       " MLPClassifier(activation='relu', alpha=0.0001, batch_size='auto', beta_1=0.9,\n",
       "        beta_2=0.999, early_stopping=False, epsilon=1e-08,\n",
       "        hidden_layer_sizes=(10,), learning_rate='constant',\n",
       "        learning_rate_init=0.001, max_iter=1000, momentum=0.9,\n",
       "        n_iter_no_change=10, nesterovs_momentum=True, power_t=0.5,\n",
       "        random_state=1, shuffle=True, solver='lbfgs', tol=0.0001,\n",
       "        validation_fraction=0.1, verbose=False, warm_start=False))"
      ]
     },
     "execution_count": 10,
     "metadata": {},
     "output_type": "execute_result"
    }
   ],
   "source": [
    "perform_base_models(train_data, train_target, val_data, val_target, train_data_sm1p0, train_target_sm1p0, clf_base, \n",
    "                    scorers, model_type)"
   ]
  },
  {
   "cell_type": "code",
   "execution_count": 11,
   "metadata": {},
   "outputs": [
    {
     "name": "stdout",
     "output_type": "stream",
     "text": [
      "-- Low Variance Filtering --\n",
      "Threshold Selected: 0.4\n",
      "Selected Model Mean Accuracy Score: 0.8741490793065007\n",
      "Selected Model Accuracy Deviation: 0.007643193290641767\n",
      "Selected Model Mean AUC Score: 0.4999233620841076\n",
      "Selected Model AUC Deviation: 0.11258361608109248\n",
      "Number of Original Features: 30\n",
      "Number of Selected Features: 8\n",
      "Features Selected:\n",
      "['age', 'num_sex_partners', 'first_sex_int', 'num_pregnancies', 'smokes_yrs', 'smokes_pk_yrs', 'hormonal_contr_yrs', 'iud_yrs']\n",
      "Features Removed:\n",
      "['smokes', 'hormonal_contr', 'iud', 'stds', 'stds_num', 'stds_condylomatosis', 'stds_cerv_condylomatosis', 'stds_vag_condylomatosis', 'stds_vp_condylomatosis', 'stds_syphillus', 'stds_pelvic_inf_disease', 'stds_gen_herpes', 'stds_molluscom_contagiosum', 'stds_aids', 'stds_hiv', 'stds_hep_b', 'stds_hpv', 'stds_num_dx', 'dx_cancer', 'dx_cin', 'dx_hpv', 'dx']\n",
      "\n",
      "\n",
      "Low Variance Filter Neural Network Validation Acc: 0.8698630136986302\n",
      "Low Variance Filter Neural Network Validation AUC: 0.5\n",
      "\n",
      "\n",
      "-- Univariate Chi-Sq Feature Selection --\n",
      "K Selected: 5\n",
      "Selected Model Mean Accuracy Score: 0.8569369161573059\n",
      "Selected Model Accuracy Deviation: 0.016159894643419805\n",
      "Selected Model Mean AUC Score: 0.6005308261918628\n",
      "Selected Model AUC Deviation: 0.06290109451057474\n",
      "Number of Original Features: 30\n",
      "Number of Selected Features: 5\n",
      "Features Selected:\n",
      "['hormonal_contr_yrs', 'stds_num', 'dx_cancer', 'dx_hpv', 'dx']\n",
      "Features Removed:\n",
      "['age', 'num_sex_partners', 'first_sex_int', 'num_pregnancies', 'smokes', 'smokes_yrs', 'smokes_pk_yrs', 'hormonal_contr', 'iud', 'iud_yrs', 'stds', 'stds_condylomatosis', 'stds_cerv_condylomatosis', 'stds_vag_condylomatosis', 'stds_vp_condylomatosis', 'stds_syphillus', 'stds_pelvic_inf_disease', 'stds_gen_herpes', 'stds_molluscom_contagiosum', 'stds_aids', 'stds_hiv', 'stds_hep_b', 'stds_hpv', 'stds_num_dx', 'dx_cin']\n",
      "\n",
      "\n",
      "Univariate Chi-Squared Neural Network Validation Acc: 0.863013698630137\n",
      "Univariate Chi-Squared Neural Network Validation AUC: 0.49606299212598426\n",
      "\n",
      "\n",
      "-- Mutual Information Feature Selection --\n",
      "K Selected: 6\n",
      "Selected Model Mean Accuracy Score: 0.8707307884519278\n",
      "Selected Model Accuracy Deviation: 0.02822653838612755\n",
      "Selected Model Mean AUC Score: 0.6307799687531779\n",
      "Selected Model AUC Deviation: 0.15030322868000653\n",
      "Number of Original Features: 30\n",
      "Number of Selected Features: 6\n",
      "Features Selected:\n",
      "['first_sex_int', 'hormonal_contr', 'stds', 'stds_cerv_condylomatosis', 'dx_hpv', 'dx']\n",
      "Features Removed:\n",
      "['age', 'num_sex_partners', 'num_pregnancies', 'smokes', 'smokes_yrs', 'smokes_pk_yrs', 'hormonal_contr_yrs', 'iud', 'iud_yrs', 'stds_num', 'stds_condylomatosis', 'stds_vag_condylomatosis', 'stds_vp_condylomatosis', 'stds_syphillus', 'stds_pelvic_inf_disease', 'stds_gen_herpes', 'stds_molluscom_contagiosum', 'stds_aids', 'stds_hiv', 'stds_hep_b', 'stds_hpv', 'stds_num_dx', 'dx_cancer', 'dx_cin']\n",
      "\n",
      "\n",
      "Mutual Information Neural Network Validation Acc: 0.863013698630137\n",
      "Mutual Information Neural Network Validation AUC: 0.49606299212598426\n",
      "\n",
      "\n"
     ]
    }
   ],
   "source": [
    "results_dict_base = \\\n",
    "  perform_feat_sel_models(train_data, train_target, val_data, val_target, clf_base, model_type, thresh_vals, k_vals)"
   ]
  },
  {
   "cell_type": "code",
   "execution_count": 12,
   "metadata": {},
   "outputs": [
    {
     "name": "stdout",
     "output_type": "stream",
     "text": [
      "-- Low Variance Filtering --\n",
      "Threshold Selected: 0.4\n",
      "Selected Model Mean Accuracy Score: 0.6116288099398176\n",
      "Selected Model Accuracy Deviation: 0.05077936780981348\n",
      "Selected Model Mean AUC Score: 0.6279096183625693\n",
      "Selected Model AUC Deviation: 0.04946080784553926\n",
      "Number of Original Features: 30\n",
      "Number of Selected Features: 8\n",
      "Features Selected:\n",
      "['age', 'num_sex_partners', 'first_sex_int', 'num_pregnancies', 'smokes_yrs', 'smokes_pk_yrs', 'hormonal_contr_yrs', 'iud_yrs']\n",
      "Features Removed:\n",
      "['smokes', 'hormonal_contr', 'iud', 'stds', 'stds_num', 'stds_condylomatosis', 'stds_cerv_condylomatosis', 'stds_vag_condylomatosis', 'stds_vp_condylomatosis', 'stds_syphillus', 'stds_pelvic_inf_disease', 'stds_gen_herpes', 'stds_molluscom_contagiosum', 'stds_aids', 'stds_hiv', 'stds_hep_b', 'stds_hpv', 'stds_num_dx', 'dx_cancer', 'dx_cin', 'dx_hpv', 'dx']\n",
      "\n",
      "\n",
      "Low Variance Filter SMOTE Neural Network Validation Acc: 0.5684931506849316\n",
      "Low Variance Filter SMOTE Neural Network Validation AUC: 0.5953170327393286\n",
      "\n",
      "\n",
      "-- Univariate Chi-Sq Feature Selection --\n",
      "K Selected: 8\n",
      "Selected Model Mean Accuracy Score: 0.7086196854979615\n",
      "Selected Model Accuracy Deviation: 0.06355875406983369\n",
      "Selected Model Mean AUC Score: 0.7543525031526072\n",
      "Selected Model AUC Deviation: 0.12786054824374127\n",
      "Number of Original Features: 30\n",
      "Number of Selected Features: 8\n",
      "Features Selected:\n",
      "['hormonal_contr_yrs', 'stds', 'stds_num', 'stds_vp_condylomatosis', 'stds_num_dx', 'dx_cancer', 'dx_hpv', 'dx']\n",
      "Features Removed:\n",
      "['age', 'num_sex_partners', 'first_sex_int', 'num_pregnancies', 'smokes', 'smokes_yrs', 'smokes_pk_yrs', 'hormonal_contr', 'iud', 'iud_yrs', 'stds_condylomatosis', 'stds_cerv_condylomatosis', 'stds_vag_condylomatosis', 'stds_syphillus', 'stds_pelvic_inf_disease', 'stds_gen_herpes', 'stds_molluscom_contagiosum', 'stds_aids', 'stds_hiv', 'stds_hep_b', 'stds_hpv', 'dx_cin']\n",
      "\n",
      "\n",
      "Univariate Chi-Squared SMOTE Neural Network Validation Acc: 0.678082191780822\n",
      "Univariate Chi-Squared SMOTE Neural Network Validation AUC: 0.5687940323249068\n",
      "\n",
      "\n",
      "-- Mutual Information Feature Selection --\n",
      "K Selected: 7\n",
      "Selected Model Mean Accuracy Score: 0.6580955154338964\n",
      "Selected Model Accuracy Deviation: 0.1073183912399793\n",
      "Selected Model Mean AUC Score: 0.700036456761576\n",
      "Selected Model AUC Deviation: 0.12094348709804693\n",
      "Number of Original Features: 30\n",
      "Number of Selected Features: 7\n",
      "Features Selected:\n",
      "['age', 'num_sex_partners', 'first_sex_int', 'num_pregnancies', 'hormonal_contr', 'hormonal_contr_yrs', 'stds']\n",
      "Features Removed:\n",
      "['smokes', 'smokes_yrs', 'smokes_pk_yrs', 'iud', 'iud_yrs', 'stds_num', 'stds_condylomatosis', 'stds_cerv_condylomatosis', 'stds_vag_condylomatosis', 'stds_vp_condylomatosis', 'stds_syphillus', 'stds_pelvic_inf_disease', 'stds_gen_herpes', 'stds_molluscom_contagiosum', 'stds_aids', 'stds_hiv', 'stds_hep_b', 'stds_hpv', 'stds_num_dx', 'dx_cancer', 'dx_cin', 'dx_hpv', 'dx']\n",
      "\n",
      "\n",
      "Mutual Information SMOTE Neural Network Validation Acc: 0.547945205479452\n",
      "Mutual Information SMOTE Neural Network Validation AUC: 0.5387484459179445\n",
      "\n",
      "\n"
     ]
    }
   ],
   "source": [
    "model_type = 'SMOTE Neural Network'\n",
    "results_dict_1p0 = \\\n",
    "  perform_feat_sel_models(train_data_sm1p0, train_target_sm1p0, val_data, val_target, clf_base, model_type, \n",
    "                          thresh_vals, k_vals)"
   ]
  },
  {
   "cell_type": "code",
   "execution_count": 13,
   "metadata": {},
   "outputs": [
    {
     "name": "stdout",
     "output_type": "stream",
     "text": [
      "Number of Original Target 0 Value: 506\n",
      "Number of Original Target 1 Value: 74\n",
      "\n",
      "\n",
      "Number of SMOTE Target 0 Value: 506\n",
      "Number of SMOTE Target 1 Value: 151\n"
     ]
    }
   ],
   "source": [
    "train_data_sm0p3, train_target_sm0p3 = create_smote_data(train_data, train_target, rand_st, 0.3)"
   ]
  },
  {
   "cell_type": "code",
   "execution_count": 14,
   "metadata": {},
   "outputs": [
    {
     "name": "stdout",
     "output_type": "stream",
     "text": [
      "Base SMOTE Neural Network CV Acc: 0.8707155396660644 +/- 0.009495270586772945\n",
      "Base SMOTE Neural Network CV AUC: 0.6149346867459855 +/- 0.18362406939553663\n",
      "CV Runtime: 3.014241933822632\n",
      "\n",
      "\n",
      "Base SMOTE Neural Network Validation Acc: 0.8698630136986302\n",
      "Base SMOTE Neural Network Validation AUC: 0.5\n",
      "\n",
      "\n",
      "SMOTE Base SMOTE Neural Network CV Acc: 0.7579636113183722 +/- 0.05618640582320463\n",
      "SMOTE Base SMOTE Neural Network CV AUC: 0.6752015581064749 +/- 0.10425602564353292\n",
      "CV Runtime: 2.8373680114746094\n",
      "\n",
      "\n",
      "SMOTE Base SMOTE Neural Network Validation Acc: 0.8287671232876712\n",
      "SMOTE Base SMOTE Neural Network Validation AUC: 0.5435142975549109\n",
      "\n",
      "\n"
     ]
    },
    {
     "data": {
      "text/plain": [
       "(MLPClassifier(activation='relu', alpha=0.0001, batch_size='auto', beta_1=0.9,\n",
       "        beta_2=0.999, early_stopping=False, epsilon=1e-08,\n",
       "        hidden_layer_sizes=(10,), learning_rate='constant',\n",
       "        learning_rate_init=0.001, max_iter=1000, momentum=0.9,\n",
       "        n_iter_no_change=10, nesterovs_momentum=True, power_t=0.5,\n",
       "        random_state=1, shuffle=True, solver='lbfgs', tol=0.0001,\n",
       "        validation_fraction=0.1, verbose=False, warm_start=False),\n",
       " MLPClassifier(activation='relu', alpha=0.0001, batch_size='auto', beta_1=0.9,\n",
       "        beta_2=0.999, early_stopping=False, epsilon=1e-08,\n",
       "        hidden_layer_sizes=(10,), learning_rate='constant',\n",
       "        learning_rate_init=0.001, max_iter=1000, momentum=0.9,\n",
       "        n_iter_no_change=10, nesterovs_momentum=True, power_t=0.5,\n",
       "        random_state=1, shuffle=True, solver='lbfgs', tol=0.0001,\n",
       "        validation_fraction=0.1, verbose=False, warm_start=False))"
      ]
     },
     "execution_count": 14,
     "metadata": {},
     "output_type": "execute_result"
    }
   ],
   "source": [
    "perform_base_models(train_data, train_target, val_data, val_target, train_data_sm0p3, train_target_sm0p3, clf_base, \n",
    "                    scorers, model_type)"
   ]
  },
  {
   "cell_type": "code",
   "execution_count": 15,
   "metadata": {},
   "outputs": [
    {
     "name": "stdout",
     "output_type": "stream",
     "text": [
      "-- Low Variance Filtering --\n",
      "Threshold Selected: 0.4\n",
      "Selected Model Mean Accuracy Score: 0.7519715318831428\n",
      "Selected Model Accuracy Deviation: 0.039667194129758325\n",
      "Selected Model Mean AUC Score: 0.5875509296660215\n",
      "Selected Model AUC Deviation: 0.1364914734938519\n",
      "Number of Original Features: 30\n",
      "Number of Selected Features: 8\n",
      "Features Selected:\n",
      "['age', 'num_sex_partners', 'first_sex_int', 'num_pregnancies', 'smokes_yrs', 'smokes_pk_yrs', 'hormonal_contr_yrs', 'iud_yrs']\n",
      "Features Removed:\n",
      "['smokes', 'hormonal_contr', 'iud', 'stds', 'stds_num', 'stds_condylomatosis', 'stds_cerv_condylomatosis', 'stds_vag_condylomatosis', 'stds_vp_condylomatosis', 'stds_syphillus', 'stds_pelvic_inf_disease', 'stds_gen_herpes', 'stds_molluscom_contagiosum', 'stds_aids', 'stds_hiv', 'stds_hep_b', 'stds_hpv', 'stds_num_dx', 'dx_cancer', 'dx_cin', 'dx_hpv', 'dx']\n",
      "\n",
      "\n",
      "Low Variance Filter SMOTE Neural Network Validation Acc: 0.863013698630137\n",
      "Low Variance Filter SMOTE Neural Network Validation AUC: 0.49606299212598426\n",
      "\n",
      "\n",
      "-- Univariate Chi-Sq Feature Selection --\n",
      "K Selected: 10\n",
      "Selected Model Mean Accuracy Score: 0.8022843367961888\n",
      "Selected Model Accuracy Deviation: 0.05430036025466032\n",
      "Selected Model Mean AUC Score: 0.7036019939754886\n",
      "Selected Model AUC Deviation: 0.11768177690830166\n",
      "Number of Original Features: 30\n",
      "Number of Selected Features: 10\n",
      "Features Selected:\n",
      "['hormonal_contr_yrs', 'iud_yrs', 'stds', 'stds_num', 'stds_vp_condylomatosis', 'stds_gen_herpes', 'stds_num_dx', 'dx_cancer', 'dx_hpv', 'dx']\n",
      "Features Removed:\n",
      "['age', 'num_sex_partners', 'first_sex_int', 'num_pregnancies', 'smokes', 'smokes_yrs', 'smokes_pk_yrs', 'hormonal_contr', 'iud', 'stds_condylomatosis', 'stds_cerv_condylomatosis', 'stds_vag_condylomatosis', 'stds_syphillus', 'stds_pelvic_inf_disease', 'stds_molluscom_contagiosum', 'stds_aids', 'stds_hiv', 'stds_hep_b', 'stds_hpv', 'dx_cin']\n",
      "\n",
      "\n",
      "Univariate Chi-Squared SMOTE Neural Network Validation Acc: 0.8356164383561644\n",
      "Univariate Chi-Squared SMOTE Neural Network Validation AUC: 0.5250725238292581\n",
      "\n",
      "\n",
      "-- Mutual Information Feature Selection --\n",
      "K Selected: 10\n",
      "Selected Model Mean Accuracy Score: 0.7656660735808988\n",
      "Selected Model Accuracy Deviation: 0.04815187976492355\n",
      "Selected Model Mean AUC Score: 0.6725706878088188\n",
      "Selected Model AUC Deviation: 0.15823380104318763\n",
      "Number of Original Features: 30\n",
      "Number of Selected Features: 10\n",
      "Features Selected:\n",
      "['age', 'num_sex_partners', 'first_sex_int', 'num_pregnancies', 'hormonal_contr', 'hormonal_contr_yrs', 'stds_vp_condylomatosis', 'stds_num_dx', 'dx_cancer', 'dx_hpv']\n",
      "Features Removed:\n",
      "['smokes', 'smokes_yrs', 'smokes_pk_yrs', 'iud', 'iud_yrs', 'stds', 'stds_num', 'stds_condylomatosis', 'stds_cerv_condylomatosis', 'stds_vag_condylomatosis', 'stds_syphillus', 'stds_pelvic_inf_disease', 'stds_gen_herpes', 'stds_molluscom_contagiosum', 'stds_aids', 'stds_hiv', 'stds_hep_b', 'stds_hpv', 'dx_cin', 'dx']\n",
      "\n",
      "\n",
      "Mutual Information SMOTE Neural Network Validation Acc: 0.863013698630137\n",
      "Mutual Information SMOTE Neural Network Validation AUC: 0.5184417737256527\n",
      "\n",
      "\n"
     ]
    }
   ],
   "source": [
    "results_dict_0p3 = \\\n",
    "  perform_feat_sel_models(train_data_sm0p3, train_target_sm0p3, val_data, val_target, clf_base, model_type, \n",
    "                          thresh_vals, k_vals)"
   ]
  },
  {
   "cell_type": "code",
   "execution_count": 16,
   "metadata": {},
   "outputs": [],
   "source": [
    "cv = 5\n",
    "clf_grid = MLPClassifier(random_state = rand_st)\n",
    "\n",
    "activation = ['logistic', 'relu', 'tanh']\n",
    "solver = ['lbfgs', 'adam', 'sgd']\n",
    "alpha = [0.0001]\n",
    "max_iter = [1000, 500, 2000]\n",
    "hidden_layer_sizes = [(10,), (20,), (50,)]\n",
    "\n",
    "#activation = ['relu']\n",
    "#solver = ['lbfgs']\n",
    "#alpha = [0.0001]\n",
    "#max_iter = [1000]\n",
    "#hidden_layer_sizes = [(10,)]\n",
    "\n",
    "model_params = {\n",
    "    'activation': activation,\n",
    "    'solver': solver,\n",
    "    'alpha': alpha,\n",
    "    'max_iter': max_iter,\n",
    "    'hidden_layer_sizes': hidden_layer_sizes\n",
    "}\n",
    "\n",
    "score = 'roc_auc'"
   ]
  },
  {
   "cell_type": "code",
   "execution_count": 17,
   "metadata": {},
   "outputs": [
    {
     "name": "stdout",
     "output_type": "stream",
     "text": [
      "Low Variance Filter FS SMOTE 1.0 Neural Network Grid Search\n",
      "Fitting 5 folds for each of 81 candidates, totalling 405 fits\n"
     ]
    },
    {
     "name": "stderr",
     "output_type": "stream",
     "text": [
      "[Parallel(n_jobs=1)]: Using backend SequentialBackend with 1 concurrent workers.\n",
      "[Parallel(n_jobs=1)]: Done 405 out of 405 | elapsed: 11.7min finished\n"
     ]
    },
    {
     "name": "stdout",
     "output_type": "stream",
     "text": [
      "Grid Search Runtime: 712.4522726535797\n",
      "\n",
      "\n",
      "Grid Search Optimal Parameters: {'activation': 'relu', 'alpha': 0.0001, 'hidden_layer_sizes': (50,), 'max_iter': 2000, 'solver': 'lbfgs'}\n",
      "Grid Search Optimal Parameter Score: 0.7785473560143736\n",
      "\n",
      "\n",
      "Final Model Parameter Settings:\n",
      "MLPClassifier(activation='relu', alpha=0.0001, batch_size='auto', beta_1=0.9,\n",
      "       beta_2=0.999, early_stopping=False, epsilon=1e-08,\n",
      "       hidden_layer_sizes=(50,), learning_rate='constant',\n",
      "       learning_rate_init=0.001, max_iter=2000, momentum=0.9,\n",
      "       n_iter_no_change=10, nesterovs_momentum=True, power_t=0.5,\n",
      "       random_state=1, shuffle=True, solver='lbfgs', tol=0.0001,\n",
      "       validation_fraction=0.1, verbose=False, warm_start=False)\n",
      "\n",
      "\n",
      "Low Variance Filter FS SMOTE 1.0 Neural Network CV Acc: 0.720374684527276 +/- 0.023717447498225283\n",
      "Low Variance Filter FS SMOTE 1.0 Neural Network CV AUC: 0.7785445023312842 +/- 0.032416830967178255\n",
      "CV Runtime: 34.708065032958984\n",
      "\n",
      "\n",
      "Low Variance Filter FS SMOTE 1.0 Neural Network Validation Acc: 0.6027397260273972\n",
      "Low Variance Filter FS SMOTE 1.0 Neural Network Validation AUC: 0.547865727310402\n",
      "\n",
      "\n"
     ]
    }
   ],
   "source": [
    "lvf_train_data_1p0 = results_dict_1p0['lvf']['data']\n",
    "lvf_del_cols_1p0 = results_dict_1p0['lvf']['del_cols']\n",
    "lvf_val_data_1p0 = val_data.drop(lvf_del_cols_1p0, axis = 1)\n",
    "\n",
    "model_type = 'SMOTE 1.0 Neural Network'\n",
    "model_desc = 'Low Variance Filter FS'\n",
    "\n",
    "opt_model = perform_grid_search(clf_grid, lvf_train_data_1p0, train_target_sm1p0, model_params, score, cv, \n",
    "                              model_type, model_desc)\n",
    "lvf_model_sm_1p0 = model_data(lvf_train_data_1p0, train_target_sm1p0, lvf_val_data_1p0, val_target, \n",
    "                                opt_model, scorers, model_type, model_desc, cv)\n"
   ]
  },
  {
   "cell_type": "code",
   "execution_count": 18,
   "metadata": {},
   "outputs": [],
   "source": [
    "filename = 'Combo_LVF_FS_SMOTE_1p0_NN_Model.sav'\n",
    "pickle.dump(lvf_model_sm_1p0, open(filename, 'wb'))"
   ]
  },
  {
   "cell_type": "code",
   "execution_count": 19,
   "metadata": {},
   "outputs": [
    {
     "name": "stdout",
     "output_type": "stream",
     "text": [
      "Chi-Squared FS SMOTE 1.0 Neural Network Grid Search\n",
      "Fitting 5 folds for each of 81 candidates, totalling 405 fits\n"
     ]
    },
    {
     "name": "stderr",
     "output_type": "stream",
     "text": [
      "[Parallel(n_jobs=1)]: Using backend SequentialBackend with 1 concurrent workers.\n",
      "[Parallel(n_jobs=1)]: Done 405 out of 405 | elapsed: 13.9min finished\n",
      "C:\\Users\\Kari\\Anaconda3\\lib\\site-packages\\sklearn\\model_selection\\_search.py:841: DeprecationWarning: The default of the `iid` parameter will change from True to False in version 0.22 and will be removed in 0.24. This will change numeric results when test-set sizes are unequal.\n",
      "  DeprecationWarning)\n"
     ]
    },
    {
     "name": "stdout",
     "output_type": "stream",
     "text": [
      "Grid Search Runtime: 840.8854105472565\n",
      "\n",
      "\n",
      "Grid Search Optimal Parameters: {'activation': 'relu', 'alpha': 0.0001, 'hidden_layer_sizes': (50,), 'max_iter': 2000, 'solver': 'lbfgs'}\n",
      "Grid Search Optimal Parameter Score: 0.7792913882181057\n",
      "\n",
      "\n",
      "Final Model Parameter Settings:\n",
      "MLPClassifier(activation='relu', alpha=0.0001, batch_size='auto', beta_1=0.9,\n",
      "       beta_2=0.999, early_stopping=False, epsilon=1e-08,\n",
      "       hidden_layer_sizes=(50,), learning_rate='constant',\n",
      "       learning_rate_init=0.001, max_iter=2000, momentum=0.9,\n",
      "       n_iter_no_change=10, nesterovs_momentum=True, power_t=0.5,\n",
      "       random_state=1, shuffle=True, solver='lbfgs', tol=0.0001,\n",
      "       validation_fraction=0.1, verbose=False, warm_start=False)\n",
      "\n",
      "\n",
      "Chi-Squared FS SMOTE 1.0 Neural Network CV Acc: 0.735381479324403 +/- 0.10628351437188079\n",
      "Chi-Squared FS SMOTE 1.0 Neural Network CV AUC: 0.779571982430351 +/- 0.1450789118758233\n",
      "CV Runtime: 30.771302700042725\n",
      "\n",
      "\n",
      "Chi-Squared FS SMOTE 1.0 Neural Network Validation Acc: 0.7328767123287672\n",
      "Chi-Squared FS SMOTE 1.0 Neural Network Validation AUC: 0.48839618731869044\n",
      "\n",
      "\n"
     ]
    }
   ],
   "source": [
    "chisq_train_data_1p0 = results_dict_1p0['chisq']['data']\n",
    "chisq_del_cols_1p0 = results_dict_1p0['chisq']['del_cols']\n",
    "chisq_val_data_1p0 = val_data.drop(chisq_del_cols_1p0, axis = 1)\n",
    "\n",
    "model_type = 'SMOTE 1.0 Neural Network'\n",
    "model_desc = 'Chi-Squared FS'\n",
    "\n",
    "opt_model = perform_grid_search(clf_grid, chisq_train_data_1p0, train_target_sm1p0, model_params, score, cv, \n",
    "                              model_type, model_desc)\n",
    "chisq_model_sm_1p0 = model_data(chisq_train_data_1p0, train_target_sm1p0, chisq_val_data_1p0, val_target, \n",
    "                                opt_model, scorers, model_type, model_desc, cv)\n"
   ]
  },
  {
   "cell_type": "code",
   "execution_count": 20,
   "metadata": {},
   "outputs": [],
   "source": [
    "filename = 'Combo_ChiSq_FS_SMOTE_1p0_NN_Model.sav'\n",
    "pickle.dump(chisq_model_sm_1p0, open(filename, 'wb'))"
   ]
  },
  {
   "cell_type": "code",
   "execution_count": 21,
   "metadata": {},
   "outputs": [
    {
     "name": "stdout",
     "output_type": "stream",
     "text": [
      "Mutual Information FS SMOTE 1.0 Neural Network Grid Search\n",
      "Fitting 5 folds for each of 81 candidates, totalling 405 fits\n"
     ]
    },
    {
     "name": "stderr",
     "output_type": "stream",
     "text": [
      "[Parallel(n_jobs=1)]: Using backend SequentialBackend with 1 concurrent workers.\n",
      "[Parallel(n_jobs=1)]: Done 405 out of 405 | elapsed: 10.8min finished\n"
     ]
    },
    {
     "name": "stdout",
     "output_type": "stream",
     "text": [
      "Grid Search Runtime: 654.8154439926147\n",
      "\n",
      "\n",
      "Grid Search Optimal Parameters: {'activation': 'tanh', 'alpha': 0.0001, 'hidden_layer_sizes': (50,), 'max_iter': 2000, 'solver': 'lbfgs'}\n",
      "Grid Search Optimal Parameter Score: 0.8367451195247402\n",
      "\n",
      "\n",
      "Final Model Parameter Settings:\n",
      "MLPClassifier(activation='tanh', alpha=0.0001, batch_size='auto', beta_1=0.9,\n",
      "       beta_2=0.999, early_stopping=False, epsilon=1e-08,\n",
      "       hidden_layer_sizes=(50,), learning_rate='constant',\n",
      "       learning_rate_init=0.001, max_iter=2000, momentum=0.9,\n",
      "       n_iter_no_change=10, nesterovs_momentum=True, power_t=0.5,\n",
      "       random_state=1, shuffle=True, solver='lbfgs', tol=0.0001,\n",
      "       validation_fraction=0.1, verbose=False, warm_start=False)\n",
      "\n",
      "\n",
      "Mutual Information FS SMOTE 1.0 Neural Network CV Acc: 0.7619200155309649 +/- 0.06319582093294157\n",
      "Mutual Information FS SMOTE 1.0 Neural Network CV AUC: 0.8368042164112264 +/- 0.08228151322978329\n",
      "CV Runtime: 26.11095881462097\n",
      "\n",
      "\n",
      "Mutual Information FS SMOTE 1.0 Neural Network Validation Acc: 0.6027397260273972\n",
      "Mutual Information FS SMOTE 1.0 Neural Network Validation AUC: 0.547865727310402\n",
      "\n",
      "\n"
     ]
    }
   ],
   "source": [
    "mutinf_train_data_1p0 = results_dict_1p0['mutinf']['data']\n",
    "mutinf_del_cols_1p0 = results_dict_1p0['mutinf']['del_cols']\n",
    "mutinf_val_data_1p0 = val_data.drop(mutinf_del_cols_1p0, axis = 1)\n",
    "\n",
    "model_type = 'SMOTE 1.0 Neural Network'\n",
    "model_desc = 'Mutual Information FS'\n",
    "\n",
    "opt_model = perform_grid_search(clf_grid, mutinf_train_data_1p0, train_target_sm1p0, model_params, score, cv, \n",
    "                              model_type, model_desc)\n",
    "mutinf_model_sm_1p0 = model_data(mutinf_train_data_1p0, train_target_sm1p0, mutinf_val_data_1p0, val_target, \n",
    "                                opt_model, scorers, model_type, model_desc, cv)\n"
   ]
  },
  {
   "cell_type": "code",
   "execution_count": 22,
   "metadata": {},
   "outputs": [],
   "source": [
    "filename = 'Combo_MutInf_FS_SMOTE_1p0_NN_Model.sav'\n",
    "pickle.dump(mutinf_model_sm_1p0, open(filename, 'wb'))"
   ]
  }
 ],
 "metadata": {
  "kernelspec": {
   "display_name": "Python 3",
   "language": "python",
   "name": "python3"
  },
  "language_info": {
   "codemirror_mode": {
    "name": "ipython",
    "version": 3
   },
   "file_extension": ".py",
   "mimetype": "text/x-python",
   "name": "python",
   "nbconvert_exporter": "python",
   "pygments_lexer": "ipython3",
   "version": "3.6.8"
  }
 },
 "nbformat": 4,
 "nbformat_minor": 2
}
