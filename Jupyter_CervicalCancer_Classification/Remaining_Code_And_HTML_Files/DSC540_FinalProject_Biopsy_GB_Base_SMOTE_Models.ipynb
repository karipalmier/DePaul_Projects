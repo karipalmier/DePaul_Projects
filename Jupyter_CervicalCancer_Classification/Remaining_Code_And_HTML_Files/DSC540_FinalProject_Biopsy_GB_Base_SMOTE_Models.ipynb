{
 "cells": [
  {
   "cell_type": "code",
   "execution_count": 1,
   "metadata": {},
   "outputs": [],
   "source": [
    "%load_ext autoreload\n",
    "%autoreload 2"
   ]
  },
  {
   "cell_type": "code",
   "execution_count": 2,
   "metadata": {},
   "outputs": [],
   "source": [
    "import pandas as pd\n",
    "import numpy as np\n",
    "from sklearn.ensemble import GradientBoostingClassifier\n",
    "import pickle\n",
    "\n",
    "from model_creation import create_smote_data, fit_val_data, model_data, perform_base_models\n",
    "from model_creation import perform_feat_sel_models, perform_grid_search"
   ]
  },
  {
   "cell_type": "code",
   "execution_count": 3,
   "metadata": {},
   "outputs": [],
   "source": [
    "train_data = pd.read_csv('C:\\\\DePaulCoursework\\\\Winter 2019 CSC 529\\\\Project\\\\Data\\\\CervicalCancerRisks_Biopsy_TrainData.csv', \n",
    "                          delimiter=\",\", index_col = 0, header = 0)\n",
    "train_target = pd.read_csv('C:\\\\DePaulCoursework\\\\Winter 2019 CSC 529\\\\Project\\\\Data\\\\CervicalCancerRisks_Biopsy_TrainTarget.csv', \n",
    "                          delimiter=\",\", index_col = 0, header = 0)"
   ]
  },
  {
   "cell_type": "code",
   "execution_count": 4,
   "metadata": {},
   "outputs": [],
   "source": [
    "val_data = pd.read_csv('C:\\\\DePaulCoursework\\\\Winter 2019 CSC 529\\\\Project\\\\Data\\\\CervicalCancerRisks_Biopsy_ValData.csv', \n",
    "                          delimiter=\",\", index_col = 0, header = 0)\n",
    "val_target = pd.read_csv('C:\\\\DePaulCoursework\\\\Winter 2019 CSC 529\\\\Project\\\\Data\\\\CervicalCancerRisks_Biopsy_ValTarget.csv', \n",
    "                          delimiter=\",\", index_col = 0, header = 0)"
   ]
  },
  {
   "cell_type": "code",
   "execution_count": 5,
   "metadata": {},
   "outputs": [],
   "source": [
    "rand_st = 1\n"
   ]
  },
  {
   "cell_type": "code",
   "execution_count": 6,
   "metadata": {},
   "outputs": [
    {
     "name": "stdout",
     "output_type": "stream",
     "text": [
      "Number of Original Target 0 Value: 540\n",
      "Number of Original Target 1 Value: 40\n",
      "\n",
      "\n",
      "Number of SMOTE Target 0 Value: 540\n",
      "Number of SMOTE Target 1 Value: 540\n"
     ]
    }
   ],
   "source": [
    "train_data_sm1p0, train_target_sm1p0 = create_smote_data(train_data, train_target, rand_st, 1.0)"
   ]
  },
  {
   "cell_type": "code",
   "execution_count": 7,
   "metadata": {},
   "outputs": [],
   "source": [
    "#train_sm_data_name = data_save_path + 'CervicalCancerRisks_' + target_name + '_TrainData_SMOTE.csv'\n",
    "#data_train_sm1p0.to_csv(train_sm_data_name, sep = ',')\n",
    "#train_sm_target_name = data_save_path + 'CervicalCancerRisks_' + target_name + '_TrainTarget_SMOTE.csv'\n",
    "#target_train_sm1p0.to_csv(train_sm_target_name, sep = ',')\n"
   ]
  },
  {
   "cell_type": "code",
   "execution_count": 8,
   "metadata": {},
   "outputs": [],
   "source": [
    "scorers = {'Accuracy': 'accuracy', 'roc_auc': 'roc_auc'}\n",
    "thresh_vals = [0.4, 0.5, 0.6]\n",
    "k_vals = [5, 6, 7, 8, 9, 10]"
   ]
  },
  {
   "cell_type": "code",
   "execution_count": 9,
   "metadata": {},
   "outputs": [],
   "source": [
    "model_type = 'Gradient Boosting'\n",
    "clf_base = GradientBoostingClassifier(n_estimators = 100, loss = 'deviance', \n",
    "                                 learning_rate = 0.1, max_depth = 3,  \n",
    "                                 min_samples_split = 3, random_state = rand_st)\n"
   ]
  },
  {
   "cell_type": "code",
   "execution_count": 10,
   "metadata": {},
   "outputs": [
    {
     "name": "stdout",
     "output_type": "stream",
     "text": [
      "Base Gradient Boosting CV Acc: 0.9241379310344827 +/- 0.020106730671880325\n",
      "Base Gradient Boosting CV AUC: 0.6364583333333333 +/- 0.21131153173235165\n",
      "CV Runtime: 1.2273139953613281\n",
      "\n",
      "\n",
      "Base Gradient Boosting Validation Acc: 0.910958904109589\n",
      "Base Gradient Boosting Validation AUC: 0.4889705882352941\n",
      "\n",
      "\n",
      "SMOTE Base Gradient Boosting CV Acc: 0.9407407407407407 +/- 0.08164965809277264\n",
      "SMOTE Base Gradient Boosting CV AUC: 0.9887345679012345 +/- 0.03384594719830492\n",
      "CV Runtime: 2.120805501937866\n",
      "\n",
      "\n",
      "SMOTE Base Gradient Boosting Validation Acc: 0.8698630136986302\n",
      "SMOTE Base Gradient Boosting Validation AUC: 0.46691176470588236\n",
      "\n",
      "\n"
     ]
    },
    {
     "data": {
      "text/plain": [
       "(GradientBoostingClassifier(criterion='friedman_mse', init=None,\n",
       "               learning_rate=0.1, loss='deviance', max_depth=3,\n",
       "               max_features=None, max_leaf_nodes=None,\n",
       "               min_impurity_decrease=0.0, min_impurity_split=None,\n",
       "               min_samples_leaf=1, min_samples_split=3,\n",
       "               min_weight_fraction_leaf=0.0, n_estimators=100,\n",
       "               n_iter_no_change=None, presort='auto', random_state=1,\n",
       "               subsample=1.0, tol=0.0001, validation_fraction=0.1,\n",
       "               verbose=0, warm_start=False),\n",
       " GradientBoostingClassifier(criterion='friedman_mse', init=None,\n",
       "               learning_rate=0.1, loss='deviance', max_depth=3,\n",
       "               max_features=None, max_leaf_nodes=None,\n",
       "               min_impurity_decrease=0.0, min_impurity_split=None,\n",
       "               min_samples_leaf=1, min_samples_split=3,\n",
       "               min_weight_fraction_leaf=0.0, n_estimators=100,\n",
       "               n_iter_no_change=None, presort='auto', random_state=1,\n",
       "               subsample=1.0, tol=0.0001, validation_fraction=0.1,\n",
       "               verbose=0, warm_start=False))"
      ]
     },
     "execution_count": 10,
     "metadata": {},
     "output_type": "execute_result"
    }
   ],
   "source": [
    "perform_base_models(train_data, train_target, val_data, val_target, train_data_sm1p0, train_target_sm1p0, clf_base, \n",
    "                    scorers, model_type)"
   ]
  },
  {
   "cell_type": "code",
   "execution_count": 11,
   "metadata": {
    "scrolled": false
   },
   "outputs": [
    {
     "name": "stdout",
     "output_type": "stream",
     "text": [
      "-- Low Variance Filtering --\n",
      "Threshold Selected: 0.4\n",
      "Selected Model Mean Accuracy Score: 0.9155172413793103\n",
      "Selected Model Accuracy Deviation: 0.020106730671880343\n",
      "Selected Model Mean AUC Score: 0.537962962962963\n",
      "Selected Model AUC Deviation: 0.1703326246431747\n",
      "Number of Original Features: 30\n",
      "Number of Selected Features: 8\n",
      "Features Selected:\n",
      "['age', 'num_sex_partners', 'first_sex_int', 'num_pregnancies', 'smokes_yrs', 'smokes_pk_yrs', 'hormonal_contr_yrs', 'iud_yrs']\n",
      "Features Removed:\n",
      "['smokes', 'hormonal_contr', 'iud', 'stds', 'stds_num', 'stds_condylomatosis', 'stds_cerv_condylomatosis', 'stds_vag_condylomatosis', 'stds_vp_condylomatosis', 'stds_syphillus', 'stds_pelvic_inf_disease', 'stds_gen_herpes', 'stds_molluscom_contagiosum', 'stds_aids', 'stds_hiv', 'stds_hep_b', 'stds_hpv', 'stds_num_dx', 'dx_cancer', 'dx_cin', 'dx_hpv', 'dx']\n",
      "\n",
      "\n",
      "Low Variance Filter Gradient Boosting Validation Acc: 0.910958904109589\n",
      "Low Variance Filter Gradient Boosting Validation AUC: 0.4889705882352941\n",
      "\n",
      "\n",
      "-- Model Wrapper Feature Selection --\n",
      "Model Mean Accuracy Score: 0.9327586206896552\n",
      "Selected Model Accuracy Deviation: 0.01689303270884951\n",
      "Model Mean AUC Score: 0.6343750000000001\n",
      "Selected Model AUC Deviation: 0.2434987141644195\n",
      "Number of Original Features: 30\n",
      "Number of Selected Features: 12\n",
      "Features Selected:\n",
      "['age', 'num_sex_partners', 'first_sex_int', 'num_pregnancies', 'smokes_yrs', 'smokes_pk_yrs', 'hormonal_contr_yrs', 'iud_yrs', 'stds_vp_condylomatosis', 'stds_hiv', 'dx_hpv', 'dx']\n",
      "Features Removed:\n",
      "['smokes', 'hormonal_contr', 'iud', 'stds', 'stds_num', 'stds_condylomatosis', 'stds_cerv_condylomatosis', 'stds_vag_condylomatosis', 'stds_syphillus', 'stds_pelvic_inf_disease', 'stds_gen_herpes', 'stds_molluscom_contagiosum', 'stds_aids', 'stds_hep_b', 'stds_hpv', 'stds_num_dx', 'dx_cancer', 'dx_cin']\n",
      "\n",
      "\n",
      "Model Wrapper Gradient Boosting Validation Acc: 0.910958904109589\n",
      "Model Wrapper Gradient Boosting Validation AUC: 0.4889705882352941\n",
      "\n",
      "\n",
      "-- Stepwise Recursive Feature Selection --\n",
      "K Selected: 10\n",
      "Selected Model Mean Accuracy Score: 0.9275862068965518\n",
      "Selected Model Accuracy Deviation: 0.023387344769397453\n",
      "Selected Model Mean AUC Score: 0.6263888888888889\n",
      "Selected Model AUC Deviation: 0.21101997098617667\n",
      "Number of Original Features: 30\n",
      "Number of Selected Features: 10\n",
      "Features Selected:\n",
      "['age', 'num_sex_partners', 'first_sex_int', 'num_pregnancies', 'smokes_pk_yrs', 'hormonal_contr_yrs', 'iud_yrs', 'stds_vp_condylomatosis', 'stds_hiv', 'dx']\n",
      "Features Removed:\n",
      "['smokes', 'smokes_yrs', 'hormonal_contr', 'iud', 'stds', 'stds_num', 'stds_condylomatosis', 'stds_cerv_condylomatosis', 'stds_vag_condylomatosis', 'stds_syphillus', 'stds_pelvic_inf_disease', 'stds_gen_herpes', 'stds_molluscom_contagiosum', 'stds_aids', 'stds_hep_b', 'stds_hpv', 'stds_num_dx', 'dx_cancer', 'dx_cin', 'dx_hpv']\n",
      "\n",
      "\n",
      "Stepwise Recursive Gradient Boosting Validation Acc: 0.9041095890410958\n",
      "Stepwise Recursive Gradient Boosting Validation AUC: 0.4852941176470588\n",
      "\n",
      "\n",
      "-- Univariate Chi-Sq Feature Selection --\n",
      "K Selected: 5\n",
      "Selected Model Mean Accuracy Score: 0.9275862068965518\n",
      "Selected Model Accuracy Deviation: 0.01758282590894062\n",
      "Selected Model Mean AUC Score: 0.6512731481481482\n",
      "Selected Model AUC Deviation: 0.2295178285928466\n",
      "Number of Original Features: 30\n",
      "Number of Selected Features: 5\n",
      "Features Selected:\n",
      "['hormonal_contr_yrs', 'stds_num', 'dx_cancer', 'dx_hpv', 'dx']\n",
      "Features Removed:\n",
      "['age', 'num_sex_partners', 'first_sex_int', 'num_pregnancies', 'smokes', 'smokes_yrs', 'smokes_pk_yrs', 'hormonal_contr', 'iud', 'iud_yrs', 'stds', 'stds_condylomatosis', 'stds_cerv_condylomatosis', 'stds_vag_condylomatosis', 'stds_vp_condylomatosis', 'stds_syphillus', 'stds_pelvic_inf_disease', 'stds_gen_herpes', 'stds_molluscom_contagiosum', 'stds_aids', 'stds_hiv', 'stds_hep_b', 'stds_hpv', 'stds_num_dx', 'dx_cin']\n",
      "\n",
      "\n",
      "Univariate Chi-Squared Gradient Boosting Validation Acc: 0.9041095890410958\n",
      "Univariate Chi-Squared Gradient Boosting Validation AUC: 0.5779411764705882\n",
      "\n",
      "\n",
      "-- Mutual Information Feature Selection --\n",
      "K Selected: 7\n",
      "Selected Model Mean Accuracy Score: 0.9275862068965518\n",
      "Selected Model Accuracy Deviation: 0.013793103448275801\n",
      "Selected Model Mean AUC Score: 0.5961805555555555\n",
      "Selected Model AUC Deviation: 0.11898328288015186\n",
      "Number of Original Features: 30\n",
      "Number of Selected Features: 7\n",
      "Features Selected:\n",
      "['hormonal_contr', 'stds_vp_condylomatosis', 'stds_pelvic_inf_disease', 'stds_molluscom_contagiosum', 'stds_aids', 'stds_hiv', 'dx_cin']\n",
      "Features Removed:\n",
      "['age', 'num_sex_partners', 'first_sex_int', 'num_pregnancies', 'smokes', 'smokes_yrs', 'smokes_pk_yrs', 'hormonal_contr_yrs', 'iud', 'iud_yrs', 'stds', 'stds_num', 'stds_condylomatosis', 'stds_cerv_condylomatosis', 'stds_vag_condylomatosis', 'stds_syphillus', 'stds_gen_herpes', 'stds_hep_b', 'stds_hpv', 'stds_num_dx', 'dx_cancer', 'dx_hpv', 'dx']\n",
      "\n",
      "\n",
      "Mutual Information Gradient Boosting Validation Acc: 0.9041095890410958\n",
      "Mutual Information Gradient Boosting Validation AUC: 0.4852941176470588\n",
      "\n",
      "\n"
     ]
    }
   ],
   "source": [
    "results_dict_base = \\\n",
    "  perform_feat_sel_models(train_data, train_target, val_data, val_target, clf_base, model_type, thresh_vals, k_vals)"
   ]
  },
  {
   "cell_type": "code",
   "execution_count": 12,
   "metadata": {
    "scrolled": false
   },
   "outputs": [
    {
     "name": "stdout",
     "output_type": "stream",
     "text": [
      "-- Low Variance Filtering --\n",
      "Threshold Selected: 0.4\n",
      "Selected Model Mean Accuracy Score: 0.9453703703703704\n",
      "Selected Model Accuracy Deviation: 0.11921094029208205\n",
      "Selected Model Mean AUC Score: 0.9835905349794238\n",
      "Selected Model AUC Deviation: 0.05789444451753299\n",
      "Number of Original Features: 30\n",
      "Number of Selected Features: 8\n",
      "Features Selected:\n",
      "['age', 'num_sex_partners', 'first_sex_int', 'num_pregnancies', 'smokes_yrs', 'smokes_pk_yrs', 'hormonal_contr_yrs', 'iud_yrs']\n",
      "Features Removed:\n",
      "['smokes', 'hormonal_contr', 'iud', 'stds', 'stds_num', 'stds_condylomatosis', 'stds_cerv_condylomatosis', 'stds_vag_condylomatosis', 'stds_vp_condylomatosis', 'stds_syphillus', 'stds_pelvic_inf_disease', 'stds_gen_herpes', 'stds_molluscom_contagiosum', 'stds_aids', 'stds_hiv', 'stds_hep_b', 'stds_hpv', 'stds_num_dx', 'dx_cancer', 'dx_cin', 'dx_hpv', 'dx']\n",
      "\n",
      "\n",
      "Low Variance Filter SMOTE Gradient Boosting Validation Acc: 0.8835616438356164\n",
      "Low Variance Filter SMOTE Gradient Boosting Validation AUC: 0.4742647058823529\n",
      "\n",
      "\n",
      "-- Model Wrapper Feature Selection --\n",
      "Model Mean Accuracy Score: 0.9444444444444444\n",
      "Selected Model Accuracy Deviation: 0.08240220541217408\n",
      "Model Mean AUC Score: 0.9849108367626886\n",
      "Selected Model AUC Deviation: 0.04134371901897459\n",
      "Number of Original Features: 30\n",
      "Number of Selected Features: 10\n",
      "Features Selected:\n",
      "['age', 'num_sex_partners', 'first_sex_int', 'num_pregnancies', 'hormonal_contr', 'hormonal_contr_yrs', 'stds', 'stds_num', 'stds_vp_condylomatosis', 'dx']\n",
      "Features Removed:\n",
      "['smokes', 'smokes_yrs', 'smokes_pk_yrs', 'iud', 'iud_yrs', 'stds_condylomatosis', 'stds_cerv_condylomatosis', 'stds_vag_condylomatosis', 'stds_syphillus', 'stds_pelvic_inf_disease', 'stds_gen_herpes', 'stds_molluscom_contagiosum', 'stds_aids', 'stds_hiv', 'stds_hep_b', 'stds_hpv', 'stds_num_dx', 'dx_cancer', 'dx_cin', 'dx_hpv']\n",
      "\n",
      "\n",
      "Model Wrapper SMOTE Gradient Boosting Validation Acc: 0.863013698630137\n",
      "Model Wrapper SMOTE Gradient Boosting Validation AUC: 0.5558823529411764\n",
      "\n",
      "\n",
      "-- Stepwise Recursive Feature Selection --\n",
      "K Selected: 8\n",
      "Selected Model Mean Accuracy Score: 0.9481481481481481\n",
      "Selected Model Accuracy Deviation: 0.09358725013698718\n",
      "Selected Model Mean AUC Score: 0.9856652949245543\n",
      "Selected Model AUC Deviation: 0.0438262213019577\n",
      "Number of Original Features: 30\n",
      "Number of Selected Features: 8\n",
      "Features Selected:\n",
      "['age', 'num_sex_partners', 'first_sex_int', 'num_pregnancies', 'hormonal_contr', 'hormonal_contr_yrs', 'stds', 'dx']\n",
      "Features Removed:\n",
      "['smokes', 'smokes_yrs', 'smokes_pk_yrs', 'iud', 'iud_yrs', 'stds_num', 'stds_condylomatosis', 'stds_cerv_condylomatosis', 'stds_vag_condylomatosis', 'stds_vp_condylomatosis', 'stds_syphillus', 'stds_pelvic_inf_disease', 'stds_gen_herpes', 'stds_molluscom_contagiosum', 'stds_aids', 'stds_hiv', 'stds_hep_b', 'stds_hpv', 'stds_num_dx', 'dx_cancer', 'dx_cin', 'dx_hpv']\n",
      "\n",
      "\n",
      "Stepwise Recursive SMOTE Gradient Boosting Validation Acc: 0.8561643835616438\n",
      "Stepwise Recursive SMOTE Gradient Boosting Validation AUC: 0.5058823529411764\n",
      "\n",
      "\n",
      "-- Univariate Chi-Sq Feature Selection --\n",
      "K Selected: 9\n",
      "Selected Model Mean Accuracy Score: 0.874074074074074\n",
      "Selected Model Accuracy Deviation: 0.05659521033309678\n",
      "Selected Model Mean AUC Score: 0.9368055555555556\n",
      "Selected Model AUC Deviation: 0.06363222553193933\n",
      "Number of Original Features: 30\n",
      "Number of Selected Features: 9\n",
      "Features Selected:\n",
      "['smokes_yrs', 'hormonal_contr_yrs', 'stds', 'stds_num', 'stds_hiv', 'stds_num_dx', 'dx_cancer', 'dx_hpv', 'dx']\n",
      "Features Removed:\n",
      "['age', 'num_sex_partners', 'first_sex_int', 'num_pregnancies', 'smokes', 'smokes_pk_yrs', 'hormonal_contr', 'iud', 'iud_yrs', 'stds_condylomatosis', 'stds_cerv_condylomatosis', 'stds_vag_condylomatosis', 'stds_vp_condylomatosis', 'stds_syphillus', 'stds_pelvic_inf_disease', 'stds_gen_herpes', 'stds_molluscom_contagiosum', 'stds_aids', 'stds_hep_b', 'stds_hpv', 'dx_cin']\n",
      "\n",
      "\n",
      "Univariate Chi-Squared SMOTE Gradient Boosting Validation Acc: 0.8561643835616438\n",
      "Univariate Chi-Squared SMOTE Gradient Boosting Validation AUC: 0.5522058823529411\n",
      "\n",
      "\n",
      "-- Mutual Information Feature Selection --\n",
      "K Selected: 7\n",
      "Selected Model Mean Accuracy Score: 0.9481481481481481\n",
      "Selected Model Accuracy Deviation: 0.09486109981381996\n",
      "Selected Model Mean AUC Score: 0.9839934842249658\n",
      "Selected Model AUC Deviation: 0.05412304939620187\n",
      "Number of Original Features: 30\n",
      "Number of Selected Features: 7\n",
      "Features Selected:\n",
      "['age', 'num_sex_partners', 'first_sex_int', 'num_pregnancies', 'hormonal_contr', 'hormonal_contr_yrs', 'stds']\n",
      "Features Removed:\n",
      "['smokes', 'smokes_yrs', 'smokes_pk_yrs', 'iud', 'iud_yrs', 'stds_num', 'stds_condylomatosis', 'stds_cerv_condylomatosis', 'stds_vag_condylomatosis', 'stds_vp_condylomatosis', 'stds_syphillus', 'stds_pelvic_inf_disease', 'stds_gen_herpes', 'stds_molluscom_contagiosum', 'stds_aids', 'stds_hiv', 'stds_hep_b', 'stds_hpv', 'stds_num_dx', 'dx_cancer', 'dx_cin', 'dx_hpv', 'dx']\n",
      "\n",
      "\n",
      "Mutual Information SMOTE Gradient Boosting Validation Acc: 0.8561643835616438\n",
      "Mutual Information SMOTE Gradient Boosting Validation AUC: 0.45955882352941174\n",
      "\n",
      "\n"
     ]
    }
   ],
   "source": [
    "model_type = 'SMOTE Gradient Boosting'\n",
    "results_dict_1p0 = \\\n",
    "  perform_feat_sel_models(train_data_sm1p0, train_target_sm1p0, val_data, val_target, clf_base, model_type, \n",
    "                          thresh_vals, k_vals)"
   ]
  },
  {
   "cell_type": "code",
   "execution_count": 13,
   "metadata": {},
   "outputs": [
    {
     "name": "stdout",
     "output_type": "stream",
     "text": [
      "Number of Original Target 0 Value: 540\n",
      "Number of Original Target 1 Value: 40\n",
      "\n",
      "\n",
      "Number of SMOTE Target 0 Value: 540\n",
      "Number of SMOTE Target 1 Value: 162\n"
     ]
    }
   ],
   "source": [
    "train_data_sm0p3, train_target_sm0p3 = create_smote_data(train_data, train_target, rand_st, 0.3)"
   ]
  },
  {
   "cell_type": "code",
   "execution_count": 14,
   "metadata": {},
   "outputs": [
    {
     "name": "stdout",
     "output_type": "stream",
     "text": [
      "Base SMOTE Gradient Boosting CV Acc: 0.9241379310344827 +/- 0.020106730671880325\n",
      "Base SMOTE Gradient Boosting CV AUC: 0.6364583333333333 +/- 0.21131153173235165\n",
      "CV Runtime: 1.2312729358673096\n",
      "\n",
      "\n",
      "Base SMOTE Gradient Boosting Validation Acc: 0.910958904109589\n",
      "Base SMOTE Gradient Boosting Validation AUC: 0.4889705882352941\n",
      "\n",
      "\n",
      "SMOTE Base SMOTE Gradient Boosting CV Acc: 0.9161398176291794 +/- 0.11991972013078037\n",
      "SMOTE Base SMOTE Gradient Boosting CV AUC: 0.9487671857463524 +/- 0.11057525760306641\n",
      "CV Runtime: 1.5291190147399902\n",
      "\n",
      "\n",
      "SMOTE Base SMOTE Gradient Boosting Validation Acc: 0.910958904109589\n",
      "SMOTE Base SMOTE Gradient Boosting Validation AUC: 0.5816176470588235\n",
      "\n",
      "\n"
     ]
    },
    {
     "data": {
      "text/plain": [
       "(GradientBoostingClassifier(criterion='friedman_mse', init=None,\n",
       "               learning_rate=0.1, loss='deviance', max_depth=3,\n",
       "               max_features=None, max_leaf_nodes=None,\n",
       "               min_impurity_decrease=0.0, min_impurity_split=None,\n",
       "               min_samples_leaf=1, min_samples_split=3,\n",
       "               min_weight_fraction_leaf=0.0, n_estimators=100,\n",
       "               n_iter_no_change=None, presort='auto', random_state=1,\n",
       "               subsample=1.0, tol=0.0001, validation_fraction=0.1,\n",
       "               verbose=0, warm_start=False),\n",
       " GradientBoostingClassifier(criterion='friedman_mse', init=None,\n",
       "               learning_rate=0.1, loss='deviance', max_depth=3,\n",
       "               max_features=None, max_leaf_nodes=None,\n",
       "               min_impurity_decrease=0.0, min_impurity_split=None,\n",
       "               min_samples_leaf=1, min_samples_split=3,\n",
       "               min_weight_fraction_leaf=0.0, n_estimators=100,\n",
       "               n_iter_no_change=None, presort='auto', random_state=1,\n",
       "               subsample=1.0, tol=0.0001, validation_fraction=0.1,\n",
       "               verbose=0, warm_start=False))"
      ]
     },
     "execution_count": 14,
     "metadata": {},
     "output_type": "execute_result"
    }
   ],
   "source": [
    "perform_base_models(train_data, train_target, val_data, val_target, train_data_sm0p3, train_target_sm0p3, clf_base, \n",
    "                    scorers, model_type)"
   ]
  },
  {
   "cell_type": "code",
   "execution_count": 15,
   "metadata": {
    "scrolled": false
   },
   "outputs": [
    {
     "name": "stdout",
     "output_type": "stream",
     "text": [
      "-- Low Variance Filtering --\n",
      "Threshold Selected: 0.4\n",
      "Selected Model Mean Accuracy Score: 0.9018844984802433\n",
      "Selected Model Accuracy Deviation: 0.11642340638019431\n",
      "Selected Model Mean AUC Score: 0.9323565516273848\n",
      "Selected Model AUC Deviation: 0.16142768667601595\n",
      "Number of Original Features: 30\n",
      "Number of Selected Features: 8\n",
      "Features Selected:\n",
      "['age', 'num_sex_partners', 'first_sex_int', 'num_pregnancies', 'smokes_yrs', 'smokes_pk_yrs', 'hormonal_contr_yrs', 'iud_yrs']\n",
      "Features Removed:\n",
      "['smokes', 'hormonal_contr', 'iud', 'stds', 'stds_num', 'stds_condylomatosis', 'stds_cerv_condylomatosis', 'stds_vag_condylomatosis', 'stds_vp_condylomatosis', 'stds_syphillus', 'stds_pelvic_inf_disease', 'stds_gen_herpes', 'stds_molluscom_contagiosum', 'stds_aids', 'stds_hiv', 'stds_hep_b', 'stds_hpv', 'stds_num_dx', 'dx_cancer', 'dx_cin', 'dx_hpv', 'dx']\n",
      "\n",
      "\n",
      "Low Variance Filter SMOTE Gradient Boosting Validation Acc: 0.9178082191780822\n",
      "Low Variance Filter SMOTE Gradient Boosting Validation AUC: 0.49264705882352944\n",
      "\n",
      "\n",
      "-- Model Wrapper Feature Selection --\n",
      "Model Mean Accuracy Score: 0.9076089159067882\n",
      "Selected Model Accuracy Deviation: 0.13311372546042996\n",
      "Model Mean AUC Score: 0.9358112373737374\n",
      "Selected Model AUC Deviation: 0.15210091821273186\n",
      "Number of Original Features: 30\n",
      "Number of Selected Features: 9\n",
      "Features Selected:\n",
      "['age', 'num_sex_partners', 'first_sex_int', 'num_pregnancies', 'hormonal_contr_yrs', 'stds', 'stds_vp_condylomatosis', 'stds_hiv', 'dx']\n",
      "Features Removed:\n",
      "['smokes', 'smokes_yrs', 'smokes_pk_yrs', 'hormonal_contr', 'iud', 'iud_yrs', 'stds_num', 'stds_condylomatosis', 'stds_cerv_condylomatosis', 'stds_vag_condylomatosis', 'stds_syphillus', 'stds_pelvic_inf_disease', 'stds_gen_herpes', 'stds_molluscom_contagiosum', 'stds_aids', 'stds_hep_b', 'stds_hpv', 'stds_num_dx', 'dx_cancer', 'dx_cin', 'dx_hpv']\n",
      "\n",
      "\n",
      "Model Wrapper SMOTE Gradient Boosting Validation Acc: 0.910958904109589\n",
      "Model Wrapper SMOTE Gradient Boosting Validation AUC: 0.4889705882352941\n",
      "\n",
      "\n",
      "-- Stepwise Recursive Feature Selection --\n",
      "K Selected: 10\n",
      "Selected Model Mean Accuracy Score: 0.9118743667679838\n",
      "Selected Model Accuracy Deviation: 0.1330073743439097\n",
      "Selected Model Mean AUC Score: 0.9460174663299664\n",
      "Selected Model AUC Deviation: 0.11823620330017776\n",
      "Number of Original Features: 30\n",
      "Number of Selected Features: 10\n",
      "Features Selected:\n",
      "['age', 'num_sex_partners', 'first_sex_int', 'num_pregnancies', 'smokes_pk_yrs', 'hormonal_contr_yrs', 'stds', 'stds_vp_condylomatosis', 'stds_hiv', 'dx']\n",
      "Features Removed:\n",
      "['smokes', 'smokes_yrs', 'hormonal_contr', 'iud', 'iud_yrs', 'stds_num', 'stds_condylomatosis', 'stds_cerv_condylomatosis', 'stds_vag_condylomatosis', 'stds_syphillus', 'stds_pelvic_inf_disease', 'stds_gen_herpes', 'stds_molluscom_contagiosum', 'stds_aids', 'stds_hep_b', 'stds_hpv', 'stds_num_dx', 'dx_cancer', 'dx_cin', 'dx_hpv']\n",
      "\n",
      "\n",
      "Stepwise Recursive SMOTE Gradient Boosting Validation Acc: 0.910958904109589\n",
      "Stepwise Recursive SMOTE Gradient Boosting Validation AUC: 0.4889705882352941\n",
      "\n",
      "\n",
      "-- Univariate Chi-Sq Feature Selection --\n",
      "K Selected: 6\n",
      "Selected Model Mean Accuracy Score: 0.8847112462006079\n",
      "Selected Model Accuracy Deviation: 0.0867983594124081\n",
      "Selected Model Mean AUC Score: 0.8864478114478114\n",
      "Selected Model AUC Deviation: 0.14696175001609985\n",
      "Number of Original Features: 30\n",
      "Number of Selected Features: 6\n",
      "Features Selected:\n",
      "['smokes_yrs', 'hormonal_contr_yrs', 'stds_num', 'dx_cancer', 'dx_hpv', 'dx']\n",
      "Features Removed:\n",
      "['age', 'num_sex_partners', 'first_sex_int', 'num_pregnancies', 'smokes', 'smokes_pk_yrs', 'hormonal_contr', 'iud', 'iud_yrs', 'stds', 'stds_condylomatosis', 'stds_cerv_condylomatosis', 'stds_vag_condylomatosis', 'stds_vp_condylomatosis', 'stds_syphillus', 'stds_pelvic_inf_disease', 'stds_gen_herpes', 'stds_molluscom_contagiosum', 'stds_aids', 'stds_hiv', 'stds_hep_b', 'stds_hpv', 'stds_num_dx', 'dx_cin']\n",
      "\n",
      "\n",
      "Univariate Chi-Squared SMOTE Gradient Boosting Validation Acc: 0.8835616438356164\n",
      "Univariate Chi-Squared SMOTE Gradient Boosting Validation AUC: 0.5205882352941177\n",
      "\n",
      "\n",
      "-- Mutual Information Feature Selection --\n",
      "K Selected: 9\n",
      "Selected Model Mean Accuracy Score: 0.9104761904761904\n",
      "Selected Model Accuracy Deviation: 0.1473471936981523\n",
      "Selected Model Mean AUC Score: 0.9407915965207632\n",
      "Selected Model AUC Deviation: 0.142343755293019\n",
      "Number of Original Features: 30\n",
      "Number of Selected Features: 9\n",
      "Features Selected:\n",
      "['age', 'num_sex_partners', 'first_sex_int', 'num_pregnancies', 'hormonal_contr', 'hormonal_contr_yrs', 'stds', 'stds_num', 'dx_cancer']\n",
      "Features Removed:\n",
      "['smokes', 'smokes_yrs', 'smokes_pk_yrs', 'iud', 'iud_yrs', 'stds_condylomatosis', 'stds_cerv_condylomatosis', 'stds_vag_condylomatosis', 'stds_vp_condylomatosis', 'stds_syphillus', 'stds_pelvic_inf_disease', 'stds_gen_herpes', 'stds_molluscom_contagiosum', 'stds_aids', 'stds_hiv', 'stds_hep_b', 'stds_hpv', 'stds_num_dx', 'dx_cin', 'dx_hpv', 'dx']\n",
      "\n",
      "\n",
      "Mutual Information SMOTE Gradient Boosting Validation Acc: 0.8904109589041096\n",
      "Mutual Information SMOTE Gradient Boosting Validation AUC: 0.524264705882353\n",
      "\n",
      "\n"
     ]
    }
   ],
   "source": [
    "results_dict_0p3 = \\\n",
    "  perform_feat_sel_models(train_data_sm0p3, train_target_sm0p3, val_data, val_target, clf_base, model_type, \n",
    "                          thresh_vals, k_vals)"
   ]
  },
  {
   "cell_type": "code",
   "execution_count": 18,
   "metadata": {},
   "outputs": [],
   "source": [
    "cv = 5\n",
    "clf_grid = GradientBoostingClassifier(random_state = rand_st)\n",
    "\n",
    "n_estimators = [50, 100, 250, 500]\n",
    "loss = ['deviance', 'exponential']\n",
    "max_depth = [None, 3, 5, 10, 20]\n",
    "min_samples_split = [3, 5, 7, 10]\n",
    "learning_rate = [0.01, 0.05, 0.1, 0.3]\n",
    "max_features  = [None, 'sqrt', 'log2']\n",
    "\n",
    "#n_estimators = [100]\n",
    "#loss = ['deviance']\n",
    "#max_depth = [None]\n",
    "#min_samples_split = [3]\n",
    "#learning_rate = [0.1]\n",
    "#max_features = [None]\n",
    "\n",
    "model_params = {\n",
    "    'loss': loss,\n",
    "    'max_depth': max_depth,\n",
    "    'n_estimators': n_estimators,\n",
    "    'min_samples_split': min_samples_split,\n",
    "    'learning_rate': learning_rate,\n",
    "    'max_features': max_features\n",
    "}\n",
    "\n",
    "score = 'roc_auc'"
   ]
  },
  {
   "cell_type": "code",
   "execution_count": 19,
   "metadata": {},
   "outputs": [
    {
     "name": "stdout",
     "output_type": "stream",
     "text": [
      "Chi-Squared FS Base Gradient Boost Grid Search\n",
      "Fitting 5 folds for each of 1920 candidates, totalling 9600 fits\n"
     ]
    },
    {
     "name": "stderr",
     "output_type": "stream",
     "text": [
      "[Parallel(n_jobs=1)]: Using backend SequentialBackend with 1 concurrent workers.\n",
      "[Parallel(n_jobs=1)]: Done 9600 out of 9600 | elapsed: 120.8min finished\n"
     ]
    },
    {
     "name": "stdout",
     "output_type": "stream",
     "text": [
      "Grid Search Runtime: 7249.039079427719\n",
      "\n",
      "\n",
      "Grid Search Optimal Parameters: {'learning_rate': 0.01, 'loss': 'deviance', 'max_depth': 5, 'max_features': 'sqrt', 'min_samples_split': 10, 'n_estimators': 100}\n",
      "Grid Search Optimal Parameter Score: 0.7684027777777777\n",
      "\n",
      "\n",
      "Final Model Parameter Settings:\n",
      "GradientBoostingClassifier(criterion='friedman_mse', init=None,\n",
      "              learning_rate=0.01, loss='deviance', max_depth=5,\n",
      "              max_features='sqrt', max_leaf_nodes=None,\n",
      "              min_impurity_decrease=0.0, min_impurity_split=None,\n",
      "              min_samples_leaf=1, min_samples_split=10,\n",
      "              min_weight_fraction_leaf=0.0, n_estimators=100,\n",
      "              n_iter_no_change=None, presort='auto', random_state=1,\n",
      "              subsample=1.0, tol=0.0001, validation_fraction=0.1,\n",
      "              verbose=0, warm_start=False)\n",
      "\n",
      "\n",
      "Chi-Squared FS Base Gradient Boost CV Acc: 0.9310344827586207 +/- 0.0\n",
      "Chi-Squared FS Base Gradient Boost CV AUC: 0.7684027777777777 +/- 0.1308707942228565\n",
      "CV Runtime: 1.3002538681030273\n",
      "\n",
      "\n",
      "Chi-Squared FS Base Gradient Boost Validation Acc: 0.9178082191780822\n",
      "Chi-Squared FS Base Gradient Boost Validation AUC: 0.49264705882352944\n",
      "\n",
      "\n"
     ]
    }
   ],
   "source": [
    "chisq_train_data_base = results_dict_base['chisq']['data']\n",
    "chisq_del_cols_base = results_dict_base['chisq']['del_cols']\n",
    "chisq_val_data_base = val_data.drop(chisq_del_cols_base, axis = 1)\n",
    "\n",
    "model_type = 'Base Gradient Boost'\n",
    "model_desc = 'Chi-Squared FS'\n",
    "\n",
    "opt_model = perform_grid_search(clf_grid, chisq_train_data_base, train_target, model_params, score, cv, \n",
    "                              model_type, model_desc)\n",
    "chisq_model_sm_base = model_data(chisq_train_data_base, train_target, chisq_val_data_base, val_target, \n",
    "                                opt_model, scorers, model_type, model_desc, cv)\n"
   ]
  },
  {
   "cell_type": "code",
   "execution_count": 20,
   "metadata": {},
   "outputs": [],
   "source": [
    "filename = 'Biopsy_ChiSq_FS_Base_GB_Model.sav'\n",
    "pickle.dump(chisq_model_sm_base, open(filename, 'wb'))"
   ]
  },
  {
   "cell_type": "code",
   "execution_count": 21,
   "metadata": {},
   "outputs": [
    {
     "name": "stdout",
     "output_type": "stream",
     "text": [
      "Chi-Squared FS SMOTE 1.0 Gradient Boost Grid Search\n",
      "Fitting 5 folds for each of 1920 candidates, totalling 9600 fits\n"
     ]
    },
    {
     "name": "stderr",
     "output_type": "stream",
     "text": [
      "[Parallel(n_jobs=1)]: Using backend SequentialBackend with 1 concurrent workers.\n",
      "[Parallel(n_jobs=1)]: Done 9600 out of 9600 | elapsed: 257.7min finished\n"
     ]
    },
    {
     "name": "stdout",
     "output_type": "stream",
     "text": [
      "Grid Search Runtime: 15464.42442727089\n",
      "\n",
      "\n",
      "Grid Search Optimal Parameters: {'learning_rate': 0.05, 'loss': 'exponential', 'max_depth': None, 'max_features': 'sqrt', 'min_samples_split': 10, 'n_estimators': 250}\n",
      "Grid Search Optimal Parameter Score: 0.995130315500686\n",
      "\n",
      "\n",
      "Final Model Parameter Settings:\n",
      "GradientBoostingClassifier(criterion='friedman_mse', init=None,\n",
      "              learning_rate=0.05, loss='exponential', max_depth=None,\n",
      "              max_features='sqrt', max_leaf_nodes=None,\n",
      "              min_impurity_decrease=0.0, min_impurity_split=None,\n",
      "              min_samples_leaf=1, min_samples_split=10,\n",
      "              min_weight_fraction_leaf=0.0, n_estimators=250,\n",
      "              n_iter_no_change=None, presort='auto', random_state=1,\n",
      "              subsample=1.0, tol=0.0001, validation_fraction=0.1,\n",
      "              verbose=0, warm_start=False)\n",
      "\n",
      "\n",
      "Chi-Squared FS SMOTE 1.0 Gradient Boost CV Acc: 0.961111111111111 +/- 0.05635231131371458\n",
      "Chi-Squared FS SMOTE 1.0 Gradient Boost CV AUC: 0.9951303155006859 +/- 0.0161760184009833\n",
      "CV Runtime: 20.052460432052612\n",
      "\n",
      "\n",
      "Chi-Squared FS SMOTE 1.0 Gradient Boost Validation Acc: 0.8561643835616438\n",
      "Chi-Squared FS SMOTE 1.0 Gradient Boost Validation AUC: 0.45955882352941174\n",
      "\n",
      "\n"
     ]
    }
   ],
   "source": [
    "modw_train_data_1p0 = results_dict_1p0['modw']['data']\n",
    "modw_del_cols_1p0 = results_dict_1p0['modw']['del_cols']\n",
    "modw_val_data_1p0 = val_data.drop(modw_del_cols_1p0, axis = 1)\n",
    "\n",
    "model_type = 'SMOTE 1.0 Gradient Boost'\n",
    "model_desc = 'Chi-Squared FS'\n",
    "\n",
    "opt_model = perform_grid_search(clf_grid, modw_train_data_1p0, train_target_sm1p0, model_params, score, cv, \n",
    "                              model_type, model_desc)\n",
    "modw_model_sm_1p0 = model_data(modw_train_data_1p0, train_target_sm1p0, modw_val_data_1p0, val_target, \n",
    "                                opt_model, scorers, model_type, model_desc, cv)\n"
   ]
  },
  {
   "cell_type": "code",
   "execution_count": 22,
   "metadata": {},
   "outputs": [],
   "source": [
    "filename = 'Biopsy_Mod_Wrap_FS_SMOTE_1p0_GB_Model.sav'\n",
    "pickle.dump(modw_model_sm_1p0, open(filename, 'wb'))"
   ]
  }
 ],
 "metadata": {
  "kernelspec": {
   "display_name": "Python 3",
   "language": "python",
   "name": "python3"
  },
  "language_info": {
   "codemirror_mode": {
    "name": "ipython",
    "version": 3
   },
   "file_extension": ".py",
   "mimetype": "text/x-python",
   "name": "python",
   "nbconvert_exporter": "python",
   "pygments_lexer": "ipython3",
   "version": "3.6.8"
  }
 },
 "nbformat": 4,
 "nbformat_minor": 2
}
