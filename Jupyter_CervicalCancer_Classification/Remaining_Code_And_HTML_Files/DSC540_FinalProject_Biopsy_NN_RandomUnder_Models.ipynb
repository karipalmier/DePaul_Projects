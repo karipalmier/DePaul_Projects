{
 "cells": [
  {
   "cell_type": "code",
   "execution_count": 1,
   "metadata": {},
   "outputs": [],
   "source": [
    "%load_ext autoreload\n",
    "%autoreload 2"
   ]
  },
  {
   "cell_type": "code",
   "execution_count": 2,
   "metadata": {},
   "outputs": [],
   "source": [
    "import pandas as pd\n",
    "import numpy as np\n",
    "from sklearn.neural_network import MLPClassifier\n",
    "import pickle\n",
    "\n",
    "from model_creation import create_smote_data, fit_val_data, model_data, perform_base_models\n",
    "from model_creation import perform_feat_sel_models, perform_grid_search, create_under_data"
   ]
  },
  {
   "cell_type": "code",
   "execution_count": 3,
   "metadata": {},
   "outputs": [],
   "source": [
    "train_data = pd.read_csv('C:\\\\DePaulCoursework\\\\Winter 2019 CSC 529\\\\Project\\\\Data\\\\CervicalCancerRisks_Biopsy_TrainData.csv', \n",
    "                          delimiter=\",\", index_col = 0, header = 0)\n",
    "train_target = pd.read_csv('C:\\\\DePaulCoursework\\\\Winter 2019 CSC 529\\\\Project\\\\Data\\\\CervicalCancerRisks_Biopsy_TrainTarget.csv', \n",
    "                          delimiter=\",\", index_col = 0, header = 0)"
   ]
  },
  {
   "cell_type": "code",
   "execution_count": 4,
   "metadata": {},
   "outputs": [],
   "source": [
    "val_data = pd.read_csv('C:\\\\DePaulCoursework\\\\Winter 2019 CSC 529\\\\Project\\\\Data\\\\CervicalCancerRisks_Biopsy_ValData.csv', \n",
    "                          delimiter=\",\", index_col = 0, header = 0)\n",
    "val_target = pd.read_csv('C:\\\\DePaulCoursework\\\\Winter 2019 CSC 529\\\\Project\\\\Data\\\\CervicalCancerRisks_Biopsy_ValTarget.csv', \n",
    "                          delimiter=\",\", index_col = 0, header = 0)"
   ]
  },
  {
   "cell_type": "code",
   "execution_count": 5,
   "metadata": {},
   "outputs": [],
   "source": [
    "rand_st = 1\n"
   ]
  },
  {
   "cell_type": "code",
   "execution_count": 6,
   "metadata": {},
   "outputs": [
    {
     "name": "stdout",
     "output_type": "stream",
     "text": [
      "Number of Original Target 0 Value: 540\n",
      "Number of Original Target 1 Value: 40\n",
      "\n",
      "\n",
      "Number of Random Under Sample Target 0 Value: 40\n",
      "Number of Random Under Sample Target 1 Value: 40\n"
     ]
    }
   ],
   "source": [
    "train_data_rus1p0, train_target_rus1p0 = create_under_data(train_data, train_target, rand_st, 1.0)"
   ]
  },
  {
   "cell_type": "code",
   "execution_count": 7,
   "metadata": {},
   "outputs": [],
   "source": [
    "#train_sm_data_name = data_save_path + 'CervicalCancerRisks_' + target_name + '_TrainData_SMOTE.csv'\n",
    "#data_train_sm1p0.to_csv(train_sm_data_name, sep = ',')\n",
    "#train_sm_target_name = data_save_path + 'CervicalCancerRisks_' + target_name + '_TrainTarget_SMOTE.csv'\n",
    "#target_train_sm1p0.to_csv(train_sm_target_name, sep = ',')\n"
   ]
  },
  {
   "cell_type": "code",
   "execution_count": 8,
   "metadata": {},
   "outputs": [],
   "source": [
    "scorers = {'Accuracy': 'accuracy', 'roc_auc': 'roc_auc'}\n",
    "thresh_vals = [0.4, 0.5, 0.6]\n",
    "k_vals = [5, 6, 7, 8, 9, 10]"
   ]
  },
  {
   "cell_type": "code",
   "execution_count": 9,
   "metadata": {},
   "outputs": [],
   "source": [
    "model_type = 'Random Under 1.0 Neural Network'\n",
    "clf_base = MLPClassifier(activation = 'relu', solver = 'lbfgs', alpha = 0.0001,\n",
    "                       max_iter = 1000, hidden_layer_sizes = (10,), random_state = rand_st)\n"
   ]
  },
  {
   "cell_type": "code",
   "execution_count": 10,
   "metadata": {},
   "outputs": [
    {
     "name": "stdout",
     "output_type": "stream",
     "text": [
      "Base Random Under 1.0 Neural Network CV Acc: 0.4875 +/- 0.049999999999999996\n",
      "Base Random Under 1.0 Neural Network CV AUC: 0.4875 +/- 0.049999999999999996\n",
      "CV Runtime: 0.3124663829803467\n",
      "\n",
      "\n",
      "Base Random Under 1.0 Neural Network Validation Acc: 0.07534246575342465\n",
      "Base Random Under 1.0 Neural Network Validation AUC: 0.4573529411764706\n",
      "\n",
      "\n"
     ]
    }
   ],
   "source": [
    "model_desc = 'Base'\n",
    "base_model_rus1p0 = model_data(train_data_rus1p0, train_target_rus1p0, val_data, val_target, \n",
    "                           clf_base, scorers, model_type, model_desc, 5) \n"
   ]
  },
  {
   "cell_type": "code",
   "execution_count": 11,
   "metadata": {},
   "outputs": [
    {
     "name": "stdout",
     "output_type": "stream",
     "text": [
      "-- Low Variance Filtering --\n",
      "Threshold Selected: 0.4\n",
      "Selected Model Mean Accuracy Score: 0.525\n",
      "Selected Model Accuracy Deviation: 0.21794494717703367\n",
      "Selected Model Mean AUC Score: 0.5015625\n",
      "Selected Model AUC Deviation: 0.18016919131749468\n",
      "Number of Original Features: 30\n",
      "Number of Selected Features: 9\n",
      "Features Selected:\n",
      "['age', 'num_sex_partners', 'first_sex_int', 'num_pregnancies', 'smokes_yrs', 'smokes_pk_yrs', 'hormonal_contr_yrs', 'iud_yrs', 'stds_num']\n",
      "Features Removed:\n",
      "['smokes', 'hormonal_contr', 'iud', 'stds', 'stds_condylomatosis', 'stds_cerv_condylomatosis', 'stds_vag_condylomatosis', 'stds_vp_condylomatosis', 'stds_syphillus', 'stds_pelvic_inf_disease', 'stds_gen_herpes', 'stds_molluscom_contagiosum', 'stds_aids', 'stds_hiv', 'stds_hep_b', 'stds_hpv', 'stds_num_dx', 'dx_cancer', 'dx_cin', 'dx_hpv', 'dx']\n",
      "\n",
      "\n",
      "Low Variance Filter Random Under 1.0 Neural Network Validation Acc: 0.5205479452054794\n",
      "Low Variance Filter Random Under 1.0 Neural Network Validation AUC: 0.3257352941176471\n",
      "\n",
      "\n",
      "-- Univariate Chi-Sq Feature Selection --\n",
      "K Selected: 9\n",
      "Selected Model Mean Accuracy Score: 0.7375\n",
      "Selected Model Accuracy Deviation: 0.09354143466934853\n",
      "Selected Model Mean AUC Score: 0.734375\n",
      "Selected Model AUC Deviation: 0.04307515235028194\n",
      "Number of Original Features: 30\n",
      "Number of Selected Features: 9\n",
      "Features Selected:\n",
      "['smokes_yrs', 'smokes_pk_yrs', 'hormonal_contr_yrs', 'iud_yrs', 'stds', 'stds_num', 'dx_cancer', 'dx_hpv', 'dx']\n",
      "Features Removed:\n",
      "['age', 'num_sex_partners', 'first_sex_int', 'num_pregnancies', 'smokes', 'hormonal_contr', 'iud', 'stds_condylomatosis', 'stds_cerv_condylomatosis', 'stds_vag_condylomatosis', 'stds_vp_condylomatosis', 'stds_syphillus', 'stds_pelvic_inf_disease', 'stds_gen_herpes', 'stds_molluscom_contagiosum', 'stds_aids', 'stds_hiv', 'stds_hep_b', 'stds_hpv', 'stds_num_dx', 'dx_cin']\n",
      "\n",
      "\n",
      "Univariate Chi-Squared Random Under 1.0 Neural Network Validation Acc: 0.5136986301369864\n",
      "Univariate Chi-Squared Random Under 1.0 Neural Network Validation AUC: 0.4610294117647058\n",
      "\n",
      "\n",
      "-- Mutual Information Feature Selection --\n",
      "K Selected: 7\n",
      "Selected Model Mean Accuracy Score: 0.725\n",
      "Selected Model Accuracy Deviation: 0.12747548783981963\n",
      "Selected Model Mean AUC Score: 0.7015625\n",
      "Selected Model AUC Deviation: 0.1453712918701626\n",
      "Number of Original Features: 30\n",
      "Number of Selected Features: 7\n",
      "Features Selected:\n",
      "['smokes_pk_yrs', 'iud_yrs', 'stds_num', 'stds_aids', 'stds_num_dx', 'dx_cancer', 'dx_hpv']\n",
      "Features Removed:\n",
      "['age', 'num_sex_partners', 'first_sex_int', 'num_pregnancies', 'smokes', 'smokes_yrs', 'hormonal_contr', 'hormonal_contr_yrs', 'iud', 'stds', 'stds_condylomatosis', 'stds_cerv_condylomatosis', 'stds_vag_condylomatosis', 'stds_vp_condylomatosis', 'stds_syphillus', 'stds_pelvic_inf_disease', 'stds_gen_herpes', 'stds_molluscom_contagiosum', 'stds_hiv', 'stds_hep_b', 'stds_hpv', 'dx_cin', 'dx']\n",
      "\n",
      "\n",
      "Mutual Information Random Under 1.0 Neural Network Validation Acc: 0.7123287671232876\n",
      "Mutual Information Random Under 1.0 Neural Network Validation AUC: 0.5213235294117647\n",
      "\n",
      "\n"
     ]
    }
   ],
   "source": [
    "results_dict_1p0 = \\\n",
    "  perform_feat_sel_models(train_data_rus1p0, train_target_rus1p0, val_data, val_target, clf_base, model_type, \n",
    "                          thresh_vals, k_vals)"
   ]
  },
  {
   "cell_type": "code",
   "execution_count": 12,
   "metadata": {},
   "outputs": [
    {
     "name": "stdout",
     "output_type": "stream",
     "text": [
      "Number of Original Target 0 Value: 540\n",
      "Number of Original Target 1 Value: 40\n",
      "\n",
      "\n",
      "Number of Random Under Sample Target 0 Value: 133\n",
      "Number of Random Under Sample Target 1 Value: 40\n"
     ]
    }
   ],
   "source": [
    "train_data_rus0p3, train_target_rus0p3 = create_under_data(train_data, train_target, rand_st, 0.3)"
   ]
  },
  {
   "cell_type": "code",
   "execution_count": 13,
   "metadata": {},
   "outputs": [
    {
     "name": "stdout",
     "output_type": "stream",
     "text": [
      "Base Random Under 0.3 Neural Network CV Acc: 0.7109243697478992 +/- 0.0631360370117588\n",
      "Base Random Under 0.3 Neural Network CV AUC: 0.7150997150997151 +/- 0.16833232284682825\n",
      "CV Runtime: 0.5313470363616943\n",
      "\n",
      "\n",
      "Base Random Under 0.3 Neural Network Validation Acc: 0.6575342465753424\n",
      "Base Random Under 0.3 Neural Network Validation AUC: 0.5845588235294119\n",
      "\n",
      "\n"
     ]
    }
   ],
   "source": [
    "model_type = 'Random Under 0.3 Neural Network'\n",
    "base_model_rus0p3 = model_data(train_data_rus0p3, train_target_rus0p3, val_data, val_target, \n",
    "                           clf_base, scorers, model_type, model_desc, 5) \n"
   ]
  },
  {
   "cell_type": "code",
   "execution_count": 14,
   "metadata": {},
   "outputs": [
    {
     "name": "stdout",
     "output_type": "stream",
     "text": [
      "-- Low Variance Filtering --\n",
      "Threshold Selected: 0.4\n",
      "Selected Model Mean Accuracy Score: 0.7398319327731093\n",
      "Selected Model Accuracy Deviation: 0.05239386290661836\n",
      "Selected Model Mean AUC Score: 0.49729344729344743\n",
      "Selected Model AUC Deviation: 0.2241350576197037\n",
      "Number of Original Features: 30\n",
      "Number of Selected Features: 9\n",
      "Features Selected:\n",
      "['age', 'num_sex_partners', 'first_sex_int', 'num_pregnancies', 'smokes_yrs', 'smokes_pk_yrs', 'hormonal_contr_yrs', 'iud_yrs', 'stds_num']\n",
      "Features Removed:\n",
      "['smokes', 'hormonal_contr', 'iud', 'stds', 'stds_condylomatosis', 'stds_cerv_condylomatosis', 'stds_vag_condylomatosis', 'stds_vp_condylomatosis', 'stds_syphillus', 'stds_pelvic_inf_disease', 'stds_gen_herpes', 'stds_molluscom_contagiosum', 'stds_aids', 'stds_hiv', 'stds_hep_b', 'stds_hpv', 'stds_num_dx', 'dx_cancer', 'dx_cin', 'dx_hpv', 'dx']\n",
      "\n",
      "\n",
      "Low Variance Filter Random Under 0.3 Neural Network Validation Acc: 0.8835616438356164\n",
      "Low Variance Filter Random Under 0.3 Neural Network Validation AUC: 0.6132352941176471\n",
      "\n",
      "\n",
      "-- Univariate Chi-Sq Feature Selection --\n",
      "K Selected: 7\n",
      "Selected Model Mean Accuracy Score: 0.7976470588235294\n",
      "Selected Model Accuracy Deviation: 0.037647058823529436\n",
      "Selected Model Mean AUC Score: 0.6308404558404559\n",
      "Selected Model AUC Deviation: 0.09505336002957453\n",
      "Number of Original Features: 30\n",
      "Number of Selected Features: 7\n",
      "Features Selected:\n",
      "['smokes_yrs', 'smokes_pk_yrs', 'hormonal_contr_yrs', 'iud_yrs', 'stds_num', 'dx_hpv', 'dx']\n",
      "Features Removed:\n",
      "['age', 'num_sex_partners', 'first_sex_int', 'num_pregnancies', 'smokes', 'hormonal_contr', 'iud', 'stds', 'stds_condylomatosis', 'stds_cerv_condylomatosis', 'stds_vag_condylomatosis', 'stds_vp_condylomatosis', 'stds_syphillus', 'stds_pelvic_inf_disease', 'stds_gen_herpes', 'stds_molluscom_contagiosum', 'stds_aids', 'stds_hiv', 'stds_hep_b', 'stds_hpv', 'stds_num_dx', 'dx_cancer', 'dx_cin']\n",
      "\n",
      "\n",
      "Univariate Chi-Squared Random Under 0.3 Neural Network Validation Acc: 0.7808219178082192\n",
      "Univariate Chi-Squared Random Under 0.3 Neural Network Validation AUC: 0.5580882352941177\n",
      "\n",
      "\n",
      "-- Mutual Information Feature Selection --\n",
      "K Selected: 9\n",
      "Selected Model Mean Accuracy Score: 0.7450420168067227\n",
      "Selected Model Accuracy Deviation: 0.09229691451694476\n",
      "Selected Model Mean AUC Score: 0.6755876068376068\n",
      "Selected Model AUC Deviation: 0.19188113503094337\n",
      "Number of Original Features: 30\n",
      "Number of Selected Features: 9\n",
      "Features Selected:\n",
      "['first_sex_int', 'iud', 'iud_yrs', 'stds', 'stds_pelvic_inf_disease', 'stds_hep_b', 'stds_num_dx', 'dx_cancer', 'dx']\n",
      "Features Removed:\n",
      "['age', 'num_sex_partners', 'num_pregnancies', 'smokes', 'smokes_yrs', 'smokes_pk_yrs', 'hormonal_contr', 'hormonal_contr_yrs', 'stds_num', 'stds_condylomatosis', 'stds_cerv_condylomatosis', 'stds_vag_condylomatosis', 'stds_vp_condylomatosis', 'stds_syphillus', 'stds_gen_herpes', 'stds_molluscom_contagiosum', 'stds_aids', 'stds_hiv', 'stds_hpv', 'dx_cin', 'dx_hpv']\n",
      "\n",
      "\n",
      "Mutual Information Random Under 0.3 Neural Network Validation Acc: 0.8904109589041096\n",
      "Mutual Information Random Under 0.3 Neural Network Validation AUC: 0.524264705882353\n",
      "\n",
      "\n"
     ]
    }
   ],
   "source": [
    "results_dict_0p3 = \\\n",
    "  perform_feat_sel_models(train_data_rus0p3, train_target_rus0p3, val_data, val_target, clf_base, model_type, \n",
    "                          thresh_vals, k_vals)"
   ]
  },
  {
   "cell_type": "code",
   "execution_count": 15,
   "metadata": {},
   "outputs": [
    {
     "name": "stdout",
     "output_type": "stream",
     "text": [
      "Number of Original Target 0 Value: 540\n",
      "Number of Original Target 1 Value: 40\n",
      "\n",
      "\n",
      "Number of Random Under Sample Target 0 Value: 400\n",
      "Number of Random Under Sample Target 1 Value: 40\n"
     ]
    }
   ],
   "source": [
    "train_data_rus0p1, train_target_rus0p1 = create_under_data(train_data, train_target, rand_st, 0.1)"
   ]
  },
  {
   "cell_type": "code",
   "execution_count": 16,
   "metadata": {},
   "outputs": [
    {
     "name": "stdout",
     "output_type": "stream",
     "text": [
      "Base Random Under 0.1 Neural Network CV Acc: 0.909090909090909 +/- 2.220446049250313e-16\n",
      "Base Random Under 0.1 Neural Network CV AUC: 0.5782812500000001 +/- 0.22348535326727795\n",
      "CV Runtime: 0.8881568908691406\n",
      "\n",
      "\n",
      "Base Random Under 0.1 Neural Network Validation Acc: 0.9315068493150684\n",
      "Base Random Under 0.1 Neural Network Validation AUC: 0.5\n",
      "\n",
      "\n"
     ]
    }
   ],
   "source": [
    "model_type = 'Random Under 0.1 Neural Network'\n",
    "base_model_rus0p1 = model_data(train_data_rus0p1, train_target_rus0p1, val_data, val_target, \n",
    "                           clf_base, scorers, model_type, model_desc, 5) \n"
   ]
  },
  {
   "cell_type": "code",
   "execution_count": 17,
   "metadata": {},
   "outputs": [
    {
     "name": "stdout",
     "output_type": "stream",
     "text": [
      "-- Low Variance Filtering --\n",
      "Threshold Selected: 0.4\n",
      "Selected Model Mean Accuracy Score: 0.8999999999999998\n",
      "Selected Model Accuracy Deviation: 0.009090909090909084\n",
      "Selected Model Mean AUC Score: 0.48890625000000004\n",
      "Selected Model AUC Deviation: 0.08444672877027262\n",
      "Number of Original Features: 30\n",
      "Number of Selected Features: 8\n",
      "Features Selected:\n",
      "['age', 'num_sex_partners', 'first_sex_int', 'num_pregnancies', 'smokes_yrs', 'smokes_pk_yrs', 'hormonal_contr_yrs', 'iud_yrs']\n",
      "Features Removed:\n",
      "['smokes', 'hormonal_contr', 'iud', 'stds', 'stds_num', 'stds_condylomatosis', 'stds_cerv_condylomatosis', 'stds_vag_condylomatosis', 'stds_vp_condylomatosis', 'stds_syphillus', 'stds_pelvic_inf_disease', 'stds_gen_herpes', 'stds_molluscom_contagiosum', 'stds_aids', 'stds_hiv', 'stds_hep_b', 'stds_hpv', 'stds_num_dx', 'dx_cancer', 'dx_cin', 'dx_hpv', 'dx']\n",
      "\n",
      "\n",
      "Low Variance Filter Random Under 0.1 Neural Network Validation Acc: 0.9246575342465754\n",
      "Low Variance Filter Random Under 0.1 Neural Network Validation AUC: 0.5426470588235295\n",
      "\n",
      "\n",
      "-- Univariate Chi-Sq Feature Selection --\n",
      "K Selected: 9\n",
      "Selected Model Mean Accuracy Score: 0.8977272727272727\n",
      "Selected Model Accuracy Deviation: 0.020327890704543525\n",
      "Selected Model Mean AUC Score: 0.59921875\n",
      "Selected Model AUC Deviation: 0.10372458272993912\n",
      "Number of Original Features: 30\n",
      "Number of Selected Features: 9\n",
      "Features Selected:\n",
      "['smokes_yrs', 'smokes_pk_yrs', 'hormonal_contr_yrs', 'stds_num', 'stds_hiv', 'dx_cancer', 'dx_cin', 'dx_hpv', 'dx']\n",
      "Features Removed:\n",
      "['age', 'num_sex_partners', 'first_sex_int', 'num_pregnancies', 'smokes', 'hormonal_contr', 'iud', 'iud_yrs', 'stds', 'stds_condylomatosis', 'stds_cerv_condylomatosis', 'stds_vag_condylomatosis', 'stds_vp_condylomatosis', 'stds_syphillus', 'stds_pelvic_inf_disease', 'stds_gen_herpes', 'stds_molluscom_contagiosum', 'stds_aids', 'stds_hep_b', 'stds_hpv', 'stds_num_dx']\n",
      "\n",
      "\n",
      "Univariate Chi-Squared Random Under 0.1 Neural Network Validation Acc: 0.8835616438356164\n",
      "Univariate Chi-Squared Random Under 0.1 Neural Network Validation AUC: 0.5205882352941177\n",
      "\n",
      "\n",
      "-- Mutual Information Feature Selection --\n",
      "K Selected: 9\n",
      "Selected Model Mean Accuracy Score: 0.9\n",
      "Selected Model Accuracy Deviation: 0.026504326794751343\n",
      "Selected Model Mean AUC Score: 0.7123437500000002\n",
      "Selected Model AUC Deviation: 0.15582880730949591\n",
      "Number of Original Features: 30\n",
      "Number of Selected Features: 9\n",
      "Features Selected:\n",
      "['age', 'num_pregnancies', 'smokes', 'stds', 'stds_num', 'stds_syphillus', 'stds_hiv', 'dx_hpv', 'dx']\n",
      "Features Removed:\n",
      "['num_sex_partners', 'first_sex_int', 'smokes_yrs', 'smokes_pk_yrs', 'hormonal_contr', 'hormonal_contr_yrs', 'iud', 'iud_yrs', 'stds_condylomatosis', 'stds_cerv_condylomatosis', 'stds_vag_condylomatosis', 'stds_vp_condylomatosis', 'stds_pelvic_inf_disease', 'stds_gen_herpes', 'stds_molluscom_contagiosum', 'stds_aids', 'stds_hep_b', 'stds_hpv', 'stds_num_dx', 'dx_cancer', 'dx_cin']\n",
      "\n",
      "\n",
      "Mutual Information Random Under 0.1 Neural Network Validation Acc: 0.9315068493150684\n",
      "Mutual Information Random Under 0.1 Neural Network Validation AUC: 0.5\n",
      "\n",
      "\n"
     ]
    }
   ],
   "source": [
    "results_dict_0p1 = \\\n",
    "  perform_feat_sel_models(train_data_rus0p1, train_target_rus0p1, val_data, val_target, clf_base, model_type, \n",
    "                          thresh_vals, k_vals)"
   ]
  }
 ],
 "metadata": {
  "kernelspec": {
   "display_name": "Python 3",
   "language": "python",
   "name": "python3"
  },
  "language_info": {
   "codemirror_mode": {
    "name": "ipython",
    "version": 3
   },
   "file_extension": ".py",
   "mimetype": "text/x-python",
   "name": "python",
   "nbconvert_exporter": "python",
   "pygments_lexer": "ipython3",
   "version": "3.6.8"
  }
 },
 "nbformat": 4,
 "nbformat_minor": 2
}
