{
 "cells": [
  {
   "cell_type": "code",
   "execution_count": 1,
   "metadata": {},
   "outputs": [],
   "source": [
    "%load_ext autoreload\n",
    "%autoreload 2"
   ]
  },
  {
   "cell_type": "code",
   "execution_count": 2,
   "metadata": {},
   "outputs": [],
   "source": [
    "import pandas as pd\n",
    "import numpy as np\n",
    "from sklearn.svm import SVC\n",
    "import pickle\n",
    "\n",
    "from model_creation import create_smote_data, fit_val_data, model_data, perform_base_models\n",
    "from model_creation import perform_feat_sel_models, perform_grid_search"
   ]
  },
  {
   "cell_type": "code",
   "execution_count": 3,
   "metadata": {},
   "outputs": [],
   "source": [
    "train_data = pd.read_csv('C:\\\\DePaulCoursework\\\\Winter 2019 CSC 529\\\\Project\\\\Data\\\\CervicalCancerRisks_Biopsy_TrainData.csv', \n",
    "                          delimiter=\",\", index_col = 0, header = 0)\n",
    "train_target = pd.read_csv('C:\\\\DePaulCoursework\\\\Winter 2019 CSC 529\\\\Project\\\\Data\\\\CervicalCancerRisks_Biopsy_TrainTarget.csv', \n",
    "                          delimiter=\",\", index_col = 0, header = 0)"
   ]
  },
  {
   "cell_type": "code",
   "execution_count": 4,
   "metadata": {},
   "outputs": [],
   "source": [
    "val_data = pd.read_csv('C:\\\\DePaulCoursework\\\\Winter 2019 CSC 529\\\\Project\\\\Data\\\\CervicalCancerRisks_Biopsy_ValData.csv', \n",
    "                          delimiter=\",\", index_col = 0, header = 0)\n",
    "val_target = pd.read_csv('C:\\\\DePaulCoursework\\\\Winter 2019 CSC 529\\\\Project\\\\Data\\\\CervicalCancerRisks_Biopsy_ValTarget.csv', \n",
    "                          delimiter=\",\", index_col = 0, header = 0)"
   ]
  },
  {
   "cell_type": "code",
   "execution_count": 5,
   "metadata": {},
   "outputs": [],
   "source": [
    "rand_st = 1\n"
   ]
  },
  {
   "cell_type": "code",
   "execution_count": 6,
   "metadata": {},
   "outputs": [
    {
     "name": "stdout",
     "output_type": "stream",
     "text": [
      "Number of Original Target 0 Value: 540\n",
      "Number of Original Target 1 Value: 40\n",
      "\n",
      "\n",
      "Number of SMOTE Target 0 Value: 540\n",
      "Number of SMOTE Target 1 Value: 540\n"
     ]
    }
   ],
   "source": [
    "train_data_sm1p0, train_target_sm1p0 = create_smote_data(train_data, train_target, rand_st, 1.0)"
   ]
  },
  {
   "cell_type": "code",
   "execution_count": 7,
   "metadata": {},
   "outputs": [],
   "source": [
    "#train_sm_data_name = data_save_path + 'CervicalCancerRisks_' + target_name + '_TrainData_SMOTE.csv'\n",
    "#data_train_sm1p0.to_csv(train_sm_data_name, sep = ',')\n",
    "#train_sm_target_name = data_save_path + 'CervicalCancerRisks_' + target_name + '_TrainTarget_SMOTE.csv'\n",
    "#target_train_sm1p0.to_csv(train_sm_target_name, sep = ',')\n"
   ]
  },
  {
   "cell_type": "code",
   "execution_count": 8,
   "metadata": {},
   "outputs": [],
   "source": [
    "scorers = {'Accuracy': 'accuracy', 'roc_auc': 'roc_auc'}\n",
    "thresh_vals = [0.4, 0.5, 0.6]\n",
    "k_vals = [5, 6, 7, 8, 9, 10]"
   ]
  },
  {
   "cell_type": "code",
   "execution_count": 9,
   "metadata": {},
   "outputs": [],
   "source": [
    "model_type = 'SVM'\n",
    "clf_base = SVC(C = 1.0, kernel = 'rbf', gamma = 'scale', probability = True, random_state = rand_st)\n"
   ]
  },
  {
   "cell_type": "code",
   "execution_count": 10,
   "metadata": {},
   "outputs": [
    {
     "name": "stdout",
     "output_type": "stream",
     "text": [
      "Base SVM CV Acc: 0.9310344827586207 +/- 0.0\n",
      "Base SVM CV AUC: 0.5965277777777778 +/- 0.15501034303293423\n",
      "CV Runtime: 0.6306114196777344\n",
      "\n",
      "\n",
      "Base SVM Validation Acc: 0.9315068493150684\n",
      "Base SVM Validation AUC: 0.5\n",
      "\n",
      "\n",
      "SMOTE Base SVM CV Acc: 0.7685185185185185 +/- 0.042228719448116236\n",
      "SMOTE Base SVM CV AUC: 0.8516460905349794 +/- 0.009731516956880787\n",
      "CV Runtime: 4.140619516372681\n",
      "\n",
      "\n",
      "SMOTE Base SVM Validation Acc: 0.7602739726027398\n",
      "SMOTE Base SVM Validation AUC: 0.5007352941176471\n",
      "\n",
      "\n"
     ]
    },
    {
     "data": {
      "text/plain": [
       "(SVC(C=1.0, cache_size=200, class_weight=None, coef0=0.0,\n",
       "   decision_function_shape='ovr', degree=3, gamma='scale', kernel='rbf',\n",
       "   max_iter=-1, probability=True, random_state=1, shrinking=True, tol=0.001,\n",
       "   verbose=False), SVC(C=1.0, cache_size=200, class_weight=None, coef0=0.0,\n",
       "   decision_function_shape='ovr', degree=3, gamma='scale', kernel='rbf',\n",
       "   max_iter=-1, probability=True, random_state=1, shrinking=True, tol=0.001,\n",
       "   verbose=False))"
      ]
     },
     "execution_count": 10,
     "metadata": {},
     "output_type": "execute_result"
    }
   ],
   "source": [
    "perform_base_models(train_data, train_target, val_data, val_target, train_data_sm1p0, train_target_sm1p0, clf_base, \n",
    "                    scorers, model_type)"
   ]
  },
  {
   "cell_type": "code",
   "execution_count": 11,
   "metadata": {},
   "outputs": [
    {
     "name": "stdout",
     "output_type": "stream",
     "text": [
      "-- Low Variance Filtering --\n",
      "Threshold Selected: 0.4\n",
      "Selected Model Mean Accuracy Score: 0.9310344827586207\n",
      "Selected Model Accuracy Deviation: 0.0\n",
      "Selected Model Mean AUC Score: 0.532175925925926\n",
      "Selected Model AUC Deviation: 0.2354265675837794\n",
      "Number of Original Features: 30\n",
      "Number of Selected Features: 8\n",
      "Features Selected:\n",
      "['age', 'num_sex_partners', 'first_sex_int', 'num_pregnancies', 'smokes_yrs', 'smokes_pk_yrs', 'hormonal_contr_yrs', 'iud_yrs']\n",
      "Features Removed:\n",
      "['smokes', 'hormonal_contr', 'iud', 'stds', 'stds_num', 'stds_condylomatosis', 'stds_cerv_condylomatosis', 'stds_vag_condylomatosis', 'stds_vp_condylomatosis', 'stds_syphillus', 'stds_pelvic_inf_disease', 'stds_gen_herpes', 'stds_molluscom_contagiosum', 'stds_aids', 'stds_hiv', 'stds_hep_b', 'stds_hpv', 'stds_num_dx', 'dx_cancer', 'dx_cin', 'dx_hpv', 'dx']\n",
      "\n",
      "\n",
      "Low Variance Filter SVM Validation Acc: 0.9315068493150684\n",
      "Low Variance Filter SVM Validation AUC: 0.5\n",
      "\n",
      "\n",
      "-- Univariate Chi-Sq Feature Selection --\n",
      "K Selected: 6\n",
      "Selected Model Mean Accuracy Score: 0.9310344827586207\n",
      "Selected Model Accuracy Deviation: 0.0\n",
      "Selected Model Mean AUC Score: 0.6435185185185185\n",
      "Selected Model AUC Deviation: 0.06660072613370184\n",
      "Number of Original Features: 30\n",
      "Number of Selected Features: 6\n",
      "Features Selected:\n",
      "['smokes_yrs', 'hormonal_contr_yrs', 'stds_num', 'dx_cancer', 'dx_hpv', 'dx']\n",
      "Features Removed:\n",
      "['age', 'num_sex_partners', 'first_sex_int', 'num_pregnancies', 'smokes', 'smokes_pk_yrs', 'hormonal_contr', 'iud', 'iud_yrs', 'stds', 'stds_condylomatosis', 'stds_cerv_condylomatosis', 'stds_vag_condylomatosis', 'stds_vp_condylomatosis', 'stds_syphillus', 'stds_pelvic_inf_disease', 'stds_gen_herpes', 'stds_molluscom_contagiosum', 'stds_aids', 'stds_hiv', 'stds_hep_b', 'stds_hpv', 'stds_num_dx', 'dx_cin']\n",
      "\n",
      "\n",
      "Univariate Chi-Squared SVM Validation Acc: 0.9315068493150684\n",
      "Univariate Chi-Squared SVM Validation AUC: 0.5\n",
      "\n",
      "\n",
      "-- Mutual Information Feature Selection --\n",
      "K Selected: 9\n",
      "Selected Model Mean Accuracy Score: 0.9310344827586207\n",
      "Selected Model Accuracy Deviation: 0.0\n",
      "Selected Model Mean AUC Score: 0.6368055555555556\n",
      "Selected Model AUC Deviation: 0.17427742505779015\n",
      "Number of Original Features: 30\n",
      "Number of Selected Features: 9\n",
      "Features Selected:\n",
      "['first_sex_int', 'num_pregnancies', 'stds_condylomatosis', 'stds_vag_condylomatosis', 'stds_vp_condylomatosis', 'stds_molluscom_contagiosum', 'stds_num_dx', 'dx_cancer', 'dx_hpv']\n",
      "Features Removed:\n",
      "['age', 'num_sex_partners', 'smokes', 'smokes_yrs', 'smokes_pk_yrs', 'hormonal_contr', 'hormonal_contr_yrs', 'iud', 'iud_yrs', 'stds', 'stds_num', 'stds_cerv_condylomatosis', 'stds_syphillus', 'stds_pelvic_inf_disease', 'stds_gen_herpes', 'stds_aids', 'stds_hiv', 'stds_hep_b', 'stds_hpv', 'dx_cin', 'dx']\n",
      "\n",
      "\n",
      "Mutual Information SVM Validation Acc: 0.9315068493150684\n",
      "Mutual Information SVM Validation AUC: 0.5\n",
      "\n",
      "\n"
     ]
    }
   ],
   "source": [
    "results_dict_base = \\\n",
    "  perform_feat_sel_models(train_data, train_target, val_data, val_target, clf_base, model_type, thresh_vals, k_vals)"
   ]
  },
  {
   "cell_type": "code",
   "execution_count": 12,
   "metadata": {},
   "outputs": [
    {
     "name": "stdout",
     "output_type": "stream",
     "text": [
      "-- Low Variance Filtering --\n",
      "Threshold Selected: 0.4\n",
      "Selected Model Mean Accuracy Score: 0.7518518518518519\n",
      "Selected Model Accuracy Deviation: 0.036851386559504415\n",
      "Selected Model Mean AUC Score: 0.8450617283950617\n",
      "Selected Model AUC Deviation: 0.023170720082708575\n",
      "Number of Original Features: 30\n",
      "Number of Selected Features: 8\n",
      "Features Selected:\n",
      "['age', 'num_sex_partners', 'first_sex_int', 'num_pregnancies', 'smokes_yrs', 'smokes_pk_yrs', 'hormonal_contr_yrs', 'iud_yrs']\n",
      "Features Removed:\n",
      "['smokes', 'hormonal_contr', 'iud', 'stds', 'stds_num', 'stds_condylomatosis', 'stds_cerv_condylomatosis', 'stds_vag_condylomatosis', 'stds_vp_condylomatosis', 'stds_syphillus', 'stds_pelvic_inf_disease', 'stds_gen_herpes', 'stds_molluscom_contagiosum', 'stds_aids', 'stds_hiv', 'stds_hep_b', 'stds_hpv', 'stds_num_dx', 'dx_cancer', 'dx_cin', 'dx_hpv', 'dx']\n",
      "\n",
      "\n",
      "Low Variance Filter SMOTE SVM Validation Acc: 0.6643835616438356\n",
      "Low Variance Filter SMOTE SVM Validation AUC: 0.40294117647058825\n",
      "\n",
      "\n",
      "-- Univariate Chi-Sq Feature Selection --\n",
      "K Selected: 6\n",
      "Selected Model Mean Accuracy Score: 0.7472222222222222\n",
      "Selected Model Accuracy Deviation: 0.04558716157441169\n",
      "Selected Model Mean AUC Score: 0.816332304526749\n",
      "Selected Model AUC Deviation: 0.06510068073248598\n",
      "Number of Original Features: 30\n",
      "Number of Selected Features: 6\n",
      "Features Selected:\n",
      "['smokes_yrs', 'hormonal_contr_yrs', 'stds', 'stds_num', 'dx_hpv', 'dx']\n",
      "Features Removed:\n",
      "['age', 'num_sex_partners', 'first_sex_int', 'num_pregnancies', 'smokes', 'smokes_pk_yrs', 'hormonal_contr', 'iud', 'iud_yrs', 'stds_condylomatosis', 'stds_cerv_condylomatosis', 'stds_vag_condylomatosis', 'stds_vp_condylomatosis', 'stds_syphillus', 'stds_pelvic_inf_disease', 'stds_gen_herpes', 'stds_molluscom_contagiosum', 'stds_aids', 'stds_hiv', 'stds_hep_b', 'stds_hpv', 'stds_num_dx', 'dx_cancer', 'dx_cin']\n",
      "\n",
      "\n",
      "Univariate Chi-Squared SMOTE SVM Validation Acc: 0.7534246575342466\n",
      "Univariate Chi-Squared SMOTE SVM Validation AUC: 0.5897058823529411\n",
      "\n",
      "\n",
      "-- Mutual Information Feature Selection --\n",
      "K Selected: 10\n",
      "Selected Model Mean Accuracy Score: 0.787037037037037\n",
      "Selected Model Accuracy Deviation: 0.04721314364437763\n",
      "Selected Model Mean AUC Score: 0.8487825788751714\n",
      "Selected Model AUC Deviation: 0.04919916639039487\n",
      "Number of Original Features: 30\n",
      "Number of Selected Features: 10\n",
      "Features Selected:\n",
      "['age', 'num_sex_partners', 'first_sex_int', 'num_pregnancies', 'hormonal_contr', 'hormonal_contr_yrs', 'stds', 'stds_num', 'stds_vp_condylomatosis', 'dx']\n",
      "Features Removed:\n",
      "['smokes', 'smokes_yrs', 'smokes_pk_yrs', 'iud', 'iud_yrs', 'stds_condylomatosis', 'stds_cerv_condylomatosis', 'stds_vag_condylomatosis', 'stds_syphillus', 'stds_pelvic_inf_disease', 'stds_gen_herpes', 'stds_molluscom_contagiosum', 'stds_aids', 'stds_hiv', 'stds_hep_b', 'stds_hpv', 'stds_num_dx', 'dx_cancer', 'dx_cin', 'dx_hpv']\n",
      "\n",
      "\n",
      "Mutual Information SMOTE SVM Validation Acc: 0.6506849315068494\n",
      "Mutual Information SMOTE SVM Validation AUC: 0.44191176470588234\n",
      "\n",
      "\n"
     ]
    }
   ],
   "source": [
    "model_type = 'SMOTE SVM'\n",
    "results_dict_1p0 = \\\n",
    "  perform_feat_sel_models(train_data_sm1p0, train_target_sm1p0, val_data, val_target, clf_base, model_type, \n",
    "                          thresh_vals, k_vals)"
   ]
  },
  {
   "cell_type": "code",
   "execution_count": 13,
   "metadata": {},
   "outputs": [
    {
     "name": "stdout",
     "output_type": "stream",
     "text": [
      "Number of Original Target 0 Value: 540\n",
      "Number of Original Target 1 Value: 40\n",
      "\n",
      "\n",
      "Number of SMOTE Target 0 Value: 540\n",
      "Number of SMOTE Target 1 Value: 162\n"
     ]
    }
   ],
   "source": [
    "train_data_sm0p3, train_target_sm0p3 = create_smote_data(train_data, train_target, rand_st, 0.3)"
   ]
  },
  {
   "cell_type": "code",
   "execution_count": 14,
   "metadata": {},
   "outputs": [
    {
     "name": "stdout",
     "output_type": "stream",
     "text": [
      "Base SMOTE SVM CV Acc: 0.9310344827586207 +/- 0.0\n",
      "Base SMOTE SVM CV AUC: 0.5965277777777778 +/- 0.15501034303293423\n",
      "CV Runtime: 0.7215874195098877\n",
      "\n",
      "\n",
      "Base SMOTE SVM Validation Acc: 0.9315068493150684\n",
      "Base SMOTE SVM Validation AUC: 0.5\n",
      "\n",
      "\n",
      "SMOTE Base SMOTE SVM CV Acc: 0.7777912867274569 +/- 0.022230057263628096\n",
      "SMOTE Base SMOTE SVM CV AUC: 0.8405566077441078 +/- 0.04424091399776672\n",
      "CV Runtime: 1.3812057971954346\n",
      "\n",
      "\n",
      "SMOTE Base SMOTE SVM Validation Acc: 0.9178082191780822\n",
      "SMOTE Base SMOTE SVM Validation AUC: 0.49264705882352944\n",
      "\n",
      "\n"
     ]
    },
    {
     "data": {
      "text/plain": [
       "(SVC(C=1.0, cache_size=200, class_weight=None, coef0=0.0,\n",
       "   decision_function_shape='ovr', degree=3, gamma='scale', kernel='rbf',\n",
       "   max_iter=-1, probability=True, random_state=1, shrinking=True, tol=0.001,\n",
       "   verbose=False), SVC(C=1.0, cache_size=200, class_weight=None, coef0=0.0,\n",
       "   decision_function_shape='ovr', degree=3, gamma='scale', kernel='rbf',\n",
       "   max_iter=-1, probability=True, random_state=1, shrinking=True, tol=0.001,\n",
       "   verbose=False))"
      ]
     },
     "execution_count": 14,
     "metadata": {},
     "output_type": "execute_result"
    }
   ],
   "source": [
    "perform_base_models(train_data, train_target, val_data, val_target, train_data_sm0p3, train_target_sm0p3, clf_base, \n",
    "                    scorers, model_type)"
   ]
  },
  {
   "cell_type": "code",
   "execution_count": 15,
   "metadata": {},
   "outputs": [
    {
     "name": "stdout",
     "output_type": "stream",
     "text": [
      "-- Low Variance Filtering --\n",
      "Threshold Selected: 0.4\n",
      "Selected Model Mean Accuracy Score: 0.7934751773049644\n",
      "Selected Model Accuracy Deviation: 0.03864099574239484\n",
      "Selected Model Mean AUC Score: 0.8004927749719417\n",
      "Selected Model AUC Deviation: 0.04062904319568469\n",
      "Number of Original Features: 30\n",
      "Number of Selected Features: 8\n",
      "Features Selected:\n",
      "['age', 'num_sex_partners', 'first_sex_int', 'num_pregnancies', 'smokes_yrs', 'smokes_pk_yrs', 'hormonal_contr_yrs', 'iud_yrs']\n",
      "Features Removed:\n",
      "['smokes', 'hormonal_contr', 'iud', 'stds', 'stds_num', 'stds_condylomatosis', 'stds_cerv_condylomatosis', 'stds_vag_condylomatosis', 'stds_vp_condylomatosis', 'stds_syphillus', 'stds_pelvic_inf_disease', 'stds_gen_herpes', 'stds_molluscom_contagiosum', 'stds_aids', 'stds_hiv', 'stds_hep_b', 'stds_hpv', 'stds_num_dx', 'dx_cancer', 'dx_cin', 'dx_hpv', 'dx']\n",
      "\n",
      "\n",
      "Low Variance Filter SMOTE SVM Validation Acc: 0.910958904109589\n",
      "Low Variance Filter SMOTE SVM Validation AUC: 0.4889705882352941\n",
      "\n",
      "\n",
      "-- Univariate Chi-Sq Feature Selection --\n",
      "K Selected: 9\n",
      "Selected Model Mean Accuracy Score: 0.8091286727456941\n",
      "Selected Model Accuracy Deviation: 0.048706899768083164\n",
      "Selected Model Mean AUC Score: 0.8166131804152638\n",
      "Selected Model AUC Deviation: 0.06755906023300913\n",
      "Number of Original Features: 30\n",
      "Number of Selected Features: 9\n",
      "Features Selected:\n",
      "['smokes_yrs', 'smokes_pk_yrs', 'hormonal_contr_yrs', 'iud_yrs', 'stds_num', 'stds_hiv', 'dx_cancer', 'dx_hpv', 'dx']\n",
      "Features Removed:\n",
      "['age', 'num_sex_partners', 'first_sex_int', 'num_pregnancies', 'smokes', 'hormonal_contr', 'iud', 'stds', 'stds_condylomatosis', 'stds_cerv_condylomatosis', 'stds_vag_condylomatosis', 'stds_vp_condylomatosis', 'stds_syphillus', 'stds_pelvic_inf_disease', 'stds_gen_herpes', 'stds_molluscom_contagiosum', 'stds_aids', 'stds_hep_b', 'stds_hpv', 'stds_num_dx', 'dx_cin']\n",
      "\n",
      "\n",
      "Univariate Chi-Squared SMOTE SVM Validation Acc: 0.8561643835616438\n",
      "Univariate Chi-Squared SMOTE SVM Validation AUC: 0.45955882352941174\n",
      "\n",
      "\n",
      "-- Mutual Information Feature Selection --\n",
      "K Selected: 10\n",
      "Selected Model Mean Accuracy Score: 0.7763931104356636\n",
      "Selected Model Accuracy Deviation: 0.03562578585568749\n",
      "Selected Model Mean AUC Score: 0.819398849607183\n",
      "Selected Model AUC Deviation: 0.08505696656714262\n",
      "Number of Original Features: 30\n",
      "Number of Selected Features: 10\n",
      "Features Selected:\n",
      "['age', 'num_sex_partners', 'first_sex_int', 'num_pregnancies', 'hormonal_contr', 'hormonal_contr_yrs', 'stds', 'stds_num', 'dx_hpv', 'dx']\n",
      "Features Removed:\n",
      "['smokes', 'smokes_yrs', 'smokes_pk_yrs', 'iud', 'iud_yrs', 'stds_condylomatosis', 'stds_cerv_condylomatosis', 'stds_vag_condylomatosis', 'stds_vp_condylomatosis', 'stds_syphillus', 'stds_pelvic_inf_disease', 'stds_gen_herpes', 'stds_molluscom_contagiosum', 'stds_aids', 'stds_hiv', 'stds_hep_b', 'stds_hpv', 'stds_num_dx', 'dx_cancer', 'dx_cin']\n",
      "\n",
      "\n",
      "Mutual Information SMOTE SVM Validation Acc: 0.910958904109589\n",
      "Mutual Information SMOTE SVM Validation AUC: 0.5352941176470588\n",
      "\n",
      "\n"
     ]
    }
   ],
   "source": [
    "results_dict_0p3 = \\\n",
    "  perform_feat_sel_models(train_data_sm0p3, train_target_sm0p3, val_data, val_target, clf_base, model_type, \n",
    "                          thresh_vals, k_vals)"
   ]
  },
  {
   "cell_type": "code",
   "execution_count": 16,
   "metadata": {},
   "outputs": [],
   "source": [
    "cv = 5\n",
    "clf_grid = SVC(random_state = rand_st)\n",
    "\n",
    "C = [1.0, 0.5, 1.5]\n",
    "kernel = ['rbf', 'linear', 'sigmoid']\n",
    "gamma = ['scale', 'auto']\n",
    "probability = [True, False]\n",
    "class_weight  = [None, 'balanced']\n",
    "\n",
    "#C = [1.0]\n",
    "#kernel = ['rbf']\n",
    "#gamma = ['scale']\n",
    "#probability = [True]\n",
    "#class_weight = [None]\n",
    "\n",
    "model_params = {\n",
    "    'C': C,\n",
    "    'kernel': kernel,\n",
    "    'gamma': gamma,\n",
    "    'probability': probability,\n",
    "    'class_weight': class_weight\n",
    "}\n",
    "\n",
    "score = 'roc_auc'"
   ]
  },
  {
   "cell_type": "code",
   "execution_count": 17,
   "metadata": {},
   "outputs": [
    {
     "name": "stdout",
     "output_type": "stream",
     "text": [
      "Chi-Squared FS SMOTE 1.0 SVM Grid Search\n",
      "Fitting 5 folds for each of 72 candidates, totalling 360 fits\n"
     ]
    },
    {
     "name": "stderr",
     "output_type": "stream",
     "text": [
      "[Parallel(n_jobs=1)]: Using backend SequentialBackend with 1 concurrent workers.\n",
      "[Parallel(n_jobs=1)]: Done 360 out of 360 | elapsed:  2.0min finished\n"
     ]
    },
    {
     "name": "stdout",
     "output_type": "stream",
     "text": [
      "Grid Search Runtime: 119.09848237037659\n",
      "\n",
      "\n",
      "Grid Search Optimal Parameters: {'C': 1.5, 'class_weight': None, 'gamma': 'auto', 'kernel': 'rbf', 'probability': True}\n",
      "Grid Search Optimal Parameter Score: 0.8324159807956104\n",
      "\n",
      "\n",
      "Final Model Parameter Settings:\n",
      "SVC(C=1.5, cache_size=200, class_weight=None, coef0=0.0,\n",
      "  decision_function_shape='ovr', degree=3, gamma='auto', kernel='rbf',\n",
      "  max_iter=-1, probability=True, random_state=1, shrinking=True, tol=0.001,\n",
      "  verbose=False)\n",
      "\n",
      "\n",
      "Chi-Squared FS SMOTE 1.0 SVM CV Acc: 0.7712962962962964 +/- 0.06046232487894263\n",
      "Chi-Squared FS SMOTE 1.0 SVM CV AUC: 0.8324159807956105 +/- 0.03945575713051505\n",
      "CV Runtime: 2.520531177520752\n",
      "\n",
      "\n",
      "Chi-Squared FS SMOTE 1.0 SVM Validation Acc: 0.7671232876712328\n",
      "Chi-Squared FS SMOTE 1.0 SVM Validation AUC: 0.5970588235294118\n",
      "\n",
      "\n"
     ]
    }
   ],
   "source": [
    "chisq_train_data_1p0 = results_dict_1p0['chisq']['data']\n",
    "chisq_del_cols_1p0 = results_dict_1p0['chisq']['del_cols']\n",
    "chisq_val_data_1p0 = val_data.drop(chisq_del_cols_1p0, axis = 1)\n",
    "\n",
    "model_type = 'SMOTE 1.0 SVM'\n",
    "model_desc = 'Chi-Squared FS'\n",
    "\n",
    "opt_model = perform_grid_search(clf_grid, chisq_train_data_1p0, train_target_sm1p0, model_params, score, cv, \n",
    "                              model_type, model_desc)\n",
    "chisq_model_sm_1p0 = model_data(chisq_train_data_1p0, train_target_sm1p0, chisq_val_data_1p0, val_target, \n",
    "                                opt_model, scorers, model_type, model_desc, cv)\n"
   ]
  },
  {
   "cell_type": "code",
   "execution_count": 18,
   "metadata": {},
   "outputs": [],
   "source": [
    "filename = 'Biopsy_ChiSq_FS_SMOTE_1p0_SVM_Model.sav'\n",
    "pickle.dump(chisq_model_sm_1p0, open(filename, 'wb'))"
   ]
  },
  {
   "cell_type": "code",
   "execution_count": 19,
   "metadata": {
    "scrolled": false
   },
   "outputs": [
    {
     "name": "stdout",
     "output_type": "stream",
     "text": [
      "Mutual Information FS SMOTE 1.0 SVM Grid Search\n",
      "Fitting 5 folds for each of 72 candidates, totalling 360 fits\n"
     ]
    },
    {
     "name": "stderr",
     "output_type": "stream",
     "text": [
      "[Parallel(n_jobs=1)]: Using backend SequentialBackend with 1 concurrent workers.\n",
      "[Parallel(n_jobs=1)]: Done 360 out of 360 | elapsed: 16.3min finished\n"
     ]
    },
    {
     "name": "stdout",
     "output_type": "stream",
     "text": [
      "Grid Search Runtime: 975.8887696266174\n",
      "\n",
      "\n",
      "Grid Search Optimal Parameters: {'C': 1.5, 'class_weight': 'balanced', 'gamma': 'auto', 'kernel': 'rbf', 'probability': True}\n",
      "Grid Search Optimal Parameter Score: 0.9498130042111522\n",
      "\n",
      "\n",
      "Final Model Parameter Settings:\n",
      "SVC(C=1.5, cache_size=200, class_weight='balanced', coef0=0.0,\n",
      "  decision_function_shape='ovr', degree=3, gamma='auto', kernel='rbf',\n",
      "  max_iter=-1, probability=True, random_state=1, shrinking=True, tol=0.001,\n",
      "  verbose=False)\n",
      "\n",
      "\n",
      "Mutual Information FS SMOTE 1.0 SVM CV Acc: 0.8874772036474164 +/- 0.05043164578933496\n",
      "Mutual Information FS SMOTE 1.0 SVM CV AUC: 0.9498632154882154 +/- 0.04596213776829689\n",
      "CV Runtime: 1.0184147357940674\n",
      "\n",
      "\n",
      "Mutual Information FS SMOTE 1.0 SVM Validation Acc: 0.7534246575342466\n",
      "Mutual Information FS SMOTE 1.0 SVM Validation AUC: 0.4507352941176471\n",
      "\n",
      "\n"
     ]
    }
   ],
   "source": [
    "mutinf_train_data_0p3 = results_dict_0p3['mutinf']['data']\n",
    "mutinf_del_cols_0p3 = results_dict_0p3['mutinf']['del_cols']\n",
    "mutinf_val_data_0p3 = val_data.drop(mutinf_del_cols_0p3, axis = 1)\n",
    "\n",
    "model_type = 'SMOTE 1.0 SVM'\n",
    "model_desc = 'Mutual Information FS'\n",
    "\n",
    "opt_model = perform_grid_search(clf_grid, mutinf_train_data_0p3, train_target_sm0p3, model_params, score, cv, \n",
    "                              model_type, model_desc)\n",
    "mutinf_model_sm_0p3 = model_data(mutinf_train_data_0p3, train_target_sm0p3, mutinf_val_data_0p3, val_target, \n",
    "                                opt_model, scorers, model_type, model_desc, cv)\n"
   ]
  },
  {
   "cell_type": "code",
   "execution_count": 20,
   "metadata": {},
   "outputs": [],
   "source": [
    "filename = 'Biopsy_MutInf_FS_SMOTE_0p3_SVM_Model.sav'\n",
    "pickle.dump(mutinf_model_sm_0p3, open(filename, 'wb'))"
   ]
  }
 ],
 "metadata": {
  "kernelspec": {
   "display_name": "Python 3",
   "language": "python",
   "name": "python3"
  },
  "language_info": {
   "codemirror_mode": {
    "name": "ipython",
    "version": 3
   },
   "file_extension": ".py",
   "mimetype": "text/x-python",
   "name": "python",
   "nbconvert_exporter": "python",
   "pygments_lexer": "ipython3",
   "version": "3.6.8"
  }
 },
 "nbformat": 4,
 "nbformat_minor": 2
}
