{
 "cells": [
  {
   "cell_type": "code",
   "execution_count": 1,
   "metadata": {},
   "outputs": [],
   "source": [
    "%load_ext autoreload\n",
    "%autoreload 2"
   ]
  },
  {
   "cell_type": "code",
   "execution_count": 2,
   "metadata": {},
   "outputs": [],
   "source": [
    "import pandas as pd\n",
    "import numpy as np\n",
    "from sklearn.neural_network import MLPClassifier\n",
    "import pickle\n",
    "\n",
    "from model_creation import create_smote_data, fit_val_data, model_data, perform_base_models\n",
    "from model_creation import perform_feat_sel_models, perform_grid_search"
   ]
  },
  {
   "cell_type": "code",
   "execution_count": 3,
   "metadata": {},
   "outputs": [],
   "source": [
    "train_data = pd.read_csv('C:\\\\DePaulCoursework\\\\Winter 2019 CSC 529\\\\Project\\\\Data\\\\CervicalCancerRisks_Biopsy_TrainData.csv', \n",
    "                          delimiter=\",\", index_col = 0, header = 0)\n",
    "train_target = pd.read_csv('C:\\\\DePaulCoursework\\\\Winter 2019 CSC 529\\\\Project\\\\Data\\\\CervicalCancerRisks_Biopsy_TrainTarget.csv', \n",
    "                          delimiter=\",\", index_col = 0, header = 0)"
   ]
  },
  {
   "cell_type": "code",
   "execution_count": 4,
   "metadata": {},
   "outputs": [],
   "source": [
    "val_data = pd.read_csv('C:\\\\DePaulCoursework\\\\Winter 2019 CSC 529\\\\Project\\\\Data\\\\CervicalCancerRisks_Biopsy_ValData.csv', \n",
    "                          delimiter=\",\", index_col = 0, header = 0)\n",
    "val_target = pd.read_csv('C:\\\\DePaulCoursework\\\\Winter 2019 CSC 529\\\\Project\\\\Data\\\\CervicalCancerRisks_Biopsy_ValTarget.csv', \n",
    "                          delimiter=\",\", index_col = 0, header = 0)"
   ]
  },
  {
   "cell_type": "code",
   "execution_count": 5,
   "metadata": {},
   "outputs": [],
   "source": [
    "rand_st = 1\n"
   ]
  },
  {
   "cell_type": "code",
   "execution_count": 6,
   "metadata": {},
   "outputs": [
    {
     "name": "stdout",
     "output_type": "stream",
     "text": [
      "Number of Original Target 0 Value: 540\n",
      "Number of Original Target 1 Value: 40\n",
      "\n",
      "\n",
      "Number of SMOTE Target 0 Value: 540\n",
      "Number of SMOTE Target 1 Value: 540\n"
     ]
    }
   ],
   "source": [
    "train_data_sm1p0, train_target_sm1p0 = create_smote_data(train_data, train_target, rand_st, 1.0)"
   ]
  },
  {
   "cell_type": "code",
   "execution_count": 7,
   "metadata": {},
   "outputs": [],
   "source": [
    "#train_sm_data_name = data_save_path + 'CervicalCancerRisks_' + target_name + '_TrainData_SMOTE.csv'\n",
    "#data_train_sm1p0.to_csv(train_sm_data_name, sep = ',')\n",
    "#train_sm_target_name = data_save_path + 'CervicalCancerRisks_' + target_name + '_TrainTarget_SMOTE.csv'\n",
    "#target_train_sm1p0.to_csv(train_sm_target_name, sep = ',')\n"
   ]
  },
  {
   "cell_type": "code",
   "execution_count": 8,
   "metadata": {},
   "outputs": [],
   "source": [
    "scorers = {'Accuracy': 'accuracy', 'roc_auc': 'roc_auc'}\n",
    "thresh_vals = [0.4, 0.5, 0.6]\n",
    "k_vals = [5, 6, 7, 8, 9, 10]"
   ]
  },
  {
   "cell_type": "code",
   "execution_count": 9,
   "metadata": {},
   "outputs": [],
   "source": [
    "model_type = 'Neural Network'\n",
    "clf_base = MLPClassifier(activation = 'relu', solver = 'lbfgs', alpha = 0.0001,\n",
    "                       max_iter = 1000, hidden_layer_sizes = (10,), random_state = rand_st)\n"
   ]
  },
  {
   "cell_type": "code",
   "execution_count": 10,
   "metadata": {},
   "outputs": [
    {
     "name": "stdout",
     "output_type": "stream",
     "text": [
      "Base Neural Network CV Acc: 0.9310344827586207 +/- 0.0\n",
      "Base Neural Network CV AUC: 0.6123842592592592 +/- 0.0479362323625235\n",
      "CV Runtime: 5.817628622055054\n",
      "\n",
      "\n",
      "Base Neural Network Validation Acc: 0.9315068493150684\n",
      "Base Neural Network Validation AUC: 0.5\n",
      "\n",
      "\n",
      "SMOTE Base Neural Network CV Acc: 0.6962962962962964 +/- 0.16319428027309846\n",
      "SMOTE Base Neural Network CV AUC: 0.7338134430727024 +/- 0.24046323779932674\n",
      "CV Runtime: 3.2441327571868896\n",
      "\n",
      "\n",
      "SMOTE Base Neural Network Validation Acc: 0.7671232876712328\n",
      "SMOTE Base Neural Network Validation AUC: 0.4580882352941177\n",
      "\n",
      "\n"
     ]
    },
    {
     "data": {
      "text/plain": [
       "(MLPClassifier(activation='relu', alpha=0.0001, batch_size='auto', beta_1=0.9,\n",
       "        beta_2=0.999, early_stopping=False, epsilon=1e-08,\n",
       "        hidden_layer_sizes=(10,), learning_rate='constant',\n",
       "        learning_rate_init=0.001, max_iter=1000, momentum=0.9,\n",
       "        n_iter_no_change=10, nesterovs_momentum=True, power_t=0.5,\n",
       "        random_state=1, shuffle=True, solver='lbfgs', tol=0.0001,\n",
       "        validation_fraction=0.1, verbose=False, warm_start=False),\n",
       " MLPClassifier(activation='relu', alpha=0.0001, batch_size='auto', beta_1=0.9,\n",
       "        beta_2=0.999, early_stopping=False, epsilon=1e-08,\n",
       "        hidden_layer_sizes=(10,), learning_rate='constant',\n",
       "        learning_rate_init=0.001, max_iter=1000, momentum=0.9,\n",
       "        n_iter_no_change=10, nesterovs_momentum=True, power_t=0.5,\n",
       "        random_state=1, shuffle=True, solver='lbfgs', tol=0.0001,\n",
       "        validation_fraction=0.1, verbose=False, warm_start=False))"
      ]
     },
     "execution_count": 10,
     "metadata": {},
     "output_type": "execute_result"
    }
   ],
   "source": [
    "perform_base_models(train_data, train_target, val_data, val_target, train_data_sm1p0, train_target_sm1p0, clf_base, \n",
    "                    scorers, model_type)"
   ]
  },
  {
   "cell_type": "code",
   "execution_count": 11,
   "metadata": {},
   "outputs": [
    {
     "name": "stdout",
     "output_type": "stream",
     "text": [
      "-- Low Variance Filtering --\n",
      "Threshold Selected: 0.4\n",
      "Selected Model Mean Accuracy Score: 0.9258620689655173\n",
      "Selected Model Accuracy Deviation: 0.013793103448275801\n",
      "Selected Model Mean AUC Score: 0.49143518518518514\n",
      "Selected Model AUC Deviation: 0.14924794323430654\n",
      "Number of Original Features: 30\n",
      "Number of Selected Features: 8\n",
      "Features Selected:\n",
      "['age', 'num_sex_partners', 'first_sex_int', 'num_pregnancies', 'smokes_yrs', 'smokes_pk_yrs', 'hormonal_contr_yrs', 'iud_yrs']\n",
      "Features Removed:\n",
      "['smokes', 'hormonal_contr', 'iud', 'stds', 'stds_num', 'stds_condylomatosis', 'stds_cerv_condylomatosis', 'stds_vag_condylomatosis', 'stds_vp_condylomatosis', 'stds_syphillus', 'stds_pelvic_inf_disease', 'stds_gen_herpes', 'stds_molluscom_contagiosum', 'stds_aids', 'stds_hiv', 'stds_hep_b', 'stds_hpv', 'stds_num_dx', 'dx_cancer', 'dx_cin', 'dx_hpv', 'dx']\n",
      "\n",
      "\n",
      "Low Variance Filter Neural Network Validation Acc: 0.9246575342465754\n",
      "Low Variance Filter Neural Network Validation AUC: 0.5426470588235295\n",
      "\n",
      "\n",
      "-- Univariate Chi-Sq Feature Selection --\n",
      "K Selected: 5\n",
      "Selected Model Mean Accuracy Score: 0.9310344827586207\n",
      "Selected Model Accuracy Deviation: 0.015421158465515821\n",
      "Selected Model Mean AUC Score: 0.7399305555555555\n",
      "Selected Model AUC Deviation: 0.17093085392759552\n",
      "Number of Original Features: 30\n",
      "Number of Selected Features: 5\n",
      "Features Selected:\n",
      "['hormonal_contr_yrs', 'stds_num', 'dx_cancer', 'dx_hpv', 'dx']\n",
      "Features Removed:\n",
      "['age', 'num_sex_partners', 'first_sex_int', 'num_pregnancies', 'smokes', 'smokes_yrs', 'smokes_pk_yrs', 'hormonal_contr', 'iud', 'iud_yrs', 'stds', 'stds_condylomatosis', 'stds_cerv_condylomatosis', 'stds_vag_condylomatosis', 'stds_vp_condylomatosis', 'stds_syphillus', 'stds_pelvic_inf_disease', 'stds_gen_herpes', 'stds_molluscom_contagiosum', 'stds_aids', 'stds_hiv', 'stds_hep_b', 'stds_hpv', 'stds_num_dx', 'dx_cin']\n",
      "\n",
      "\n",
      "Univariate Chi-Squared Neural Network Validation Acc: 0.8972602739726028\n",
      "Univariate Chi-Squared Neural Network Validation AUC: 0.5279411764705882\n",
      "\n",
      "\n",
      "-- Mutual Information Feature Selection --\n",
      "K Selected: 9\n",
      "Selected Model Mean Accuracy Score: 0.9310344827586207\n",
      "Selected Model Accuracy Deviation: 0.0\n",
      "Selected Model Mean AUC Score: 0.7320601851851851\n",
      "Selected Model AUC Deviation: 0.07930732576779369\n",
      "Number of Original Features: 30\n",
      "Number of Selected Features: 9\n",
      "Features Selected:\n",
      "['age', 'num_pregnancies', 'stds', 'stds_condylomatosis', 'stds_cerv_condylomatosis', 'stds_hep_b', 'dx_cancer', 'dx_cin', 'dx']\n",
      "Features Removed:\n",
      "['num_sex_partners', 'first_sex_int', 'smokes', 'smokes_yrs', 'smokes_pk_yrs', 'hormonal_contr', 'hormonal_contr_yrs', 'iud', 'iud_yrs', 'stds_num', 'stds_vag_condylomatosis', 'stds_vp_condylomatosis', 'stds_syphillus', 'stds_pelvic_inf_disease', 'stds_gen_herpes', 'stds_molluscom_contagiosum', 'stds_aids', 'stds_hiv', 'stds_hpv', 'stds_num_dx', 'dx_hpv']\n",
      "\n",
      "\n",
      "Mutual Information Neural Network Validation Acc: 0.9315068493150684\n",
      "Mutual Information Neural Network Validation AUC: 0.5\n",
      "\n",
      "\n"
     ]
    }
   ],
   "source": [
    "results_dict_base = \\\n",
    "  perform_feat_sel_models(train_data, train_target, val_data, val_target, clf_base, model_type, thresh_vals, k_vals)"
   ]
  },
  {
   "cell_type": "code",
   "execution_count": 12,
   "metadata": {},
   "outputs": [
    {
     "name": "stdout",
     "output_type": "stream",
     "text": [
      "-- Low Variance Filtering --\n",
      "Threshold Selected: 0.4\n",
      "Selected Model Mean Accuracy Score: 0.737037037037037\n",
      "Selected Model Accuracy Deviation: 0.035813110381136506\n",
      "Selected Model Mean AUC Score: 0.7998799725651577\n",
      "Selected Model AUC Deviation: 0.0381538546815047\n",
      "Number of Original Features: 30\n",
      "Number of Selected Features: 8\n",
      "Features Selected:\n",
      "['age', 'num_sex_partners', 'first_sex_int', 'num_pregnancies', 'smokes_yrs', 'smokes_pk_yrs', 'hormonal_contr_yrs', 'iud_yrs']\n",
      "Features Removed:\n",
      "['smokes', 'hormonal_contr', 'iud', 'stds', 'stds_num', 'stds_condylomatosis', 'stds_cerv_condylomatosis', 'stds_vag_condylomatosis', 'stds_vp_condylomatosis', 'stds_syphillus', 'stds_pelvic_inf_disease', 'stds_gen_herpes', 'stds_molluscom_contagiosum', 'stds_aids', 'stds_hiv', 'stds_hep_b', 'stds_hpv', 'stds_num_dx', 'dx_cancer', 'dx_cin', 'dx_hpv', 'dx']\n",
      "\n",
      "\n",
      "Low Variance Filter SMOTE Neural Network Validation Acc: 0.6301369863013698\n",
      "Low Variance Filter SMOTE Neural Network Validation AUC: 0.43088235294117644\n",
      "\n",
      "\n",
      "-- Univariate Chi-Sq Feature Selection --\n",
      "K Selected: 10\n",
      "Selected Model Mean Accuracy Score: 0.8287037037037036\n",
      "Selected Model Accuracy Deviation: 0.024845199749997708\n",
      "Selected Model Mean AUC Score: 0.885545267489712\n",
      "Selected Model AUC Deviation: 0.0466219242375835\n",
      "Number of Original Features: 30\n",
      "Number of Selected Features: 10\n",
      "Features Selected:\n",
      "['smokes_yrs', 'hormonal_contr_yrs', 'stds', 'stds_num', 'stds_vp_condylomatosis', 'stds_hiv', 'stds_num_dx', 'dx_cancer', 'dx_hpv', 'dx']\n",
      "Features Removed:\n",
      "['age', 'num_sex_partners', 'first_sex_int', 'num_pregnancies', 'smokes', 'smokes_pk_yrs', 'hormonal_contr', 'iud', 'iud_yrs', 'stds_condylomatosis', 'stds_cerv_condylomatosis', 'stds_vag_condylomatosis', 'stds_syphillus', 'stds_pelvic_inf_disease', 'stds_gen_herpes', 'stds_molluscom_contagiosum', 'stds_aids', 'stds_hep_b', 'stds_hpv', 'dx_cin']\n",
      "\n",
      "\n",
      "Univariate Chi-Squared SMOTE Neural Network Validation Acc: 0.773972602739726\n",
      "Univariate Chi-Squared SMOTE Neural Network Validation AUC: 0.5544117647058824\n",
      "\n",
      "\n",
      "-- Mutual Information Feature Selection --\n",
      "K Selected: 7\n",
      "Selected Model Mean Accuracy Score: 0.7324074074074074\n",
      "Selected Model Accuracy Deviation: 0.050171174756089135\n",
      "Selected Model Mean AUC Score: 0.8168381344307271\n",
      "Selected Model AUC Deviation: 0.03021894479371514\n",
      "Number of Original Features: 30\n",
      "Number of Selected Features: 7\n",
      "Features Selected:\n",
      "['age', 'num_sex_partners', 'first_sex_int', 'num_pregnancies', 'hormonal_contr', 'hormonal_contr_yrs', 'stds']\n",
      "Features Removed:\n",
      "['smokes', 'smokes_yrs', 'smokes_pk_yrs', 'iud', 'iud_yrs', 'stds_num', 'stds_condylomatosis', 'stds_cerv_condylomatosis', 'stds_vag_condylomatosis', 'stds_vp_condylomatosis', 'stds_syphillus', 'stds_pelvic_inf_disease', 'stds_gen_herpes', 'stds_molluscom_contagiosum', 'stds_aids', 'stds_hiv', 'stds_hep_b', 'stds_hpv', 'stds_num_dx', 'dx_cancer', 'dx_cin', 'dx_hpv', 'dx']\n",
      "\n",
      "\n",
      "Mutual Information SMOTE Neural Network Validation Acc: 0.6712328767123288\n",
      "Mutual Information SMOTE Neural Network Validation AUC: 0.4529411764705882\n",
      "\n",
      "\n"
     ]
    }
   ],
   "source": [
    "model_type = 'SMOTE Neural Network'\n",
    "results_dict_1p0 = \\\n",
    "  perform_feat_sel_models(train_data_sm1p0, train_target_sm1p0, val_data, val_target, clf_base, model_type, \n",
    "                          thresh_vals, k_vals)"
   ]
  },
  {
   "cell_type": "code",
   "execution_count": 13,
   "metadata": {},
   "outputs": [
    {
     "name": "stdout",
     "output_type": "stream",
     "text": [
      "Number of Original Target 0 Value: 540\n",
      "Number of Original Target 1 Value: 40\n",
      "\n",
      "\n",
      "Number of SMOTE Target 0 Value: 540\n",
      "Number of SMOTE Target 1 Value: 162\n"
     ]
    }
   ],
   "source": [
    "train_data_sm0p3, train_target_sm0p3 = create_smote_data(train_data, train_target, rand_st, 0.3)"
   ]
  },
  {
   "cell_type": "code",
   "execution_count": 14,
   "metadata": {},
   "outputs": [
    {
     "name": "stdout",
     "output_type": "stream",
     "text": [
      "Base SMOTE Neural Network CV Acc: 0.9310344827586207 +/- 0.0\n",
      "Base SMOTE Neural Network CV AUC: 0.6123842592592592 +/- 0.0479362323625235\n",
      "CV Runtime: 4.588335990905762\n",
      "\n",
      "\n",
      "Base SMOTE Neural Network Validation Acc: 0.9315068493150684\n",
      "Base SMOTE Neural Network Validation AUC: 0.5\n",
      "\n",
      "\n",
      "SMOTE Base SMOTE Neural Network CV Acc: 0.8462208713272543 +/- 0.06286570621629783\n",
      "SMOTE Base SMOTE Neural Network CV AUC: 0.8846678591470258 +/- 0.12429158931969765\n",
      "CV Runtime: 6.86502480506897\n",
      "\n",
      "\n",
      "SMOTE Base SMOTE Neural Network Validation Acc: 0.7808219178082192\n",
      "SMOTE Base SMOTE Neural Network Validation AUC: 0.46544117647058825\n",
      "\n",
      "\n"
     ]
    },
    {
     "data": {
      "text/plain": [
       "(MLPClassifier(activation='relu', alpha=0.0001, batch_size='auto', beta_1=0.9,\n",
       "        beta_2=0.999, early_stopping=False, epsilon=1e-08,\n",
       "        hidden_layer_sizes=(10,), learning_rate='constant',\n",
       "        learning_rate_init=0.001, max_iter=1000, momentum=0.9,\n",
       "        n_iter_no_change=10, nesterovs_momentum=True, power_t=0.5,\n",
       "        random_state=1, shuffle=True, solver='lbfgs', tol=0.0001,\n",
       "        validation_fraction=0.1, verbose=False, warm_start=False),\n",
       " MLPClassifier(activation='relu', alpha=0.0001, batch_size='auto', beta_1=0.9,\n",
       "        beta_2=0.999, early_stopping=False, epsilon=1e-08,\n",
       "        hidden_layer_sizes=(10,), learning_rate='constant',\n",
       "        learning_rate_init=0.001, max_iter=1000, momentum=0.9,\n",
       "        n_iter_no_change=10, nesterovs_momentum=True, power_t=0.5,\n",
       "        random_state=1, shuffle=True, solver='lbfgs', tol=0.0001,\n",
       "        validation_fraction=0.1, verbose=False, warm_start=False))"
      ]
     },
     "execution_count": 14,
     "metadata": {},
     "output_type": "execute_result"
    }
   ],
   "source": [
    "perform_base_models(train_data, train_target, val_data, val_target, train_data_sm0p3, train_target_sm0p3, clf_base, \n",
    "                    scorers, model_type)"
   ]
  },
  {
   "cell_type": "code",
   "execution_count": 15,
   "metadata": {},
   "outputs": [
    {
     "name": "stdout",
     "output_type": "stream",
     "text": [
      "-- Low Variance Filtering --\n",
      "Threshold Selected: 0.4\n",
      "Selected Model Mean Accuracy Score: 0.7607193515704154\n",
      "Selected Model Accuracy Deviation: 0.03567764760788722\n",
      "Selected Model Mean AUC Score: 0.751053065375982\n",
      "Selected Model AUC Deviation: 0.09760440491414203\n",
      "Number of Original Features: 30\n",
      "Number of Selected Features: 8\n",
      "Features Selected:\n",
      "['age', 'num_sex_partners', 'first_sex_int', 'num_pregnancies', 'smokes_yrs', 'smokes_pk_yrs', 'hormonal_contr_yrs', 'iud_yrs']\n",
      "Features Removed:\n",
      "['smokes', 'hormonal_contr', 'iud', 'stds', 'stds_num', 'stds_condylomatosis', 'stds_cerv_condylomatosis', 'stds_vag_condylomatosis', 'stds_vp_condylomatosis', 'stds_syphillus', 'stds_pelvic_inf_disease', 'stds_gen_herpes', 'stds_molluscom_contagiosum', 'stds_aids', 'stds_hiv', 'stds_hep_b', 'stds_hpv', 'stds_num_dx', 'dx_cancer', 'dx_cin', 'dx_hpv', 'dx']\n",
      "\n",
      "\n",
      "Low Variance Filter SMOTE Neural Network Validation Acc: 0.9315068493150684\n",
      "Low Variance Filter SMOTE Neural Network Validation AUC: 0.5\n",
      "\n",
      "\n",
      "-- Univariate Chi-Sq Feature Selection --\n",
      "K Selected: 6\n",
      "Selected Model Mean Accuracy Score: 0.836210739614995\n",
      "Selected Model Accuracy Deviation: 0.031899122846326185\n",
      "Selected Model Mean AUC Score: 0.858502560325477\n",
      "Selected Model AUC Deviation: 0.08604932493680723\n",
      "Number of Original Features: 30\n",
      "Number of Selected Features: 6\n",
      "Features Selected:\n",
      "['smokes_yrs', 'hormonal_contr_yrs', 'stds_num', 'dx_cancer', 'dx_hpv', 'dx']\n",
      "Features Removed:\n",
      "['age', 'num_sex_partners', 'first_sex_int', 'num_pregnancies', 'smokes', 'smokes_pk_yrs', 'hormonal_contr', 'iud', 'iud_yrs', 'stds', 'stds_condylomatosis', 'stds_cerv_condylomatosis', 'stds_vag_condylomatosis', 'stds_vp_condylomatosis', 'stds_syphillus', 'stds_pelvic_inf_disease', 'stds_gen_herpes', 'stds_molluscom_contagiosum', 'stds_aids', 'stds_hiv', 'stds_hep_b', 'stds_hpv', 'stds_num_dx', 'dx_cin']\n",
      "\n",
      "\n",
      "Univariate Chi-Squared SMOTE Neural Network Validation Acc: 0.8424657534246576\n",
      "Univariate Chi-Squared SMOTE Neural Network Validation AUC: 0.5448529411764705\n",
      "\n",
      "\n",
      "-- Mutual Information Feature Selection --\n",
      "K Selected: 10\n",
      "Selected Model Mean Accuracy Score: 0.8276798378926038\n",
      "Selected Model Accuracy Deviation: 0.04282695744893153\n",
      "Selected Model Mean AUC Score: 0.8347590488215488\n",
      "Selected Model AUC Deviation: 0.03129712715324341\n",
      "Number of Original Features: 30\n",
      "Number of Selected Features: 10\n",
      "Features Selected:\n",
      "['age', 'num_sex_partners', 'first_sex_int', 'num_pregnancies', 'hormonal_contr', 'hormonal_contr_yrs', 'stds', 'stds_num', 'stds_condylomatosis', 'dx']\n",
      "Features Removed:\n",
      "['smokes', 'smokes_yrs', 'smokes_pk_yrs', 'iud', 'iud_yrs', 'stds_cerv_condylomatosis', 'stds_vag_condylomatosis', 'stds_vp_condylomatosis', 'stds_syphillus', 'stds_pelvic_inf_disease', 'stds_gen_herpes', 'stds_molluscom_contagiosum', 'stds_aids', 'stds_hiv', 'stds_hep_b', 'stds_hpv', 'stds_num_dx', 'dx_cancer', 'dx_cin', 'dx_hpv']\n",
      "\n",
      "\n",
      "Mutual Information SMOTE Neural Network Validation Acc: 0.7808219178082192\n",
      "Mutual Information SMOTE Neural Network Validation AUC: 0.5580882352941177\n",
      "\n",
      "\n"
     ]
    }
   ],
   "source": [
    "results_dict_0p3 = \\\n",
    "  perform_feat_sel_models(train_data_sm0p3, train_target_sm0p3, val_data, val_target, clf_base, model_type, \n",
    "                          thresh_vals, k_vals)"
   ]
  },
  {
   "cell_type": "code",
   "execution_count": 16,
   "metadata": {},
   "outputs": [],
   "source": [
    "cv = 5\n",
    "clf_grid = MLPClassifier(random_state = rand_st)\n",
    "\n",
    "activation = ['logistic', 'relu', 'tanh']\n",
    "solver = ['lbfgs', 'adam', 'sgd']\n",
    "alpha = [0.0001]\n",
    "max_iter = [1000, 500, 2000]\n",
    "hidden_layer_sizes = [(10,), (20,), (50,)]\n",
    "\n",
    "#activation = ['relu']\n",
    "#solver = ['lbfgs']\n",
    "#alpha = [0.0001]\n",
    "#max_iter = [1000]\n",
    "#hidden_layer_sizes = [(10,)]\n",
    "\n",
    "model_params = {\n",
    "    'activation': activation,\n",
    "    'solver': solver,\n",
    "    'alpha': alpha,\n",
    "    'max_iter': max_iter,\n",
    "    'hidden_layer_sizes': hidden_layer_sizes\n",
    "}\n",
    "\n",
    "score = 'roc_auc'"
   ]
  },
  {
   "cell_type": "code",
   "execution_count": 17,
   "metadata": {},
   "outputs": [
    {
     "name": "stdout",
     "output_type": "stream",
     "text": [
      "Chi-Squared FS SMOTE 1.0 Neural Network Grid Search\n",
      "Fitting 5 folds for each of 81 candidates, totalling 405 fits\n"
     ]
    },
    {
     "name": "stderr",
     "output_type": "stream",
     "text": [
      "[Parallel(n_jobs=1)]: Using backend SequentialBackend with 1 concurrent workers.\n",
      "[Parallel(n_jobs=1)]: Done 405 out of 405 | elapsed: 27.0min finished\n"
     ]
    },
    {
     "name": "stdout",
     "output_type": "stream",
     "text": [
      "Grid Search Runtime: 1623.7732305526733\n",
      "\n",
      "\n",
      "Grid Search Optimal Parameters: {'activation': 'tanh', 'alpha': 0.0001, 'hidden_layer_sizes': (10,), 'max_iter': 500, 'solver': 'lbfgs'}\n",
      "Grid Search Optimal Parameter Score: 0.913014403292181\n",
      "\n",
      "\n",
      "Final Model Parameter Settings:\n",
      "MLPClassifier(activation='tanh', alpha=0.0001, batch_size='auto', beta_1=0.9,\n",
      "       beta_2=0.999, early_stopping=False, epsilon=1e-08,\n",
      "       hidden_layer_sizes=(10,), learning_rate='constant',\n",
      "       learning_rate_init=0.001, max_iter=500, momentum=0.9,\n",
      "       n_iter_no_change=10, nesterovs_momentum=True, power_t=0.5,\n",
      "       random_state=1, shuffle=True, solver='lbfgs', tol=0.0001,\n",
      "       validation_fraction=0.1, verbose=False, warm_start=False)\n",
      "\n",
      "\n",
      "Chi-Squared FS SMOTE 1.0 Neural Network CV Acc: 0.8277777777777778 +/- 0.04436721685448491\n",
      "Chi-Squared FS SMOTE 1.0 Neural Network CV AUC: 0.9130144032921811 +/- 0.029427655148479698\n",
      "CV Runtime: 4.639331817626953\n",
      "\n",
      "\n",
      "Chi-Squared FS SMOTE 1.0 Neural Network Validation Acc: 0.821917808219178\n",
      "Chi-Squared FS SMOTE 1.0 Neural Network Validation AUC: 0.5801470588235295\n",
      "\n",
      "\n"
     ]
    }
   ],
   "source": [
    "chisq_train_data_1p0 = results_dict_1p0['chisq']['data']\n",
    "chisq_del_cols_1p0 = results_dict_1p0['chisq']['del_cols']\n",
    "chisq_val_data_1p0 = val_data.drop(chisq_del_cols_1p0, axis = 1)\n",
    "\n",
    "model_type = 'SMOTE 1.0 Neural Network'\n",
    "model_desc = 'Chi-Squared FS'\n",
    "\n",
    "opt_model = perform_grid_search(clf_grid, chisq_train_data_1p0, train_target_sm1p0, model_params, score, cv, \n",
    "                              model_type, model_desc)\n",
    "chisq_model_sm_1p0 = model_data(chisq_train_data_1p0, train_target_sm1p0, chisq_val_data_1p0, val_target, \n",
    "                                opt_model, scorers, model_type, model_desc, cv)\n"
   ]
  },
  {
   "cell_type": "code",
   "execution_count": 18,
   "metadata": {},
   "outputs": [],
   "source": [
    "filename = 'Biopsy_ChiSq_FS_SMOTE_1p0_NN_Model.sav'\n",
    "pickle.dump(chisq_model_sm_1p0, open(filename, 'wb'))"
   ]
  },
  {
   "cell_type": "code",
   "execution_count": 19,
   "metadata": {
    "scrolled": false
   },
   "outputs": [
    {
     "name": "stdout",
     "output_type": "stream",
     "text": [
      "Chi-Squared FS SMOTE 0.3 Neural Network Grid Search\n",
      "Fitting 5 folds for each of 81 candidates, totalling 405 fits\n"
     ]
    },
    {
     "name": "stderr",
     "output_type": "stream",
     "text": [
      "[Parallel(n_jobs=1)]: Using backend SequentialBackend with 1 concurrent workers.\n",
      "[Parallel(n_jobs=1)]: Done 405 out of 405 | elapsed: 15.0min finished\n",
      "C:\\Users\\Kari\\Anaconda3\\lib\\site-packages\\sklearn\\model_selection\\_search.py:841: DeprecationWarning: The default of the `iid` parameter will change from True to False in version 0.22 and will be removed in 0.24. This will change numeric results when test-set sizes are unequal.\n",
      "  DeprecationWarning)\n"
     ]
    },
    {
     "name": "stdout",
     "output_type": "stream",
     "text": [
      "Grid Search Runtime: 901.0208268165588\n",
      "\n",
      "\n",
      "Grid Search Optimal Parameters: {'activation': 'relu', 'alpha': 0.0001, 'hidden_layer_sizes': (20,), 'max_iter': 500, 'solver': 'lbfgs'}\n",
      "Grid Search Optimal Parameter Score: 0.8665585100770287\n",
      "\n",
      "\n",
      "Final Model Parameter Settings:\n",
      "MLPClassifier(activation='relu', alpha=0.0001, batch_size='auto', beta_1=0.9,\n",
      "       beta_2=0.999, early_stopping=False, epsilon=1e-08,\n",
      "       hidden_layer_sizes=(20,), learning_rate='constant',\n",
      "       learning_rate_init=0.001, max_iter=500, momentum=0.9,\n",
      "       n_iter_no_change=10, nesterovs_momentum=True, power_t=0.5,\n",
      "       random_state=1, shuffle=True, solver='lbfgs', tol=0.0001,\n",
      "       validation_fraction=0.1, verbose=False, warm_start=False)\n",
      "\n",
      "\n",
      "Chi-Squared FS SMOTE 0.3 Neural Network CV Acc: 0.8519250253292807 +/- 0.04959325674919269\n",
      "Chi-Squared FS SMOTE 0.3 Neural Network CV AUC: 0.8666666666666668 +/- 0.08187366526019364\n",
      "CV Runtime: 5.451839447021484\n",
      "\n",
      "\n",
      "Chi-Squared FS SMOTE 0.3 Neural Network Validation Acc: 0.8561643835616438\n",
      "Chi-Squared FS SMOTE 0.3 Neural Network Validation AUC: 0.5985294117647059\n",
      "\n",
      "\n"
     ]
    }
   ],
   "source": [
    "chisq_train_data_0p3 = results_dict_0p3['chisq']['data']\n",
    "chisq_del_cols_0p3 = results_dict_0p3['chisq']['del_cols']\n",
    "chisq_val_data_0p3 = val_data.drop(chisq_del_cols_0p3, axis = 1)\n",
    "\n",
    "model_type = 'SMOTE 0.3 Neural Network'\n",
    "model_desc = 'Chi-Squared FS'\n",
    "\n",
    "opt_model = perform_grid_search(clf_grid, chisq_train_data_0p3, train_target_sm0p3, model_params, score, cv, \n",
    "                                model_type, model_desc)\n",
    "chisq_model_sm_0p3 = model_data(chisq_train_data_0p3, train_target_sm0p3, chisq_val_data_0p3, val_target, \n",
    "                                opt_model, scorers, model_type, model_desc, cv)\n"
   ]
  },
  {
   "cell_type": "code",
   "execution_count": 20,
   "metadata": {},
   "outputs": [],
   "source": [
    "filename = 'Biopsy_ChiSq_FS_SMOTE_0p3_NN_Model.sav'\n",
    "pickle.dump(chisq_model_sm_0p3, open(filename, 'wb'))\n"
   ]
  }
 ],
 "metadata": {
  "kernelspec": {
   "display_name": "Python 3",
   "language": "python",
   "name": "python3"
  },
  "language_info": {
   "codemirror_mode": {
    "name": "ipython",
    "version": 3
   },
   "file_extension": ".py",
   "mimetype": "text/x-python",
   "name": "python",
   "nbconvert_exporter": "python",
   "pygments_lexer": "ipython3",
   "version": "3.6.8"
  }
 },
 "nbformat": 4,
 "nbformat_minor": 2
}
