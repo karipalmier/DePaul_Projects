{
 "cells": [
  {
   "cell_type": "code",
   "execution_count": 1,
   "metadata": {},
   "outputs": [],
   "source": [
    "%load_ext autoreload\n",
    "%autoreload 2"
   ]
  },
  {
   "cell_type": "code",
   "execution_count": 2,
   "metadata": {},
   "outputs": [],
   "source": [
    "import pandas as pd\n",
    "import numpy as np\n",
    "from sklearn.ensemble import RandomForestClassifier\n",
    "import pickle\n",
    "\n",
    "from model_creation import create_smote_data, fit_val_data, model_data, perform_base_models\n",
    "from model_creation import perform_feat_sel_models, perform_grid_search, create_under_data"
   ]
  },
  {
   "cell_type": "code",
   "execution_count": 3,
   "metadata": {},
   "outputs": [],
   "source": [
    "train_data = pd.read_csv('C:\\\\DePaulCoursework\\\\Winter 2019 CSC 529\\\\Project\\\\Data\\\\CervicalCancerRisks_Biopsy_TrainData.csv', \n",
    "                          delimiter=\",\", index_col = 0, header = 0)\n",
    "train_target = pd.read_csv('C:\\\\DePaulCoursework\\\\Winter 2019 CSC 529\\\\Project\\\\Data\\\\CervicalCancerRisks_Biopsy_TrainTarget.csv', \n",
    "                          delimiter=\",\", index_col = 0, header = 0)"
   ]
  },
  {
   "cell_type": "code",
   "execution_count": 4,
   "metadata": {},
   "outputs": [],
   "source": [
    "val_data = pd.read_csv('C:\\\\DePaulCoursework\\\\Winter 2019 CSC 529\\\\Project\\\\Data\\\\CervicalCancerRisks_Biopsy_ValData.csv', \n",
    "                          delimiter=\",\", index_col = 0, header = 0)\n",
    "val_target = pd.read_csv('C:\\\\DePaulCoursework\\\\Winter 2019 CSC 529\\\\Project\\\\Data\\\\CervicalCancerRisks_Biopsy_ValTarget.csv', \n",
    "                          delimiter=\",\", index_col = 0, header = 0)"
   ]
  },
  {
   "cell_type": "code",
   "execution_count": 5,
   "metadata": {},
   "outputs": [],
   "source": [
    "rand_st = 1\n"
   ]
  },
  {
   "cell_type": "code",
   "execution_count": 6,
   "metadata": {},
   "outputs": [
    {
     "name": "stdout",
     "output_type": "stream",
     "text": [
      "Number of Original Target 0 Value: 540\n",
      "Number of Original Target 1 Value: 40\n",
      "\n",
      "\n",
      "Number of Random Under Sample Target 0 Value: 40\n",
      "Number of Random Under Sample Target 1 Value: 40\n"
     ]
    }
   ],
   "source": [
    "train_data_rus1p0, train_target_rus1p0 = create_under_data(train_data, train_target, rand_st, 1.0)"
   ]
  },
  {
   "cell_type": "code",
   "execution_count": 7,
   "metadata": {},
   "outputs": [],
   "source": [
    "#train_sm_data_name = data_save_path + 'CervicalCancerRisks_' + target_name + '_TrainData_SMOTE.csv'\n",
    "#data_train_sm1p0.to_csv(train_sm_data_name, sep = ',')\n",
    "#train_sm_target_name = data_save_path + 'CervicalCancerRisks_' + target_name + '_TrainTarget_SMOTE.csv'\n",
    "#target_train_sm1p0.to_csv(train_sm_target_name, sep = ',')\n"
   ]
  },
  {
   "cell_type": "code",
   "execution_count": 8,
   "metadata": {},
   "outputs": [],
   "source": [
    "scorers = {'Accuracy': 'accuracy', 'roc_auc': 'roc_auc'}\n",
    "thresh_vals = [0.4, 0.5, 0.6]\n",
    "k_vals = [5, 6, 7, 8, 9, 10]"
   ]
  },
  {
   "cell_type": "code",
   "execution_count": 9,
   "metadata": {},
   "outputs": [],
   "source": [
    "model_type = 'Random Under 1.0 Random Forest'\n",
    "clf_base = RandomForestClassifier(n_estimators = 100, max_depth = None, \n",
    "                             min_samples_split = 3, criterion = 'entropy', \n",
    "                             random_state = rand_st)\n"
   ]
  },
  {
   "cell_type": "code",
   "execution_count": 10,
   "metadata": {},
   "outputs": [
    {
     "name": "stdout",
     "output_type": "stream",
     "text": [
      "Base Random Under 1.0 Random Forest CV Acc: 0.65 +/- 0.15\n",
      "Base Random Under 1.0 Random Forest CV AUC: 0.6625 +/- 0.18498310733685927\n",
      "CV Runtime: 0.4687163829803467\n",
      "\n",
      "\n",
      "Base Random Under 1.0 Random Forest Validation Acc: 0.541095890410959\n",
      "Base Random Under 1.0 Random Forest Validation AUC: 0.4294117647058824\n",
      "\n",
      "\n"
     ]
    }
   ],
   "source": [
    "model_desc = 'Base'\n",
    "base_model_rus1p0 = model_data(train_data_rus1p0, train_target_rus1p0, val_data, val_target, \n",
    "                           clf_base, scorers, model_type, model_desc, 5) \n"
   ]
  },
  {
   "cell_type": "code",
   "execution_count": 11,
   "metadata": {
    "scrolled": false
   },
   "outputs": [
    {
     "name": "stdout",
     "output_type": "stream",
     "text": [
      "-- Low Variance Filtering --\n",
      "Threshold Selected: 0.4\n",
      "Selected Model Mean Accuracy Score: 0.5625\n",
      "Selected Model Accuracy Deviation: 0.2850438562747845\n",
      "Selected Model Mean AUC Score: 0.5328125\n",
      "Selected Model AUC Deviation: 0.3023992600850736\n",
      "Number of Original Features: 30\n",
      "Number of Selected Features: 9\n",
      "Features Selected:\n",
      "['age', 'num_sex_partners', 'first_sex_int', 'num_pregnancies', 'smokes_yrs', 'smokes_pk_yrs', 'hormonal_contr_yrs', 'iud_yrs', 'stds_num']\n",
      "Features Removed:\n",
      "['smokes', 'hormonal_contr', 'iud', 'stds', 'stds_condylomatosis', 'stds_cerv_condylomatosis', 'stds_vag_condylomatosis', 'stds_vp_condylomatosis', 'stds_syphillus', 'stds_pelvic_inf_disease', 'stds_gen_herpes', 'stds_molluscom_contagiosum', 'stds_aids', 'stds_hiv', 'stds_hep_b', 'stds_hpv', 'stds_num_dx', 'dx_cancer', 'dx_cin', 'dx_hpv', 'dx']\n",
      "\n",
      "\n",
      "Low Variance Filter Random Under 1.0 Random Forest Validation Acc: 0.589041095890411\n",
      "Low Variance Filter Random Under 1.0 Random Forest Validation AUC: 0.5014705882352941\n",
      "\n",
      "\n",
      "-- Model Wrapper Feature Selection --\n",
      "Model Mean Accuracy Score: 0.525\n",
      "Selected Model Accuracy Deviation: 0.18708286933869706\n",
      "Model Mean AUC Score: 0.465625\n",
      "Selected Model AUC Deviation: 0.14577379737113252\n",
      "Number of Original Features: 30\n",
      "Number of Selected Features: 7\n",
      "Features Selected:\n",
      "['age', 'num_sex_partners', 'first_sex_int', 'num_pregnancies', 'hormonal_contr_yrs', 'iud_yrs', 'dx']\n",
      "Features Removed:\n",
      "['smokes', 'smokes_yrs', 'smokes_pk_yrs', 'hormonal_contr', 'iud', 'stds', 'stds_num', 'stds_condylomatosis', 'stds_cerv_condylomatosis', 'stds_vag_condylomatosis', 'stds_vp_condylomatosis', 'stds_syphillus', 'stds_pelvic_inf_disease', 'stds_gen_herpes', 'stds_molluscom_contagiosum', 'stds_aids', 'stds_hiv', 'stds_hep_b', 'stds_hpv', 'stds_num_dx', 'dx_cancer', 'dx_cin', 'dx_hpv']\n",
      "\n",
      "\n",
      "Model Wrapper Random Under 1.0 Random Forest Validation Acc: 0.5753424657534246\n",
      "Model Wrapper Random Under 1.0 Random Forest Validation AUC: 0.5404411764705882\n",
      "\n",
      "\n",
      "-- Stepwise Recursive Feature Selection --\n",
      "K Selected: 7\n",
      "Selected Model Mean Accuracy Score: 0.6\n",
      "Selected Model Accuracy Deviation: 0.1695582495781317\n",
      "Selected Model Mean AUC Score: 0.625\n",
      "Selected Model AUC Deviation: 0.16298006013006622\n",
      "Number of Original Features: 30\n",
      "Number of Selected Features: 7\n",
      "Features Selected:\n",
      "['age', 'num_sex_partners', 'first_sex_int', 'num_pregnancies', 'hormonal_contr_yrs', 'stds_num', 'dx']\n",
      "Features Removed:\n",
      "['smokes', 'smokes_yrs', 'smokes_pk_yrs', 'hormonal_contr', 'iud', 'iud_yrs', 'stds', 'stds_condylomatosis', 'stds_cerv_condylomatosis', 'stds_vag_condylomatosis', 'stds_vp_condylomatosis', 'stds_syphillus', 'stds_pelvic_inf_disease', 'stds_gen_herpes', 'stds_molluscom_contagiosum', 'stds_aids', 'stds_hiv', 'stds_hep_b', 'stds_hpv', 'stds_num_dx', 'dx_cancer', 'dx_cin', 'dx_hpv']\n",
      "\n",
      "\n",
      "Stepwise Recursive Random Under 1.0 Random Forest Validation Acc: 0.5821917808219178\n",
      "Stepwise Recursive Random Under 1.0 Random Forest Validation AUC: 0.5441176470588235\n",
      "\n",
      "\n",
      "-- Univariate Chi-Sq Feature Selection --\n",
      "K Selected: 10\n",
      "Selected Model Mean Accuracy Score: 0.7\n",
      "Selected Model Accuracy Deviation: 0.21505813167606566\n",
      "Selected Model Mean AUC Score: 0.7375\n",
      "Selected Model AUC Deviation: 0.1576809476442858\n",
      "Number of Original Features: 30\n",
      "Number of Selected Features: 10\n",
      "Features Selected:\n",
      "['smokes_yrs', 'smokes_pk_yrs', 'hormonal_contr_yrs', 'iud_yrs', 'stds', 'stds_num', 'dx_cancer', 'dx_cin', 'dx_hpv', 'dx']\n",
      "Features Removed:\n",
      "['age', 'num_sex_partners', 'first_sex_int', 'num_pregnancies', 'smokes', 'hormonal_contr', 'iud', 'stds_condylomatosis', 'stds_cerv_condylomatosis', 'stds_vag_condylomatosis', 'stds_vp_condylomatosis', 'stds_syphillus', 'stds_pelvic_inf_disease', 'stds_gen_herpes', 'stds_molluscom_contagiosum', 'stds_aids', 'stds_hiv', 'stds_hep_b', 'stds_hpv', 'stds_num_dx']\n",
      "\n",
      "\n",
      "Univariate Chi-Squared Random Under 1.0 Random Forest Validation Acc: 0.6164383561643836\n",
      "Univariate Chi-Squared Random Under 1.0 Random Forest Validation AUC: 0.46985294117647053\n",
      "\n",
      "\n",
      "-- Mutual Information Feature Selection --\n",
      "K Selected: 10\n",
      "Selected Model Mean Accuracy Score: 0.6625\n",
      "Selected Model Accuracy Deviation: 0.1\n",
      "Selected Model Mean AUC Score: 0.728125\n",
      "Selected Model AUC Deviation: 0.22150056433336687\n",
      "Number of Original Features: 30\n",
      "Number of Selected Features: 10\n",
      "Features Selected:\n",
      "['age', 'num_pregnancies', 'smokes_yrs', 'hormonal_contr', 'iud', 'stds_vp_condylomatosis', 'stds_num_dx', 'dx_cancer', 'dx_hpv', 'dx']\n",
      "Features Removed:\n",
      "['num_sex_partners', 'first_sex_int', 'smokes', 'smokes_pk_yrs', 'hormonal_contr_yrs', 'iud_yrs', 'stds', 'stds_num', 'stds_condylomatosis', 'stds_cerv_condylomatosis', 'stds_vag_condylomatosis', 'stds_syphillus', 'stds_pelvic_inf_disease', 'stds_gen_herpes', 'stds_molluscom_contagiosum', 'stds_aids', 'stds_hiv', 'stds_hep_b', 'stds_hpv', 'dx_cin']\n",
      "\n",
      "\n",
      "Mutual Information Random Under 1.0 Random Forest Validation Acc: 0.5205479452054794\n",
      "Mutual Information Random Under 1.0 Random Forest Validation AUC: 0.46470588235294114\n",
      "\n",
      "\n"
     ]
    }
   ],
   "source": [
    "results_dict_1p0 = \\\n",
    "  perform_feat_sel_models(train_data_rus1p0, train_target_rus1p0, val_data, val_target, clf_base, model_type, \n",
    "                          thresh_vals, k_vals)"
   ]
  },
  {
   "cell_type": "code",
   "execution_count": 12,
   "metadata": {},
   "outputs": [
    {
     "name": "stdout",
     "output_type": "stream",
     "text": [
      "Number of Original Target 0 Value: 540\n",
      "Number of Original Target 1 Value: 40\n",
      "\n",
      "\n",
      "Number of Random Under Sample Target 0 Value: 133\n",
      "Number of Random Under Sample Target 1 Value: 40\n"
     ]
    }
   ],
   "source": [
    "train_data_rus0p3, train_target_rus0p3 = create_under_data(train_data, train_target, rand_st, 0.3)"
   ]
  },
  {
   "cell_type": "code",
   "execution_count": 13,
   "metadata": {},
   "outputs": [
    {
     "name": "stdout",
     "output_type": "stream",
     "text": [
      "Base Random Under 0.3 Random Forest CV Acc: 0.7571428571428571 +/- 0.030289426086907698\n",
      "Base Random Under 0.3 Random Forest CV AUC: 0.6997863247863247 +/- 0.11271195927275232\n",
      "CV Runtime: 0.5313615798950195\n",
      "\n",
      "\n",
      "Base Random Under 0.3 Random Forest Validation Acc: 0.8424657534246576\n",
      "Base Random Under 0.3 Random Forest Validation AUC: 0.49852941176470594\n",
      "\n",
      "\n"
     ]
    }
   ],
   "source": [
    "model_type = 'Random Under 0.3 Random Forest'\n",
    "base_model_rus0p3 = model_data(train_data_rus0p3, train_target_rus0p3, val_data, val_target, \n",
    "                           clf_base, scorers, model_type, model_desc, 5) \n"
   ]
  },
  {
   "cell_type": "code",
   "execution_count": 14,
   "metadata": {
    "scrolled": false
   },
   "outputs": [
    {
     "name": "stdout",
     "output_type": "stream",
     "text": [
      "-- Low Variance Filtering --\n",
      "Threshold Selected: 0.4\n",
      "Selected Model Mean Accuracy Score: 0.7460504201680672\n",
      "Selected Model Accuracy Deviation: 0.07110177342987968\n",
      "Selected Model Mean AUC Score: 0.6591168091168091\n",
      "Selected Model AUC Deviation: 0.17778790765755798\n",
      "Number of Original Features: 30\n",
      "Number of Selected Features: 9\n",
      "Features Selected:\n",
      "['age', 'num_sex_partners', 'first_sex_int', 'num_pregnancies', 'smokes_yrs', 'smokes_pk_yrs', 'hormonal_contr_yrs', 'iud_yrs', 'stds_num']\n",
      "Features Removed:\n",
      "['smokes', 'hormonal_contr', 'iud', 'stds', 'stds_condylomatosis', 'stds_cerv_condylomatosis', 'stds_vag_condylomatosis', 'stds_vp_condylomatosis', 'stds_syphillus', 'stds_pelvic_inf_disease', 'stds_gen_herpes', 'stds_molluscom_contagiosum', 'stds_aids', 'stds_hiv', 'stds_hep_b', 'stds_hpv', 'stds_num_dx', 'dx_cancer', 'dx_cin', 'dx_hpv', 'dx']\n",
      "\n",
      "\n",
      "Low Variance Filter Random Under 0.3 Random Forest Validation Acc: 0.8835616438356164\n",
      "Low Variance Filter Random Under 0.3 Random Forest Validation AUC: 0.5669117647058823\n",
      "\n",
      "\n",
      "-- Model Wrapper Feature Selection --\n",
      "Model Mean Accuracy Score: 0.7630252100840336\n",
      "Selected Model Accuracy Deviation: 0.0418213943260391\n",
      "Model Mean AUC Score: 0.6208511396011396\n",
      "Selected Model AUC Deviation: 0.16763557033785045\n",
      "Number of Original Features: 30\n",
      "Number of Selected Features: 8\n",
      "Features Selected:\n",
      "['age', 'num_sex_partners', 'first_sex_int', 'num_pregnancies', 'smokes_pk_yrs', 'hormonal_contr_yrs', 'iud_yrs', 'dx']\n",
      "Features Removed:\n",
      "['smokes', 'smokes_yrs', 'hormonal_contr', 'iud', 'stds', 'stds_num', 'stds_condylomatosis', 'stds_cerv_condylomatosis', 'stds_vag_condylomatosis', 'stds_vp_condylomatosis', 'stds_syphillus', 'stds_pelvic_inf_disease', 'stds_gen_herpes', 'stds_molluscom_contagiosum', 'stds_aids', 'stds_hiv', 'stds_hep_b', 'stds_hpv', 'stds_num_dx', 'dx_cancer', 'dx_cin', 'dx_hpv']\n",
      "\n",
      "\n",
      "Model Wrapper Random Under 0.3 Random Forest Validation Acc: 0.8493150684931506\n",
      "Model Wrapper Random Under 0.3 Random Forest Validation AUC: 0.5022058823529413\n",
      "\n",
      "\n",
      "-- Stepwise Recursive Feature Selection --\n",
      "K Selected: 7\n",
      "Selected Model Mean Accuracy Score: 0.7862184873949579\n",
      "Selected Model Accuracy Deviation: 0.05669224206191139\n",
      "Selected Model Mean AUC Score: 0.7281873219373219\n",
      "Selected Model AUC Deviation: 0.06054214847752612\n",
      "Number of Original Features: 30\n",
      "Number of Selected Features: 7\n",
      "Features Selected:\n",
      "['age', 'num_sex_partners', 'first_sex_int', 'num_pregnancies', 'hormonal_contr_yrs', 'stds_num', 'dx']\n",
      "Features Removed:\n",
      "['smokes', 'smokes_yrs', 'smokes_pk_yrs', 'hormonal_contr', 'iud', 'iud_yrs', 'stds', 'stds_condylomatosis', 'stds_cerv_condylomatosis', 'stds_vag_condylomatosis', 'stds_vp_condylomatosis', 'stds_syphillus', 'stds_pelvic_inf_disease', 'stds_gen_herpes', 'stds_molluscom_contagiosum', 'stds_aids', 'stds_hiv', 'stds_hep_b', 'stds_hpv', 'stds_num_dx', 'dx_cancer', 'dx_cin', 'dx_hpv']\n",
      "\n",
      "\n",
      "Stepwise Recursive Random Under 0.3 Random Forest Validation Acc: 0.8013698630136986\n",
      "Stepwise Recursive Random Under 0.3 Random Forest Validation AUC: 0.4764705882352941\n",
      "\n",
      "\n",
      "-- Univariate Chi-Sq Feature Selection --\n",
      "K Selected: 10\n",
      "Selected Model Mean Accuracy Score: 0.7569747899159665\n",
      "Selected Model Accuracy Deviation: 0.05059242284240133\n",
      "Selected Model Mean AUC Score: 0.711502849002849\n",
      "Selected Model AUC Deviation: 0.11408766899872735\n",
      "Number of Original Features: 30\n",
      "Number of Selected Features: 10\n",
      "Features Selected:\n",
      "['smokes_yrs', 'smokes_pk_yrs', 'hormonal_contr_yrs', 'iud_yrs', 'stds_num', 'stds_hiv', 'dx_cancer', 'dx_cin', 'dx_hpv', 'dx']\n",
      "Features Removed:\n",
      "['age', 'num_sex_partners', 'first_sex_int', 'num_pregnancies', 'smokes', 'hormonal_contr', 'iud', 'stds', 'stds_condylomatosis', 'stds_cerv_condylomatosis', 'stds_vag_condylomatosis', 'stds_vp_condylomatosis', 'stds_syphillus', 'stds_pelvic_inf_disease', 'stds_gen_herpes', 'stds_molluscom_contagiosum', 'stds_aids', 'stds_hep_b', 'stds_hpv', 'stds_num_dx']\n",
      "\n",
      "\n",
      "Univariate Chi-Squared Random Under 0.3 Random Forest Validation Acc: 0.8082191780821918\n",
      "Univariate Chi-Squared Random Under 0.3 Random Forest Validation AUC: 0.4801470588235294\n",
      "\n",
      "\n",
      "-- Mutual Information Feature Selection --\n",
      "K Selected: 9\n",
      "Selected Model Mean Accuracy Score: 0.7685714285714286\n",
      "Selected Model Accuracy Deviation: 0.04124466998367184\n",
      "Selected Model Mean AUC Score: 0.6807692307692308\n",
      "Selected Model AUC Deviation: 0.11971177021030024\n",
      "Number of Original Features: 30\n",
      "Number of Selected Features: 9\n",
      "Features Selected:\n",
      "['smokes', 'iud', 'stds', 'stds_gen_herpes', 'stds_molluscom_contagiosum', 'stds_hiv', 'dx_cancer', 'dx_hpv', 'dx']\n",
      "Features Removed:\n",
      "['age', 'num_sex_partners', 'first_sex_int', 'num_pregnancies', 'smokes_yrs', 'smokes_pk_yrs', 'hormonal_contr', 'hormonal_contr_yrs', 'iud_yrs', 'stds_num', 'stds_condylomatosis', 'stds_cerv_condylomatosis', 'stds_vag_condylomatosis', 'stds_vp_condylomatosis', 'stds_syphillus', 'stds_pelvic_inf_disease', 'stds_aids', 'stds_hep_b', 'stds_hpv', 'stds_num_dx', 'dx_cin']\n",
      "\n",
      "\n",
      "Mutual Information Random Under 0.3 Random Forest Validation Acc: 0.8767123287671232\n",
      "Mutual Information Random Under 0.3 Random Forest Validation AUC: 0.5169117647058824\n",
      "\n",
      "\n"
     ]
    }
   ],
   "source": [
    "results_dict_0p3 = \\\n",
    "  perform_feat_sel_models(train_data_rus0p3, train_target_rus0p3, val_data, val_target, clf_base, model_type, \n",
    "                          thresh_vals, k_vals)"
   ]
  },
  {
   "cell_type": "code",
   "execution_count": 15,
   "metadata": {},
   "outputs": [
    {
     "name": "stdout",
     "output_type": "stream",
     "text": [
      "Number of Original Target 0 Value: 540\n",
      "Number of Original Target 1 Value: 40\n",
      "\n",
      "\n",
      "Number of Random Under Sample Target 0 Value: 400\n",
      "Number of Random Under Sample Target 1 Value: 40\n"
     ]
    }
   ],
   "source": [
    "train_data_rus0p1, train_target_rus0p1 = create_under_data(train_data, train_target, rand_st, 0.1)"
   ]
  },
  {
   "cell_type": "code",
   "execution_count": 16,
   "metadata": {},
   "outputs": [
    {
     "name": "stdout",
     "output_type": "stream",
     "text": [
      "Base Random Under 0.1 Random Forest CV Acc: 0.9136363636363635 +/- 0.011134044285378071\n",
      "Base Random Under 0.1 Random Forest CV AUC: 0.6948437500000001 +/- 0.1088137385053009\n",
      "CV Runtime: 0.5927000045776367\n",
      "\n",
      "\n",
      "Base Random Under 0.1 Random Forest Validation Acc: 0.9041095890410958\n",
      "Base Random Under 0.1 Random Forest Validation AUC: 0.4852941176470588\n",
      "\n",
      "\n"
     ]
    }
   ],
   "source": [
    "model_type = 'Random Under 0.1 Random Forest'\n",
    "base_model_rus0p1 = model_data(train_data_rus0p1, train_target_rus0p1, val_data, val_target, \n",
    "                           clf_base, scorers, model_type, model_desc, 5) \n"
   ]
  },
  {
   "cell_type": "code",
   "execution_count": 17,
   "metadata": {
    "scrolled": false
   },
   "outputs": [
    {
     "name": "stdout",
     "output_type": "stream",
     "text": [
      "-- Low Variance Filtering --\n",
      "Threshold Selected: 0.4\n",
      "Selected Model Mean Accuracy Score: 0.9045454545454545\n",
      "Selected Model Accuracy Deviation: 0.011134044285378073\n",
      "Selected Model Mean AUC Score: 0.61265625\n",
      "Selected Model AUC Deviation: 0.12382810035488709\n",
      "Number of Original Features: 30\n",
      "Number of Selected Features: 8\n",
      "Features Selected:\n",
      "['age', 'num_sex_partners', 'first_sex_int', 'num_pregnancies', 'smokes_yrs', 'smokes_pk_yrs', 'hormonal_contr_yrs', 'iud_yrs']\n",
      "Features Removed:\n",
      "['smokes', 'hormonal_contr', 'iud', 'stds', 'stds_num', 'stds_condylomatosis', 'stds_cerv_condylomatosis', 'stds_vag_condylomatosis', 'stds_vp_condylomatosis', 'stds_syphillus', 'stds_pelvic_inf_disease', 'stds_gen_herpes', 'stds_molluscom_contagiosum', 'stds_aids', 'stds_hiv', 'stds_hep_b', 'stds_hpv', 'stds_num_dx', 'dx_cancer', 'dx_cin', 'dx_hpv', 'dx']\n",
      "\n",
      "\n",
      "Low Variance Filter Random Under 0.1 Random Forest Validation Acc: 0.9315068493150684\n",
      "Low Variance Filter Random Under 0.1 Random Forest Validation AUC: 0.5\n",
      "\n",
      "\n",
      "-- Model Wrapper Feature Selection --\n",
      "Model Mean Accuracy Score: 0.9136363636363637\n",
      "Selected Model Accuracy Deviation: 0.011134044285378071\n",
      "Model Mean AUC Score: 0.6090625\n",
      "Selected Model AUC Deviation: 0.12301787852787907\n",
      "Number of Original Features: 30\n",
      "Number of Selected Features: 8\n",
      "Features Selected:\n",
      "['age', 'num_sex_partners', 'first_sex_int', 'num_pregnancies', 'smokes_yrs', 'smokes_pk_yrs', 'hormonal_contr_yrs', 'dx']\n",
      "Features Removed:\n",
      "['smokes', 'hormonal_contr', 'iud', 'iud_yrs', 'stds', 'stds_num', 'stds_condylomatosis', 'stds_cerv_condylomatosis', 'stds_vag_condylomatosis', 'stds_vp_condylomatosis', 'stds_syphillus', 'stds_pelvic_inf_disease', 'stds_gen_herpes', 'stds_molluscom_contagiosum', 'stds_aids', 'stds_hiv', 'stds_hep_b', 'stds_hpv', 'stds_num_dx', 'dx_cancer', 'dx_cin', 'dx_hpv']\n",
      "\n",
      "\n",
      "Model Wrapper Random Under 0.1 Random Forest Validation Acc: 0.9178082191780822\n",
      "Model Wrapper Random Under 0.1 Random Forest Validation AUC: 0.49264705882352944\n",
      "\n",
      "\n",
      "-- Stepwise Recursive Feature Selection --\n",
      "K Selected: 7\n",
      "Selected Model Mean Accuracy Score: 0.9068181818181819\n",
      "Selected Model Accuracy Deviation: 0.017007533576245175\n",
      "Selected Model Mean AUC Score: 0.69828125\n",
      "Selected Model AUC Deviation: 0.10463104821227781\n",
      "Number of Original Features: 30\n",
      "Number of Selected Features: 7\n",
      "Features Selected:\n",
      "['age', 'num_sex_partners', 'first_sex_int', 'num_pregnancies', 'hormonal_contr_yrs', 'stds_vp_condylomatosis', 'dx']\n",
      "Features Removed:\n",
      "['smokes', 'smokes_yrs', 'smokes_pk_yrs', 'hormonal_contr', 'iud', 'iud_yrs', 'stds', 'stds_num', 'stds_condylomatosis', 'stds_cerv_condylomatosis', 'stds_vag_condylomatosis', 'stds_syphillus', 'stds_pelvic_inf_disease', 'stds_gen_herpes', 'stds_molluscom_contagiosum', 'stds_aids', 'stds_hiv', 'stds_hep_b', 'stds_hpv', 'stds_num_dx', 'dx_cancer', 'dx_cin', 'dx_hpv']\n",
      "\n",
      "\n",
      "Stepwise Recursive Random Under 0.1 Random Forest Validation Acc: 0.910958904109589\n",
      "Stepwise Recursive Random Under 0.1 Random Forest Validation AUC: 0.4889705882352941\n",
      "\n",
      "\n",
      "-- Univariate Chi-Sq Feature Selection --\n",
      "K Selected: 10\n",
      "Selected Model Mean Accuracy Score: 0.8886363636363637\n",
      "Selected Model Accuracy Deviation: 0.03340213285613421\n",
      "Selected Model Mean AUC Score: 0.720625\n",
      "Selected Model AUC Deviation: 0.20338829089945173\n",
      "Number of Original Features: 30\n",
      "Number of Selected Features: 10\n",
      "Features Selected:\n",
      "['smokes_yrs', 'smokes_pk_yrs', 'hormonal_contr_yrs', 'stds', 'stds_num', 'stds_hiv', 'dx_cancer', 'dx_cin', 'dx_hpv', 'dx']\n",
      "Features Removed:\n",
      "['age', 'num_sex_partners', 'first_sex_int', 'num_pregnancies', 'smokes', 'hormonal_contr', 'iud', 'iud_yrs', 'stds_condylomatosis', 'stds_cerv_condylomatosis', 'stds_vag_condylomatosis', 'stds_vp_condylomatosis', 'stds_syphillus', 'stds_pelvic_inf_disease', 'stds_gen_herpes', 'stds_molluscom_contagiosum', 'stds_aids', 'stds_hep_b', 'stds_hpv', 'stds_num_dx']\n",
      "\n",
      "\n",
      "Univariate Chi-Squared Random Under 0.1 Random Forest Validation Acc: 0.8904109589041096\n",
      "Univariate Chi-Squared Random Under 0.1 Random Forest Validation AUC: 0.524264705882353\n",
      "\n",
      "\n",
      "-- Mutual Information Feature Selection --\n",
      "K Selected: 9\n",
      "Selected Model Mean Accuracy Score: 0.9022727272727273\n",
      "Selected Model Accuracy Deviation: 0.030828772650569373\n",
      "Selected Model Mean AUC Score: 0.73703125\n",
      "Selected Model AUC Deviation: 0.0730113967987191\n",
      "Number of Original Features: 30\n",
      "Number of Selected Features: 9\n",
      "Features Selected:\n",
      "['age', 'num_pregnancies', 'hormonal_contr', 'stds', 'stds_vp_condylomatosis', 'stds_molluscom_contagiosum', 'stds_hiv', 'stds_num_dx', 'dx_hpv']\n",
      "Features Removed:\n",
      "['num_sex_partners', 'first_sex_int', 'smokes', 'smokes_yrs', 'smokes_pk_yrs', 'hormonal_contr_yrs', 'iud', 'iud_yrs', 'stds_num', 'stds_condylomatosis', 'stds_cerv_condylomatosis', 'stds_vag_condylomatosis', 'stds_syphillus', 'stds_pelvic_inf_disease', 'stds_gen_herpes', 'stds_aids', 'stds_hep_b', 'stds_hpv', 'dx_cancer', 'dx_cin', 'dx']\n",
      "\n",
      "\n",
      "Mutual Information Random Under 0.1 Random Forest Validation Acc: 0.8493150684931506\n",
      "Mutual Information Random Under 0.1 Random Forest Validation AUC: 0.5022058823529413\n",
      "\n",
      "\n"
     ]
    }
   ],
   "source": [
    "results_dict_0p1 = \\\n",
    "  perform_feat_sel_models(train_data_rus0p1, train_target_rus0p1, val_data, val_target, clf_base, model_type, \n",
    "                          thresh_vals, k_vals)"
   ]
  }
 ],
 "metadata": {
  "kernelspec": {
   "display_name": "Python 3",
   "language": "python",
   "name": "python3"
  },
  "language_info": {
   "codemirror_mode": {
    "name": "ipython",
    "version": 3
   },
   "file_extension": ".py",
   "mimetype": "text/x-python",
   "name": "python",
   "nbconvert_exporter": "python",
   "pygments_lexer": "ipython3",
   "version": "3.6.8"
  }
 },
 "nbformat": 4,
 "nbformat_minor": 2
}
