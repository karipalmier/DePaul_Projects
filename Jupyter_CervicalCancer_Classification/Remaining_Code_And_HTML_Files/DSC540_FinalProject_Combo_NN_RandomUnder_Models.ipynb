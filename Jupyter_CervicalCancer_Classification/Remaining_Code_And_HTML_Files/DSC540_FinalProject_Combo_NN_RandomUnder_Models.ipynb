{
 "cells": [
  {
   "cell_type": "code",
   "execution_count": 1,
   "metadata": {},
   "outputs": [],
   "source": [
    "%load_ext autoreload\n",
    "%autoreload 2"
   ]
  },
  {
   "cell_type": "code",
   "execution_count": 2,
   "metadata": {},
   "outputs": [],
   "source": [
    "import pandas as pd\n",
    "import numpy as np\n",
    "from sklearn.neural_network import MLPClassifier\n",
    "import pickle\n",
    "\n",
    "from model_creation import create_smote_data, fit_val_data, model_data, perform_base_models\n",
    "from model_creation import perform_feat_sel_models, perform_grid_search, create_under_data"
   ]
  },
  {
   "cell_type": "code",
   "execution_count": 3,
   "metadata": {},
   "outputs": [],
   "source": [
    "train_data = pd.read_csv('C:\\\\DePaulCoursework\\\\Winter 2019 CSC 529\\\\Project\\\\Data\\\\CervicalCancerRisks_Combo_target_TrainData.csv', \n",
    "                          delimiter=\",\", index_col = 0, header = 0)\n",
    "train_target = pd.read_csv('C:\\\\DePaulCoursework\\\\Winter 2019 CSC 529\\\\Project\\\\Data\\\\CervicalCancerRisks_Combo_target_TrainTarget.csv', \n",
    "                          delimiter=\",\", index_col = 0, header = 0)"
   ]
  },
  {
   "cell_type": "code",
   "execution_count": 4,
   "metadata": {},
   "outputs": [],
   "source": [
    "val_data = pd.read_csv('C:\\\\DePaulCoursework\\\\Winter 2019 CSC 529\\\\Project\\\\Data\\\\CervicalCancerRisks_Combo_target_ValData.csv', \n",
    "                          delimiter=\",\", index_col = 0, header = 0)\n",
    "val_target = pd.read_csv('C:\\\\DePaulCoursework\\\\Winter 2019 CSC 529\\\\Project\\\\Data\\\\CervicalCancerRisks_Combo_target_ValTarget.csv', \n",
    "                          delimiter=\",\", index_col = 0, header = 0)"
   ]
  },
  {
   "cell_type": "code",
   "execution_count": 5,
   "metadata": {},
   "outputs": [],
   "source": [
    "rand_st = 1\n"
   ]
  },
  {
   "cell_type": "code",
   "execution_count": 6,
   "metadata": {},
   "outputs": [
    {
     "name": "stdout",
     "output_type": "stream",
     "text": [
      "Number of Original Target 0 Value: 506\n",
      "Number of Original Target 1 Value: 74\n",
      "\n",
      "\n",
      "Number of Random Under Sample Target 0 Value: 74\n",
      "Number of Random Under Sample Target 1 Value: 74\n"
     ]
    }
   ],
   "source": [
    "train_data_rus1p0, train_target_rus1p0 = create_under_data(train_data, train_target, rand_st, 1.0)"
   ]
  },
  {
   "cell_type": "code",
   "execution_count": 7,
   "metadata": {},
   "outputs": [],
   "source": [
    "#train_sm_data_name = data_save_path + 'CervicalCancerRisks_' + target_name + '_TrainData_SMOTE.csv'\n",
    "#data_train_sm1p0.to_csv(train_sm_data_name, sep = ',')\n",
    "#train_sm_target_name = data_save_path + 'CervicalCancerRisks_' + target_name + '_TrainTarget_SMOTE.csv'\n",
    "#target_train_sm1p0.to_csv(train_sm_target_name, sep = ',')\n"
   ]
  },
  {
   "cell_type": "code",
   "execution_count": 8,
   "metadata": {},
   "outputs": [],
   "source": [
    "scorers = {'Accuracy': 'accuracy', 'roc_auc': 'roc_auc'}\n",
    "thresh_vals = [0.4, 0.5, 0.6]\n",
    "k_vals = [5, 6, 7, 8, 9, 10]"
   ]
  },
  {
   "cell_type": "code",
   "execution_count": 9,
   "metadata": {},
   "outputs": [],
   "source": [
    "model_type = 'Random Under 1.0 Neural Network'\n",
    "clf_base = MLPClassifier(activation = 'relu', solver = 'lbfgs', alpha = 0.0001,\n",
    "                       max_iter = 1000, hidden_layer_sizes = (10,), random_state = rand_st)\n"
   ]
  },
  {
   "cell_type": "code",
   "execution_count": 10,
   "metadata": {},
   "outputs": [
    {
     "name": "stdout",
     "output_type": "stream",
     "text": [
      "Base Random Under 1.0 Neural Network CV Acc: 0.4795238095238095 +/- 0.053841120095628824\n",
      "Base Random Under 1.0 Neural Network CV AUC: 0.4870793650793651 +/- 0.06937495116997368\n",
      "CV Runtime: 0.24995732307434082\n",
      "\n",
      "\n",
      "Base Random Under 1.0 Neural Network Validation Acc: 0.1643835616438356\n",
      "Base Random Under 1.0 Neural Network Validation AUC: 0.5196850393700787\n",
      "\n",
      "\n"
     ]
    }
   ],
   "source": [
    "model_desc = 'Base'\n",
    "base_model_rus1p0 = model_data(train_data_rus1p0, train_target_rus1p0, val_data, val_target, \n",
    "                           clf_base, scorers, model_type, model_desc, 5) \n"
   ]
  },
  {
   "cell_type": "code",
   "execution_count": 11,
   "metadata": {},
   "outputs": [
    {
     "name": "stdout",
     "output_type": "stream",
     "text": [
      "-- Low Variance Filtering --\n",
      "Threshold Selected: 0.4\n",
      "Selected Model Mean Accuracy Score: 0.4871428571428571\n",
      "Selected Model Accuracy Deviation: 0.2178767880812008\n",
      "Selected Model Mean AUC Score: 0.4836689342403629\n",
      "Selected Model AUC Deviation: 0.19085028893277056\n",
      "Number of Original Features: 30\n",
      "Number of Selected Features: 9\n",
      "Features Selected:\n",
      "['age', 'num_sex_partners', 'first_sex_int', 'num_pregnancies', 'smokes_yrs', 'smokes_pk_yrs', 'hormonal_contr_yrs', 'iud_yrs', 'stds_num']\n",
      "Features Removed:\n",
      "['smokes', 'hormonal_contr', 'iud', 'stds', 'stds_condylomatosis', 'stds_cerv_condylomatosis', 'stds_vag_condylomatosis', 'stds_vp_condylomatosis', 'stds_syphillus', 'stds_pelvic_inf_disease', 'stds_gen_herpes', 'stds_molluscom_contagiosum', 'stds_aids', 'stds_hiv', 'stds_hep_b', 'stds_hpv', 'stds_num_dx', 'dx_cancer', 'dx_cin', 'dx_hpv', 'dx']\n",
      "\n",
      "\n",
      "Low Variance Filter Random Under 1.0 Neural Network Validation Acc: 0.8082191780821918\n",
      "Low Variance Filter Random Under 1.0 Neural Network Validation AUC: 0.5764608371322005\n",
      "\n",
      "\n",
      "-- Univariate Chi-Sq Feature Selection --\n",
      "K Selected: 5\n",
      "Selected Model Mean Accuracy Score: 0.5561904761904761\n",
      "Selected Model Accuracy Deviation: 0.2002628658026773\n",
      "Selected Model Mean AUC Score: 0.5127165532879818\n",
      "Selected Model AUC Deviation: 0.26840333872749156\n",
      "Number of Original Features: 30\n",
      "Number of Selected Features: 5\n",
      "Features Selected:\n",
      "['smokes_pk_yrs', 'hormonal_contr_yrs', 'stds_num', 'dx_hpv', 'dx']\n",
      "Features Removed:\n",
      "['age', 'num_sex_partners', 'first_sex_int', 'num_pregnancies', 'smokes', 'smokes_yrs', 'hormonal_contr', 'iud', 'iud_yrs', 'stds', 'stds_condylomatosis', 'stds_cerv_condylomatosis', 'stds_vag_condylomatosis', 'stds_vp_condylomatosis', 'stds_syphillus', 'stds_pelvic_inf_disease', 'stds_gen_herpes', 'stds_molluscom_contagiosum', 'stds_aids', 'stds_hiv', 'stds_hep_b', 'stds_hpv', 'stds_num_dx', 'dx_cancer', 'dx_cin']\n",
      "\n",
      "\n",
      "Univariate Chi-Squared Random Under 1.0 Neural Network Validation Acc: 0.815068493150685\n",
      "Univariate Chi-Squared Random Under 1.0 Neural Network Validation AUC: 0.5580190634065478\n",
      "\n",
      "\n",
      "-- Mutual Information Feature Selection --\n",
      "K Selected: 8\n",
      "Selected Model Mean Accuracy Score: 0.6028571428571429\n",
      "Selected Model Accuracy Deviation: 0.1482291539683331\n",
      "Selected Model Mean AUC Score: 0.608453514739229\n",
      "Selected Model AUC Deviation: 0.1220876988242674\n",
      "Number of Original Features: 30\n",
      "Number of Selected Features: 8\n",
      "Features Selected:\n",
      "['iud', 'iud_yrs', 'stds_vp_condylomatosis', 'stds_syphillus', 'stds_pelvic_inf_disease', 'stds_hpv', 'dx_cancer', 'dx_hpv']\n",
      "Features Removed:\n",
      "['age', 'num_sex_partners', 'first_sex_int', 'num_pregnancies', 'smokes', 'smokes_yrs', 'smokes_pk_yrs', 'hormonal_contr', 'hormonal_contr_yrs', 'stds', 'stds_num', 'stds_condylomatosis', 'stds_cerv_condylomatosis', 'stds_vag_condylomatosis', 'stds_gen_herpes', 'stds_molluscom_contagiosum', 'stds_aids', 'stds_hiv', 'stds_hep_b', 'stds_num_dx', 'dx_cin', 'dx']\n",
      "\n",
      "\n",
      "Mutual Information Random Under 1.0 Neural Network Validation Acc: 0.815068493150685\n",
      "Mutual Information Random Under 1.0 Neural Network Validation AUC: 0.5580190634065478\n",
      "\n",
      "\n"
     ]
    }
   ],
   "source": [
    "results_dict_1p0 = \\\n",
    "  perform_feat_sel_models(train_data_rus1p0, train_target_rus1p0, val_data, val_target, clf_base, model_type, \n",
    "                          thresh_vals, k_vals)"
   ]
  },
  {
   "cell_type": "code",
   "execution_count": 12,
   "metadata": {},
   "outputs": [
    {
     "name": "stdout",
     "output_type": "stream",
     "text": [
      "Number of Original Target 0 Value: 506\n",
      "Number of Original Target 1 Value: 74\n",
      "\n",
      "\n",
      "Number of Random Under Sample Target 0 Value: 246\n",
      "Number of Random Under Sample Target 1 Value: 74\n"
     ]
    }
   ],
   "source": [
    "train_data_rus0p3, train_target_rus0p3 = create_under_data(train_data, train_target, rand_st, 0.3)"
   ]
  },
  {
   "cell_type": "code",
   "execution_count": 13,
   "metadata": {},
   "outputs": [
    {
     "name": "stdout",
     "output_type": "stream",
     "text": [
      "Base Random Under 0.3 Neural Network CV Acc: 0.7503632478632478 +/- 0.08971614227195944\n",
      "Base Random Under 0.3 Neural Network CV AUC: 0.555119922254616 +/- 0.1682093301709096\n",
      "CV Runtime: 0.7344698905944824\n",
      "\n",
      "\n",
      "Base Random Under 0.3 Neural Network Validation Acc: 0.815068493150685\n",
      "Base Random Under 0.3 Neural Network Validation AUC: 0.5356402818068794\n",
      "\n",
      "\n"
     ]
    }
   ],
   "source": [
    "model_type = 'Random Under 0.3 Neural Network'\n",
    "base_model_rus0p3 = model_data(train_data_rus0p3, train_target_rus0p3, val_data, val_target, \n",
    "                           clf_base, scorers, model_type, model_desc, 5) \n"
   ]
  },
  {
   "cell_type": "code",
   "execution_count": 14,
   "metadata": {},
   "outputs": [
    {
     "name": "stdout",
     "output_type": "stream",
     "text": [
      "-- Low Variance Filtering --\n",
      "Threshold Selected: 0.4\n",
      "Selected Model Mean Accuracy Score: 0.7561278998778999\n",
      "Selected Model Accuracy Deviation: 0.029175660260612593\n",
      "Selected Model Mean AUC Score: 0.47265228377065105\n",
      "Selected Model AUC Deviation: 0.12147466475271236\n",
      "Number of Original Features: 30\n",
      "Number of Selected Features: 8\n",
      "Features Selected:\n",
      "['age', 'num_sex_partners', 'first_sex_int', 'num_pregnancies', 'smokes_yrs', 'smokes_pk_yrs', 'hormonal_contr_yrs', 'iud_yrs']\n",
      "Features Removed:\n",
      "['smokes', 'hormonal_contr', 'iud', 'stds', 'stds_num', 'stds_condylomatosis', 'stds_cerv_condylomatosis', 'stds_vag_condylomatosis', 'stds_vp_condylomatosis', 'stds_syphillus', 'stds_pelvic_inf_disease', 'stds_gen_herpes', 'stds_molluscom_contagiosum', 'stds_aids', 'stds_hiv', 'stds_hep_b', 'stds_hpv', 'stds_num_dx', 'dx_cancer', 'dx_cin', 'dx_hpv', 'dx']\n",
      "\n",
      "\n",
      "Low Variance Filter Random Under 0.3 Neural Network Validation Acc: 0.863013698630137\n",
      "Low Variance Filter Random Under 0.3 Neural Network Validation AUC: 0.49606299212598426\n",
      "\n",
      "\n",
      "-- Univariate Chi-Sq Feature Selection --\n",
      "K Selected: 5\n",
      "Selected Model Mean Accuracy Score: 0.7472397741147742\n",
      "Selected Model Accuracy Deviation: 0.09113226591300069\n",
      "Selected Model Mean AUC Score: 0.6310285714285715\n",
      "Selected Model AUC Deviation: 0.15772829766444046\n",
      "Number of Original Features: 30\n",
      "Number of Selected Features: 5\n",
      "Features Selected:\n",
      "['hormonal_contr_yrs', 'stds_num', 'dx_cancer', 'dx_hpv', 'dx']\n",
      "Features Removed:\n",
      "['age', 'num_sex_partners', 'first_sex_int', 'num_pregnancies', 'smokes', 'smokes_yrs', 'smokes_pk_yrs', 'hormonal_contr', 'iud', 'iud_yrs', 'stds', 'stds_condylomatosis', 'stds_cerv_condylomatosis', 'stds_vag_condylomatosis', 'stds_vp_condylomatosis', 'stds_syphillus', 'stds_pelvic_inf_disease', 'stds_gen_herpes', 'stds_molluscom_contagiosum', 'stds_aids', 'stds_hiv', 'stds_hep_b', 'stds_hpv', 'stds_num_dx', 'dx_cin']\n",
      "\n",
      "\n",
      "Univariate Chi-Squared Random Under 0.3 Neural Network Validation Acc: 0.8356164383561644\n",
      "Univariate Chi-Squared Random Under 0.3 Neural Network Validation AUC: 0.5250725238292581\n",
      "\n",
      "\n",
      "-- Mutual Information Feature Selection --\n",
      "K Selected: 9\n",
      "Selected Model Mean Accuracy Score: 0.7504159035409035\n",
      "Selected Model Accuracy Deviation: 0.10261621467587506\n",
      "Selected Model Mean AUC Score: 0.6128761904761906\n",
      "Selected Model AUC Deviation: 0.19424381079773664\n",
      "Number of Original Features: 30\n",
      "Number of Selected Features: 9\n",
      "Features Selected:\n",
      "['age', 'first_sex_int', 'hormonal_contr_yrs', 'stds', 'stds_hiv', 'stds_hep_b', 'stds_hpv', 'dx_cancer', 'dx_cin']\n",
      "Features Removed:\n",
      "['num_sex_partners', 'num_pregnancies', 'smokes', 'smokes_yrs', 'smokes_pk_yrs', 'hormonal_contr', 'iud', 'iud_yrs', 'stds_num', 'stds_condylomatosis', 'stds_cerv_condylomatosis', 'stds_vag_condylomatosis', 'stds_vp_condylomatosis', 'stds_syphillus', 'stds_pelvic_inf_disease', 'stds_gen_herpes', 'stds_molluscom_contagiosum', 'stds_aids', 'stds_num_dx', 'dx_hpv', 'dx']\n",
      "\n",
      "\n",
      "Mutual Information Random Under 0.3 Neural Network Validation Acc: 0.863013698630137\n",
      "Mutual Information Random Under 0.3 Neural Network Validation AUC: 0.5184417737256527\n",
      "\n",
      "\n"
     ]
    }
   ],
   "source": [
    "results_dict_0p3 = \\\n",
    "  perform_feat_sel_models(train_data_rus0p3, train_target_rus0p3, val_data, val_target, clf_base, model_type, \n",
    "                          thresh_vals, k_vals)"
   ]
  },
  {
   "cell_type": "code",
   "execution_count": 15,
   "metadata": {},
   "outputs": [
    {
     "name": "stdout",
     "output_type": "stream",
     "text": [
      "Number of Original Target 0 Value: 506\n",
      "Number of Original Target 1 Value: 74\n",
      "\n",
      "\n",
      "Number of Random Under Sample Target 0 Value: 370\n",
      "Number of Random Under Sample Target 1 Value: 74\n"
     ]
    }
   ],
   "source": [
    "train_data_rus0p1, train_target_rus0p1 = create_under_data(train_data, train_target, rand_st, 0.2)"
   ]
  },
  {
   "cell_type": "code",
   "execution_count": 16,
   "metadata": {},
   "outputs": [
    {
     "name": "stdout",
     "output_type": "stream",
     "text": [
      "Base Random Under 0.2 Neural Network CV Acc: 0.8153728294177732 +/- 0.08554487520036559\n",
      "Base Random Under 0.2 Neural Network CV AUC: 0.5953088803088803 +/- 0.17380851316988444\n",
      "CV Runtime: 0.5155856609344482\n",
      "\n",
      "\n",
      "Base Random Under 0.2 Neural Network Validation Acc: 0.8767123287671232\n",
      "Base Random Under 0.2 Neural Network Validation AUC: 0.5263157894736842\n",
      "\n",
      "\n"
     ]
    }
   ],
   "source": [
    "model_type = 'Random Under 0.2 Neural Network'\n",
    "base_model_rus0p1 = model_data(train_data_rus0p1, train_target_rus0p1, val_data, val_target, \n",
    "                           clf_base, scorers, model_type, model_desc, 5) \n"
   ]
  },
  {
   "cell_type": "code",
   "execution_count": 17,
   "metadata": {},
   "outputs": [
    {
     "name": "stdout",
     "output_type": "stream",
     "text": [
      "-- Low Variance Filtering --\n",
      "Threshold Selected: 0.4\n",
      "Selected Model Mean Accuracy Score: 0.8243615934627171\n",
      "Selected Model Accuracy Deviation: 0.029661486217910826\n",
      "Selected Model Mean AUC Score: 0.5040926640926641\n",
      "Selected Model AUC Deviation: 0.039084989527961835\n",
      "Number of Original Features: 30\n",
      "Number of Selected Features: 8\n",
      "Features Selected:\n",
      "['age', 'num_sex_partners', 'first_sex_int', 'num_pregnancies', 'smokes_yrs', 'smokes_pk_yrs', 'hormonal_contr_yrs', 'iud_yrs']\n",
      "Features Removed:\n",
      "['smokes', 'hormonal_contr', 'iud', 'stds', 'stds_num', 'stds_condylomatosis', 'stds_cerv_condylomatosis', 'stds_vag_condylomatosis', 'stds_vp_condylomatosis', 'stds_syphillus', 'stds_pelvic_inf_disease', 'stds_gen_herpes', 'stds_molluscom_contagiosum', 'stds_aids', 'stds_hiv', 'stds_hep_b', 'stds_hpv', 'stds_num_dx', 'dx_cancer', 'dx_cin', 'dx_hpv', 'dx']\n",
      "\n",
      "\n",
      "Low Variance Filter Random Under 0.2 Neural Network Validation Acc: 0.8767123287671232\n",
      "Low Variance Filter Random Under 0.2 Neural Network Validation AUC: 0.5263157894736842\n",
      "\n",
      "\n",
      "-- Univariate Chi-Sq Feature Selection --\n",
      "K Selected: 7\n",
      "Selected Model Mean Accuracy Score: 0.8198161389172626\n",
      "Selected Model Accuracy Deviation: 0.03763819719036246\n",
      "Selected Model Mean AUC Score: 0.6157915057915058\n",
      "Selected Model AUC Deviation: 0.1549689061049903\n",
      "Number of Original Features: 30\n",
      "Number of Selected Features: 7\n",
      "Features Selected:\n",
      "['hormonal_contr_yrs', 'iud_yrs', 'stds_num', 'stds_num_dx', 'dx_cancer', 'dx_hpv', 'dx']\n",
      "Features Removed:\n",
      "['age', 'num_sex_partners', 'first_sex_int', 'num_pregnancies', 'smokes', 'smokes_yrs', 'smokes_pk_yrs', 'hormonal_contr', 'iud', 'stds', 'stds_condylomatosis', 'stds_cerv_condylomatosis', 'stds_vag_condylomatosis', 'stds_vp_condylomatosis', 'stds_syphillus', 'stds_pelvic_inf_disease', 'stds_gen_herpes', 'stds_molluscom_contagiosum', 'stds_aids', 'stds_hiv', 'stds_hep_b', 'stds_hpv', 'dx_cin']\n",
      "\n",
      "\n",
      "Univariate Chi-Squared Random Under 0.2 Neural Network Validation Acc: 0.8561643835616438\n",
      "Univariate Chi-Squared Random Under 0.2 Neural Network Validation AUC: 0.5368835474513054\n",
      "\n",
      "\n",
      "-- Mutual Information Feature Selection --\n",
      "K Selected: 5\n",
      "Selected Model Mean Accuracy Score: 0.826608784473953\n",
      "Selected Model Accuracy Deviation: 0.041160778165965806\n",
      "Selected Model Mean AUC Score: 0.5990283140283139\n",
      "Selected Model AUC Deviation: 0.19906592880701607\n",
      "Number of Original Features: 30\n",
      "Number of Selected Features: 5\n",
      "Features Selected:\n",
      "['num_pregnancies', 'stds', 'stds_cerv_condylomatosis', 'stds_num_dx', 'dx']\n",
      "Features Removed:\n",
      "['age', 'num_sex_partners', 'first_sex_int', 'smokes', 'smokes_yrs', 'smokes_pk_yrs', 'hormonal_contr', 'hormonal_contr_yrs', 'iud', 'iud_yrs', 'stds_num', 'stds_condylomatosis', 'stds_vag_condylomatosis', 'stds_vp_condylomatosis', 'stds_syphillus', 'stds_pelvic_inf_disease', 'stds_gen_herpes', 'stds_molluscom_contagiosum', 'stds_aids', 'stds_hiv', 'stds_hep_b', 'stds_hpv', 'dx_cancer', 'dx_cin', 'dx_hpv']\n",
      "\n",
      "\n",
      "Mutual Information Random Under 0.2 Neural Network Validation Acc: 0.863013698630137\n",
      "Mutual Information Random Under 0.2 Neural Network Validation AUC: 0.49606299212598426\n",
      "\n",
      "\n"
     ]
    }
   ],
   "source": [
    "results_dict_0p1 = \\\n",
    "  perform_feat_sel_models(train_data_rus0p1, train_target_rus0p1, val_data, val_target, clf_base, model_type, \n",
    "                          thresh_vals, k_vals)"
   ]
  }
 ],
 "metadata": {
  "kernelspec": {
   "display_name": "Python 3",
   "language": "python",
   "name": "python3"
  },
  "language_info": {
   "codemirror_mode": {
    "name": "ipython",
    "version": 3
   },
   "file_extension": ".py",
   "mimetype": "text/x-python",
   "name": "python",
   "nbconvert_exporter": "python",
   "pygments_lexer": "ipython3",
   "version": "3.6.8"
  }
 },
 "nbformat": 4,
 "nbformat_minor": 2
}
