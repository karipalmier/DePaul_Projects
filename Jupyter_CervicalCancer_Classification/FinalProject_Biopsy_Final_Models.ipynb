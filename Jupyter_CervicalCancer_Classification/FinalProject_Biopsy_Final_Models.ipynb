{
 "cells": [
  {
   "cell_type": "markdown",
   "metadata": {},
   "source": [
    "# Import libraries required"
   ]
  },
  {
   "cell_type": "code",
   "execution_count": 1,
   "metadata": {},
   "outputs": [],
   "source": [
    "%load_ext autoreload\n",
    "%autoreload 2"
   ]
  },
  {
   "cell_type": "code",
   "execution_count": 2,
   "metadata": {},
   "outputs": [],
   "source": [
    "import pandas as pd\n",
    "import numpy as np\n",
    "from sklearn.ensemble import RandomForestClassifier\n",
    "import pickle\n",
    "\n",
    "from model_creation import create_smote_data, fit_val_data, model_data, perform_base_models\n",
    "from model_creation import perform_feat_sel_models, perform_grid_search"
   ]
  },
  {
   "cell_type": "markdown",
   "metadata": {},
   "source": [
    "# Read in the training data and target"
   ]
  },
  {
   "cell_type": "code",
   "execution_count": 3,
   "metadata": {},
   "outputs": [],
   "source": [
    "train_data = pd.read_csv('C:\\\\DePaulCoursework\\\\Winter 2019 CSC 529\\\\Project\\\\Data\\\\CervicalCancerRisks_Biopsy_TrainData.csv', \n",
    "                          delimiter=\",\", index_col = 0, header = 0)\n",
    "train_target = pd.read_csv('C:\\\\DePaulCoursework\\\\Winter 2019 CSC 529\\\\Project\\\\Data\\\\CervicalCancerRisks_Biopsy_TrainTarget.csv', \n",
    "                          delimiter=\",\", index_col = 0, header = 0)"
   ]
  },
  {
   "cell_type": "markdown",
   "metadata": {},
   "source": [
    "# Read in the validation data and target"
   ]
  },
  {
   "cell_type": "code",
   "execution_count": 4,
   "metadata": {},
   "outputs": [],
   "source": [
    "val_data = pd.read_csv('C:\\\\DePaulCoursework\\\\Winter 2019 CSC 529\\\\Project\\\\Data\\\\CervicalCancerRisks_Biopsy_ValData.csv', \n",
    "                          delimiter=\",\", index_col = 0, header = 0)\n",
    "val_target = pd.read_csv('C:\\\\DePaulCoursework\\\\Winter 2019 CSC 529\\\\Project\\\\Data\\\\CervicalCancerRisks_Biopsy_ValTarget.csv', \n",
    "                          delimiter=\",\", index_col = 0, header = 0)"
   ]
  },
  {
   "cell_type": "markdown",
   "metadata": {},
   "source": [
    "# Declare random state variable used for all modeling"
   ]
  },
  {
   "cell_type": "code",
   "execution_count": 5,
   "metadata": {},
   "outputs": [],
   "source": [
    "rand_st = 1\n"
   ]
  },
  {
   "cell_type": "markdown",
   "metadata": {},
   "source": [
    "# Perform SMOTE oversampling with a sampling strategy of 1.0"
   ]
  },
  {
   "cell_type": "code",
   "execution_count": 6,
   "metadata": {},
   "outputs": [
    {
     "name": "stdout",
     "output_type": "stream",
     "text": [
      "Number of Original Target 0 Value: 540\n",
      "Number of Original Target 1 Value: 40\n",
      "\n",
      "\n",
      "Number of SMOTE Target 0 Value: 540\n",
      "Number of SMOTE Target 1 Value: 540\n"
     ]
    }
   ],
   "source": [
    "train_data_sm1p0, train_target_sm1p0 = create_smote_data(train_data, train_target, rand_st, 1.0)"
   ]
  },
  {
   "cell_type": "code",
   "execution_count": 7,
   "metadata": {},
   "outputs": [],
   "source": [
    "#train_sm_data_name = data_save_path + 'CervicalCancerRisks_' + target_name + '_TrainData_SMOTE.csv'\n",
    "#data_train_sm1p0.to_csv(train_sm_data_name, sep = ',')\n",
    "#train_sm_target_name = data_save_path + 'CervicalCancerRisks_' + target_name + '_TrainTarget_SMOTE.csv'\n",
    "#target_train_sm1p0.to_csv(train_sm_target_name, sep = ',')\n"
   ]
  },
  {
   "cell_type": "markdown",
   "metadata": {},
   "source": [
    "# Declare base model and variables used during feature selection"
   ]
  },
  {
   "cell_type": "code",
   "execution_count": 8,
   "metadata": {},
   "outputs": [],
   "source": [
    "scorers = {'Accuracy': 'accuracy', 'roc_auc': 'roc_auc'}\n",
    "thresh_vals = [0.4, 0.5, 0.6]\n",
    "k_vals = [5, 6, 7, 8, 9, 10]"
   ]
  },
  {
   "cell_type": "code",
   "execution_count": 9,
   "metadata": {},
   "outputs": [],
   "source": [
    "model_type = 'Random Forest'\n",
    "clf_base = RandomForestClassifier(n_estimators = 100, max_depth = None, \n",
    "                             min_samples_split = 3, criterion = 'entropy', \n",
    "                             random_state = rand_st)\n"
   ]
  },
  {
   "cell_type": "markdown",
   "metadata": {},
   "source": [
    "# Create base models with original and SMOTE 1.0 oversampled data"
   ]
  },
  {
   "cell_type": "code",
   "execution_count": 10,
   "metadata": {},
   "outputs": [
    {
     "name": "stdout",
     "output_type": "stream",
     "text": [
      "Base Random Forest CV Acc: 0.9275862068965518 +/- 0.013793103448275877\n",
      "Base Random Forest CV AUC: 0.7184027777777777 +/- 0.09777619948221135\n",
      "CV Runtime: 2.2957048416137695\n",
      "\n",
      "\n",
      "Base Random Forest Validation Acc: 0.9178082191780822\n",
      "Base Random Forest Validation AUC: 0.49264705882352944\n",
      "\n",
      "\n",
      "SMOTE Base Random Forest CV Acc: 0.9657407407407408 +/- 0.06404302394737252\n",
      "SMOTE Base Random Forest CV AUC: 0.9944530178326474 +/- 0.02004938478079519\n",
      "CV Runtime: 3.1651611328125\n",
      "\n",
      "\n",
      "SMOTE Base Random Forest Validation Acc: 0.8972602739726028\n",
      "SMOTE Base Random Forest Validation AUC: 0.5279411764705882\n",
      "\n",
      "\n"
     ]
    },
    {
     "data": {
      "text/plain": [
       "(RandomForestClassifier(bootstrap=True, class_weight=None, criterion='entropy',\n",
       "             max_depth=None, max_features='auto', max_leaf_nodes=None,\n",
       "             min_impurity_decrease=0.0, min_impurity_split=None,\n",
       "             min_samples_leaf=1, min_samples_split=3,\n",
       "             min_weight_fraction_leaf=0.0, n_estimators=100, n_jobs=None,\n",
       "             oob_score=False, random_state=1, verbose=0, warm_start=False),\n",
       " RandomForestClassifier(bootstrap=True, class_weight=None, criterion='entropy',\n",
       "             max_depth=None, max_features='auto', max_leaf_nodes=None,\n",
       "             min_impurity_decrease=0.0, min_impurity_split=None,\n",
       "             min_samples_leaf=1, min_samples_split=3,\n",
       "             min_weight_fraction_leaf=0.0, n_estimators=100, n_jobs=None,\n",
       "             oob_score=False, random_state=1, verbose=0, warm_start=False))"
      ]
     },
     "execution_count": 10,
     "metadata": {},
     "output_type": "execute_result"
    }
   ],
   "source": [
    "perform_base_models(train_data, train_target, val_data, val_target, train_data_sm1p0, train_target_sm1p0, clf_base, \n",
    "                    scorers, model_type)"
   ]
  },
  {
   "cell_type": "markdown",
   "metadata": {},
   "source": [
    "# Perform all types of model selection on the original data"
   ]
  },
  {
   "cell_type": "code",
   "execution_count": 11,
   "metadata": {
    "scrolled": false
   },
   "outputs": [
    {
     "name": "stdout",
     "output_type": "stream",
     "text": [
      "-- Low Variance Filtering --\n",
      "Threshold Selected: 0.4\n",
      "Selected Model Mean Accuracy Score: 0.9310344827586207\n",
      "Selected Model Accuracy Deviation: 0.0\n",
      "Selected Model Mean AUC Score: 0.5826388888888889\n",
      "Selected Model AUC Deviation: 0.16837218921635758\n",
      "Number of Original Features: 30\n",
      "Number of Selected Features: 8\n",
      "Features Selected:\n",
      "['age', 'num_sex_partners', 'first_sex_int', 'num_pregnancies', 'smokes_yrs', 'smokes_pk_yrs', 'hormonal_contr_yrs', 'iud_yrs']\n",
      "Features Removed:\n",
      "['smokes', 'hormonal_contr', 'iud', 'stds', 'stds_num', 'stds_condylomatosis', 'stds_cerv_condylomatosis', 'stds_vag_condylomatosis', 'stds_vp_condylomatosis', 'stds_syphillus', 'stds_pelvic_inf_disease', 'stds_gen_herpes', 'stds_molluscom_contagiosum', 'stds_aids', 'stds_hiv', 'stds_hep_b', 'stds_hpv', 'stds_num_dx', 'dx_cancer', 'dx_cin', 'dx_hpv', 'dx']\n",
      "\n",
      "\n",
      "Low Variance Filter Random Forest Validation Acc: 0.9315068493150684\n",
      "Low Variance Filter Random Forest Validation AUC: 0.5\n",
      "\n",
      "\n",
      "-- Model Wrapper Feature Selection --\n",
      "Model Mean Accuracy Score: 0.9362068965517242\n",
      "Selected Model Accuracy Deviation: 0.008446516354424824\n",
      "Model Mean AUC Score: 0.5974537037037038\n",
      "Selected Model AUC Deviation: 0.13108189476213228\n",
      "Number of Original Features: 30\n",
      "Number of Selected Features: 8\n",
      "Features Selected:\n",
      "['age', 'num_sex_partners', 'first_sex_int', 'num_pregnancies', 'smokes_yrs', 'smokes_pk_yrs', 'hormonal_contr_yrs', 'dx']\n",
      "Features Removed:\n",
      "['smokes', 'hormonal_contr', 'iud', 'iud_yrs', 'stds', 'stds_num', 'stds_condylomatosis', 'stds_cerv_condylomatosis', 'stds_vag_condylomatosis', 'stds_vp_condylomatosis', 'stds_syphillus', 'stds_pelvic_inf_disease', 'stds_gen_herpes', 'stds_molluscom_contagiosum', 'stds_aids', 'stds_hiv', 'stds_hep_b', 'stds_hpv', 'stds_num_dx', 'dx_cancer', 'dx_cin', 'dx_hpv']\n",
      "\n",
      "\n",
      "Model Wrapper Random Forest Validation Acc: 0.9246575342465754\n",
      "Model Wrapper Random Forest Validation AUC: 0.4963235294117647\n",
      "\n",
      "\n",
      "-- Stepwise Recursive Feature Selection --\n",
      "K Selected: 8\n",
      "Selected Model Mean Accuracy Score: 0.9327586206896552\n",
      "Selected Model Accuracy Deviation: 0.012902266850944663\n",
      "Selected Model Mean AUC Score: 0.7114583333333334\n",
      "Selected Model AUC Deviation: 0.12281308846461254\n",
      "Number of Original Features: 30\n",
      "Number of Selected Features: 8\n",
      "Features Selected:\n",
      "['age', 'num_sex_partners', 'first_sex_int', 'num_pregnancies', 'smokes_pk_yrs', 'hormonal_contr_yrs', 'stds_num', 'dx']\n",
      "Features Removed:\n",
      "['smokes', 'smokes_yrs', 'hormonal_contr', 'iud', 'iud_yrs', 'stds', 'stds_condylomatosis', 'stds_cerv_condylomatosis', 'stds_vag_condylomatosis', 'stds_vp_condylomatosis', 'stds_syphillus', 'stds_pelvic_inf_disease', 'stds_gen_herpes', 'stds_molluscom_contagiosum', 'stds_aids', 'stds_hiv', 'stds_hep_b', 'stds_hpv', 'stds_num_dx', 'dx_cancer', 'dx_cin', 'dx_hpv']\n",
      "\n",
      "\n",
      "Stepwise Recursive Random Forest Validation Acc: 0.9315068493150684\n",
      "Stepwise Recursive Random Forest Validation AUC: 0.5\n",
      "\n",
      "\n",
      "-- Univariate Chi-Sq Feature Selection --\n",
      "K Selected: 10\n",
      "Selected Model Mean Accuracy Score: 0.9344827586206896\n",
      "Selected Model Accuracy Deviation: 0.008446516354424824\n",
      "Selected Model Mean AUC Score: 0.7199074074074074\n",
      "Selected Model AUC Deviation: 0.18810914995732672\n",
      "Number of Original Features: 30\n",
      "Number of Selected Features: 10\n",
      "Features Selected:\n",
      "['smokes_yrs', 'hormonal_contr_yrs', 'stds', 'stds_num', 'stds_vp_condylomatosis', 'stds_hiv', 'dx_cancer', 'dx_cin', 'dx_hpv', 'dx']\n",
      "Features Removed:\n",
      "['age', 'num_sex_partners', 'first_sex_int', 'num_pregnancies', 'smokes', 'smokes_pk_yrs', 'hormonal_contr', 'iud', 'iud_yrs', 'stds_condylomatosis', 'stds_cerv_condylomatosis', 'stds_vag_condylomatosis', 'stds_syphillus', 'stds_pelvic_inf_disease', 'stds_gen_herpes', 'stds_molluscom_contagiosum', 'stds_aids', 'stds_hep_b', 'stds_hpv', 'stds_num_dx']\n",
      "\n",
      "\n",
      "Univariate Chi-Squared Random Forest Validation Acc: 0.8904109589041096\n",
      "Univariate Chi-Squared Random Forest Validation AUC: 0.524264705882353\n",
      "\n",
      "\n",
      "-- Mutual Information Feature Selection --\n",
      "K Selected: 9\n",
      "Selected Model Mean Accuracy Score: 0.9086206896551724\n",
      "Selected Model Accuracy Deviation: 0.030061372024418404\n",
      "Selected Model Mean AUC Score: 0.6850694444444445\n",
      "Selected Model AUC Deviation: 0.188469714631644\n",
      "Number of Original Features: 30\n",
      "Number of Selected Features: 9\n",
      "Features Selected:\n",
      "['first_sex_int', 'num_pregnancies', 'stds_vag_condylomatosis', 'stds_molluscom_contagiosum', 'stds_hep_b', 'stds_hpv', 'stds_num_dx', 'dx_cancer', 'dx_hpv']\n",
      "Features Removed:\n",
      "['age', 'num_sex_partners', 'smokes', 'smokes_yrs', 'smokes_pk_yrs', 'hormonal_contr', 'hormonal_contr_yrs', 'iud', 'iud_yrs', 'stds', 'stds_num', 'stds_condylomatosis', 'stds_cerv_condylomatosis', 'stds_vp_condylomatosis', 'stds_syphillus', 'stds_pelvic_inf_disease', 'stds_gen_herpes', 'stds_aids', 'stds_hiv', 'dx_cin', 'dx']\n",
      "\n",
      "\n",
      "Mutual Information Random Forest Validation Acc: 0.9315068493150684\n",
      "Mutual Information Random Forest Validation AUC: 0.5\n",
      "\n",
      "\n"
     ]
    }
   ],
   "source": [
    "results_dict_base = \\\n",
    "  perform_feat_sel_models(train_data, train_target, val_data, val_target, clf_base, model_type, thresh_vals, k_vals)"
   ]
  },
  {
   "cell_type": "markdown",
   "metadata": {},
   "source": [
    "# Perform feature selection on the SMOTE 1.0 oversampled data"
   ]
  },
  {
   "cell_type": "code",
   "execution_count": 12,
   "metadata": {
    "scrolled": false
   },
   "outputs": [
    {
     "name": "stdout",
     "output_type": "stream",
     "text": [
      "-- Low Variance Filtering --\n",
      "Threshold Selected: 0.4\n",
      "Selected Model Mean Accuracy Score: 0.9638888888888889\n",
      "Selected Model Accuracy Deviation: 0.07508568493597523\n",
      "Selected Model Mean AUC Score: 0.9933384773662551\n",
      "Selected Model AUC Deviation: 0.022459371114342066\n",
      "Number of Original Features: 30\n",
      "Number of Selected Features: 8\n",
      "Features Selected:\n",
      "['age', 'num_sex_partners', 'first_sex_int', 'num_pregnancies', 'smokes_yrs', 'smokes_pk_yrs', 'hormonal_contr_yrs', 'iud_yrs']\n",
      "Features Removed:\n",
      "['smokes', 'hormonal_contr', 'iud', 'stds', 'stds_num', 'stds_condylomatosis', 'stds_cerv_condylomatosis', 'stds_vag_condylomatosis', 'stds_vp_condylomatosis', 'stds_syphillus', 'stds_pelvic_inf_disease', 'stds_gen_herpes', 'stds_molluscom_contagiosum', 'stds_aids', 'stds_hiv', 'stds_hep_b', 'stds_hpv', 'stds_num_dx', 'dx_cancer', 'dx_cin', 'dx_hpv', 'dx']\n",
      "\n",
      "\n",
      "Low Variance Filter SMOTE Random Forest Validation Acc: 0.8767123287671232\n",
      "Low Variance Filter SMOTE Random Forest Validation AUC: 0.47058823529411764\n",
      "\n",
      "\n",
      "-- Model Wrapper Feature Selection --\n",
      "Model Mean Accuracy Score: 0.962962962962963\n",
      "Selected Model Accuracy Deviation: 0.07476529347476432\n",
      "Model Mean AUC Score: 0.9958504801097394\n",
      "Selected Model AUC Deviation: 0.012543121854615296\n",
      "Number of Original Features: 30\n",
      "Number of Selected Features: 8\n",
      "Features Selected:\n",
      "['age', 'num_sex_partners', 'first_sex_int', 'num_pregnancies', 'hormonal_contr', 'hormonal_contr_yrs', 'stds', 'dx']\n",
      "Features Removed:\n",
      "['smokes', 'smokes_yrs', 'smokes_pk_yrs', 'iud', 'iud_yrs', 'stds_num', 'stds_condylomatosis', 'stds_cerv_condylomatosis', 'stds_vag_condylomatosis', 'stds_vp_condylomatosis', 'stds_syphillus', 'stds_pelvic_inf_disease', 'stds_gen_herpes', 'stds_molluscom_contagiosum', 'stds_aids', 'stds_hiv', 'stds_hep_b', 'stds_hpv', 'stds_num_dx', 'dx_cancer', 'dx_cin', 'dx_hpv']\n",
      "\n",
      "\n",
      "Model Wrapper SMOTE Random Forest Validation Acc: 0.8356164383561644\n",
      "Model Wrapper SMOTE Random Forest Validation AUC: 0.4485294117647059\n",
      "\n",
      "\n",
      "-- Stepwise Recursive Feature Selection --\n",
      "K Selected: 8\n",
      "Selected Model Mean Accuracy Score: 0.962962962962963\n",
      "Selected Model Accuracy Deviation: 0.07476529347476432\n",
      "Selected Model Mean AUC Score: 0.9958504801097394\n",
      "Selected Model AUC Deviation: 0.012543121854615296\n",
      "Number of Original Features: 30\n",
      "Number of Selected Features: 8\n",
      "Features Selected:\n",
      "['age', 'num_sex_partners', 'first_sex_int', 'num_pregnancies', 'hormonal_contr', 'hormonal_contr_yrs', 'stds', 'dx']\n",
      "Features Removed:\n",
      "['smokes', 'smokes_yrs', 'smokes_pk_yrs', 'iud', 'iud_yrs', 'stds_num', 'stds_condylomatosis', 'stds_cerv_condylomatosis', 'stds_vag_condylomatosis', 'stds_vp_condylomatosis', 'stds_syphillus', 'stds_pelvic_inf_disease', 'stds_gen_herpes', 'stds_molluscom_contagiosum', 'stds_aids', 'stds_hiv', 'stds_hep_b', 'stds_hpv', 'stds_num_dx', 'dx_cancer', 'dx_cin', 'dx_hpv']\n",
      "\n",
      "\n",
      "Stepwise Recursive SMOTE Random Forest Validation Acc: 0.8356164383561644\n",
      "Stepwise Recursive SMOTE Random Forest Validation AUC: 0.4485294117647059\n",
      "\n",
      "\n",
      "-- Univariate Chi-Sq Feature Selection --\n",
      "K Selected: 9\n",
      "Selected Model Mean Accuracy Score: 0.8953703703703703\n",
      "Selected Model Accuracy Deviation: 0.05814932765965776\n",
      "Selected Model Mean AUC Score: 0.9438357338820301\n",
      "Selected Model AUC Deviation: 0.04972672767389621\n",
      "Number of Original Features: 30\n",
      "Number of Selected Features: 9\n",
      "Features Selected:\n",
      "['smokes_yrs', 'hormonal_contr_yrs', 'stds', 'stds_num', 'stds_hiv', 'stds_num_dx', 'dx_cancer', 'dx_hpv', 'dx']\n",
      "Features Removed:\n",
      "['age', 'num_sex_partners', 'first_sex_int', 'num_pregnancies', 'smokes', 'smokes_pk_yrs', 'hormonal_contr', 'iud', 'iud_yrs', 'stds_condylomatosis', 'stds_cerv_condylomatosis', 'stds_vag_condylomatosis', 'stds_vp_condylomatosis', 'stds_syphillus', 'stds_pelvic_inf_disease', 'stds_gen_herpes', 'stds_molluscom_contagiosum', 'stds_aids', 'stds_hep_b', 'stds_hpv', 'dx_cin']\n",
      "\n",
      "\n",
      "Univariate Chi-Squared SMOTE Random Forest Validation Acc: 0.8835616438356164\n",
      "Univariate Chi-Squared SMOTE Random Forest Validation AUC: 0.5669117647058823\n",
      "\n",
      "\n",
      "-- Mutual Information Feature Selection --\n",
      "K Selected: 9\n",
      "Selected Model Mean Accuracy Score: 0.9638888888888889\n",
      "Selected Model Accuracy Deviation: 0.05719794522770555\n",
      "Selected Model Mean AUC Score: 0.9939043209876542\n",
      "Selected Model AUC Deviation: 0.01880192313808659\n",
      "Number of Original Features: 30\n",
      "Number of Selected Features: 9\n",
      "Features Selected:\n",
      "['age', 'num_sex_partners', 'first_sex_int', 'num_pregnancies', 'hormonal_contr', 'hormonal_contr_yrs', 'stds', 'stds_num', 'dx']\n",
      "Features Removed:\n",
      "['smokes', 'smokes_yrs', 'smokes_pk_yrs', 'iud', 'iud_yrs', 'stds_condylomatosis', 'stds_cerv_condylomatosis', 'stds_vag_condylomatosis', 'stds_vp_condylomatosis', 'stds_syphillus', 'stds_pelvic_inf_disease', 'stds_gen_herpes', 'stds_molluscom_contagiosum', 'stds_aids', 'stds_hiv', 'stds_hep_b', 'stds_hpv', 'stds_num_dx', 'dx_cancer', 'dx_cin', 'dx_hpv']\n",
      "\n",
      "\n",
      "Mutual Information SMOTE Random Forest Validation Acc: 0.8493150684931506\n",
      "Mutual Information SMOTE Random Forest Validation AUC: 0.45588235294117646\n",
      "\n",
      "\n"
     ]
    }
   ],
   "source": [
    "model_type = 'SMOTE Random Forest'\n",
    "results_dict_1p0 = \\\n",
    "  perform_feat_sel_models(train_data_sm1p0, train_target_sm1p0, val_data, val_target, clf_base, model_type, \n",
    "                          thresh_vals, k_vals)"
   ]
  },
  {
   "cell_type": "markdown",
   "metadata": {},
   "source": [
    "#  Perform SMOTE oversampling with a sampling strategy of 0.3"
   ]
  },
  {
   "cell_type": "code",
   "execution_count": 13,
   "metadata": {},
   "outputs": [
    {
     "name": "stdout",
     "output_type": "stream",
     "text": [
      "Number of Original Target 0 Value: 540\n",
      "Number of Original Target 1 Value: 40\n",
      "\n",
      "\n",
      "Number of SMOTE Target 0 Value: 540\n",
      "Number of SMOTE Target 1 Value: 162\n"
     ]
    }
   ],
   "source": [
    "train_data_sm0p3, train_target_sm0p3 = create_smote_data(train_data, train_target, rand_st, 0.3)"
   ]
  },
  {
   "cell_type": "markdown",
   "metadata": {},
   "source": [
    "# Create base models with original and SMOTE 0.3 oversampled data"
   ]
  },
  {
   "cell_type": "code",
   "execution_count": 14,
   "metadata": {},
   "outputs": [
    {
     "name": "stdout",
     "output_type": "stream",
     "text": [
      "Base SMOTE Random Forest CV Acc: 0.9275862068965518 +/- 0.013793103448275877\n",
      "Base SMOTE Random Forest CV AUC: 0.7184027777777777 +/- 0.09777619948221135\n",
      "CV Runtime: 2.544536590576172\n",
      "\n",
      "\n",
      "Base SMOTE Random Forest Validation Acc: 0.9178082191780822\n",
      "Base SMOTE Random Forest Validation AUC: 0.49264705882352944\n",
      "\n",
      "\n",
      "SMOTE Base SMOTE Random Forest CV Acc: 0.9389057750759878 +/- 0.10393550738027854\n",
      "SMOTE Base SMOTE Random Forest CV AUC: 0.9743914842873176 +/- 0.05882664778010867\n",
      "CV Runtime: 2.5355653762817383\n",
      "\n",
      "\n",
      "SMOTE Base SMOTE Random Forest Validation Acc: 0.8904109589041096\n",
      "SMOTE Base SMOTE Random Forest Validation AUC: 0.47794117647058826\n",
      "\n",
      "\n"
     ]
    },
    {
     "data": {
      "text/plain": [
       "(RandomForestClassifier(bootstrap=True, class_weight=None, criterion='entropy',\n",
       "             max_depth=None, max_features='auto', max_leaf_nodes=None,\n",
       "             min_impurity_decrease=0.0, min_impurity_split=None,\n",
       "             min_samples_leaf=1, min_samples_split=3,\n",
       "             min_weight_fraction_leaf=0.0, n_estimators=100, n_jobs=None,\n",
       "             oob_score=False, random_state=1, verbose=0, warm_start=False),\n",
       " RandomForestClassifier(bootstrap=True, class_weight=None, criterion='entropy',\n",
       "             max_depth=None, max_features='auto', max_leaf_nodes=None,\n",
       "             min_impurity_decrease=0.0, min_impurity_split=None,\n",
       "             min_samples_leaf=1, min_samples_split=3,\n",
       "             min_weight_fraction_leaf=0.0, n_estimators=100, n_jobs=None,\n",
       "             oob_score=False, random_state=1, verbose=0, warm_start=False))"
      ]
     },
     "execution_count": 14,
     "metadata": {},
     "output_type": "execute_result"
    }
   ],
   "source": [
    "perform_base_models(train_data, train_target, val_data, val_target, train_data_sm0p3, train_target_sm0p3, clf_base, \n",
    "                    scorers, model_type)"
   ]
  },
  {
   "cell_type": "markdown",
   "metadata": {},
   "source": [
    "# Perform feature selection on the SMOTE 0.3 oversampled data"
   ]
  },
  {
   "cell_type": "code",
   "execution_count": 15,
   "metadata": {
    "scrolled": false
   },
   "outputs": [
    {
     "name": "stdout",
     "output_type": "stream",
     "text": [
      "-- Low Variance Filtering --\n",
      "Threshold Selected: 0.4\n",
      "Selected Model Mean Accuracy Score: 0.9303444782168186\n",
      "Selected Model Accuracy Deviation: 0.09827873697636468\n",
      "Selected Model Mean AUC Score: 0.964393062570146\n",
      "Selected Model AUC Deviation: 0.0792369590436736\n",
      "Number of Original Features: 30\n",
      "Number of Selected Features: 8\n",
      "Features Selected:\n",
      "['age', 'num_sex_partners', 'first_sex_int', 'num_pregnancies', 'smokes_yrs', 'smokes_pk_yrs', 'hormonal_contr_yrs', 'iud_yrs']\n",
      "Features Removed:\n",
      "['smokes', 'hormonal_contr', 'iud', 'stds', 'stds_num', 'stds_condylomatosis', 'stds_cerv_condylomatosis', 'stds_vag_condylomatosis', 'stds_vp_condylomatosis', 'stds_syphillus', 'stds_pelvic_inf_disease', 'stds_gen_herpes', 'stds_molluscom_contagiosum', 'stds_aids', 'stds_hiv', 'stds_hep_b', 'stds_hpv', 'stds_num_dx', 'dx_cancer', 'dx_cin', 'dx_hpv', 'dx']\n",
      "\n",
      "\n",
      "Low Variance Filter SMOTE Random Forest Validation Acc: 0.910958904109589\n",
      "Low Variance Filter SMOTE Random Forest Validation AUC: 0.4889705882352941\n",
      "\n",
      "\n",
      "-- Model Wrapper Feature Selection --\n",
      "Model Mean Accuracy Score: 0.9417223910840932\n",
      "Selected Model Accuracy Deviation: 0.08837907412886284\n",
      "Model Mean AUC Score: 0.9745633417508419\n",
      "Selected Model AUC Deviation: 0.052718783650496946\n",
      "Number of Original Features: 30\n",
      "Number of Selected Features: 8\n",
      "Features Selected:\n",
      "['age', 'num_sex_partners', 'first_sex_int', 'num_pregnancies', 'hormonal_contr', 'hormonal_contr_yrs', 'stds', 'dx']\n",
      "Features Removed:\n",
      "['smokes', 'smokes_yrs', 'smokes_pk_yrs', 'iud', 'iud_yrs', 'stds_num', 'stds_condylomatosis', 'stds_cerv_condylomatosis', 'stds_vag_condylomatosis', 'stds_vp_condylomatosis', 'stds_syphillus', 'stds_pelvic_inf_disease', 'stds_gen_herpes', 'stds_molluscom_contagiosum', 'stds_aids', 'stds_hiv', 'stds_hep_b', 'stds_hpv', 'stds_num_dx', 'dx_cancer', 'dx_cin', 'dx_hpv']\n",
      "\n",
      "\n",
      "Model Wrapper SMOTE Random Forest Validation Acc: 0.8493150684931506\n",
      "Model Wrapper SMOTE Random Forest Validation AUC: 0.45588235294117646\n",
      "\n",
      "\n",
      "-- Stepwise Recursive Feature Selection --\n",
      "K Selected: 9\n",
      "Selected Model Mean Accuracy Score: 0.9374164133738603\n",
      "Selected Model Accuracy Deviation: 0.06281320381620499\n",
      "Selected Model Mean AUC Score: 0.9731314884960718\n",
      "Selected Model AUC Deviation: 0.05235118048705315\n",
      "Number of Original Features: 30\n",
      "Number of Selected Features: 9\n",
      "Features Selected:\n",
      "['age', 'num_sex_partners', 'first_sex_int', 'num_pregnancies', 'smokes_pk_yrs', 'hormonal_contr_yrs', 'stds', 'dx_hpv', 'dx']\n",
      "Features Removed:\n",
      "['smokes', 'smokes_yrs', 'hormonal_contr', 'iud', 'iud_yrs', 'stds_num', 'stds_condylomatosis', 'stds_cerv_condylomatosis', 'stds_vag_condylomatosis', 'stds_vp_condylomatosis', 'stds_syphillus', 'stds_pelvic_inf_disease', 'stds_gen_herpes', 'stds_molluscom_contagiosum', 'stds_aids', 'stds_hiv', 'stds_hep_b', 'stds_hpv', 'stds_num_dx', 'dx_cancer', 'dx_cin']\n",
      "\n",
      "\n",
      "Stepwise Recursive SMOTE Random Forest Validation Acc: 0.8767123287671232\n",
      "Stepwise Recursive SMOTE Random Forest Validation AUC: 0.47058823529411764\n",
      "\n",
      "\n",
      "-- Univariate Chi-Sq Feature Selection --\n",
      "K Selected: 10\n",
      "Selected Model Mean Accuracy Score: 0.8889766970618034\n",
      "Selected Model Accuracy Deviation: 0.07605315936399387\n",
      "Selected Model Mean AUC Score: 0.8737628016273848\n",
      "Selected Model AUC Deviation: 0.08906021006322558\n",
      "Number of Original Features: 30\n",
      "Number of Selected Features: 10\n",
      "Features Selected:\n",
      "['smokes_yrs', 'smokes_pk_yrs', 'hormonal_contr_yrs', 'iud_yrs', 'stds', 'stds_num', 'stds_hiv', 'dx_cancer', 'dx_hpv', 'dx']\n",
      "Features Removed:\n",
      "['age', 'num_sex_partners', 'first_sex_int', 'num_pregnancies', 'smokes', 'hormonal_contr', 'iud', 'stds_condylomatosis', 'stds_cerv_condylomatosis', 'stds_vag_condylomatosis', 'stds_vp_condylomatosis', 'stds_syphillus', 'stds_pelvic_inf_disease', 'stds_gen_herpes', 'stds_molluscom_contagiosum', 'stds_aids', 'stds_hep_b', 'stds_hpv', 'stds_num_dx', 'dx_cin']\n",
      "\n",
      "\n",
      "Univariate Chi-Squared SMOTE Random Forest Validation Acc: 0.8972602739726028\n",
      "Univariate Chi-Squared SMOTE Random Forest Validation AUC: 0.5742647058823529\n",
      "\n",
      "\n",
      "-- Mutual Information Feature Selection --\n",
      "K Selected: 8\n",
      "Selected Model Mean Accuracy Score: 0.9374569402228976\n",
      "Selected Model Accuracy Deviation: 0.08789975065034267\n",
      "Selected Model Mean AUC Score: 0.974361672278339\n",
      "Selected Model AUC Deviation: 0.05253651419454383\n",
      "Number of Original Features: 30\n",
      "Number of Selected Features: 8\n",
      "Features Selected:\n",
      "['age', 'num_sex_partners', 'first_sex_int', 'num_pregnancies', 'hormonal_contr', 'hormonal_contr_yrs', 'stds_num', 'dx']\n",
      "Features Removed:\n",
      "['smokes', 'smokes_yrs', 'smokes_pk_yrs', 'iud', 'iud_yrs', 'stds', 'stds_condylomatosis', 'stds_cerv_condylomatosis', 'stds_vag_condylomatosis', 'stds_vp_condylomatosis', 'stds_syphillus', 'stds_pelvic_inf_disease', 'stds_gen_herpes', 'stds_molluscom_contagiosum', 'stds_aids', 'stds_hiv', 'stds_hep_b', 'stds_hpv', 'stds_num_dx', 'dx_cancer', 'dx_cin', 'dx_hpv']\n",
      "\n",
      "\n",
      "Mutual Information SMOTE Random Forest Validation Acc: 0.8493150684931506\n",
      "Mutual Information SMOTE Random Forest Validation AUC: 0.45588235294117646\n",
      "\n",
      "\n"
     ]
    }
   ],
   "source": [
    "results_dict_0p3 = \\\n",
    "  perform_feat_sel_models(train_data_sm0p3, train_target_sm0p3, val_data, val_target, clf_base, model_type, \n",
    "                          thresh_vals, k_vals)"
   ]
  },
  {
   "cell_type": "markdown",
   "metadata": {},
   "source": [
    "# Declare parameter values used during grid search"
   ]
  },
  {
   "cell_type": "code",
   "execution_count": 16,
   "metadata": {},
   "outputs": [],
   "source": [
    "cv = 5\n",
    "clf_grid = RandomForestClassifier(random_state = rand_st)\n",
    "\n",
    "n_estimators = [50, 100, 250, 500]\n",
    "max_depth = [None, 3, 5, 10, 20]\n",
    "min_samples_split = [3, 5, 7, 10, 15, 20]\n",
    "criterion = ['entropy', 'gini']\n",
    "class_weight = [None, 'balanced', 'balanced_subsample']\n",
    "\n",
    "#n_estimators = [100]\n",
    "#max_depth = [None]\n",
    "#min_samples_split = [3]\n",
    "#criterion = ['entropy']\n",
    "#class_weight  = [None]\n",
    "\n",
    "model_params = {\n",
    "    'criterion': criterion,\n",
    "    'max_depth': max_depth,\n",
    "    'n_estimators': n_estimators,\n",
    "    'min_samples_split': min_samples_split,\n",
    "    'class_weight': class_weight\n",
    "}\n",
    "\n",
    "score = 'roc_auc'"
   ]
  },
  {
   "cell_type": "markdown",
   "metadata": {},
   "source": [
    "# Perform grid search on the feature selection dataset from chi-squared with SMOTE 1.0 oversampling"
   ]
  },
  {
   "cell_type": "code",
   "execution_count": 17,
   "metadata": {},
   "outputs": [
    {
     "name": "stdout",
     "output_type": "stream",
     "text": [
      "Chi-Squared FS SMOTE 1.0 Random Forest Grid Search\n",
      "Fitting 5 folds for each of 720 candidates, totalling 3600 fits\n"
     ]
    },
    {
     "name": "stderr",
     "output_type": "stream",
     "text": [
      "[Parallel(n_jobs=1)]: Using backend SequentialBackend with 1 concurrent workers.\n",
      "[Parallel(n_jobs=1)]: Done 3600 out of 3600 | elapsed: 60.5min finished\n"
     ]
    },
    {
     "name": "stdout",
     "output_type": "stream",
     "text": [
      "Grid Search Runtime: 3632.343730211258\n",
      "\n",
      "\n",
      "Grid Search Optimal Parameters: {'class_weight': None, 'criterion': 'entropy', 'max_depth': 20, 'min_samples_split': 7, 'n_estimators': 250}\n",
      "Grid Search Optimal Parameter Score: 0.9468707133058986\n",
      "\n",
      "\n",
      "Final Model Parameter Settings:\n",
      "RandomForestClassifier(bootstrap=True, class_weight=None, criterion='entropy',\n",
      "            max_depth=20, max_features='auto', max_leaf_nodes=None,\n",
      "            min_impurity_decrease=0.0, min_impurity_split=None,\n",
      "            min_samples_leaf=1, min_samples_split=7,\n",
      "            min_weight_fraction_leaf=0.0, n_estimators=250, n_jobs=None,\n",
      "            oob_score=False, random_state=1, verbose=0, warm_start=False)\n",
      "\n",
      "\n",
      "Chi-Squared FS SMOTE 1.0 Random Forest CV Acc: 0.887962962962963 +/- 0.06180858988251345\n",
      "Chi-Squared FS SMOTE 1.0 Random Forest CV AUC: 0.9468707133058984 +/- 0.04860222240146897\n",
      "CV Runtime: 6.415312767028809\n",
      "\n",
      "\n",
      "Chi-Squared FS SMOTE 1.0 Random Forest Validation Acc: 0.8698630136986302\n",
      "Chi-Squared FS SMOTE 1.0 Random Forest Validation AUC: 0.5595588235294117\n",
      "\n",
      "\n"
     ]
    }
   ],
   "source": [
    "chisq_train_data_1p0 = results_dict_1p0['chisq']['data']\n",
    "chisq_del_cols_1p0 = results_dict_1p0['chisq']['del_cols']\n",
    "chisq_val_data_1p0 = val_data.drop(chisq_del_cols_1p0, axis = 1)\n",
    "\n",
    "model_type = 'SMOTE 1.0 Random Forest'\n",
    "model_desc = 'Chi-Squared FS'\n",
    "\n",
    "opt_model = perform_grid_search(clf_grid, chisq_train_data_1p0, train_target_sm1p0, model_params, score, cv, \n",
    "                              model_type, model_desc)\n",
    "chisq_model_sm_1p0 = model_data(chisq_train_data_1p0, train_target_sm1p0, chisq_val_data_1p0, val_target, \n",
    "                                opt_model, scorers, model_type, model_desc, cv)\n"
   ]
  },
  {
   "cell_type": "code",
   "execution_count": 18,
   "metadata": {},
   "outputs": [],
   "source": [
    "filename = 'Biopsy_ChiSq_FS_SMOTE_1p0_RF_Model.sav'\n",
    "pickle.dump(chisq_model_sm_1p0, open(filename, 'wb'))"
   ]
  },
  {
   "cell_type": "markdown",
   "metadata": {},
   "source": [
    "# Perform grid search on the feature selection dataset from chi-squared with SMOTE 0.3 oversampling"
   ]
  },
  {
   "cell_type": "code",
   "execution_count": 19,
   "metadata": {},
   "outputs": [
    {
     "name": "stdout",
     "output_type": "stream",
     "text": [
      "Chi-Squared FS SMOTE 0.3 Random Forest Grid Search\n",
      "Fitting 5 folds for each of 720 candidates, totalling 3600 fits\n"
     ]
    },
    {
     "name": "stderr",
     "output_type": "stream",
     "text": [
      "[Parallel(n_jobs=1)]: Using backend SequentialBackend with 1 concurrent workers.\n",
      "[Parallel(n_jobs=1)]: Done 3600 out of 3600 | elapsed: 51.4min finished\n",
      "C:\\Users\\Kari\\Anaconda3\\lib\\site-packages\\sklearn\\model_selection\\_search.py:841: DeprecationWarning: The default of the `iid` parameter will change from True to False in version 0.22 and will be removed in 0.24. This will change numeric results when test-set sizes are unequal.\n",
      "  DeprecationWarning)\n"
     ]
    },
    {
     "name": "stdout",
     "output_type": "stream",
     "text": [
      "Grid Search Runtime: 3087.280085325241\n",
      "\n",
      "\n",
      "Grid Search Optimal Parameters: {'class_weight': None, 'criterion': 'entropy', 'max_depth': 10, 'min_samples_split': 7, 'n_estimators': 500}\n",
      "Grid Search Optimal Parameter Score: 0.8986937273974311\n",
      "\n",
      "\n",
      "Final Model Parameter Settings:\n",
      "RandomForestClassifier(bootstrap=True, class_weight=None, criterion='entropy',\n",
      "            max_depth=10, max_features='auto', max_leaf_nodes=None,\n",
      "            min_impurity_decrease=0.0, min_impurity_split=None,\n",
      "            min_samples_leaf=1, min_samples_split=7,\n",
      "            min_weight_fraction_leaf=0.0, n_estimators=500, n_jobs=None,\n",
      "            oob_score=False, random_state=1, verbose=0, warm_start=False)\n",
      "\n",
      "\n",
      "Chi-Squared FS SMOTE 0.3 Random Forest CV Acc: 0.893242147922999 +/- 0.06621346744674762\n",
      "Chi-Squared FS SMOTE 0.3 Random Forest CV AUC: 0.898814534231201 +/- 0.09972748014359012\n",
      "CV Runtime: 10.637908458709717\n",
      "\n",
      "\n",
      "Chi-Squared FS SMOTE 0.3 Random Forest Validation Acc: 0.8904109589041096\n",
      "Chi-Squared FS SMOTE 0.3 Random Forest Validation AUC: 0.5705882352941176\n",
      "\n",
      "\n"
     ]
    }
   ],
   "source": [
    "chisq_train_data_0p3 = results_dict_0p3['chisq']['data']\n",
    "chisq_del_cols_0p3 = results_dict_0p3['chisq']['del_cols']\n",
    "chisq_val_data_0p3 = val_data.drop(chisq_del_cols_0p3, axis = 1)\n",
    "\n",
    "model_type = 'SMOTE 0.3 Random Forest'\n",
    "model_desc = 'Chi-Squared FS'\n",
    "\n",
    "opt_model = perform_grid_search(clf_grid, chisq_train_data_0p3, train_target_sm0p3, model_params, score, cv, \n",
    "                                model_type, model_desc)\n",
    "chisq_model_sm_0p3 = model_data(chisq_train_data_0p3, train_target_sm0p3, chisq_val_data_0p3, val_target, \n",
    "                                opt_model, scorers, model_type, model_desc, cv)\n"
   ]
  },
  {
   "cell_type": "code",
   "execution_count": 20,
   "metadata": {},
   "outputs": [],
   "source": [
    "filename = 'Biopsy_ChiSq_FS_SMOTE_0p3_RF_Model.sav'\n",
    "pickle.dump(chisq_model_sm_0p3, open(filename, 'wb'))\n"
   ]
  }
 ],
 "metadata": {
  "kernelspec": {
   "display_name": "Python 3",
   "language": "python",
   "name": "python3"
  },
  "language_info": {
   "codemirror_mode": {
    "name": "ipython",
    "version": 3
   },
   "file_extension": ".py",
   "mimetype": "text/x-python",
   "name": "python",
   "nbconvert_exporter": "python",
   "pygments_lexer": "ipython3",
   "version": "3.6.8"
  }
 },
 "nbformat": 4,
 "nbformat_minor": 2
}
