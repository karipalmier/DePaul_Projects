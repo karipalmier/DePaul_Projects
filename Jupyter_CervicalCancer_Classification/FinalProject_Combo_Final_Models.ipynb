{
 "cells": [
  {
   "cell_type": "markdown",
   "metadata": {},
   "source": [
    "# Import libraries required"
   ]
  },
  {
   "cell_type": "code",
   "execution_count": 1,
   "metadata": {},
   "outputs": [],
   "source": [
    "%load_ext autoreload\n",
    "%autoreload 2"
   ]
  },
  {
   "cell_type": "code",
   "execution_count": 2,
   "metadata": {},
   "outputs": [],
   "source": [
    "import pandas as pd\n",
    "import numpy as np\n",
    "from sklearn.ensemble import RandomForestClassifier\n",
    "import pickle\n",
    "\n",
    "from model_creation import create_smote_data, fit_val_data, model_data, perform_base_models\n",
    "from model_creation import perform_feat_sel_models, perform_grid_search"
   ]
  },
  {
   "cell_type": "markdown",
   "metadata": {},
   "source": [
    "# Read in the training data and target"
   ]
  },
  {
   "cell_type": "code",
   "execution_count": 3,
   "metadata": {},
   "outputs": [],
   "source": [
    "train_data = pd.read_csv('C:\\\\DePaulCoursework\\\\Winter 2019 CSC 529\\\\Project\\\\Data\\\\CervicalCancerRisks_Combo_target_TrainData.csv', \n",
    "                          delimiter=\",\", index_col = 0, header = 0)\n",
    "train_target = pd.read_csv('C:\\\\DePaulCoursework\\\\Winter 2019 CSC 529\\\\Project\\\\Data\\\\CervicalCancerRisks_Combo_target_TrainTarget.csv', \n",
    "                          delimiter=\",\", index_col = 0, header = 0)"
   ]
  },
  {
   "cell_type": "markdown",
   "metadata": {},
   "source": [
    "# Read in the validation data and target"
   ]
  },
  {
   "cell_type": "code",
   "execution_count": 4,
   "metadata": {},
   "outputs": [],
   "source": [
    "val_data = pd.read_csv('C:\\\\DePaulCoursework\\\\Winter 2019 CSC 529\\\\Project\\\\Data\\\\CervicalCancerRisks_Combo_target_ValData.csv', \n",
    "                          delimiter=\",\", index_col = 0, header = 0)\n",
    "val_target = pd.read_csv('C:\\\\DePaulCoursework\\\\Winter 2019 CSC 529\\\\Project\\\\Data\\\\CervicalCancerRisks_Combo_target_ValTarget.csv', \n",
    "                          delimiter=\",\", index_col = 0, header = 0)"
   ]
  },
  {
   "cell_type": "markdown",
   "metadata": {},
   "source": [
    "# Declare random state variable used for all modeling"
   ]
  },
  {
   "cell_type": "code",
   "execution_count": 5,
   "metadata": {},
   "outputs": [],
   "source": [
    "rand_st = 1\n"
   ]
  },
  {
   "cell_type": "markdown",
   "metadata": {},
   "source": [
    "# Perform SMOTE oversampling with a sampling strategy of 1.0"
   ]
  },
  {
   "cell_type": "code",
   "execution_count": 6,
   "metadata": {},
   "outputs": [
    {
     "name": "stdout",
     "output_type": "stream",
     "text": [
      "Number of Original Target 0 Value: 506\n",
      "Number of Original Target 1 Value: 74\n",
      "\n",
      "\n",
      "Number of SMOTE Target 0 Value: 506\n",
      "Number of SMOTE Target 1 Value: 506\n"
     ]
    }
   ],
   "source": [
    "train_data_sm1p0, train_target_sm1p0 = create_smote_data(train_data, train_target, rand_st, 1.0)"
   ]
  },
  {
   "cell_type": "code",
   "execution_count": 7,
   "metadata": {},
   "outputs": [],
   "source": [
    "#train_sm_data_name = data_save_path + 'CervicalCancerRisks_' + target_name + '_TrainData_SMOTE.csv'\n",
    "#data_train_sm1p0.to_csv(train_sm_data_name, sep = ',')\n",
    "#train_sm_target_name = data_save_path + 'CervicalCancerRisks_' + target_name + '_TrainTarget_SMOTE.csv'\n",
    "#target_train_sm1p0.to_csv(train_sm_target_name, sep = ',')\n"
   ]
  },
  {
   "cell_type": "markdown",
   "metadata": {},
   "source": [
    "# Declare base model and variables used during feature selection"
   ]
  },
  {
   "cell_type": "code",
   "execution_count": 8,
   "metadata": {},
   "outputs": [],
   "source": [
    "scorers = {'Accuracy': 'accuracy', 'roc_auc': 'roc_auc'}\n",
    "thresh_vals = [0.4, 0.5, 0.6]\n",
    "k_vals = [5, 6, 7, 8, 9, 10]"
   ]
  },
  {
   "cell_type": "code",
   "execution_count": 9,
   "metadata": {},
   "outputs": [],
   "source": [
    "model_type = 'Random Forest'\n",
    "clf_base = RandomForestClassifier(n_estimators = 100, max_depth = None, \n",
    "                             min_samples_split = 3, criterion = 'entropy', \n",
    "                             random_state = rand_st)\n"
   ]
  },
  {
   "cell_type": "markdown",
   "metadata": {},
   "source": [
    "# Create base models with original and SMOTE 1.0 oversampled data"
   ]
  },
  {
   "cell_type": "code",
   "execution_count": 10,
   "metadata": {},
   "outputs": [
    {
     "name": "stdout",
     "output_type": "stream",
     "text": [
      "Base Random Forest CV Acc: 0.8724401901613297 +/- 0.04253575457525603\n",
      "Base Random Forest CV AUC: 0.6501187009457248 +/- 0.13926408973075674\n",
      "CV Runtime: 2.4276037216186523\n",
      "\n",
      "\n",
      "Base Random Forest Validation Acc: 0.8493150684931506\n",
      "Base Random Forest Validation AUC: 0.4881889763779528\n",
      "\n",
      "\n",
      "SMOTE Base Random Forest CV Acc: 0.913395457192778 +/- 0.1790345994627237\n",
      "SMOTE Base Random Forest CV AUC: 0.9817983352002677 +/- 0.04451299147139268\n",
      "CV Runtime: 3.623898983001709\n",
      "\n",
      "\n",
      "SMOTE Base Random Forest Validation Acc: 0.8424657534246576\n",
      "SMOTE Base Random Forest Validation AUC: 0.5290095317032738\n",
      "\n",
      "\n"
     ]
    },
    {
     "data": {
      "text/plain": [
       "(RandomForestClassifier(bootstrap=True, class_weight=None, criterion='entropy',\n",
       "             max_depth=None, max_features='auto', max_leaf_nodes=None,\n",
       "             min_impurity_decrease=0.0, min_impurity_split=None,\n",
       "             min_samples_leaf=1, min_samples_split=3,\n",
       "             min_weight_fraction_leaf=0.0, n_estimators=100, n_jobs=None,\n",
       "             oob_score=False, random_state=1, verbose=0, warm_start=False),\n",
       " RandomForestClassifier(bootstrap=True, class_weight=None, criterion='entropy',\n",
       "             max_depth=None, max_features='auto', max_leaf_nodes=None,\n",
       "             min_impurity_decrease=0.0, min_impurity_split=None,\n",
       "             min_samples_leaf=1, min_samples_split=3,\n",
       "             min_weight_fraction_leaf=0.0, n_estimators=100, n_jobs=None,\n",
       "             oob_score=False, random_state=1, verbose=0, warm_start=False))"
      ]
     },
     "execution_count": 10,
     "metadata": {},
     "output_type": "execute_result"
    }
   ],
   "source": [
    "perform_base_models(train_data, train_target, val_data, val_target, train_data_sm1p0, train_target_sm1p0, clf_base, \n",
    "                    scorers, model_type)"
   ]
  },
  {
   "cell_type": "markdown",
   "metadata": {},
   "source": [
    "# Perform all types of model selection on the original data"
   ]
  },
  {
   "cell_type": "code",
   "execution_count": 11,
   "metadata": {},
   "outputs": [
    {
     "name": "stdout",
     "output_type": "stream",
     "text": [
      "-- Low Variance Filtering --\n",
      "Threshold Selected: 0.4\n",
      "Selected Model Mean Accuracy Score: 0.8758434885121542\n",
      "Selected Model Accuracy Deviation: 0.018055859134615666\n",
      "Selected Model Mean AUC Score: 0.5489963113958455\n",
      "Selected Model AUC Deviation: 0.11577955046957523\n",
      "Number of Original Features: 30\n",
      "Number of Selected Features: 8\n",
      "Features Selected:\n",
      "['age', 'num_sex_partners', 'first_sex_int', 'num_pregnancies', 'smokes_yrs', 'smokes_pk_yrs', 'hormonal_contr_yrs', 'iud_yrs']\n",
      "Features Removed:\n",
      "['smokes', 'hormonal_contr', 'iud', 'stds', 'stds_num', 'stds_condylomatosis', 'stds_cerv_condylomatosis', 'stds_vag_condylomatosis', 'stds_vp_condylomatosis', 'stds_syphillus', 'stds_pelvic_inf_disease', 'stds_gen_herpes', 'stds_molluscom_contagiosum', 'stds_aids', 'stds_hiv', 'stds_hep_b', 'stds_hpv', 'stds_num_dx', 'dx_cancer', 'dx_cin', 'dx_hpv', 'dx']\n",
      "\n",
      "\n",
      "Low Variance Filter Random Forest Validation Acc: 0.8561643835616438\n",
      "Low Variance Filter Random Forest Validation AUC: 0.4921259842519685\n",
      "\n",
      "\n",
      "-- Model Wrapper Feature Selection --\n",
      "Model Mean Accuracy Score: 0.862050128781763\n",
      "Selected Model Accuracy Deviation: 0.019341385483806414\n",
      "Model Mean AUC Score: 0.5440182673729558\n",
      "Selected Model AUC Deviation: 0.11790948663075175\n",
      "Number of Original Features: 30\n",
      "Number of Selected Features: 6\n",
      "Features Selected:\n",
      "['age', 'num_sex_partners', 'first_sex_int', 'num_pregnancies', 'hormonal_contr_yrs', 'iud_yrs']\n",
      "Features Removed:\n",
      "['smokes', 'smokes_yrs', 'smokes_pk_yrs', 'hormonal_contr', 'iud', 'stds', 'stds_num', 'stds_condylomatosis', 'stds_cerv_condylomatosis', 'stds_vag_condylomatosis', 'stds_vp_condylomatosis', 'stds_syphillus', 'stds_pelvic_inf_disease', 'stds_gen_herpes', 'stds_molluscom_contagiosum', 'stds_aids', 'stds_hiv', 'stds_hep_b', 'stds_hpv', 'stds_num_dx', 'dx_cancer', 'dx_cin', 'dx_hpv', 'dx']\n",
      "\n",
      "\n",
      "Model Wrapper Random Forest Validation Acc: 0.863013698630137\n",
      "Model Wrapper Random Forest Validation AUC: 0.49606299212598426\n",
      "\n",
      "\n",
      "-- Stepwise Recursive Feature Selection --\n",
      "K Selected: 10\n",
      "Selected Model Mean Accuracy Score: 0.8775826189469369\n",
      "Selected Model Accuracy Deviation: 0.007017496441383712\n",
      "Selected Model Mean AUC Score: 0.633831988240841\n",
      "Selected Model AUC Deviation: 0.06913066138309978\n",
      "Number of Original Features: 30\n",
      "Number of Selected Features: 10\n",
      "Features Selected:\n",
      "['age', 'num_sex_partners', 'first_sex_int', 'num_pregnancies', 'smokes_yrs', 'smokes_pk_yrs', 'hormonal_contr_yrs', 'iud_yrs', 'stds_num', 'dx']\n",
      "Features Removed:\n",
      "['smokes', 'hormonal_contr', 'iud', 'stds', 'stds_condylomatosis', 'stds_cerv_condylomatosis', 'stds_vag_condylomatosis', 'stds_vp_condylomatosis', 'stds_syphillus', 'stds_pelvic_inf_disease', 'stds_gen_herpes', 'stds_molluscom_contagiosum', 'stds_aids', 'stds_hiv', 'stds_hep_b', 'stds_hpv', 'stds_num_dx', 'dx_cancer', 'dx_cin', 'dx_hpv']\n",
      "\n",
      "\n",
      "Stepwise Recursive Random Forest Validation Acc: 0.863013698630137\n",
      "Stepwise Recursive Random Forest Validation AUC: 0.49606299212598426\n",
      "\n",
      "\n",
      "-- Univariate Chi-Sq Feature Selection --\n",
      "K Selected: 10\n",
      "Selected Model Mean Accuracy Score: 0.8639079178359538\n",
      "Selected Model Accuracy Deviation: 0.04403158064898276\n",
      "Selected Model Mean AUC Score: 0.6167912841704338\n",
      "Selected Model AUC Deviation: 0.0774335482283338\n",
      "Number of Original Features: 30\n",
      "Number of Selected Features: 10\n",
      "Features Selected:\n",
      "['hormonal_contr_yrs', 'iud_yrs', 'stds', 'stds_num', 'stds_condylomatosis', 'stds_vp_condylomatosis', 'stds_num_dx', 'dx_cancer', 'dx_hpv', 'dx']\n",
      "Features Removed:\n",
      "['age', 'num_sex_partners', 'first_sex_int', 'num_pregnancies', 'smokes', 'smokes_yrs', 'smokes_pk_yrs', 'hormonal_contr', 'iud', 'stds_cerv_condylomatosis', 'stds_vag_condylomatosis', 'stds_syphillus', 'stds_pelvic_inf_disease', 'stds_gen_herpes', 'stds_molluscom_contagiosum', 'stds_aids', 'stds_hiv', 'stds_hep_b', 'stds_hpv', 'dx_cin']\n",
      "\n",
      "\n",
      "Univariate Chi-Squared Random Forest Validation Acc: 0.8424657534246576\n",
      "Univariate Chi-Squared Random Forest Validation AUC: 0.48425196850393704\n",
      "\n",
      "\n",
      "-- Mutual Information Feature Selection --\n",
      "K Selected: 6\n",
      "Selected Model Mean Accuracy Score: 0.8378969489614168\n",
      "Selected Model Accuracy Deviation: 0.04033045663406736\n",
      "Selected Model Mean AUC Score: 0.6261225282192084\n",
      "Selected Model AUC Deviation: 0.08142921886361006\n",
      "Number of Original Features: 30\n",
      "Number of Selected Features: 6\n",
      "Features Selected:\n",
      "['age', 'hormonal_contr_yrs', 'stds_aids', 'stds_hep_b', 'stds_num_dx', 'dx_cancer']\n",
      "Features Removed:\n",
      "['num_sex_partners', 'first_sex_int', 'num_pregnancies', 'smokes', 'smokes_yrs', 'smokes_pk_yrs', 'hormonal_contr', 'iud', 'iud_yrs', 'stds', 'stds_num', 'stds_condylomatosis', 'stds_cerv_condylomatosis', 'stds_vag_condylomatosis', 'stds_vp_condylomatosis', 'stds_syphillus', 'stds_pelvic_inf_disease', 'stds_gen_herpes', 'stds_molluscom_contagiosum', 'stds_hiv', 'stds_hpv', 'dx_cin', 'dx_hpv', 'dx']\n",
      "\n",
      "\n",
      "Mutual Information Random Forest Validation Acc: 0.8356164383561644\n",
      "Mutual Information Random Forest Validation AUC: 0.48031496062992124\n",
      "\n",
      "\n"
     ]
    }
   ],
   "source": [
    "results_dict_base = \\\n",
    "  perform_feat_sel_models(train_data, train_target, val_data, val_target, clf_base, model_type, thresh_vals, k_vals)"
   ]
  },
  {
   "cell_type": "markdown",
   "metadata": {},
   "source": [
    "# Perform feature selection on the SMOTE 1.0 oversampled data"
   ]
  },
  {
   "cell_type": "code",
   "execution_count": 12,
   "metadata": {
    "scrolled": false
   },
   "outputs": [
    {
     "name": "stdout",
     "output_type": "stream",
     "text": [
      "-- Low Variance Filtering --\n",
      "Threshold Selected: 0.4\n",
      "Selected Model Mean Accuracy Score: 0.9034750533876916\n",
      "Selected Model Accuracy Deviation: 0.15954871079646563\n",
      "Selected Model Mean AUC Score: 0.9740464858949494\n",
      "Selected Model AUC Deviation: 0.06721053945764088\n",
      "Number of Original Features: 30\n",
      "Number of Selected Features: 8\n",
      "Features Selected:\n",
      "['age', 'num_sex_partners', 'first_sex_int', 'num_pregnancies', 'smokes_yrs', 'smokes_pk_yrs', 'hormonal_contr_yrs', 'iud_yrs']\n",
      "Features Removed:\n",
      "['smokes', 'hormonal_contr', 'iud', 'stds', 'stds_num', 'stds_condylomatosis', 'stds_cerv_condylomatosis', 'stds_vag_condylomatosis', 'stds_vp_condylomatosis', 'stds_syphillus', 'stds_pelvic_inf_disease', 'stds_gen_herpes', 'stds_molluscom_contagiosum', 'stds_aids', 'stds_hiv', 'stds_hep_b', 'stds_hpv', 'stds_num_dx', 'dx_cancer', 'dx_cin', 'dx_hpv', 'dx']\n",
      "\n",
      "\n",
      "Low Variance Filter SMOTE Random Forest Validation Acc: 0.8356164383561644\n",
      "Low Variance Filter SMOTE Random Forest Validation AUC: 0.5474513054289267\n",
      "\n",
      "\n",
      "-- Model Wrapper Feature Selection --\n",
      "Model Mean Accuracy Score: 0.9035138807998446\n",
      "Selected Model Accuracy Deviation: 0.18004958038926472\n",
      "Model Mean AUC Score: 0.9689715147300129\n",
      "Selected Model AUC Deviation: 0.08736517016775011\n",
      "Number of Original Features: 30\n",
      "Number of Selected Features: 6\n",
      "Features Selected:\n",
      "['age', 'num_sex_partners', 'first_sex_int', 'num_pregnancies', 'hormonal_contr', 'hormonal_contr_yrs']\n",
      "Features Removed:\n",
      "['smokes', 'smokes_yrs', 'smokes_pk_yrs', 'iud', 'iud_yrs', 'stds', 'stds_num', 'stds_condylomatosis', 'stds_cerv_condylomatosis', 'stds_vag_condylomatosis', 'stds_vp_condylomatosis', 'stds_syphillus', 'stds_pelvic_inf_disease', 'stds_gen_herpes', 'stds_molluscom_contagiosum', 'stds_aids', 'stds_hiv', 'stds_hep_b', 'stds_hpv', 'stds_num_dx', 'dx_cancer', 'dx_cin', 'dx_hpv', 'dx']\n",
      "\n",
      "\n",
      "Model Wrapper SMOTE Random Forest Validation Acc: 0.8356164383561644\n",
      "Model Wrapper SMOTE Random Forest Validation AUC: 0.5250725238292581\n",
      "\n",
      "\n",
      "-- Stepwise Recursive Feature Selection --\n",
      "K Selected: 8\n",
      "Selected Model Mean Accuracy Score: 0.8995923121723937\n",
      "Selected Model Accuracy Deviation: 0.19547315810602917\n",
      "Selected Model Mean AUC Score: 0.9773465935616823\n",
      "Selected Model AUC Deviation: 0.061858421984441955\n",
      "Number of Original Features: 30\n",
      "Number of Selected Features: 8\n",
      "Features Selected:\n",
      "['age', 'num_sex_partners', 'first_sex_int', 'num_pregnancies', 'hormonal_contr', 'hormonal_contr_yrs', 'stds_num_dx', 'dx']\n",
      "Features Removed:\n",
      "['smokes', 'smokes_yrs', 'smokes_pk_yrs', 'iud', 'iud_yrs', 'stds', 'stds_num', 'stds_condylomatosis', 'stds_cerv_condylomatosis', 'stds_vag_condylomatosis', 'stds_vp_condylomatosis', 'stds_syphillus', 'stds_pelvic_inf_disease', 'stds_gen_herpes', 'stds_molluscom_contagiosum', 'stds_aids', 'stds_hiv', 'stds_hep_b', 'stds_hpv', 'dx_cancer', 'dx_cin', 'dx_hpv']\n",
      "\n",
      "\n",
      "Stepwise Recursive SMOTE Random Forest Validation Acc: 0.8424657534246576\n",
      "Stepwise Recursive SMOTE Random Forest Validation AUC: 0.5066307501036055\n",
      "\n",
      "\n",
      "-- Univariate Chi-Sq Feature Selection --\n",
      "K Selected: 10\n",
      "Selected Model Mean Accuracy Score: 0.8036788973014948\n",
      "Selected Model Accuracy Deviation: 0.16601148069139138\n",
      "Selected Model Mean AUC Score: 0.8607296003162274\n",
      "Selected Model AUC Deviation: 0.14649803364848538\n",
      "Number of Original Features: 30\n",
      "Number of Selected Features: 10\n",
      "Features Selected:\n",
      "['hormonal_contr_yrs', 'iud_yrs', 'stds', 'stds_num', 'stds_condylomatosis', 'stds_vp_condylomatosis', 'stds_num_dx', 'dx_cancer', 'dx_hpv', 'dx']\n",
      "Features Removed:\n",
      "['age', 'num_sex_partners', 'first_sex_int', 'num_pregnancies', 'smokes', 'smokes_yrs', 'smokes_pk_yrs', 'hormonal_contr', 'iud', 'stds_cerv_condylomatosis', 'stds_vag_condylomatosis', 'stds_syphillus', 'stds_pelvic_inf_disease', 'stds_gen_herpes', 'stds_molluscom_contagiosum', 'stds_aids', 'stds_hiv', 'stds_hep_b', 'stds_hpv', 'dx_cin']\n",
      "\n",
      "\n",
      "Univariate Chi-Squared SMOTE Random Forest Validation Acc: 0.821917808219178\n",
      "Univariate Chi-Squared SMOTE Random Forest Validation AUC: 0.5171985080812267\n",
      "\n",
      "\n",
      "-- Mutual Information Feature Selection --\n",
      "K Selected: 8\n",
      "Selected Model Mean Accuracy Score: 0.9084449621432732\n",
      "Selected Model Accuracy Deviation: 0.17521909869094252\n",
      "Selected Model Mean AUC Score: 0.9765363426952172\n",
      "Selected Model AUC Deviation: 0.06452020821778698\n",
      "Number of Original Features: 30\n",
      "Number of Selected Features: 8\n",
      "Features Selected:\n",
      "['age', 'num_sex_partners', 'first_sex_int', 'num_pregnancies', 'hormonal_contr', 'hormonal_contr_yrs', 'stds_num', 'dx_hpv']\n",
      "Features Removed:\n",
      "['smokes', 'smokes_yrs', 'smokes_pk_yrs', 'iud', 'iud_yrs', 'stds', 'stds_condylomatosis', 'stds_cerv_condylomatosis', 'stds_vag_condylomatosis', 'stds_vp_condylomatosis', 'stds_syphillus', 'stds_pelvic_inf_disease', 'stds_gen_herpes', 'stds_molluscom_contagiosum', 'stds_aids', 'stds_hiv', 'stds_hep_b', 'stds_hpv', 'stds_num_dx', 'dx_cancer', 'dx_cin', 'dx']\n",
      "\n",
      "\n",
      "Mutual Information SMOTE Random Forest Validation Acc: 0.8424657534246576\n",
      "Mutual Information SMOTE Random Forest Validation AUC: 0.5290095317032738\n",
      "\n",
      "\n"
     ]
    }
   ],
   "source": [
    "model_type = 'SMOTE Random Forest'\n",
    "results_dict_1p0 = \\\n",
    "  perform_feat_sel_models(train_data_sm1p0, train_target_sm1p0, val_data, val_target, clf_base, model_type, \n",
    "                          thresh_vals, k_vals)"
   ]
  },
  {
   "cell_type": "markdown",
   "metadata": {},
   "source": [
    "# Perform SMOTE oversampling with a sampling strategy of 0.3"
   ]
  },
  {
   "cell_type": "code",
   "execution_count": 13,
   "metadata": {},
   "outputs": [
    {
     "name": "stdout",
     "output_type": "stream",
     "text": [
      "Number of Original Target 0 Value: 506\n",
      "Number of Original Target 1 Value: 74\n",
      "\n",
      "\n",
      "Number of SMOTE Target 0 Value: 506\n",
      "Number of SMOTE Target 1 Value: 151\n"
     ]
    }
   ],
   "source": [
    "train_data_sm0p3, train_target_sm0p3 = create_smote_data(train_data, train_target, rand_st, 0.3)"
   ]
  },
  {
   "cell_type": "markdown",
   "metadata": {},
   "source": [
    "# Create base models with original and SMOTE 0.3 oversampled data"
   ]
  },
  {
   "cell_type": "code",
   "execution_count": 14,
   "metadata": {},
   "outputs": [
    {
     "name": "stdout",
     "output_type": "stream",
     "text": [
      "Base SMOTE Random Forest CV Acc: 0.8724401901613297 +/- 0.04253575457525603\n",
      "Base SMOTE Random Forest CV AUC: 0.6501187009457248 +/- 0.13926408973075674\n",
      "CV Runtime: 2.264678716659546\n",
      "\n",
      "\n",
      "Base SMOTE Random Forest Validation Acc: 0.8493150684931506\n",
      "Base SMOTE Random Forest Validation AUC: 0.4881889763779528\n",
      "\n",
      "\n",
      "SMOTE Base SMOTE Random Forest CV Acc: 0.8647420076909832 +/- 0.12010934588010432\n",
      "SMOTE Base SMOTE Random Forest CV AUC: 0.8717987738052742 +/- 0.1806475854506773\n",
      "CV Runtime: 2.41658353805542\n",
      "\n",
      "\n",
      "SMOTE Base SMOTE Random Forest Validation Acc: 0.8356164383561644\n",
      "SMOTE Base SMOTE Random Forest Validation AUC: 0.48031496062992124\n",
      "\n",
      "\n"
     ]
    },
    {
     "data": {
      "text/plain": [
       "(RandomForestClassifier(bootstrap=True, class_weight=None, criterion='entropy',\n",
       "             max_depth=None, max_features='auto', max_leaf_nodes=None,\n",
       "             min_impurity_decrease=0.0, min_impurity_split=None,\n",
       "             min_samples_leaf=1, min_samples_split=3,\n",
       "             min_weight_fraction_leaf=0.0, n_estimators=100, n_jobs=None,\n",
       "             oob_score=False, random_state=1, verbose=0, warm_start=False),\n",
       " RandomForestClassifier(bootstrap=True, class_weight=None, criterion='entropy',\n",
       "             max_depth=None, max_features='auto', max_leaf_nodes=None,\n",
       "             min_impurity_decrease=0.0, min_impurity_split=None,\n",
       "             min_samples_leaf=1, min_samples_split=3,\n",
       "             min_weight_fraction_leaf=0.0, n_estimators=100, n_jobs=None,\n",
       "             oob_score=False, random_state=1, verbose=0, warm_start=False))"
      ]
     },
     "execution_count": 14,
     "metadata": {},
     "output_type": "execute_result"
    }
   ],
   "source": [
    "perform_base_models(train_data, train_target, val_data, val_target, train_data_sm0p3, train_target_sm0p3, clf_base, \n",
    "                    scorers, model_type)"
   ]
  },
  {
   "cell_type": "markdown",
   "metadata": {},
   "source": [
    "# Perform feature selection on the SMOTE 0.3 oversampled data"
   ]
  },
  {
   "cell_type": "code",
   "execution_count": 15,
   "metadata": {
    "scrolled": false
   },
   "outputs": [
    {
     "name": "stdout",
     "output_type": "stream",
     "text": [
      "-- Low Variance Filtering --\n",
      "Threshold Selected: 0.4\n",
      "Selected Model Mean Accuracy Score: 0.8571772943809906\n",
      "Selected Model Accuracy Deviation: 0.12230094964378609\n",
      "Selected Model Mean AUC Score: 0.8313748035145071\n",
      "Selected Model AUC Deviation: 0.22177216283535356\n",
      "Number of Original Features: 30\n",
      "Number of Selected Features: 8\n",
      "Features Selected:\n",
      "['age', 'num_sex_partners', 'first_sex_int', 'num_pregnancies', 'smokes_yrs', 'smokes_pk_yrs', 'hormonal_contr_yrs', 'iud_yrs']\n",
      "Features Removed:\n",
      "['smokes', 'hormonal_contr', 'iud', 'stds', 'stds_num', 'stds_condylomatosis', 'stds_cerv_condylomatosis', 'stds_vag_condylomatosis', 'stds_vp_condylomatosis', 'stds_syphillus', 'stds_pelvic_inf_disease', 'stds_gen_herpes', 'stds_molluscom_contagiosum', 'stds_aids', 'stds_hiv', 'stds_hep_b', 'stds_hpv', 'stds_num_dx', 'dx_cancer', 'dx_cin', 'dx_hpv', 'dx']\n",
      "\n",
      "\n",
      "Low Variance Filter SMOTE Random Forest Validation Acc: 0.8561643835616438\n",
      "Low Variance Filter SMOTE Random Forest Validation AUC: 0.514504765851637\n",
      "\n",
      "\n",
      "-- Model Wrapper Feature Selection --\n",
      "Model Mean Accuracy Score: 0.8602536876542501\n",
      "Selected Model Accuracy Deviation: 0.13717138476884236\n",
      "Model Mean AUC Score: 0.8292188175174253\n",
      "Selected Model AUC Deviation: 0.2390448314310164\n",
      "Number of Original Features: 30\n",
      "Number of Selected Features: 7\n",
      "Features Selected:\n",
      "['age', 'num_sex_partners', 'first_sex_int', 'num_pregnancies', 'hormonal_contr', 'hormonal_contr_yrs', 'iud_yrs']\n",
      "Features Removed:\n",
      "['smokes', 'smokes_yrs', 'smokes_pk_yrs', 'iud', 'stds', 'stds_num', 'stds_condylomatosis', 'stds_cerv_condylomatosis', 'stds_vag_condylomatosis', 'stds_vp_condylomatosis', 'stds_syphillus', 'stds_pelvic_inf_disease', 'stds_gen_herpes', 'stds_molluscom_contagiosum', 'stds_aids', 'stds_hiv', 'stds_hep_b', 'stds_hpv', 'stds_num_dx', 'dx_cancer', 'dx_cin', 'dx_hpv', 'dx']\n",
      "\n",
      "\n",
      "Model Wrapper SMOTE Random Forest Validation Acc: 0.8493150684931506\n",
      "Model Wrapper SMOTE Random Forest Validation AUC: 0.5105677579776212\n",
      "\n",
      "\n",
      "-- Stepwise Recursive Feature Selection --\n",
      "K Selected: 9\n",
      "Selected Model Mean Accuracy Score: 0.8602307294954944\n",
      "Selected Model Accuracy Deviation: 0.1238235985430973\n",
      "Selected Model Mean AUC Score: 0.8508134342846049\n",
      "Selected Model AUC Deviation: 0.2149437764373636\n",
      "Number of Original Features: 30\n",
      "Number of Selected Features: 9\n",
      "Features Selected:\n",
      "['age', 'num_sex_partners', 'first_sex_int', 'num_pregnancies', 'hormonal_contr', 'hormonal_contr_yrs', 'iud_yrs', 'stds_num_dx', 'dx']\n",
      "Features Removed:\n",
      "['smokes', 'smokes_yrs', 'smokes_pk_yrs', 'iud', 'stds', 'stds_num', 'stds_condylomatosis', 'stds_cerv_condylomatosis', 'stds_vag_condylomatosis', 'stds_vp_condylomatosis', 'stds_syphillus', 'stds_pelvic_inf_disease', 'stds_gen_herpes', 'stds_molluscom_contagiosum', 'stds_aids', 'stds_hiv', 'stds_hep_b', 'stds_hpv', 'dx_cancer', 'dx_cin', 'dx_hpv']\n",
      "\n",
      "\n",
      "Stepwise Recursive SMOTE Random Forest Validation Acc: 0.8493150684931506\n",
      "Stepwise Recursive SMOTE Random Forest Validation AUC: 0.4881889763779528\n",
      "\n",
      "\n",
      "-- Univariate Chi-Sq Feature Selection --\n",
      "K Selected: 8\n",
      "Selected Model Mean Accuracy Score: 0.8221316650404639\n",
      "Selected Model Accuracy Deviation: 0.11584339755165118\n",
      "Selected Model Mean AUC Score: 0.7584097669729022\n",
      "Selected Model AUC Deviation: 0.2044070499105709\n",
      "Number of Original Features: 30\n",
      "Number of Selected Features: 8\n",
      "Features Selected:\n",
      "['hormonal_contr_yrs', 'iud_yrs', 'stds_num', 'stds_gen_herpes', 'stds_num_dx', 'dx_cancer', 'dx_hpv', 'dx']\n",
      "Features Removed:\n",
      "['age', 'num_sex_partners', 'first_sex_int', 'num_pregnancies', 'smokes', 'smokes_yrs', 'smokes_pk_yrs', 'hormonal_contr', 'iud', 'stds', 'stds_condylomatosis', 'stds_cerv_condylomatosis', 'stds_vag_condylomatosis', 'stds_vp_condylomatosis', 'stds_syphillus', 'stds_pelvic_inf_disease', 'stds_molluscom_contagiosum', 'stds_aids', 'stds_hiv', 'stds_hep_b', 'stds_hpv', 'dx_cin']\n",
      "\n",
      "\n",
      "Univariate Chi-Squared SMOTE Random Forest Validation Acc: 0.821917808219178\n",
      "Univariate Chi-Squared SMOTE Random Forest Validation AUC: 0.47244094488188976\n",
      "\n",
      "\n",
      "-- Mutual Information Feature Selection --\n",
      "K Selected: 8\n",
      "Selected Model Mean Accuracy Score: 0.8587040119382425\n",
      "Selected Model Accuracy Deviation: 0.1293801205970529\n",
      "Selected Model Mean AUC Score: 0.8652593608506962\n",
      "Selected Model AUC Deviation: 0.19980756037620673\n",
      "Number of Original Features: 30\n",
      "Number of Selected Features: 8\n",
      "Features Selected:\n",
      "['age', 'num_sex_partners', 'first_sex_int', 'num_pregnancies', 'hormonal_contr', 'hormonal_contr_yrs', 'stds_condylomatosis', 'dx']\n",
      "Features Removed:\n",
      "['smokes', 'smokes_yrs', 'smokes_pk_yrs', 'iud', 'iud_yrs', 'stds', 'stds_num', 'stds_cerv_condylomatosis', 'stds_vag_condylomatosis', 'stds_vp_condylomatosis', 'stds_syphillus', 'stds_pelvic_inf_disease', 'stds_gen_herpes', 'stds_molluscom_contagiosum', 'stds_aids', 'stds_hiv', 'stds_hep_b', 'stds_hpv', 'stds_num_dx', 'dx_cancer', 'dx_cin', 'dx_hpv']\n",
      "\n",
      "\n",
      "Mutual Information SMOTE Random Forest Validation Acc: 0.8493150684931506\n",
      "Mutual Information SMOTE Random Forest Validation AUC: 0.5105677579776212\n",
      "\n",
      "\n"
     ]
    }
   ],
   "source": [
    "results_dict_0p3 = \\\n",
    "  perform_feat_sel_models(train_data_sm0p3, train_target_sm0p3, val_data, val_target, clf_base, model_type, \n",
    "                          thresh_vals, k_vals)"
   ]
  },
  {
   "cell_type": "markdown",
   "metadata": {},
   "source": [
    "# Declare parameter values used during grid search"
   ]
  },
  {
   "cell_type": "code",
   "execution_count": 16,
   "metadata": {},
   "outputs": [],
   "source": [
    "cv = 5\n",
    "clf_grid = RandomForestClassifier(random_state = rand_st)\n",
    "\n",
    "n_estimators = [50, 100, 250, 500]\n",
    "max_depth = [None, 3, 5, 10, 20]\n",
    "min_samples_split = [3, 5, 7, 10, 15, 20]\n",
    "criterion = ['entropy', 'gini']\n",
    "class_weight = [None, 'balanced', 'balanced_subsample']\n",
    "\n",
    "#n_estimators = [100]\n",
    "#max_depth = [None]\n",
    "#min_samples_split = [3]\n",
    "#criterion = ['entropy']\n",
    "#class_weight  = [None]\n",
    "\n",
    "model_params = {\n",
    "    'criterion': criterion,\n",
    "    'max_depth': max_depth,\n",
    "    'n_estimators': n_estimators,\n",
    "    'min_samples_split': min_samples_split,\n",
    "    'class_weight': class_weight\n",
    "}\n",
    "\n",
    "score = 'roc_auc'"
   ]
  },
  {
   "cell_type": "markdown",
   "metadata": {},
   "source": [
    "# Perform grid search on the feature selection dataset from low variance filter with SMOTE 1.0 oversampling"
   ]
  },
  {
   "cell_type": "code",
   "execution_count": 17,
   "metadata": {},
   "outputs": [
    {
     "name": "stdout",
     "output_type": "stream",
     "text": [
      "Low Variance Filter FS SMOTE 1.0 Random Forest Grid Search\n",
      "Fitting 5 folds for each of 720 candidates, totalling 3600 fits\n"
     ]
    },
    {
     "name": "stderr",
     "output_type": "stream",
     "text": [
      "[Parallel(n_jobs=1)]: Using backend SequentialBackend with 1 concurrent workers.\n",
      "[Parallel(n_jobs=1)]: Done 3600 out of 3600 | elapsed: 66.4min finished\n"
     ]
    },
    {
     "name": "stdout",
     "output_type": "stream",
     "text": [
      "Grid Search Runtime: 3988.276356935501\n",
      "\n",
      "\n",
      "Grid Search Optimal Parameters: {'class_weight': 'balanced_subsample', 'criterion': 'entropy', 'max_depth': 20, 'min_samples_split': 3, 'n_estimators': 250}\n",
      "Grid Search Optimal Parameter Score: 0.9773450490829134\n",
      "\n",
      "\n",
      "Final Model Parameter Settings:\n",
      "RandomForestClassifier(bootstrap=True, class_weight='balanced_subsample',\n",
      "            criterion='entropy', max_depth=20, max_features='auto',\n",
      "            max_leaf_nodes=None, min_impurity_decrease=0.0,\n",
      "            min_impurity_split=None, min_samples_leaf=1,\n",
      "            min_samples_split=3, min_weight_fraction_leaf=0.0,\n",
      "            n_estimators=250, n_jobs=None, oob_score=False, random_state=1,\n",
      "            verbose=0, warm_start=False)\n",
      "\n",
      "\n",
      "Low Variance Filter FS SMOTE 1.0 Random Forest CV Acc: 0.9104154533100368 +/- 0.17119560812381138\n",
      "Low Variance Filter FS SMOTE 1.0 Random Forest CV AUC: 0.9774593040516152 +/- 0.05863594091149113\n",
      "CV Runtime: 9.667466163635254\n",
      "\n",
      "\n",
      "Low Variance Filter FS SMOTE 1.0 Random Forest Validation Acc: 0.8493150684931506\n",
      "Low Variance Filter FS SMOTE 1.0 Random Forest Validation AUC: 0.5777041027766266\n",
      "\n",
      "\n"
     ]
    }
   ],
   "source": [
    "lvf_train_data_1p0 = results_dict_1p0['lvf']['data']\n",
    "lvf_del_cols_1p0 = results_dict_1p0['lvf']['del_cols']\n",
    "lvf_val_data_1p0 = val_data.drop(lvf_del_cols_1p0, axis = 1)\n",
    "\n",
    "model_type = 'SMOTE 1.0 Random Forest'\n",
    "model_desc = 'Low Variance Filter FS'\n",
    "\n",
    "opt_model = perform_grid_search(clf_grid, lvf_train_data_1p0, train_target_sm1p0, model_params, score, cv, \n",
    "                              model_type, model_desc)\n",
    "lvf_model_sm_1p0 = model_data(lvf_train_data_1p0, train_target_sm1p0, lvf_val_data_1p0, val_target, \n",
    "                                opt_model, scorers, model_type, model_desc, cv)\n"
   ]
  },
  {
   "cell_type": "code",
   "execution_count": 18,
   "metadata": {},
   "outputs": [],
   "source": [
    "filename = 'Combo_LVF_FS_SMOTE_1p0_RF_Model.sav'\n",
    "pickle.dump(lvf_model_sm_1p0, open(filename, 'wb'))"
   ]
  },
  {
   "cell_type": "markdown",
   "metadata": {},
   "source": [
    "# Perform grid search on the feature selection dataset from mutual information with SMOTE 0.3 oversampling"
   ]
  },
  {
   "cell_type": "code",
   "execution_count": 19,
   "metadata": {},
   "outputs": [
    {
     "name": "stdout",
     "output_type": "stream",
     "text": [
      "Mutual Information FS SMOTE 1.0 Random Forest Grid Search\n",
      "Fitting 5 folds for each of 720 candidates, totalling 3600 fits\n"
     ]
    },
    {
     "name": "stderr",
     "output_type": "stream",
     "text": [
      "[Parallel(n_jobs=1)]: Using backend SequentialBackend with 1 concurrent workers.\n",
      "[Parallel(n_jobs=1)]: Done 3600 out of 3600 | elapsed: 64.0min finished\n"
     ]
    },
    {
     "name": "stdout",
     "output_type": "stream",
     "text": [
      "Grid Search Runtime: 3844.6389865875244\n",
      "\n",
      "\n",
      "Grid Search Optimal Parameters: {'class_weight': None, 'criterion': 'gini', 'max_depth': None, 'min_samples_split': 3, 'n_estimators': 500}\n",
      "Grid Search Optimal Parameter Score: 0.9798125272885345\n",
      "\n",
      "\n",
      "Final Model Parameter Settings:\n",
      "RandomForestClassifier(bootstrap=True, class_weight=None, criterion='gini',\n",
      "            max_depth=None, max_features='auto', max_leaf_nodes=None,\n",
      "            min_impurity_decrease=0.0, min_impurity_split=None,\n",
      "            min_samples_leaf=1, min_samples_split=3,\n",
      "            min_weight_fraction_leaf=0.0, n_estimators=500, n_jobs=None,\n",
      "            oob_score=False, random_state=1, verbose=0, warm_start=False)\n",
      "\n",
      "\n",
      "Mutual Information FS SMOTE 1.0 Random Forest CV Acc: 0.9124053581828772 +/- 0.1797892660097043\n",
      "Mutual Information FS SMOTE 1.0 Random Forest CV AUC: 0.9799239599693979 +/- 0.05690785167522335\n",
      "CV Runtime: 12.769638061523438\n",
      "\n",
      "\n",
      "Mutual Information FS SMOTE 1.0 Random Forest Validation Acc: 0.863013698630137\n",
      "Mutual Information FS SMOTE 1.0 Random Forest Validation AUC: 0.5631993369249897\n",
      "\n",
      "\n"
     ]
    }
   ],
   "source": [
    "mutinf_train_data_1p0 = results_dict_1p0['mutinf']['data']\n",
    "mutinf_del_cols_1p0 = results_dict_1p0['mutinf']['del_cols']\n",
    "mutinf_val_data_1p0 = val_data.drop(mutinf_del_cols_1p0, axis = 1)\n",
    "\n",
    "model_type = 'SMOTE 1.0 Random Forest'\n",
    "model_desc = 'Mutual Information FS'\n",
    "\n",
    "opt_model = perform_grid_search(clf_grid, mutinf_train_data_1p0, train_target_sm1p0, model_params, score, cv, \n",
    "                              model_type, model_desc)\n",
    "mutinf_model_sm_1p0 = model_data(mutinf_train_data_1p0, train_target_sm1p0, mutinf_val_data_1p0, val_target, \n",
    "                                opt_model, scorers, model_type, model_desc, cv)\n"
   ]
  },
  {
   "cell_type": "code",
   "execution_count": 20,
   "metadata": {},
   "outputs": [],
   "source": [
    "filename = 'Combo_MutInf_FS_SMOTE_1p0_RF_Model.sav'\n",
    "pickle.dump(mutinf_model_sm_1p0, open(filename, 'wb'))"
   ]
  }
 ],
 "metadata": {
  "kernelspec": {
   "display_name": "Python 3",
   "language": "python",
   "name": "python3"
  },
  "language_info": {
   "codemirror_mode": {
    "name": "ipython",
    "version": 3
   },
   "file_extension": ".py",
   "mimetype": "text/x-python",
   "name": "python",
   "nbconvert_exporter": "python",
   "pygments_lexer": "ipython3",
   "version": "3.6.8"
  }
 },
 "nbformat": 4,
 "nbformat_minor": 2
}
